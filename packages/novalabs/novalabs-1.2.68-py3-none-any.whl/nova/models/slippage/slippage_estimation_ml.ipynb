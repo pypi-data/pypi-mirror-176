{
 "cells": [
  {
   "cell_type": "code",
   "execution_count": 2,
   "metadata": {
    "pycharm": {
     "is_executing": true
    }
   },
   "outputs": [
    {
     "name": "stdout",
     "output_type": "stream",
     "text": [
      "TensorFlow has access to the following devices:\n",
      "[PhysicalDevice(name='/physical_device:CPU:0', device_type='CPU'), PhysicalDevice(name='/physical_device:GPU:0', device_type='GPU')]\n",
      "TensorFlow version: 2.7.0\n"
     ]
    }
   ],
   "source": [
    "import numpy as np\n",
    "import pandas as pd\n",
    "import sklearn\n",
    "import tensorflow as tf\n",
    "import matplotlib.pyplot as plt\n",
    "\n",
    "# Check for TensorFlow GPU access to M1 processor\n",
    "print(f\"TensorFlow has access to the following devices:\\n{tf.config.list_physical_devices()}\")\n",
    "\n",
    "# See TensorFlow version\n",
    "print(f\"TensorFlow version: {tf.__version__}\")\n"
   ]
  },
  {
   "cell_type": "code",
   "execution_count": 3,
   "metadata": {
    "pycharm": {
     "is_executing": true
    }
   },
   "outputs": [],
   "source": [
    "import json\n",
    "import pandas as pd\n",
    "from datetime import datetime, timedelta"
   ]
  },
  {
   "cell_type": "markdown",
   "metadata": {},
   "source": [
    "# Exemples d'OrderBooks"
   ]
  },
  {
   "cell_type": "code",
   "execution_count": 4,
   "metadata": {
    "pycharm": {
     "is_executing": true
    }
   },
   "outputs": [],
   "source": [
    "df = pd.read_csv(\"./database/AAVEUSDT_binance_orderbook_full.csv\")"
   ]
  },
  {
   "cell_type": "code",
   "execution_count": 5,
   "metadata": {
    "pycharm": {
     "is_executing": true
    }
   },
   "outputs": [
    {
     "data": {
      "text/html": [
       "<div>\n",
       "<style scoped>\n",
       "    .dataframe tbody tr th:only-of-type {\n",
       "        vertical-align: middle;\n",
       "    }\n",
       "\n",
       "    .dataframe tbody tr th {\n",
       "        vertical-align: top;\n",
       "    }\n",
       "\n",
       "    .dataframe thead th {\n",
       "        text-align: right;\n",
       "    }\n",
       "</style>\n",
       "<table border=\"1\" class=\"dataframe\">\n",
       "  <thead>\n",
       "    <tr style=\"text-align: right;\">\n",
       "      <th></th>\n",
       "      <th>timestamp</th>\n",
       "      <th>symbol</th>\n",
       "      <th>ask_price_0</th>\n",
       "      <th>ask_qty_0</th>\n",
       "      <th>bid_price_0</th>\n",
       "      <th>bid_qty_0</th>\n",
       "      <th>ask_price_1</th>\n",
       "      <th>ask_qty_1</th>\n",
       "      <th>bid_price_1</th>\n",
       "      <th>bid_qty_1</th>\n",
       "      <th>...</th>\n",
       "      <th>bid_price_97</th>\n",
       "      <th>bid_qty_97</th>\n",
       "      <th>ask_price_98</th>\n",
       "      <th>ask_qty_98</th>\n",
       "      <th>bid_price_98</th>\n",
       "      <th>bid_qty_98</th>\n",
       "      <th>ask_price_99</th>\n",
       "      <th>ask_qty_99</th>\n",
       "      <th>bid_price_99</th>\n",
       "      <th>bid_qty_99</th>\n",
       "    </tr>\n",
       "  </thead>\n",
       "  <tbody>\n",
       "    <tr>\n",
       "      <th>0</th>\n",
       "      <td>1649263141895</td>\n",
       "      <td>AAVEUSDT</td>\n",
       "      <td>194.78</td>\n",
       "      <td>0.2</td>\n",
       "      <td>194.73</td>\n",
       "      <td>5.0</td>\n",
       "      <td>194.79</td>\n",
       "      <td>4.3</td>\n",
       "      <td>194.71</td>\n",
       "      <td>9.5</td>\n",
       "      <td>...</td>\n",
       "      <td>193.66</td>\n",
       "      <td>18.2</td>\n",
       "      <td>195.88</td>\n",
       "      <td>15.4</td>\n",
       "      <td>193.65</td>\n",
       "      <td>20.4</td>\n",
       "      <td>195.90</td>\n",
       "      <td>6.1</td>\n",
       "      <td>193.64</td>\n",
       "      <td>15.1</td>\n",
       "    </tr>\n",
       "    <tr>\n",
       "      <th>1</th>\n",
       "      <td>1649263200735</td>\n",
       "      <td>AAVEUSDT</td>\n",
       "      <td>193.67</td>\n",
       "      <td>3.1</td>\n",
       "      <td>193.60</td>\n",
       "      <td>384.7</td>\n",
       "      <td>193.69</td>\n",
       "      <td>0.8</td>\n",
       "      <td>193.58</td>\n",
       "      <td>1.5</td>\n",
       "      <td>...</td>\n",
       "      <td>192.46</td>\n",
       "      <td>3.7</td>\n",
       "      <td>194.81</td>\n",
       "      <td>0.7</td>\n",
       "      <td>192.45</td>\n",
       "      <td>1.0</td>\n",
       "      <td>194.82</td>\n",
       "      <td>1.2</td>\n",
       "      <td>192.44</td>\n",
       "      <td>143.2</td>\n",
       "    </tr>\n",
       "    <tr>\n",
       "      <th>2</th>\n",
       "      <td>1649263260702</td>\n",
       "      <td>AAVEUSDT</td>\n",
       "      <td>195.17</td>\n",
       "      <td>2.6</td>\n",
       "      <td>195.12</td>\n",
       "      <td>0.5</td>\n",
       "      <td>195.18</td>\n",
       "      <td>7.9</td>\n",
       "      <td>195.10</td>\n",
       "      <td>1.0</td>\n",
       "      <td>...</td>\n",
       "      <td>193.94</td>\n",
       "      <td>2.0</td>\n",
       "      <td>196.27</td>\n",
       "      <td>27.7</td>\n",
       "      <td>193.93</td>\n",
       "      <td>2.3</td>\n",
       "      <td>196.29</td>\n",
       "      <td>63.1</td>\n",
       "      <td>193.92</td>\n",
       "      <td>1.3</td>\n",
       "    </tr>\n",
       "    <tr>\n",
       "      <th>3</th>\n",
       "      <td>1649263320761</td>\n",
       "      <td>AAVEUSDT</td>\n",
       "      <td>193.83</td>\n",
       "      <td>1.5</td>\n",
       "      <td>193.80</td>\n",
       "      <td>0.4</td>\n",
       "      <td>193.84</td>\n",
       "      <td>8.0</td>\n",
       "      <td>193.79</td>\n",
       "      <td>0.1</td>\n",
       "      <td>...</td>\n",
       "      <td>192.76</td>\n",
       "      <td>16.1</td>\n",
       "      <td>194.86</td>\n",
       "      <td>29.4</td>\n",
       "      <td>192.75</td>\n",
       "      <td>2.5</td>\n",
       "      <td>194.87</td>\n",
       "      <td>3.2</td>\n",
       "      <td>192.74</td>\n",
       "      <td>5.9</td>\n",
       "    </tr>\n",
       "    <tr>\n",
       "      <th>4</th>\n",
       "      <td>1649263381163</td>\n",
       "      <td>AAVEUSDT</td>\n",
       "      <td>194.31</td>\n",
       "      <td>2.2</td>\n",
       "      <td>194.30</td>\n",
       "      <td>6.9</td>\n",
       "      <td>194.34</td>\n",
       "      <td>5.2</td>\n",
       "      <td>194.29</td>\n",
       "      <td>7.0</td>\n",
       "      <td>...</td>\n",
       "      <td>193.19</td>\n",
       "      <td>8.2</td>\n",
       "      <td>195.42</td>\n",
       "      <td>7.1</td>\n",
       "      <td>193.18</td>\n",
       "      <td>11.9</td>\n",
       "      <td>195.43</td>\n",
       "      <td>32.8</td>\n",
       "      <td>193.17</td>\n",
       "      <td>10.8</td>\n",
       "    </tr>\n",
       "  </tbody>\n",
       "</table>\n",
       "<p>5 rows × 402 columns</p>\n",
       "</div>"
      ],
      "text/plain": [
       "       timestamp    symbol  ask_price_0  ask_qty_0  bid_price_0  bid_qty_0  \\\n",
       "0  1649263141895  AAVEUSDT       194.78        0.2       194.73        5.0   \n",
       "1  1649263200735  AAVEUSDT       193.67        3.1       193.60      384.7   \n",
       "2  1649263260702  AAVEUSDT       195.17        2.6       195.12        0.5   \n",
       "3  1649263320761  AAVEUSDT       193.83        1.5       193.80        0.4   \n",
       "4  1649263381163  AAVEUSDT       194.31        2.2       194.30        6.9   \n",
       "\n",
       "   ask_price_1  ask_qty_1  bid_price_1  bid_qty_1  ...  bid_price_97  \\\n",
       "0       194.79        4.3       194.71        9.5  ...        193.66   \n",
       "1       193.69        0.8       193.58        1.5  ...        192.46   \n",
       "2       195.18        7.9       195.10        1.0  ...        193.94   \n",
       "3       193.84        8.0       193.79        0.1  ...        192.76   \n",
       "4       194.34        5.2       194.29        7.0  ...        193.19   \n",
       "\n",
       "   bid_qty_97  ask_price_98  ask_qty_98  bid_price_98  bid_qty_98  \\\n",
       "0        18.2        195.88        15.4        193.65        20.4   \n",
       "1         3.7        194.81         0.7        192.45         1.0   \n",
       "2         2.0        196.27        27.7        193.93         2.3   \n",
       "3        16.1        194.86        29.4        192.75         2.5   \n",
       "4         8.2        195.42         7.1        193.18        11.9   \n",
       "\n",
       "   ask_price_99  ask_qty_99  bid_price_99  bid_qty_99  \n",
       "0        195.90         6.1        193.64        15.1  \n",
       "1        194.82         1.2        192.44       143.2  \n",
       "2        196.29        63.1        193.92         1.3  \n",
       "3        194.87         3.2        192.74         5.9  \n",
       "4        195.43        32.8        193.17        10.8  \n",
       "\n",
       "[5 rows x 402 columns]"
      ]
     },
     "execution_count": 5,
     "metadata": {},
     "output_type": "execute_result"
    }
   ],
   "source": [
    "df.head()"
   ]
  },
  {
   "cell_type": "markdown",
   "metadata": {},
   "source": [
    "## Calcul du slippage (buy side) le 2022-04-06 16:47:00"
   ]
  },
  {
   "cell_type": "code",
   "execution_count": 6,
   "metadata": {
    "pycharm": {
     "is_executing": true
    }
   },
   "outputs": [],
   "source": [
    "df['timestamp'] = df['timestamp'] - df['timestamp']%10000\n",
    "df['open_time'] = pd.to_datetime(df['timestamp'], unit='ms')"
   ]
  },
  {
   "cell_type": "code",
   "execution_count": 7,
   "metadata": {
    "pycharm": {
     "is_executing": true
    }
   },
   "outputs": [
    {
     "data": {
      "text/html": [
       "<div>\n",
       "<style scoped>\n",
       "    .dataframe tbody tr th:only-of-type {\n",
       "        vertical-align: middle;\n",
       "    }\n",
       "\n",
       "    .dataframe tbody tr th {\n",
       "        vertical-align: top;\n",
       "    }\n",
       "\n",
       "    .dataframe thead th {\n",
       "        text-align: right;\n",
       "    }\n",
       "</style>\n",
       "<table border=\"1\" class=\"dataframe\">\n",
       "  <thead>\n",
       "    <tr style=\"text-align: right;\">\n",
       "      <th></th>\n",
       "      <th>timestamp</th>\n",
       "      <th>symbol</th>\n",
       "      <th>ask_price_0</th>\n",
       "      <th>ask_qty_0</th>\n",
       "      <th>bid_price_0</th>\n",
       "      <th>bid_qty_0</th>\n",
       "      <th>ask_price_1</th>\n",
       "      <th>ask_qty_1</th>\n",
       "      <th>bid_price_1</th>\n",
       "      <th>bid_qty_1</th>\n",
       "      <th>...</th>\n",
       "      <th>bid_qty_97</th>\n",
       "      <th>ask_price_98</th>\n",
       "      <th>ask_qty_98</th>\n",
       "      <th>bid_price_98</th>\n",
       "      <th>bid_qty_98</th>\n",
       "      <th>ask_price_99</th>\n",
       "      <th>ask_qty_99</th>\n",
       "      <th>bid_price_99</th>\n",
       "      <th>bid_qty_99</th>\n",
       "      <th>open_time</th>\n",
       "    </tr>\n",
       "  </thead>\n",
       "  <tbody>\n",
       "    <tr>\n",
       "      <th>0</th>\n",
       "      <td>1649263140000</td>\n",
       "      <td>AAVEUSDT</td>\n",
       "      <td>194.78</td>\n",
       "      <td>0.2</td>\n",
       "      <td>194.73</td>\n",
       "      <td>5.0</td>\n",
       "      <td>194.79</td>\n",
       "      <td>4.3</td>\n",
       "      <td>194.71</td>\n",
       "      <td>9.5</td>\n",
       "      <td>...</td>\n",
       "      <td>18.2</td>\n",
       "      <td>195.88</td>\n",
       "      <td>15.4</td>\n",
       "      <td>193.65</td>\n",
       "      <td>20.4</td>\n",
       "      <td>195.90</td>\n",
       "      <td>6.1</td>\n",
       "      <td>193.64</td>\n",
       "      <td>15.1</td>\n",
       "      <td>2022-04-06 16:39:00</td>\n",
       "    </tr>\n",
       "    <tr>\n",
       "      <th>1</th>\n",
       "      <td>1649263200000</td>\n",
       "      <td>AAVEUSDT</td>\n",
       "      <td>193.67</td>\n",
       "      <td>3.1</td>\n",
       "      <td>193.60</td>\n",
       "      <td>384.7</td>\n",
       "      <td>193.69</td>\n",
       "      <td>0.8</td>\n",
       "      <td>193.58</td>\n",
       "      <td>1.5</td>\n",
       "      <td>...</td>\n",
       "      <td>3.7</td>\n",
       "      <td>194.81</td>\n",
       "      <td>0.7</td>\n",
       "      <td>192.45</td>\n",
       "      <td>1.0</td>\n",
       "      <td>194.82</td>\n",
       "      <td>1.2</td>\n",
       "      <td>192.44</td>\n",
       "      <td>143.2</td>\n",
       "      <td>2022-04-06 16:40:00</td>\n",
       "    </tr>\n",
       "    <tr>\n",
       "      <th>2</th>\n",
       "      <td>1649263260000</td>\n",
       "      <td>AAVEUSDT</td>\n",
       "      <td>195.17</td>\n",
       "      <td>2.6</td>\n",
       "      <td>195.12</td>\n",
       "      <td>0.5</td>\n",
       "      <td>195.18</td>\n",
       "      <td>7.9</td>\n",
       "      <td>195.10</td>\n",
       "      <td>1.0</td>\n",
       "      <td>...</td>\n",
       "      <td>2.0</td>\n",
       "      <td>196.27</td>\n",
       "      <td>27.7</td>\n",
       "      <td>193.93</td>\n",
       "      <td>2.3</td>\n",
       "      <td>196.29</td>\n",
       "      <td>63.1</td>\n",
       "      <td>193.92</td>\n",
       "      <td>1.3</td>\n",
       "      <td>2022-04-06 16:41:00</td>\n",
       "    </tr>\n",
       "    <tr>\n",
       "      <th>3</th>\n",
       "      <td>1649263320000</td>\n",
       "      <td>AAVEUSDT</td>\n",
       "      <td>193.83</td>\n",
       "      <td>1.5</td>\n",
       "      <td>193.80</td>\n",
       "      <td>0.4</td>\n",
       "      <td>193.84</td>\n",
       "      <td>8.0</td>\n",
       "      <td>193.79</td>\n",
       "      <td>0.1</td>\n",
       "      <td>...</td>\n",
       "      <td>16.1</td>\n",
       "      <td>194.86</td>\n",
       "      <td>29.4</td>\n",
       "      <td>192.75</td>\n",
       "      <td>2.5</td>\n",
       "      <td>194.87</td>\n",
       "      <td>3.2</td>\n",
       "      <td>192.74</td>\n",
       "      <td>5.9</td>\n",
       "      <td>2022-04-06 16:42:00</td>\n",
       "    </tr>\n",
       "    <tr>\n",
       "      <th>4</th>\n",
       "      <td>1649263380000</td>\n",
       "      <td>AAVEUSDT</td>\n",
       "      <td>194.31</td>\n",
       "      <td>2.2</td>\n",
       "      <td>194.30</td>\n",
       "      <td>6.9</td>\n",
       "      <td>194.34</td>\n",
       "      <td>5.2</td>\n",
       "      <td>194.29</td>\n",
       "      <td>7.0</td>\n",
       "      <td>...</td>\n",
       "      <td>8.2</td>\n",
       "      <td>195.42</td>\n",
       "      <td>7.1</td>\n",
       "      <td>193.18</td>\n",
       "      <td>11.9</td>\n",
       "      <td>195.43</td>\n",
       "      <td>32.8</td>\n",
       "      <td>193.17</td>\n",
       "      <td>10.8</td>\n",
       "      <td>2022-04-06 16:43:00</td>\n",
       "    </tr>\n",
       "    <tr>\n",
       "      <th>5</th>\n",
       "      <td>1649263440000</td>\n",
       "      <td>AAVEUSDT</td>\n",
       "      <td>195.52</td>\n",
       "      <td>0.2</td>\n",
       "      <td>195.50</td>\n",
       "      <td>7.2</td>\n",
       "      <td>195.54</td>\n",
       "      <td>17.5</td>\n",
       "      <td>195.49</td>\n",
       "      <td>8.6</td>\n",
       "      <td>...</td>\n",
       "      <td>32.0</td>\n",
       "      <td>196.61</td>\n",
       "      <td>7.8</td>\n",
       "      <td>194.42</td>\n",
       "      <td>0.1</td>\n",
       "      <td>196.62</td>\n",
       "      <td>23.8</td>\n",
       "      <td>194.41</td>\n",
       "      <td>11.0</td>\n",
       "      <td>2022-04-06 16:44:00</td>\n",
       "    </tr>\n",
       "    <tr>\n",
       "      <th>6</th>\n",
       "      <td>1649263500000</td>\n",
       "      <td>AAVEUSDT</td>\n",
       "      <td>195.73</td>\n",
       "      <td>0.8</td>\n",
       "      <td>195.70</td>\n",
       "      <td>6.7</td>\n",
       "      <td>195.76</td>\n",
       "      <td>1.1</td>\n",
       "      <td>195.69</td>\n",
       "      <td>6.6</td>\n",
       "      <td>...</td>\n",
       "      <td>5.1</td>\n",
       "      <td>196.77</td>\n",
       "      <td>7.3</td>\n",
       "      <td>194.62</td>\n",
       "      <td>17.8</td>\n",
       "      <td>196.78</td>\n",
       "      <td>27.0</td>\n",
       "      <td>194.61</td>\n",
       "      <td>1.2</td>\n",
       "      <td>2022-04-06 16:45:00</td>\n",
       "    </tr>\n",
       "    <tr>\n",
       "      <th>7</th>\n",
       "      <td>1649263560000</td>\n",
       "      <td>AAVEUSDT</td>\n",
       "      <td>194.87</td>\n",
       "      <td>10.6</td>\n",
       "      <td>194.85</td>\n",
       "      <td>0.7</td>\n",
       "      <td>194.88</td>\n",
       "      <td>0.3</td>\n",
       "      <td>194.84</td>\n",
       "      <td>0.1</td>\n",
       "      <td>...</td>\n",
       "      <td>2.9</td>\n",
       "      <td>195.92</td>\n",
       "      <td>2.7</td>\n",
       "      <td>193.74</td>\n",
       "      <td>58.4</td>\n",
       "      <td>195.93</td>\n",
       "      <td>11.2</td>\n",
       "      <td>193.73</td>\n",
       "      <td>21.0</td>\n",
       "      <td>2022-04-06 16:46:00</td>\n",
       "    </tr>\n",
       "    <tr>\n",
       "      <th>8</th>\n",
       "      <td>1649263620000</td>\n",
       "      <td>AAVEUSDT</td>\n",
       "      <td>194.63</td>\n",
       "      <td>0.1</td>\n",
       "      <td>194.61</td>\n",
       "      <td>3.4</td>\n",
       "      <td>194.65</td>\n",
       "      <td>4.9</td>\n",
       "      <td>194.59</td>\n",
       "      <td>2.6</td>\n",
       "      <td>...</td>\n",
       "      <td>4.0</td>\n",
       "      <td>195.65</td>\n",
       "      <td>17.7</td>\n",
       "      <td>193.57</td>\n",
       "      <td>0.3</td>\n",
       "      <td>195.66</td>\n",
       "      <td>10.9</td>\n",
       "      <td>193.56</td>\n",
       "      <td>13.3</td>\n",
       "      <td>2022-04-06 16:47:00</td>\n",
       "    </tr>\n",
       "    <tr>\n",
       "      <th>9</th>\n",
       "      <td>1649263680000</td>\n",
       "      <td>AAVEUSDT</td>\n",
       "      <td>194.54</td>\n",
       "      <td>0.5</td>\n",
       "      <td>194.53</td>\n",
       "      <td>5.0</td>\n",
       "      <td>194.56</td>\n",
       "      <td>5.1</td>\n",
       "      <td>194.52</td>\n",
       "      <td>12.4</td>\n",
       "      <td>...</td>\n",
       "      <td>9.5</td>\n",
       "      <td>195.60</td>\n",
       "      <td>15.5</td>\n",
       "      <td>193.52</td>\n",
       "      <td>20.0</td>\n",
       "      <td>195.61</td>\n",
       "      <td>10.3</td>\n",
       "      <td>193.51</td>\n",
       "      <td>36.1</td>\n",
       "      <td>2022-04-06 16:48:00</td>\n",
       "    </tr>\n",
       "  </tbody>\n",
       "</table>\n",
       "<p>10 rows × 403 columns</p>\n",
       "</div>"
      ],
      "text/plain": [
       "       timestamp    symbol  ask_price_0  ask_qty_0  bid_price_0  bid_qty_0  \\\n",
       "0  1649263140000  AAVEUSDT       194.78        0.2       194.73        5.0   \n",
       "1  1649263200000  AAVEUSDT       193.67        3.1       193.60      384.7   \n",
       "2  1649263260000  AAVEUSDT       195.17        2.6       195.12        0.5   \n",
       "3  1649263320000  AAVEUSDT       193.83        1.5       193.80        0.4   \n",
       "4  1649263380000  AAVEUSDT       194.31        2.2       194.30        6.9   \n",
       "5  1649263440000  AAVEUSDT       195.52        0.2       195.50        7.2   \n",
       "6  1649263500000  AAVEUSDT       195.73        0.8       195.70        6.7   \n",
       "7  1649263560000  AAVEUSDT       194.87       10.6       194.85        0.7   \n",
       "8  1649263620000  AAVEUSDT       194.63        0.1       194.61        3.4   \n",
       "9  1649263680000  AAVEUSDT       194.54        0.5       194.53        5.0   \n",
       "\n",
       "   ask_price_1  ask_qty_1  bid_price_1  bid_qty_1  ...  bid_qty_97  \\\n",
       "0       194.79        4.3       194.71        9.5  ...        18.2   \n",
       "1       193.69        0.8       193.58        1.5  ...         3.7   \n",
       "2       195.18        7.9       195.10        1.0  ...         2.0   \n",
       "3       193.84        8.0       193.79        0.1  ...        16.1   \n",
       "4       194.34        5.2       194.29        7.0  ...         8.2   \n",
       "5       195.54       17.5       195.49        8.6  ...        32.0   \n",
       "6       195.76        1.1       195.69        6.6  ...         5.1   \n",
       "7       194.88        0.3       194.84        0.1  ...         2.9   \n",
       "8       194.65        4.9       194.59        2.6  ...         4.0   \n",
       "9       194.56        5.1       194.52       12.4  ...         9.5   \n",
       "\n",
       "   ask_price_98  ask_qty_98  bid_price_98  bid_qty_98  ask_price_99  \\\n",
       "0        195.88        15.4        193.65        20.4        195.90   \n",
       "1        194.81         0.7        192.45         1.0        194.82   \n",
       "2        196.27        27.7        193.93         2.3        196.29   \n",
       "3        194.86        29.4        192.75         2.5        194.87   \n",
       "4        195.42         7.1        193.18        11.9        195.43   \n",
       "5        196.61         7.8        194.42         0.1        196.62   \n",
       "6        196.77         7.3        194.62        17.8        196.78   \n",
       "7        195.92         2.7        193.74        58.4        195.93   \n",
       "8        195.65        17.7        193.57         0.3        195.66   \n",
       "9        195.60        15.5        193.52        20.0        195.61   \n",
       "\n",
       "   ask_qty_99  bid_price_99  bid_qty_99           open_time  \n",
       "0         6.1        193.64        15.1 2022-04-06 16:39:00  \n",
       "1         1.2        192.44       143.2 2022-04-06 16:40:00  \n",
       "2        63.1        193.92         1.3 2022-04-06 16:41:00  \n",
       "3         3.2        192.74         5.9 2022-04-06 16:42:00  \n",
       "4        32.8        193.17        10.8 2022-04-06 16:43:00  \n",
       "5        23.8        194.41        11.0 2022-04-06 16:44:00  \n",
       "6        27.0        194.61         1.2 2022-04-06 16:45:00  \n",
       "7        11.2        193.73        21.0 2022-04-06 16:46:00  \n",
       "8        10.9        193.56        13.3 2022-04-06 16:47:00  \n",
       "9        10.3        193.51        36.1 2022-04-06 16:48:00  \n",
       "\n",
       "[10 rows x 403 columns]"
      ]
     },
     "execution_count": 7,
     "metadata": {},
     "output_type": "execute_result"
    }
   ],
   "source": [
    "df.head(10)"
   ]
  },
  {
   "cell_type": "code",
   "execution_count": 8,
   "metadata": {
    "pycharm": {
     "is_executing": true
    }
   },
   "outputs": [],
   "source": [
    "def get_all_price_qty(df,\n",
    "                      ts,\n",
    "                      side='ask'):\n",
    "        \n",
    "        all_ask_price = []\n",
    "        all_ask_qty_usdt = []\n",
    "        \n",
    "        row = df[df['timestamp'] == ts]\n",
    "        \n",
    "        for i in range(99):\n",
    "\n",
    "            price = row[f'ask_price_{i}'].to_list()[0]\n",
    "            qty = row[f'ask_qty_{i}'].to_list()[0]\n",
    "            all_ask_price.append(price)\n",
    "            all_ask_qty_usdt.append(round(qty * price, 2))\n",
    "            \n",
    "        return all_ask_price, all_ask_qty_usdt\n",
    "            \n",
    "all_ask_price, all_ask_qty_usdt = get_all_price_qty(df, 1649263620000, side='ask')"
   ]
  },
  {
   "cell_type": "code",
   "execution_count": 9,
   "metadata": {
    "pycharm": {
     "is_executing": true
    }
   },
   "outputs": [
    {
     "name": "stdout",
     "output_type": "stream",
     "text": [
      "[194.63, 194.65, 194.66, 194.67, 194.68, 194.69, 194.7, 194.71, 194.72, 194.73]\n",
      "[19.46, 953.79, 1051.16, 720.28, 934.46, 12051.31, 2570.04, 12130.43, 739.94, 2064.14]\n"
     ]
    }
   ],
   "source": [
    "print(all_ask_price[:10])\n",
    "print(all_ask_qty_usdt[:10])"
   ]
  },
  {
   "cell_type": "code",
   "execution_count": 10,
   "metadata": {
    "pycharm": {
     "is_executing": true
    }
   },
   "outputs": [],
   "source": [
    "def compute_slippage(all_price, \n",
    "                     all_qty_usdt, \n",
    "                     amount):\n",
    "    \n",
    "    residual_amount = amount\n",
    "    avg_price = 0\n",
    "    first_price = all_price[0]\n",
    "    \n",
    "    for i in range(len(all_price)):\n",
    "        \n",
    "        if residual_amount <= all_qty_usdt[i]:\n",
    "            avg_price += residual_amount * all_price[i]\n",
    "            break\n",
    "            \n",
    "        else:\n",
    "            avg_price += all_qty_usdt[i] * all_price[i]\n",
    "            residual_amount -= all_qty_usdt[i]\n",
    "            \n",
    "    avg_price = avg_price / amount\n",
    "    \n",
    "    slippage = 100 * (max(avg_price, first_price) / min(avg_price, first_price) - 1)\n",
    "    \n",
    "    return slippage\n",
    "        \n",
    "slippage = compute_slippage(all_ask_price, all_ask_qty_usdt, 5000)"
   ]
  },
  {
   "cell_type": "markdown",
   "metadata": {},
   "source": [
    "## Afficher le graph du slippage en fonction de la quantité"
   ]
  },
  {
   "cell_type": "code",
   "execution_count": 11,
   "metadata": {
    "pycharm": {
     "is_executing": true
    }
   },
   "outputs": [],
   "source": [
    "import matplotlib.pyplot as plt"
   ]
  },
  {
   "cell_type": "code",
   "execution_count": 16,
   "metadata": {
    "pycharm": {
     "is_executing": true
    }
   },
   "outputs": [
    {
     "name": "stdout",
     "output_type": "stream",
     "text": [
      "[10, 20, 30, 40, 50, 60, 70, 80, 90, 100]\n",
      "[0.0, 0.00027744951960340103, 0.0036102690575301466, 0.005276678826504622, 0.006276524687875984, 0.006943088595456892, 0.007419205672309914, 0.00777629347994413, 0.008054028441417671, 0.008276216410618709]\n"
     ]
    }
   ],
   "source": [
    "list_amounts = [i for i in range(10, 10000 ,10)]\n",
    "list_slippage = []\n",
    "\n",
    "for amount in list_amounts:\n",
    "    \n",
    "    list_slippage.append(compute_slippage(all_ask_price, all_ask_qty_usdt, amount))\n",
    "\n",
    "print(list_amounts[:10])\n",
    "print(list_slippage[:10])"
   ]
  },
  {
   "cell_type": "code",
   "execution_count": 17,
   "metadata": {
    "pycharm": {
     "is_executing": true
    }
   },
   "outputs": [
    {
     "data": {
      "text/plain": [
       "<matplotlib.collections.PathCollection at 0x291439190>"
      ]
     },
     "execution_count": 17,
     "metadata": {},
     "output_type": "execute_result"
    },
    {
     "data": {
      "image/png": "[encoded data removed]",
      "text/plain": [
       "<Figure size 1440x1440 with 1 Axes>"
      ]
     },
     "metadata": {
      "needs_background": "light"
     },
     "output_type": "display_data"
    }
   ],
   "source": [
    "fig, ax = plt.subplots(figsize=(20,20))\n",
    "ax.scatter(list_amounts, list_slippage, s=1,facecolor='blue')"
   ]
  },
  {
   "cell_type": "markdown",
   "metadata": {},
   "source": [
    "## Another example (XPRUSDT)"
   ]
  },
  {
   "cell_type": "code",
   "execution_count": 33,
   "metadata": {
    "pycharm": {
     "is_executing": true
    }
   },
   "outputs": [
    {
     "data": {
      "text/html": [
       "<div>\n",
       "<style scoped>\n",
       "    .dataframe tbody tr th:only-of-type {\n",
       "        vertical-align: middle;\n",
       "    }\n",
       "\n",
       "    .dataframe tbody tr th {\n",
       "        vertical-align: top;\n",
       "    }\n",
       "\n",
       "    .dataframe thead th {\n",
       "        text-align: right;\n",
       "    }\n",
       "</style>\n",
       "<table border=\"1\" class=\"dataframe\">\n",
       "  <thead>\n",
       "    <tr style=\"text-align: right;\">\n",
       "      <th></th>\n",
       "      <th>timestamp</th>\n",
       "      <th>symbol</th>\n",
       "      <th>ask_price_0</th>\n",
       "      <th>ask_qty_0</th>\n",
       "      <th>bid_price_0</th>\n",
       "      <th>bid_qty_0</th>\n",
       "      <th>ask_price_1</th>\n",
       "      <th>ask_qty_1</th>\n",
       "      <th>bid_price_1</th>\n",
       "      <th>bid_qty_1</th>\n",
       "      <th>...</th>\n",
       "      <th>bid_qty_97</th>\n",
       "      <th>ask_price_98</th>\n",
       "      <th>ask_qty_98</th>\n",
       "      <th>bid_price_98</th>\n",
       "      <th>bid_qty_98</th>\n",
       "      <th>ask_price_99</th>\n",
       "      <th>ask_qty_99</th>\n",
       "      <th>bid_price_99</th>\n",
       "      <th>bid_qty_99</th>\n",
       "      <th>open_time</th>\n",
       "    </tr>\n",
       "  </thead>\n",
       "  <tbody>\n",
       "    <tr>\n",
       "      <th>6382</th>\n",
       "      <td>1651747800000</td>\n",
       "      <td>IOTAUSDT</td>\n",
       "      <td>0.5523</td>\n",
       "      <td>5002.6</td>\n",
       "      <td>0.5520</td>\n",
       "      <td>672.5</td>\n",
       "      <td>0.5524</td>\n",
       "      <td>4286.3</td>\n",
       "      <td>0.5519</td>\n",
       "      <td>5022.6</td>\n",
       "      <td>...</td>\n",
       "      <td>1866.8</td>\n",
       "      <td>0.5627</td>\n",
       "      <td>18378.7</td>\n",
       "      <td>0.5408</td>\n",
       "      <td>5544.6</td>\n",
       "      <td>0.5628</td>\n",
       "      <td>5893.0</td>\n",
       "      <td>0.5407</td>\n",
       "      <td>22.1</td>\n",
       "      <td>2022-05-05 10:50:00</td>\n",
       "    </tr>\n",
       "    <tr>\n",
       "      <th>6385</th>\n",
       "      <td>1651747860000</td>\n",
       "      <td>IOTAUSDT</td>\n",
       "      <td>0.5525</td>\n",
       "      <td>76.1</td>\n",
       "      <td>0.5524</td>\n",
       "      <td>982.6</td>\n",
       "      <td>0.5526</td>\n",
       "      <td>234.9</td>\n",
       "      <td>0.5523</td>\n",
       "      <td>3299.4</td>\n",
       "      <td>...</td>\n",
       "      <td>9.9</td>\n",
       "      <td>0.5628</td>\n",
       "      <td>5893.0</td>\n",
       "      <td>0.5414</td>\n",
       "      <td>1670.5</td>\n",
       "      <td>0.5629</td>\n",
       "      <td>14626.3</td>\n",
       "      <td>0.5413</td>\n",
       "      <td>20511.4</td>\n",
       "      <td>2022-05-05 10:51:00</td>\n",
       "    </tr>\n",
       "    <tr>\n",
       "      <th>6388</th>\n",
       "      <td>1651747920000</td>\n",
       "      <td>IOTAUSDT</td>\n",
       "      <td>0.5528</td>\n",
       "      <td>1332.8</td>\n",
       "      <td>0.5527</td>\n",
       "      <td>178.1</td>\n",
       "      <td>0.5529</td>\n",
       "      <td>2493.3</td>\n",
       "      <td>0.5526</td>\n",
       "      <td>48.5</td>\n",
       "      <td>...</td>\n",
       "      <td>229.0</td>\n",
       "      <td>0.5631</td>\n",
       "      <td>219.9</td>\n",
       "      <td>0.5420</td>\n",
       "      <td>4581.4</td>\n",
       "      <td>0.5632</td>\n",
       "      <td>351.3</td>\n",
       "      <td>0.5419</td>\n",
       "      <td>9533.9</td>\n",
       "      <td>2022-05-05 10:52:00</td>\n",
       "    </tr>\n",
       "    <tr>\n",
       "      <th>6391</th>\n",
       "      <td>1651747980000</td>\n",
       "      <td>IOTAUSDT</td>\n",
       "      <td>0.5528</td>\n",
       "      <td>1365.0</td>\n",
       "      <td>0.5527</td>\n",
       "      <td>45.7</td>\n",
       "      <td>0.5529</td>\n",
       "      <td>5709.8</td>\n",
       "      <td>0.5526</td>\n",
       "      <td>800.0</td>\n",
       "      <td>...</td>\n",
       "      <td>4581.4</td>\n",
       "      <td>0.5632</td>\n",
       "      <td>351.3</td>\n",
       "      <td>0.5419</td>\n",
       "      <td>9533.9</td>\n",
       "      <td>0.5633</td>\n",
       "      <td>42929.1</td>\n",
       "      <td>0.5418</td>\n",
       "      <td>9226.9</td>\n",
       "      <td>2022-05-05 10:53:00</td>\n",
       "    </tr>\n",
       "    <tr>\n",
       "      <th>6394</th>\n",
       "      <td>1651748040000</td>\n",
       "      <td>IOTAUSDT</td>\n",
       "      <td>0.5523</td>\n",
       "      <td>12589.3</td>\n",
       "      <td>0.5522</td>\n",
       "      <td>1576.0</td>\n",
       "      <td>0.5524</td>\n",
       "      <td>6204.0</td>\n",
       "      <td>0.5521</td>\n",
       "      <td>8748.7</td>\n",
       "      <td>...</td>\n",
       "      <td>9.3</td>\n",
       "      <td>0.5626</td>\n",
       "      <td>280.3</td>\n",
       "      <td>0.5413</td>\n",
       "      <td>5767.2</td>\n",
       "      <td>0.5627</td>\n",
       "      <td>18360.9</td>\n",
       "      <td>0.5412</td>\n",
       "      <td>123.9</td>\n",
       "      <td>2022-05-05 10:54:00</td>\n",
       "    </tr>\n",
       "    <tr>\n",
       "      <th>...</th>\n",
       "      <td>...</td>\n",
       "      <td>...</td>\n",
       "      <td>...</td>\n",
       "      <td>...</td>\n",
       "      <td>...</td>\n",
       "      <td>...</td>\n",
       "      <td>...</td>\n",
       "      <td>...</td>\n",
       "      <td>...</td>\n",
       "      <td>...</td>\n",
       "      <td>...</td>\n",
       "      <td>...</td>\n",
       "      <td>...</td>\n",
       "      <td>...</td>\n",
       "      <td>...</td>\n",
       "      <td>...</td>\n",
       "      <td>...</td>\n",
       "      <td>...</td>\n",
       "      <td>...</td>\n",
       "      <td>...</td>\n",
       "      <td>...</td>\n",
       "    </tr>\n",
       "    <tr>\n",
       "      <th>6667</th>\n",
       "      <td>1651753500000</td>\n",
       "      <td>IOTAUSDT</td>\n",
       "      <td>0.5480</td>\n",
       "      <td>127.5</td>\n",
       "      <td>0.5479</td>\n",
       "      <td>4790.9</td>\n",
       "      <td>0.5481</td>\n",
       "      <td>46.3</td>\n",
       "      <td>0.5478</td>\n",
       "      <td>1472.9</td>\n",
       "      <td>...</td>\n",
       "      <td>9117.0</td>\n",
       "      <td>0.5591</td>\n",
       "      <td>17.9</td>\n",
       "      <td>0.5372</td>\n",
       "      <td>49287.3</td>\n",
       "      <td>0.5592</td>\n",
       "      <td>362.0</td>\n",
       "      <td>0.5370</td>\n",
       "      <td>13595.1</td>\n",
       "      <td>2022-05-05 12:25:00</td>\n",
       "    </tr>\n",
       "    <tr>\n",
       "      <th>6670</th>\n",
       "      <td>1651753560000</td>\n",
       "      <td>IOTAUSDT</td>\n",
       "      <td>0.5485</td>\n",
       "      <td>2538.7</td>\n",
       "      <td>0.5484</td>\n",
       "      <td>500.0</td>\n",
       "      <td>0.5486</td>\n",
       "      <td>6527.9</td>\n",
       "      <td>0.5482</td>\n",
       "      <td>5100.4</td>\n",
       "      <td>...</td>\n",
       "      <td>38.3</td>\n",
       "      <td>0.5597</td>\n",
       "      <td>28914.1</td>\n",
       "      <td>0.5379</td>\n",
       "      <td>5861.5</td>\n",
       "      <td>0.5598</td>\n",
       "      <td>10009.0</td>\n",
       "      <td>0.5377</td>\n",
       "      <td>11568.0</td>\n",
       "      <td>2022-05-05 12:26:00</td>\n",
       "    </tr>\n",
       "    <tr>\n",
       "      <th>6673</th>\n",
       "      <td>1651753620000</td>\n",
       "      <td>IOTAUSDT</td>\n",
       "      <td>0.5488</td>\n",
       "      <td>15.2</td>\n",
       "      <td>0.5486</td>\n",
       "      <td>2503.5</td>\n",
       "      <td>0.5490</td>\n",
       "      <td>2452.0</td>\n",
       "      <td>0.5485</td>\n",
       "      <td>5829.6</td>\n",
       "      <td>...</td>\n",
       "      <td>9161.0</td>\n",
       "      <td>0.5599</td>\n",
       "      <td>17817.3</td>\n",
       "      <td>0.5382</td>\n",
       "      <td>6929.2</td>\n",
       "      <td>0.5600</td>\n",
       "      <td>47171.8</td>\n",
       "      <td>0.5381</td>\n",
       "      <td>9.7</td>\n",
       "      <td>2022-05-05 12:27:00</td>\n",
       "    </tr>\n",
       "    <tr>\n",
       "      <th>6676</th>\n",
       "      <td>1651753680000</td>\n",
       "      <td>IOTAUSDT</td>\n",
       "      <td>0.5500</td>\n",
       "      <td>1910.3</td>\n",
       "      <td>0.5499</td>\n",
       "      <td>130.3</td>\n",
       "      <td>0.5501</td>\n",
       "      <td>7871.6</td>\n",
       "      <td>0.5498</td>\n",
       "      <td>153.5</td>\n",
       "      <td>...</td>\n",
       "      <td>9264.4</td>\n",
       "      <td>0.5608</td>\n",
       "      <td>10000.0</td>\n",
       "      <td>0.5395</td>\n",
       "      <td>1889.1</td>\n",
       "      <td>0.5609</td>\n",
       "      <td>47.3</td>\n",
       "      <td>0.5394</td>\n",
       "      <td>9911.9</td>\n",
       "      <td>2022-05-05 12:28:00</td>\n",
       "    </tr>\n",
       "    <tr>\n",
       "      <th>6679</th>\n",
       "      <td>1651753740000</td>\n",
       "      <td>IOTAUSDT</td>\n",
       "      <td>0.5499</td>\n",
       "      <td>3070.4</td>\n",
       "      <td>0.5498</td>\n",
       "      <td>191.6</td>\n",
       "      <td>0.5500</td>\n",
       "      <td>3298.6</td>\n",
       "      <td>0.5497</td>\n",
       "      <td>2404.8</td>\n",
       "      <td>...</td>\n",
       "      <td>1889.1</td>\n",
       "      <td>0.5607</td>\n",
       "      <td>4180.2</td>\n",
       "      <td>0.5394</td>\n",
       "      <td>9911.9</td>\n",
       "      <td>0.5608</td>\n",
       "      <td>10017.8</td>\n",
       "      <td>0.5393</td>\n",
       "      <td>7019.6</td>\n",
       "      <td>2022-05-05 12:29:00</td>\n",
       "    </tr>\n",
       "  </tbody>\n",
       "</table>\n",
       "<p>100 rows × 403 columns</p>\n",
       "</div>"
      ],
      "text/plain": [
       "          timestamp    symbol  ask_price_0  ask_qty_0  bid_price_0  bid_qty_0  \\\n",
       "6382  1651747800000  IOTAUSDT       0.5523     5002.6       0.5520      672.5   \n",
       "6385  1651747860000  IOTAUSDT       0.5525       76.1       0.5524      982.6   \n",
       "6388  1651747920000  IOTAUSDT       0.5528     1332.8       0.5527      178.1   \n",
       "6391  1651747980000  IOTAUSDT       0.5528     1365.0       0.5527       45.7   \n",
       "6394  1651748040000  IOTAUSDT       0.5523    12589.3       0.5522     1576.0   \n",
       "...             ...       ...          ...        ...          ...        ...   \n",
       "6667  1651753500000  IOTAUSDT       0.5480      127.5       0.5479     4790.9   \n",
       "6670  1651753560000  IOTAUSDT       0.5485     2538.7       0.5484      500.0   \n",
       "6673  1651753620000  IOTAUSDT       0.5488       15.2       0.5486     2503.5   \n",
       "6676  1651753680000  IOTAUSDT       0.5500     1910.3       0.5499      130.3   \n",
       "6679  1651753740000  IOTAUSDT       0.5499     3070.4       0.5498      191.6   \n",
       "\n",
       "      ask_price_1  ask_qty_1  bid_price_1  bid_qty_1  ...  bid_qty_97  \\\n",
       "6382       0.5524     4286.3       0.5519     5022.6  ...      1866.8   \n",
       "6385       0.5526      234.9       0.5523     3299.4  ...         9.9   \n",
       "6388       0.5529     2493.3       0.5526       48.5  ...       229.0   \n",
       "6391       0.5529     5709.8       0.5526      800.0  ...      4581.4   \n",
       "6394       0.5524     6204.0       0.5521     8748.7  ...         9.3   \n",
       "...           ...        ...          ...        ...  ...         ...   \n",
       "6667       0.5481       46.3       0.5478     1472.9  ...      9117.0   \n",
       "6670       0.5486     6527.9       0.5482     5100.4  ...        38.3   \n",
       "6673       0.5490     2452.0       0.5485     5829.6  ...      9161.0   \n",
       "6676       0.5501     7871.6       0.5498      153.5  ...      9264.4   \n",
       "6679       0.5500     3298.6       0.5497     2404.8  ...      1889.1   \n",
       "\n",
       "      ask_price_98  ask_qty_98  bid_price_98  bid_qty_98  ask_price_99  \\\n",
       "6382        0.5627     18378.7        0.5408      5544.6        0.5628   \n",
       "6385        0.5628      5893.0        0.5414      1670.5        0.5629   \n",
       "6388        0.5631       219.9        0.5420      4581.4        0.5632   \n",
       "6391        0.5632       351.3        0.5419      9533.9        0.5633   \n",
       "6394        0.5626       280.3        0.5413      5767.2        0.5627   \n",
       "...            ...         ...           ...         ...           ...   \n",
       "6667        0.5591        17.9        0.5372     49287.3        0.5592   \n",
       "6670        0.5597     28914.1        0.5379      5861.5        0.5598   \n",
       "6673        0.5599     17817.3        0.5382      6929.2        0.5600   \n",
       "6676        0.5608     10000.0        0.5395      1889.1        0.5609   \n",
       "6679        0.5607      4180.2        0.5394      9911.9        0.5608   \n",
       "\n",
       "      ask_qty_99  bid_price_99  bid_qty_99           open_time  \n",
       "6382      5893.0        0.5407        22.1 2022-05-05 10:50:00  \n",
       "6385     14626.3        0.5413     20511.4 2022-05-05 10:51:00  \n",
       "6388       351.3        0.5419      9533.9 2022-05-05 10:52:00  \n",
       "6391     42929.1        0.5418      9226.9 2022-05-05 10:53:00  \n",
       "6394     18360.9        0.5412       123.9 2022-05-05 10:54:00  \n",
       "...          ...           ...         ...                 ...  \n",
       "6667       362.0        0.5370     13595.1 2022-05-05 12:25:00  \n",
       "6670     10009.0        0.5377     11568.0 2022-05-05 12:26:00  \n",
       "6673     47171.8        0.5381         9.7 2022-05-05 12:27:00  \n",
       "6676        47.3        0.5394      9911.9 2022-05-05 12:28:00  \n",
       "6679     10017.8        0.5393      7019.6 2022-05-05 12:29:00  \n",
       "\n",
       "[100 rows x 403 columns]"
      ]
     },
     "execution_count": 33,
     "metadata": {},
     "output_type": "execute_result"
    }
   ],
   "source": [
    "df = pd.read_csv(\"./database/IOTAUSDT_binance_orderbook_full.csv\")\n",
    "df['timestamp'] = df['timestamp'] - df['timestamp']%10000\n",
    "df['open_time'] = pd.to_datetime(df['timestamp'], unit='ms')\n",
    "df = df.drop_duplicates()\n",
    "df.tail(100)"
   ]
  },
  {
   "cell_type": "code",
   "execution_count": 39,
   "metadata": {
    "pycharm": {
     "is_executing": true
    }
   },
   "outputs": [
    {
     "data": {
      "text/plain": [
       "Text(0.5, 1.0, 'slippage = f(position_size)')"
      ]
     },
     "execution_count": 39,
     "metadata": {},
     "output_type": "execute_result"
    },
    {
     "data": {
      "image/png": "[encoded data removed]",
      "text/plain": [
       "<Figure size 720x720 with 1 Axes>"
      ]
     },
     "metadata": {
      "needs_background": "light"
     },
     "output_type": "display_data"
    }
   ],
   "source": [
    "all_ask_price, all_ask_qty_usdt = get_all_price_qty(df, 1651748040000, side='ask')\n",
    "\n",
    "list_amounts = [i for i in range(100, 1000,20)] + [i for i in range(1000, 10000,200)]\n",
    "list_slippage = []\n",
    "\n",
    "for amount in list_amounts:\n",
    "    \n",
    "    list_slippage.append(compute_slippage(all_ask_price, all_ask_qty_usdt, amount))\n",
    "\n",
    "fig, ax = plt.subplots(figsize=(10,10))\n",
    "ax.scatter(list_amounts, list_slippage, s=10,facecolor='blue')\n",
    "plt.xlabel('position_size ($)')\n",
    "plt.ylabel('slippage (%)')\n",
    "plt.title('slippage = f(position_size)')"
   ]
  },
  {
   "cell_type": "markdown",
   "metadata": {},
   "source": [
    "## Polynomial regression"
   ]
  },
  {
   "cell_type": "code",
   "execution_count": null,
   "metadata": {
    "pycharm": {
     "is_executing": true
    }
   },
   "outputs": [],
   "source": [
    "from sklearn.preprocessing import PolynomialFeatures\n",
    "from sklearn.linear_model import LinearRegression"
   ]
  },
  {
   "cell_type": "code",
   "execution_count": null,
   "metadata": {
    "pycharm": {
     "is_executing": true
    }
   },
   "outputs": [],
   "source": [
    "poly = PolynomialFeatures(degree = 1)\n",
    "\n",
    "poly_features = poly.fit_transform(np.array([list_amounts]).transpose())\n",
    "\n",
    "poly_reg_model = LinearRegression(fit_intercept=False)\n",
    "\n",
    "poly_reg_model.fit(poly_features, list_slippage)\n",
    "\n",
    "y_predicted = poly_reg_model.predict(poly_features)"
   ]
  },
  {
   "cell_type": "code",
   "execution_count": null,
   "metadata": {
    "pycharm": {
     "is_executing": true
    }
   },
   "outputs": [],
   "source": [
    "y_predicted[0]"
   ]
  },
  {
   "cell_type": "code",
   "execution_count": null,
   "metadata": {
    "pycharm": {
     "is_executing": true
    }
   },
   "outputs": [],
   "source": [
    "plt.figure(figsize=(10,10))\n",
    "plt.scatter(list_amounts, list_slippage, s=1, facecolor='blue', label='real slippage')\n",
    "plt.plot(list_amounts, y_predicted, c='red', label='regression prediction')\n",
    "plt.legend()\n",
    "plt.show()"
   ]
  },
  {
   "cell_type": "code",
   "execution_count": null,
   "metadata": {
    "pycharm": {
     "is_executing": true
    }
   },
   "outputs": [],
   "source": [
    "_, beta1 = poly_reg_model.coef_"
   ]
  },
  {
   "cell_type": "code",
   "execution_count": null,
   "metadata": {
    "pycharm": {
     "is_executing": true
    }
   },
   "outputs": [],
   "source": [
    "beta0 = poly_reg_model.intercept_"
   ]
  },
  {
   "cell_type": "code",
   "execution_count": null,
   "metadata": {
    "pycharm": {
     "is_executing": true
    }
   },
   "outputs": [],
   "source": [
    "print([beta0, beta1])"
   ]
  },
  {
   "cell_type": "markdown",
   "metadata": {},
   "source": [
    "# Create all the coefficient for each rows"
   ]
  },
  {
   "cell_type": "markdown",
   "metadata": {},
   "source": [
    "## Creation of the dataframe containing all datas"
   ]
  },
  {
   "cell_type": "code",
   "execution_count": null,
   "metadata": {
    "pycharm": {
     "is_executing": true
    }
   },
   "outputs": [],
   "source": [
    "from os import walk\n",
    "\n",
    "filenames = next(walk(\"./database/\"), (None, None, []))[2]\n",
    "filenames.remove('.DS_Store')\n",
    "\n",
    "df_dataset = pd.DataFrame()"
   ]
  },
  {
   "cell_type": "code",
   "execution_count": null,
   "metadata": {
    "pycharm": {
     "is_executing": true
    }
   },
   "outputs": [],
   "source": [
    "def compute_slippage(all_price, \n",
    "                     all_qty, \n",
    "                     amount_usdt):\n",
    "    \n",
    "    residual_amount = amount_usdt\n",
    "    avg_price = 0\n",
    "    first_price = all_price[0]\n",
    "    \n",
    "    for i in range(len(all_price)):\n",
    "        \n",
    "        qty_usdt = all_qty[i] * all_price[i]\n",
    "        \n",
    "        if residual_amount <= qty_usdt:\n",
    "            avg_price += residual_amount * all_price[i]\n",
    "            break\n",
    "            \n",
    "        else:\n",
    "            avg_price += qty_usdt * all_price[i]\n",
    "            residual_amount -= qty_usdt\n",
    "            \n",
    "    avg_price = avg_price / amount_usdt\n",
    "    \n",
    "    slippage = 100 * (max(avg_price, first_price) / min(avg_price, first_price) - 1)\n",
    "    \n",
    "    return slippage\n",
    "\n",
    "def compute_coefficients(list_amounts,\n",
    "                         list_slippage):\n",
    "    \n",
    "    poly = PolynomialFeatures(degree = 1)\n",
    "\n",
    "    poly_features = poly.fit_transform(np.array([list_amounts]).transpose())\n",
    "\n",
    "    poly_reg_model = LinearRegression()\n",
    "\n",
    "    poly_reg_model.fit(poly_features, list_slippage)\n",
    "\n",
    "    _, beta1 = poly_reg_model.coef_\n",
    "    \n",
    "    beta0 = poly_reg_model.intercept_\n",
    "    \n",
    "    return beta0, beta1\n",
    "    \n",
    "\n",
    "def compute_slippage_regression(row):\n",
    "    \n",
    "    ask_prices = row[[f'ask_price_{i}' for i in range(100)]].to_list()\n",
    "    bid_prices = row[[f'bid_price_{i}' for i in range(100)]].to_list()\n",
    "    ask_qty = row[[f'ask_qty_{i}' for i in range(100)]].to_list()\n",
    "    bids_qty = row[[f'bid_qty_{i}' for i in range(100)]].to_list()\n",
    "    \n",
    "    list_amounts = [5000, 10000]\n",
    "    list_slippage_buy = []\n",
    "    list_slippage_sell = []\n",
    "\n",
    "    for amount in list_amounts:\n",
    "\n",
    "        list_slippage_buy.append(compute_slippage(ask_prices, ask_qty, amount))\n",
    "        list_slippage_sell.append(compute_slippage(bid_prices, bids_qty, amount))\n",
    "        \n",
    "#     beta0, beta1 = compute_coefficients(list_amounts,\n",
    "#                                                list_slippage_buy)\n",
    "    \n",
    "    row['beta0_buy'], row['beta1_buy'] = list_slippage_buy[0], list_slippage_buy[1]\n",
    "    \n",
    "#     beta0, beta1 = compute_coefficients(list_amounts,\n",
    "#                                                list_slippage_sell)\n",
    "    \n",
    "    row['beta0_sell'], row['beta1_sell'] = list_slippage_sell[0], list_slippage_sell[1]\n",
    "\n",
    "    return row\n",
    "\n",
    "\n",
    "for files in filenames:\n",
    "    \n",
    "    pair = files[:-27]\n",
    "    \n",
    "    print(f\"Processing {pair}...\")\n",
    "    \n",
    "    try:\n",
    "        historical_data = pd.read_csv(f\"../../../nova-algo/database/futures/hist_{pair}_1m.csv\")\n",
    "        historical_data['last_24h_volume'] = historical_data['quote_asset_volume'].rolling(min_periods=1, window=60*24).sum()\n",
    "        historical_data = historical_data.dropna()\n",
    "    except:\n",
    "        print(\"Error while processing\")\n",
    "        continue\n",
    "        \n",
    "    \n",
    "    \n",
    "    df = pd.read_csv(\"./database/\" + files)\n",
    "    df['timestamp'] = df['timestamp'] - df['timestamp']%10000\n",
    "    df['open_time'] = pd.to_datetime(df['timestamp'], unit='ms')\n",
    "    \n",
    "    df['beta0_buy'], df['beta1_buy'], df['beta2_buy'] = np.nan, np.nan, np.nan\n",
    "    df['beta0_sell'], df['beta1_sell'], df['beta2_sell'] = np.nan, np.nan, np.nan\n",
    "    \n",
    "    df = df.apply(lambda row: compute_slippage_regression(row),\n",
    "                  axis=1)\n",
    "    \n",
    "    df_buy = df.copy(deep=True)[['symbol', 'open_time', 'beta0_buy', 'beta1_buy']]\n",
    "    df_buy = df_buy.rename(columns={\"beta0_buy\": \"beta0\", \"beta1_buy\": \"beta1\"})\n",
    "    df_buy['side'] = 'buy'\n",
    "    \n",
    "    df_sell = df.copy(deep=True)[['symbol', 'open_time', 'beta0_sell', 'beta1_sell']]\n",
    "    df_sell = df_sell.rename(columns={\"beta0_sell\": \"beta0\", \"beta1_sell\": \"beta1\"})\n",
    "    df_sell['side'] = 'sell'\n",
    "    \n",
    "    df = pd.concat([df_buy, df_sell])\n",
    "    \n",
    "    df = df.sort_values(by='open_time') \n",
    "    \n",
    "    historical_data['type'] = np.where(historical_data['close'] > historical_data['open'], 1, 0)\n",
    "    historical_data['size'] = historical_data['high'] / historical_data['low'] - 1\n",
    "    historical_data['open_time'] = pd.to_datetime(historical_data['open_time'])\n",
    "    \n",
    "    columns_to_merge = ['open_time', 'quote_asset_volume', 'nb_of_trades', 'taker_quote_volume', \n",
    "                       'type', 'size', 'last_24h_volume']\n",
    "    \n",
    "    df = pd.merge(df, historical_data[columns_to_merge], how=\"left\",\n",
    "                  left_on=[\"open_time\"], right_on=[\"open_time\"])\n",
    "    \n",
    "    df_dataset = pd.concat([df_dataset, df])\n",
    "    \n",
    "    df_dataset = df_dataset.dropna()\n",
    "    "
   ]
  },
  {
   "cell_type": "code",
   "execution_count": null,
   "metadata": {
    "pycharm": {
     "is_executing": true
    }
   },
   "outputs": [],
   "source": [
    "df_dataset = df_dataset.drop_duplicates()\n",
    "df_dataset.to_csv('./full_dataset_3_0_10k.csv')\n",
    "df_dataset.shape"
   ]
  },
  {
   "cell_type": "code",
   "execution_count": null,
   "metadata": {
    "pycharm": {
     "is_executing": true
    }
   },
   "outputs": [],
   "source": [
    "df_dataset.head()"
   ]
  },
  {
   "cell_type": "markdown",
   "metadata": {},
   "source": [
    "## Create and split train, valid and test datasets"
   ]
  },
  {
   "cell_type": "code",
   "execution_count": null,
   "metadata": {
    "pycharm": {
     "is_executing": true
    }
   },
   "outputs": [],
   "source": [
    "from sklearn.model_selection import train_test_split\n",
    "from sklearn.preprocessing import StandardScaler"
   ]
  },
  {
   "cell_type": "code",
   "execution_count": null,
   "metadata": {
    "pycharm": {
     "is_executing": true
    }
   },
   "outputs": [],
   "source": [
    "df_entry_train = df_dataset[['side', 'quote_asset_volume', 'taker_quote_volume', 'nb_of_trades', 'type', 'size']]\n",
    "df_entry_train['side'] = np.where(df_entry_train['side'] == 'buy', 1, 0)\n",
    "df_outputs_train = df_dataset[['beta0', 'beta1', 'beta2']]\n",
    "\n",
    "X_train, X_valid, y_train, y_valid = train_test_split(df_entry_train, df_outputs_train, test_size=0.3, random_state=42)\n",
    "X_test, X_valid, y_test, y_valid = train_test_split(X_valid, y_valid, test_size=0.5, random_state=69)"
   ]
  },
  {
   "cell_type": "code",
   "execution_count": null,
   "metadata": {
    "pycharm": {
     "is_executing": true
    }
   },
   "outputs": [],
   "source": [
    "print(X_train.shape)\n",
    "X_train.head()"
   ]
  },
  {
   "cell_type": "code",
   "execution_count": null,
   "metadata": {
    "pycharm": {
     "is_executing": true
    }
   },
   "outputs": [],
   "source": [
    "y_train.head()"
   ]
  },
  {
   "cell_type": "markdown",
   "metadata": {},
   "source": [
    "## Scale train dataset"
   ]
  },
  {
   "cell_type": "code",
   "execution_count": null,
   "metadata": {
    "pycharm": {
     "is_executing": true
    }
   },
   "outputs": [],
   "source": [
    "scaler_x = StandardScaler()\n",
    "X_train = scaler_x.fit_transform(X_train)"
   ]
  },
  {
   "cell_type": "code",
   "execution_count": null,
   "metadata": {
    "pycharm": {
     "is_executing": true
    }
   },
   "outputs": [],
   "source": [
    "scaler_y = StandardScaler()\n",
    "y_train = scaler_y.fit_transform(y_train)"
   ]
  },
  {
   "cell_type": "markdown",
   "metadata": {},
   "source": [
    "## Scale valid and test"
   ]
  },
  {
   "cell_type": "code",
   "execution_count": null,
   "metadata": {
    "pycharm": {
     "is_executing": true
    }
   },
   "outputs": [],
   "source": [
    "X_test, X_valid = scaler_x.fit_transform(X_test), scaler_x.fit_transform(X_valid)"
   ]
  },
  {
   "cell_type": "code",
   "execution_count": null,
   "metadata": {
    "pycharm": {
     "is_executing": true
    }
   },
   "outputs": [],
   "source": [
    "y_test, y_valid = scaler_y.fit_transform(y_test), scaler_y.fit_transform(y_valid)"
   ]
  },
  {
   "cell_type": "markdown",
   "metadata": {},
   "source": [
    "# Create model"
   ]
  },
  {
   "cell_type": "code",
   "execution_count": null,
   "metadata": {
    "pycharm": {
     "is_executing": true
    }
   },
   "outputs": [],
   "source": [
    "from tensorflow import keras\n",
    "from tensorflow.keras import layers"
   ]
  },
  {
   "cell_type": "code",
   "execution_count": null,
   "metadata": {
    "pycharm": {
     "is_executing": true
    }
   },
   "outputs": [],
   "source": [
    "model = keras.Sequential(\n",
    "    [\n",
    "        layers.Dense(128, activation=\"relu\"),\n",
    "        layers.Dense(128, activation=\"relu\"),\n",
    "        layers.Dense(3),\n",
    "    ]\n",
    ")"
   ]
  },
  {
   "cell_type": "code",
   "execution_count": null,
   "metadata": {
    "pycharm": {
     "is_executing": true
    }
   },
   "outputs": [],
   "source": [
    "model.compile(optimizer='adam',\n",
    "              loss='mse')\n",
    "\n",
    "model.build(input_shape=(None,6,1))\n",
    "\n"
   ]
  },
  {
   "cell_type": "code",
   "execution_count": null,
   "metadata": {
    "pycharm": {
     "is_executing": true
    }
   },
   "outputs": [],
   "source": [
    "model.summary()\n"
   ]
  },
  {
   "cell_type": "code",
   "execution_count": null,
   "metadata": {
    "pycharm": {
     "is_executing": true
    }
   },
   "outputs": [],
   "source": [
    "model.fit(X_train, y_train, epochs=3)"
   ]
  },
  {
   "cell_type": "code",
   "execution_count": null,
   "metadata": {
    "pycharm": {
     "is_executing": true
    }
   },
   "outputs": [],
   "source": []
  }
 ],
 "metadata": {
  "kernelspec": {
   "display_name": "PyCharm (TP4_DL)",
   "language": "python",
   "name": "pycharm-c009dcb5"
  },
  "language_info": {
   "codemirror_mode": {
    "name": "ipython",
    "version": 3
   },
   "file_extension": ".py",
   "mimetype": "text/x-python",
   "name": "python",
   "nbconvert_exporter": "python",
   "pygments_lexer": "ipython3",
   "version": "3.9.7"
  }
 },
 "nbformat": 4,
 "nbformat_minor": 1
}