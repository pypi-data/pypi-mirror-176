{
 "cells": [
  {
   "cell_type": "markdown",
   "id": "150f0983",
   "metadata": {},
   "source": [
    "# Montecarlo Demo"
   ]
  },
  {
   "cell_type": "markdown",
   "id": "2d56d37d",
   "metadata": {},
   "source": [
    "### Import the monte carlo generic simulator(mcgs) package\n",
    "```python\n",
    "pip install mcgs\n",
    "\n",
    "```"
   ]
  },
  {
   "cell_type": "code",
   "execution_count": 1,
   "id": "666e8a51",
   "metadata": {},
   "outputs": [],
   "source": [
    "from montecarlo import Die, Game, Analyzer"
   ]
  },
  {
   "cell_type": "code",
   "execution_count": 2,
   "id": "8235f51a",
   "metadata": {},
   "outputs": [],
   "source": [
    "# External python packages\n",
    "import numpy as np \n",
    "import pandas as pd\n",
    "from matplotlib import pyplot as plt"
   ]
  },
  {
   "cell_type": "markdown",
   "id": "3caf4c61",
   "metadata": {},
   "source": [
    "# Scenarios"
   ]
  },
  {
   "cell_type": "markdown",
   "id": "98af4162",
   "metadata": {},
   "source": [
    "## Scenario 1: 2-headed coin"
   ]
  },
  {
   "cell_type": "code",
   "execution_count": 5,
   "id": "e18d9d5b",
   "metadata": {},
   "outputs": [],
   "source": [
    "# Let us Create one fair coin (with faces H and T) and one unfair coin.\n",
    "coin_faces = ['H', 'T']\n",
    "fair_coin = Die(coin_faces)\n",
    "unfair_coin = Die(coin_faces)"
   ]
  },
  {
   "cell_type": "code",
   "execution_count": 4,
   "id": "aa964a91",
   "metadata": {},
   "outputs": [
    {
     "data": {
      "text/html": [
       "<div>\n",
       "<style scoped>\n",
       "    .dataframe tbody tr th:only-of-type {\n",
       "        vertical-align: middle;\n",
       "    }\n",
       "\n",
       "    .dataframe tbody tr th {\n",
       "        vertical-align: top;\n",
       "    }\n",
       "\n",
       "    .dataframe thead th {\n",
       "        text-align: right;\n",
       "    }\n",
       "</style>\n",
       "<table border=\"1\" class=\"dataframe\">\n",
       "  <thead>\n",
       "    <tr style=\"text-align: right;\">\n",
       "      <th></th>\n",
       "      <th>faces</th>\n",
       "      <th>weights</th>\n",
       "    </tr>\n",
       "  </thead>\n",
       "  <tbody>\n",
       "    <tr>\n",
       "      <th>0</th>\n",
       "      <td>H</td>\n",
       "      <td>1.0</td>\n",
       "    </tr>\n",
       "    <tr>\n",
       "      <th>1</th>\n",
       "      <td>T</td>\n",
       "      <td>1.0</td>\n",
       "    </tr>\n",
       "  </tbody>\n",
       "</table>\n",
       "</div>"
      ],
      "text/plain": [
       "  faces  weights\n",
       "0     H      1.0\n",
       "1     T      1.0"
      ]
     },
     "execution_count": 4,
     "metadata": {},
     "output_type": "execute_result"
    }
   ],
   "source": [
    "# By default our coins are fair \n",
    "fair_coin.show_state()"
   ]
  },
  {
   "cell_type": "code",
   "execution_count": 6,
   "id": "b59f5964",
   "metadata": {},
   "outputs": [
    {
     "data": {
      "text/html": [
       "<div>\n",
       "<style scoped>\n",
       "    .dataframe tbody tr th:only-of-type {\n",
       "        vertical-align: middle;\n",
       "    }\n",
       "\n",
       "    .dataframe tbody tr th {\n",
       "        vertical-align: top;\n",
       "    }\n",
       "\n",
       "    .dataframe thead th {\n",
       "        text-align: right;\n",
       "    }\n",
       "</style>\n",
       "<table border=\"1\" class=\"dataframe\">\n",
       "  <thead>\n",
       "    <tr style=\"text-align: right;\">\n",
       "      <th></th>\n",
       "      <th>faces</th>\n",
       "      <th>weights</th>\n",
       "    </tr>\n",
       "  </thead>\n",
       "  <tbody>\n",
       "    <tr>\n",
       "      <th>0</th>\n",
       "      <td>H</td>\n",
       "      <td>5.0</td>\n",
       "    </tr>\n",
       "    <tr>\n",
       "      <th>1</th>\n",
       "      <td>T</td>\n",
       "      <td>1.0</td>\n",
       "    </tr>\n",
       "  </tbody>\n",
       "</table>\n",
       "</div>"
      ],
      "text/plain": [
       "  faces  weights\n",
       "0     H      5.0\n",
       "1     T      1.0"
      ]
     },
     "execution_count": 6,
     "metadata": {},
     "output_type": "execute_result"
    }
   ],
   "source": [
    "# For the unfair coin, give one of the faces a weight of 5 and the others 1.\n",
    "# The below coin is unfairly weighted to head\n",
    "unfair_coin.change_weight('H' , 5)\n",
    "unfair_coin.show_state()"
   ]
  },
  {
   "cell_type": "code",
   "execution_count": 7,
   "id": "2c199461",
   "metadata": {},
   "outputs": [
    {
     "data": {
      "text/plain": [
       "'\\n    PURPOSE:\\n    A class to roll one or more dice of the same kind one or more times.\\n    Inherits methods from Die class to perform the simulations\\n\\n    ATTRIBUTES:\\n    Takes a list of similarly defined dice (Die Objects/instances).\\n\\n    METHODS:\\n    __init__:: Instantiate a similar Die Objects.\\n    play:: Rolls the Dice using the inherited roll_die method from the Die class\\n    show:: Display the results of the most recent play\\n    -------------------------------------------------------------------------\\n    '"
      ]
     },
     "execution_count": 7,
     "metadata": {},
     "output_type": "execute_result"
    }
   ],
   "source": [
    "# You can check the class doc to see all the methods available for use \n",
    "# Die.__doc__ , Game.__doc__ , Analyzer.__doc__\n",
    "Game.__doc__"
   ]
  },
  {
   "cell_type": "code",
   "execution_count": 8,
   "id": "5a499115",
   "metadata": {},
   "outputs": [
    {
     "data": {
      "text/plain": [
       "'\\n        PURPOSE:\\n        Initializes dice object which is inherited from the Die Class\\n\\n        INPUTS:\\n        Takes one argument which is a List of Dice Objects ([int | str | float])\\n\\n        OUTPUTS:\\n        Assigns internal dice variable for use in multiple areas (DataFrame(int | str | float))\\n        '"
      ]
     },
     "execution_count": 8,
     "metadata": {},
     "output_type": "execute_result"
    }
   ],
   "source": [
    "# You can check each method doc using the Class.method.__doc__ \n",
    "# Let us understand how to construct a Game using the __init__\n",
    "Game.__init__.__doc__"
   ]
  },
  {
   "cell_type": "code",
   "execution_count": 9,
   "id": "98c613f4",
   "metadata": {},
   "outputs": [
    {
     "data": {
      "text/plain": [
       "'\\n        PURPOSE:\\n        Show the results of the most recent play.\\n\\n        INPUTS: Takes two arguments the play dataframe (DataFrame(int | str | float)) and df_form (int) that\\n        means the default Wide = 1 and Narrow option is 2 as parameters\\n\\n        OUTPUTS: Display the result of the play result as a dataframe of shape N rolls by M dice.(DataFrame(int |\\n        str | float))\\n        '"
      ]
     },
     "execution_count": 9,
     "metadata": {},
     "output_type": "execute_result"
    }
   ],
   "source": [
    "# You can check other methods that are listed as  ATTRIBUTES in the Game class \n",
    "Game.show.__doc__"
   ]
  },
  {
   "cell_type": "code",
   "execution_count": 10,
   "id": "9216c600",
   "metadata": {},
   "outputs": [
    {
     "data": {
      "text/html": [
       "<div>\n",
       "<style scoped>\n",
       "    .dataframe tbody tr th:only-of-type {\n",
       "        vertical-align: middle;\n",
       "    }\n",
       "\n",
       "    .dataframe tbody tr th {\n",
       "        vertical-align: top;\n",
       "    }\n",
       "\n",
       "    .dataframe thead th {\n",
       "        text-align: right;\n",
       "    }\n",
       "</style>\n",
       "<table border=\"1\" class=\"dataframe\">\n",
       "  <thead>\n",
       "    <tr style=\"text-align: right;\">\n",
       "      <th></th>\n",
       "      <th>Die 1</th>\n",
       "      <th>Die 2</th>\n",
       "      <th>Die 3</th>\n",
       "    </tr>\n",
       "    <tr>\n",
       "      <th>roll number</th>\n",
       "      <th></th>\n",
       "      <th></th>\n",
       "      <th></th>\n",
       "    </tr>\n",
       "  </thead>\n",
       "  <tbody>\n",
       "    <tr>\n",
       "      <th>1</th>\n",
       "      <td>H</td>\n",
       "      <td>T</td>\n",
       "      <td>T</td>\n",
       "    </tr>\n",
       "    <tr>\n",
       "      <th>2</th>\n",
       "      <td>H</td>\n",
       "      <td>H</td>\n",
       "      <td>T</td>\n",
       "    </tr>\n",
       "    <tr>\n",
       "      <th>3</th>\n",
       "      <td>T</td>\n",
       "      <td>H</td>\n",
       "      <td>T</td>\n",
       "    </tr>\n",
       "    <tr>\n",
       "      <th>4</th>\n",
       "      <td>H</td>\n",
       "      <td>T</td>\n",
       "      <td>H</td>\n",
       "    </tr>\n",
       "    <tr>\n",
       "      <th>5</th>\n",
       "      <td>T</td>\n",
       "      <td>T</td>\n",
       "      <td>T</td>\n",
       "    </tr>\n",
       "    <tr>\n",
       "      <th>...</th>\n",
       "      <td>...</td>\n",
       "      <td>...</td>\n",
       "      <td>...</td>\n",
       "    </tr>\n",
       "    <tr>\n",
       "      <th>996</th>\n",
       "      <td>T</td>\n",
       "      <td>T</td>\n",
       "      <td>H</td>\n",
       "    </tr>\n",
       "    <tr>\n",
       "      <th>997</th>\n",
       "      <td>T</td>\n",
       "      <td>H</td>\n",
       "      <td>T</td>\n",
       "    </tr>\n",
       "    <tr>\n",
       "      <th>998</th>\n",
       "      <td>H</td>\n",
       "      <td>T</td>\n",
       "      <td>H</td>\n",
       "    </tr>\n",
       "    <tr>\n",
       "      <th>999</th>\n",
       "      <td>T</td>\n",
       "      <td>H</td>\n",
       "      <td>T</td>\n",
       "    </tr>\n",
       "    <tr>\n",
       "      <th>1000</th>\n",
       "      <td>T</td>\n",
       "      <td>H</td>\n",
       "      <td>T</td>\n",
       "    </tr>\n",
       "  </tbody>\n",
       "</table>\n",
       "<p>1000 rows × 3 columns</p>\n",
       "</div>"
      ],
      "text/plain": [
       "            Die 1 Die 2 Die 3\n",
       "roll number                  \n",
       "1               H     T     T\n",
       "2               H     H     T\n",
       "3               T     H     T\n",
       "4               H     T     H\n",
       "5               T     T     T\n",
       "...           ...   ...   ...\n",
       "996             T     T     H\n",
       "997             T     H     T\n",
       "998             H     T     H\n",
       "999             T     H     T\n",
       "1000            T     H     T\n",
       "\n",
       "[1000 rows x 3 columns]"
      ]
     },
     "execution_count": 10,
     "metadata": {},
     "output_type": "execute_result"
    }
   ],
   "source": [
    "# Let us Play a game of 1000 flips of three coins with all fair dice\n",
    "# and use the methods we saw above in action\n",
    "dice = []\n",
    "dice.extend([fair_coin , fair_coin, fair_coin]) # Playing a Three dice \n",
    "coin_game_one = Game(dice)\n",
    "coin_game_one.show(coin_game_one.play(1000) , 1)  # Displaying results in Wide Dataframe format"
   ]
  },
  {
   "cell_type": "code",
   "execution_count": 11,
   "id": "9a9a7a4c",
   "metadata": {},
   "outputs": [
    {
     "data": {
      "text/html": [
       "<div>\n",
       "<style scoped>\n",
       "    .dataframe tbody tr th:only-of-type {\n",
       "        vertical-align: middle;\n",
       "    }\n",
       "\n",
       "    .dataframe tbody tr th {\n",
       "        vertical-align: top;\n",
       "    }\n",
       "\n",
       "    .dataframe thead th {\n",
       "        text-align: right;\n",
       "    }\n",
       "</style>\n",
       "<table border=\"1\" class=\"dataframe\">\n",
       "  <thead>\n",
       "    <tr style=\"text-align: right;\">\n",
       "      <th></th>\n",
       "      <th>Die 1</th>\n",
       "      <th>Die 2</th>\n",
       "      <th>Die 3</th>\n",
       "    </tr>\n",
       "    <tr>\n",
       "      <th>roll number</th>\n",
       "      <th></th>\n",
       "      <th></th>\n",
       "      <th></th>\n",
       "    </tr>\n",
       "  </thead>\n",
       "  <tbody>\n",
       "    <tr>\n",
       "      <th>1</th>\n",
       "      <td>T</td>\n",
       "      <td>H</td>\n",
       "      <td>T</td>\n",
       "    </tr>\n",
       "    <tr>\n",
       "      <th>2</th>\n",
       "      <td>H</td>\n",
       "      <td>H</td>\n",
       "      <td>H</td>\n",
       "    </tr>\n",
       "    <tr>\n",
       "      <th>3</th>\n",
       "      <td>T</td>\n",
       "      <td>T</td>\n",
       "      <td>H</td>\n",
       "    </tr>\n",
       "    <tr>\n",
       "      <th>4</th>\n",
       "      <td>H</td>\n",
       "      <td>H</td>\n",
       "      <td>H</td>\n",
       "    </tr>\n",
       "    <tr>\n",
       "      <th>5</th>\n",
       "      <td>H</td>\n",
       "      <td>T</td>\n",
       "      <td>T</td>\n",
       "    </tr>\n",
       "    <tr>\n",
       "      <th>...</th>\n",
       "      <td>...</td>\n",
       "      <td>...</td>\n",
       "      <td>...</td>\n",
       "    </tr>\n",
       "    <tr>\n",
       "      <th>996</th>\n",
       "      <td>H</td>\n",
       "      <td>H</td>\n",
       "      <td>T</td>\n",
       "    </tr>\n",
       "    <tr>\n",
       "      <th>997</th>\n",
       "      <td>H</td>\n",
       "      <td>H</td>\n",
       "      <td>H</td>\n",
       "    </tr>\n",
       "    <tr>\n",
       "      <th>998</th>\n",
       "      <td>T</td>\n",
       "      <td>H</td>\n",
       "      <td>T</td>\n",
       "    </tr>\n",
       "    <tr>\n",
       "      <th>999</th>\n",
       "      <td>T</td>\n",
       "      <td>T</td>\n",
       "      <td>T</td>\n",
       "    </tr>\n",
       "    <tr>\n",
       "      <th>1000</th>\n",
       "      <td>H</td>\n",
       "      <td>H</td>\n",
       "      <td>H</td>\n",
       "    </tr>\n",
       "  </tbody>\n",
       "</table>\n",
       "<p>1000 rows × 3 columns</p>\n",
       "</div>"
      ],
      "text/plain": [
       "            Die 1 Die 2 Die 3\n",
       "roll number                  \n",
       "1               T     H     T\n",
       "2               H     H     H\n",
       "3               T     T     H\n",
       "4               H     H     H\n",
       "5               H     T     T\n",
       "...           ...   ...   ...\n",
       "996             H     H     T\n",
       "997             H     H     H\n",
       "998             T     H     T\n",
       "999             T     T     T\n",
       "1000            H     H     H\n",
       "\n",
       "[1000 rows x 3 columns]"
      ]
     },
     "execution_count": 11,
     "metadata": {},
     "output_type": "execute_result"
    }
   ],
   "source": [
    "# Play a game of 1000 flips with two unfair dice and one fair die.\n",
    "dice = []\n",
    "dice.extend([unfair_coin , unfair_coin, fair_coin])\n",
    "coin_game_two = Game(dice)\n",
    "coin_game_two.show(coin_game_two.play(1000) , 1)  "
   ]
  },
  {
   "cell_type": "code",
   "execution_count": 12,
   "id": "9a61c65b",
   "metadata": {},
   "outputs": [],
   "source": [
    "# For each game, use an Analyzer object\n",
    "# determine the relative frequency of jackpots –> getting either all Hs or all Ts.\n",
    "coin_analyzer_one = Analyzer(coin_game_one)\n",
    "coin_analyzer_two = Analyzer(coin_game_two)"
   ]
  },
  {
   "cell_type": "code",
   "execution_count": 13,
   "id": "899edb73",
   "metadata": {},
   "outputs": [
    {
     "data": {
      "text/plain": [
       "246"
      ]
     },
     "execution_count": 13,
     "metadata": {},
     "output_type": "execute_result"
    }
   ],
   "source": [
    "coin_analyzer_one.jackpot()"
   ]
  },
  {
   "cell_type": "code",
   "execution_count": 14,
   "id": "88790fdc",
   "metadata": {},
   "outputs": [
    {
     "data": {
      "text/plain": [
       "263"
      ]
     },
     "execution_count": 14,
     "metadata": {},
     "output_type": "execute_result"
    }
   ],
   "source": [
    "coin_analyzer_two.jackpot()"
   ]
  },
  {
   "cell_type": "code",
   "execution_count": 15,
   "id": "cefa5485",
   "metadata": {},
   "outputs": [
    {
     "data": {
      "text/plain": [
       "0.246"
      ]
     },
     "execution_count": 15,
     "metadata": {},
     "output_type": "execute_result"
    }
   ],
   "source": [
    "# Compute relative frequency as the number of jackpots over the total number of rolls(1000)\n",
    "coin_relative_frequency_one = coin_analyzer_one.jackpot() / 1000\n",
    "coin_relative_frequency_one"
   ]
  },
  {
   "cell_type": "code",
   "execution_count": 16,
   "id": "4ea49ccf",
   "metadata": {},
   "outputs": [
    {
     "data": {
      "text/plain": [
       "0.263"
      ]
     },
     "execution_count": 16,
     "metadata": {},
     "output_type": "execute_result"
    }
   ],
   "source": [
    "coin_relative_frequency_two = coin_analyzer_two.jackpot() / 1000\n",
    "coin_relative_frequency_two"
   ]
  },
  {
   "cell_type": "code",
   "execution_count": 17,
   "id": "e28c1926",
   "metadata": {},
   "outputs": [
    {
     "data": {
      "image/png": "[encoded data removed]",
      "text/plain": [
       "<Figure size 640x480 with 1 Axes>"
      ]
     },
     "metadata": {},
     "output_type": "display_data"
    }
   ],
   "source": [
    "df = pd.DataFrame({'Coins':['Relative Frequency One', 'Relative Frequency Two'], \n",
    "                   'frequency':[coin_relative_frequency_one,coin_relative_frequency_two]})\n",
    "ax = df.plot.bar(x='Coins', y='frequency', rot=0)"
   ]
  },
  {
   "cell_type": "code",
   "execution_count": 18,
   "id": "a358921a",
   "metadata": {},
   "outputs": [
    {
     "data": {
      "text/plain": [
       "8"
      ]
     },
     "execution_count": 18,
     "metadata": {},
     "output_type": "execute_result"
    }
   ],
   "source": [
    "coin_analyzer_two.combo()"
   ]
  },
  {
   "cell_type": "markdown",
   "id": "62510992",
   "metadata": {},
   "source": [
    "## Scenario 2: 6-sided die"
   ]
  },
  {
   "cell_type": "code",
   "execution_count": 19,
   "id": "ba029bff",
   "metadata": {},
   "outputs": [
    {
     "data": {
      "text/html": [
       "<div>\n",
       "<style scoped>\n",
       "    .dataframe tbody tr th:only-of-type {\n",
       "        vertical-align: middle;\n",
       "    }\n",
       "\n",
       "    .dataframe tbody tr th {\n",
       "        vertical-align: top;\n",
       "    }\n",
       "\n",
       "    .dataframe thead th {\n",
       "        text-align: right;\n",
       "    }\n",
       "</style>\n",
       "<table border=\"1\" class=\"dataframe\">\n",
       "  <thead>\n",
       "    <tr style=\"text-align: right;\">\n",
       "      <th></th>\n",
       "      <th>faces</th>\n",
       "      <th>weights</th>\n",
       "    </tr>\n",
       "  </thead>\n",
       "  <tbody>\n",
       "    <tr>\n",
       "      <th>0</th>\n",
       "      <td>1</td>\n",
       "      <td>1.0</td>\n",
       "    </tr>\n",
       "    <tr>\n",
       "      <th>1</th>\n",
       "      <td>2</td>\n",
       "      <td>1.0</td>\n",
       "    </tr>\n",
       "    <tr>\n",
       "      <th>2</th>\n",
       "      <td>3</td>\n",
       "      <td>1.0</td>\n",
       "    </tr>\n",
       "    <tr>\n",
       "      <th>3</th>\n",
       "      <td>4</td>\n",
       "      <td>1.0</td>\n",
       "    </tr>\n",
       "    <tr>\n",
       "      <th>4</th>\n",
       "      <td>5</td>\n",
       "      <td>1.0</td>\n",
       "    </tr>\n",
       "    <tr>\n",
       "      <th>5</th>\n",
       "      <td>6</td>\n",
       "      <td>1.0</td>\n",
       "    </tr>\n",
       "  </tbody>\n",
       "</table>\n",
       "</div>"
      ],
      "text/plain": [
       "   faces  weights\n",
       "0      1      1.0\n",
       "1      2      1.0\n",
       "2      3      1.0\n",
       "3      4      1.0\n",
       "4      5      1.0\n",
       "5      6      1.0"
      ]
     },
     "execution_count": 19,
     "metadata": {},
     "output_type": "execute_result"
    }
   ],
   "source": [
    "# Create a fair die and two unfair dice, all of six sides with the faces 1 through 6 \n",
    "# for this scenario\n",
    "# First create a fair die \n",
    "fair_die_faces = [1, 2, 3, 4, 5, 6]\n",
    "fair_die = Die(fair_die_faces)\n",
    "fair_die.show_state()"
   ]
  },
  {
   "cell_type": "code",
   "execution_count": 20,
   "id": "8912b72c",
   "metadata": {},
   "outputs": [
    {
     "data": {
      "text/html": [
       "<div>\n",
       "<style scoped>\n",
       "    .dataframe tbody tr th:only-of-type {\n",
       "        vertical-align: middle;\n",
       "    }\n",
       "\n",
       "    .dataframe tbody tr th {\n",
       "        vertical-align: top;\n",
       "    }\n",
       "\n",
       "    .dataframe thead th {\n",
       "        text-align: right;\n",
       "    }\n",
       "</style>\n",
       "<table border=\"1\" class=\"dataframe\">\n",
       "  <thead>\n",
       "    <tr style=\"text-align: right;\">\n",
       "      <th></th>\n",
       "      <th>faces</th>\n",
       "      <th>weights</th>\n",
       "    </tr>\n",
       "  </thead>\n",
       "  <tbody>\n",
       "    <tr>\n",
       "      <th>0</th>\n",
       "      <td>1</td>\n",
       "      <td>1.0</td>\n",
       "    </tr>\n",
       "    <tr>\n",
       "      <th>1</th>\n",
       "      <td>2</td>\n",
       "      <td>1.0</td>\n",
       "    </tr>\n",
       "    <tr>\n",
       "      <th>2</th>\n",
       "      <td>3</td>\n",
       "      <td>1.0</td>\n",
       "    </tr>\n",
       "    <tr>\n",
       "      <th>3</th>\n",
       "      <td>4</td>\n",
       "      <td>1.0</td>\n",
       "    </tr>\n",
       "    <tr>\n",
       "      <th>4</th>\n",
       "      <td>5</td>\n",
       "      <td>1.0</td>\n",
       "    </tr>\n",
       "    <tr>\n",
       "      <th>5</th>\n",
       "      <td>6</td>\n",
       "      <td>1.0</td>\n",
       "    </tr>\n",
       "  </tbody>\n",
       "</table>\n",
       "</div>"
      ],
      "text/plain": [
       "   faces  weights\n",
       "0      1      1.0\n",
       "1      2      1.0\n",
       "2      3      1.0\n",
       "3      4      1.0\n",
       "4      5      1.0\n",
       "5      6      1.0"
      ]
     },
     "execution_count": 20,
     "metadata": {},
     "output_type": "execute_result"
    }
   ],
   "source": [
    "# One unfair die (Type 1) will weight 6 five times more than the others \n",
    "# (i.e. it has weight of 5 and the others a weight of 1 each).\n",
    "unfair_type_one_faces = [1, 2, 3, 4, 5, 6]\n",
    "unfair_type_one_die = Die(unfair_type_one_faces) \n",
    "unfair_type_one_die.show_state()"
   ]
  },
  {
   "cell_type": "code",
   "execution_count": 21,
   "id": "79e8b3d6",
   "metadata": {},
   "outputs": [
    {
     "data": {
      "text/html": [
       "<div>\n",
       "<style scoped>\n",
       "    .dataframe tbody tr th:only-of-type {\n",
       "        vertical-align: middle;\n",
       "    }\n",
       "\n",
       "    .dataframe tbody tr th {\n",
       "        vertical-align: top;\n",
       "    }\n",
       "\n",
       "    .dataframe thead th {\n",
       "        text-align: right;\n",
       "    }\n",
       "</style>\n",
       "<table border=\"1\" class=\"dataframe\">\n",
       "  <thead>\n",
       "    <tr style=\"text-align: right;\">\n",
       "      <th></th>\n",
       "      <th>faces</th>\n",
       "      <th>weights</th>\n",
       "    </tr>\n",
       "  </thead>\n",
       "  <tbody>\n",
       "    <tr>\n",
       "      <th>0</th>\n",
       "      <td>1</td>\n",
       "      <td>1.0</td>\n",
       "    </tr>\n",
       "    <tr>\n",
       "      <th>1</th>\n",
       "      <td>2</td>\n",
       "      <td>1.0</td>\n",
       "    </tr>\n",
       "    <tr>\n",
       "      <th>2</th>\n",
       "      <td>3</td>\n",
       "      <td>1.0</td>\n",
       "    </tr>\n",
       "    <tr>\n",
       "      <th>3</th>\n",
       "      <td>4</td>\n",
       "      <td>1.0</td>\n",
       "    </tr>\n",
       "    <tr>\n",
       "      <th>4</th>\n",
       "      <td>5</td>\n",
       "      <td>1.0</td>\n",
       "    </tr>\n",
       "    <tr>\n",
       "      <th>5</th>\n",
       "      <td>6</td>\n",
       "      <td>5.0</td>\n",
       "    </tr>\n",
       "  </tbody>\n",
       "</table>\n",
       "</div>"
      ],
      "text/plain": [
       "   faces  weights\n",
       "0      1      1.0\n",
       "1      2      1.0\n",
       "2      3      1.0\n",
       "3      4      1.0\n",
       "4      5      1.0\n",
       "5      6      5.0"
      ]
     },
     "execution_count": 21,
     "metadata": {},
     "output_type": "execute_result"
    }
   ],
   "source": [
    "# The below die is type one unfairly weighted to face six \n",
    "unfair_type_one_die.change_weight(6 , 5)\n",
    "unfair_type_one_die.show_state()"
   ]
  },
  {
   "cell_type": "code",
   "execution_count": 22,
   "id": "e0c82a23",
   "metadata": {},
   "outputs": [
    {
     "data": {
      "text/html": [
       "<div>\n",
       "<style scoped>\n",
       "    .dataframe tbody tr th:only-of-type {\n",
       "        vertical-align: middle;\n",
       "    }\n",
       "\n",
       "    .dataframe tbody tr th {\n",
       "        vertical-align: top;\n",
       "    }\n",
       "\n",
       "    .dataframe thead th {\n",
       "        text-align: right;\n",
       "    }\n",
       "</style>\n",
       "<table border=\"1\" class=\"dataframe\">\n",
       "  <thead>\n",
       "    <tr style=\"text-align: right;\">\n",
       "      <th></th>\n",
       "      <th>faces</th>\n",
       "      <th>weights</th>\n",
       "    </tr>\n",
       "  </thead>\n",
       "  <tbody>\n",
       "    <tr>\n",
       "      <th>0</th>\n",
       "      <td>1</td>\n",
       "      <td>1.0</td>\n",
       "    </tr>\n",
       "    <tr>\n",
       "      <th>1</th>\n",
       "      <td>2</td>\n",
       "      <td>1.0</td>\n",
       "    </tr>\n",
       "    <tr>\n",
       "      <th>2</th>\n",
       "      <td>3</td>\n",
       "      <td>1.0</td>\n",
       "    </tr>\n",
       "    <tr>\n",
       "      <th>3</th>\n",
       "      <td>4</td>\n",
       "      <td>1.0</td>\n",
       "    </tr>\n",
       "    <tr>\n",
       "      <th>4</th>\n",
       "      <td>5</td>\n",
       "      <td>1.0</td>\n",
       "    </tr>\n",
       "    <tr>\n",
       "      <th>5</th>\n",
       "      <td>6</td>\n",
       "      <td>1.0</td>\n",
       "    </tr>\n",
       "  </tbody>\n",
       "</table>\n",
       "</div>"
      ],
      "text/plain": [
       "   faces  weights\n",
       "0      1      1.0\n",
       "1      2      1.0\n",
       "2      3      1.0\n",
       "3      4      1.0\n",
       "4      5      1.0\n",
       "5      6      1.0"
      ]
     },
     "execution_count": 22,
     "metadata": {},
     "output_type": "execute_result"
    }
   ],
   "source": [
    "# The other unfair die (Type 2) will weight 1 five times more than the others.\n",
    "unfair_type_two_faces = [1, 2, 3, 4, 5, 6]\n",
    "unfair_type_two_die = Die(unfair_type_two_faces) \n",
    "unfair_type_two_die.show_state()"
   ]
  },
  {
   "cell_type": "code",
   "execution_count": 23,
   "id": "d215e478",
   "metadata": {},
   "outputs": [
    {
     "data": {
      "text/html": [
       "<div>\n",
       "<style scoped>\n",
       "    .dataframe tbody tr th:only-of-type {\n",
       "        vertical-align: middle;\n",
       "    }\n",
       "\n",
       "    .dataframe tbody tr th {\n",
       "        vertical-align: top;\n",
       "    }\n",
       "\n",
       "    .dataframe thead th {\n",
       "        text-align: right;\n",
       "    }\n",
       "</style>\n",
       "<table border=\"1\" class=\"dataframe\">\n",
       "  <thead>\n",
       "    <tr style=\"text-align: right;\">\n",
       "      <th></th>\n",
       "      <th>faces</th>\n",
       "      <th>weights</th>\n",
       "    </tr>\n",
       "  </thead>\n",
       "  <tbody>\n",
       "    <tr>\n",
       "      <th>0</th>\n",
       "      <td>1</td>\n",
       "      <td>0.2</td>\n",
       "    </tr>\n",
       "    <tr>\n",
       "      <th>1</th>\n",
       "      <td>2</td>\n",
       "      <td>0.2</td>\n",
       "    </tr>\n",
       "    <tr>\n",
       "      <th>2</th>\n",
       "      <td>3</td>\n",
       "      <td>0.2</td>\n",
       "    </tr>\n",
       "    <tr>\n",
       "      <th>3</th>\n",
       "      <td>4</td>\n",
       "      <td>0.2</td>\n",
       "    </tr>\n",
       "    <tr>\n",
       "      <th>4</th>\n",
       "      <td>5</td>\n",
       "      <td>0.2</td>\n",
       "    </tr>\n",
       "    <tr>\n",
       "      <th>5</th>\n",
       "      <td>6</td>\n",
       "      <td>1.0</td>\n",
       "    </tr>\n",
       "  </tbody>\n",
       "</table>\n",
       "</div>"
      ],
      "text/plain": [
       "   faces  weights\n",
       "0      1      0.2\n",
       "1      2      0.2\n",
       "2      3      0.2\n",
       "3      4      0.2\n",
       "4      5      0.2\n",
       "5      6      1.0"
      ]
     },
     "execution_count": 23,
     "metadata": {},
     "output_type": "execute_result"
    }
   ],
   "source": [
    "# Set the values of the other die faces to one fifth of one\n",
    "[unfair_type_two_die.change_weight(i , 0.2) for i in unfair_type_two_faces[:-1]]\n",
    "unfair_type_two_die.show_state()"
   ]
  },
  {
   "cell_type": "code",
   "execution_count": 24,
   "id": "eec7a890",
   "metadata": {},
   "outputs": [
    {
     "data": {
      "text/html": [
       "<div>\n",
       "<style scoped>\n",
       "    .dataframe tbody tr th:only-of-type {\n",
       "        vertical-align: middle;\n",
       "    }\n",
       "\n",
       "    .dataframe tbody tr th {\n",
       "        vertical-align: top;\n",
       "    }\n",
       "\n",
       "    .dataframe thead th {\n",
       "        text-align: right;\n",
       "    }\n",
       "</style>\n",
       "<table border=\"1\" class=\"dataframe\">\n",
       "  <thead>\n",
       "    <tr style=\"text-align: right;\">\n",
       "      <th></th>\n",
       "      <th>Die 1</th>\n",
       "      <th>Die 2</th>\n",
       "      <th>Die 3</th>\n",
       "      <th>Die 4</th>\n",
       "      <th>Die 5</th>\n",
       "    </tr>\n",
       "    <tr>\n",
       "      <th>roll number</th>\n",
       "      <th></th>\n",
       "      <th></th>\n",
       "      <th></th>\n",
       "      <th></th>\n",
       "      <th></th>\n",
       "    </tr>\n",
       "  </thead>\n",
       "  <tbody>\n",
       "    <tr>\n",
       "      <th>1</th>\n",
       "      <td>6</td>\n",
       "      <td>4</td>\n",
       "      <td>6</td>\n",
       "      <td>3</td>\n",
       "      <td>2</td>\n",
       "    </tr>\n",
       "    <tr>\n",
       "      <th>2</th>\n",
       "      <td>1</td>\n",
       "      <td>4</td>\n",
       "      <td>5</td>\n",
       "      <td>4</td>\n",
       "      <td>3</td>\n",
       "    </tr>\n",
       "    <tr>\n",
       "      <th>3</th>\n",
       "      <td>1</td>\n",
       "      <td>6</td>\n",
       "      <td>3</td>\n",
       "      <td>6</td>\n",
       "      <td>6</td>\n",
       "    </tr>\n",
       "    <tr>\n",
       "      <th>4</th>\n",
       "      <td>1</td>\n",
       "      <td>1</td>\n",
       "      <td>1</td>\n",
       "      <td>5</td>\n",
       "      <td>2</td>\n",
       "    </tr>\n",
       "    <tr>\n",
       "      <th>5</th>\n",
       "      <td>2</td>\n",
       "      <td>6</td>\n",
       "      <td>1</td>\n",
       "      <td>1</td>\n",
       "      <td>5</td>\n",
       "    </tr>\n",
       "    <tr>\n",
       "      <th>...</th>\n",
       "      <td>...</td>\n",
       "      <td>...</td>\n",
       "      <td>...</td>\n",
       "      <td>...</td>\n",
       "      <td>...</td>\n",
       "    </tr>\n",
       "    <tr>\n",
       "      <th>9996</th>\n",
       "      <td>3</td>\n",
       "      <td>2</td>\n",
       "      <td>3</td>\n",
       "      <td>4</td>\n",
       "      <td>2</td>\n",
       "    </tr>\n",
       "    <tr>\n",
       "      <th>9997</th>\n",
       "      <td>3</td>\n",
       "      <td>4</td>\n",
       "      <td>6</td>\n",
       "      <td>6</td>\n",
       "      <td>5</td>\n",
       "    </tr>\n",
       "    <tr>\n",
       "      <th>9998</th>\n",
       "      <td>1</td>\n",
       "      <td>2</td>\n",
       "      <td>5</td>\n",
       "      <td>4</td>\n",
       "      <td>2</td>\n",
       "    </tr>\n",
       "    <tr>\n",
       "      <th>9999</th>\n",
       "      <td>1</td>\n",
       "      <td>3</td>\n",
       "      <td>2</td>\n",
       "      <td>3</td>\n",
       "      <td>6</td>\n",
       "    </tr>\n",
       "    <tr>\n",
       "      <th>10000</th>\n",
       "      <td>5</td>\n",
       "      <td>5</td>\n",
       "      <td>5</td>\n",
       "      <td>2</td>\n",
       "      <td>2</td>\n",
       "    </tr>\n",
       "  </tbody>\n",
       "</table>\n",
       "<p>10000 rows × 5 columns</p>\n",
       "</div>"
      ],
      "text/plain": [
       "             Die 1  Die 2  Die 3  Die 4  Die 5\n",
       "roll number                                   \n",
       "1                6      4      6      3      2\n",
       "2                1      4      5      4      3\n",
       "3                1      6      3      6      6\n",
       "4                1      1      1      5      2\n",
       "5                2      6      1      1      5\n",
       "...            ...    ...    ...    ...    ...\n",
       "9996             3      2      3      4      2\n",
       "9997             3      4      6      6      5\n",
       "9998             1      2      5      4      2\n",
       "9999             1      3      2      3      6\n",
       "10000            5      5      5      2      2\n",
       "\n",
       "[10000 rows x 5 columns]"
      ]
     },
     "execution_count": 24,
     "metadata": {},
     "output_type": "execute_result"
    }
   ],
   "source": [
    "# Let us Play a game of 10000 rolls with 5 fair dice \n",
    "dice = []\n",
    "dice.extend([fair_die , fair_die, fair_die, fair_die, fair_die]) # Playing a Five Fair dice \n",
    "dice_game_one = Game(dice)\n",
    "dice_game_one.show(dice_game_one.play(10000) , 1)  # Displaying results in Wide Dataframe format"
   ]
  },
  {
   "cell_type": "code",
   "execution_count": 25,
   "id": "bb60b5dd",
   "metadata": {},
   "outputs": [
    {
     "data": {
      "text/html": [
       "<div>\n",
       "<style scoped>\n",
       "    .dataframe tbody tr th:only-of-type {\n",
       "        vertical-align: middle;\n",
       "    }\n",
       "\n",
       "    .dataframe tbody tr th {\n",
       "        vertical-align: top;\n",
       "    }\n",
       "\n",
       "    .dataframe thead th {\n",
       "        text-align: right;\n",
       "    }\n",
       "</style>\n",
       "<table border=\"1\" class=\"dataframe\">\n",
       "  <thead>\n",
       "    <tr style=\"text-align: right;\">\n",
       "      <th></th>\n",
       "      <th>Die 1</th>\n",
       "      <th>Die 2</th>\n",
       "      <th>Die 3</th>\n",
       "      <th>Die 4</th>\n",
       "      <th>Die 5</th>\n",
       "    </tr>\n",
       "    <tr>\n",
       "      <th>roll number</th>\n",
       "      <th></th>\n",
       "      <th></th>\n",
       "      <th></th>\n",
       "      <th></th>\n",
       "      <th></th>\n",
       "    </tr>\n",
       "  </thead>\n",
       "  <tbody>\n",
       "    <tr>\n",
       "      <th>1</th>\n",
       "      <td>4</td>\n",
       "      <td>3</td>\n",
       "      <td>6</td>\n",
       "      <td>5</td>\n",
       "      <td>1</td>\n",
       "    </tr>\n",
       "    <tr>\n",
       "      <th>2</th>\n",
       "      <td>1</td>\n",
       "      <td>5</td>\n",
       "      <td>4</td>\n",
       "      <td>2</td>\n",
       "      <td>5</td>\n",
       "    </tr>\n",
       "    <tr>\n",
       "      <th>3</th>\n",
       "      <td>2</td>\n",
       "      <td>5</td>\n",
       "      <td>5</td>\n",
       "      <td>2</td>\n",
       "      <td>2</td>\n",
       "    </tr>\n",
       "    <tr>\n",
       "      <th>4</th>\n",
       "      <td>1</td>\n",
       "      <td>6</td>\n",
       "      <td>1</td>\n",
       "      <td>6</td>\n",
       "      <td>1</td>\n",
       "    </tr>\n",
       "    <tr>\n",
       "      <th>5</th>\n",
       "      <td>6</td>\n",
       "      <td>2</td>\n",
       "      <td>6</td>\n",
       "      <td>4</td>\n",
       "      <td>4</td>\n",
       "    </tr>\n",
       "    <tr>\n",
       "      <th>...</th>\n",
       "      <td>...</td>\n",
       "      <td>...</td>\n",
       "      <td>...</td>\n",
       "      <td>...</td>\n",
       "      <td>...</td>\n",
       "    </tr>\n",
       "    <tr>\n",
       "      <th>9996</th>\n",
       "      <td>1</td>\n",
       "      <td>4</td>\n",
       "      <td>3</td>\n",
       "      <td>3</td>\n",
       "      <td>3</td>\n",
       "    </tr>\n",
       "    <tr>\n",
       "      <th>9997</th>\n",
       "      <td>2</td>\n",
       "      <td>4</td>\n",
       "      <td>6</td>\n",
       "      <td>5</td>\n",
       "      <td>6</td>\n",
       "    </tr>\n",
       "    <tr>\n",
       "      <th>9998</th>\n",
       "      <td>3</td>\n",
       "      <td>5</td>\n",
       "      <td>3</td>\n",
       "      <td>2</td>\n",
       "      <td>3</td>\n",
       "    </tr>\n",
       "    <tr>\n",
       "      <th>9999</th>\n",
       "      <td>3</td>\n",
       "      <td>5</td>\n",
       "      <td>6</td>\n",
       "      <td>2</td>\n",
       "      <td>2</td>\n",
       "    </tr>\n",
       "    <tr>\n",
       "      <th>10000</th>\n",
       "      <td>1</td>\n",
       "      <td>6</td>\n",
       "      <td>2</td>\n",
       "      <td>4</td>\n",
       "      <td>3</td>\n",
       "    </tr>\n",
       "  </tbody>\n",
       "</table>\n",
       "<p>10000 rows × 5 columns</p>\n",
       "</div>"
      ],
      "text/plain": [
       "             Die 1  Die 2  Die 3  Die 4  Die 5\n",
       "roll number                                   \n",
       "1                4      3      6      5      1\n",
       "2                1      5      4      2      5\n",
       "3                2      5      5      2      2\n",
       "4                1      6      1      6      1\n",
       "5                6      2      6      4      4\n",
       "...            ...    ...    ...    ...    ...\n",
       "9996             1      4      3      3      3\n",
       "9997             2      4      6      5      6\n",
       "9998             3      5      3      2      3\n",
       "9999             3      5      6      2      2\n",
       "10000            1      6      2      4      3\n",
       "\n",
       "[10000 rows x 5 columns]"
      ]
     },
     "execution_count": 25,
     "metadata": {},
     "output_type": "execute_result"
    }
   ],
   "source": [
    "# Play a game of 10000 rolls with 2 unfair dice of type 1, \n",
    "# 1 unfair die of type 2, \n",
    "# and the rest fair dice that means the remaining two out of the five are fair dice. \n",
    "dice = []\n",
    "dice.extend([unfair_type_one_die , unfair_type_one_die, unfair_type_two_die, fair_die, fair_die]) # Playing a Five dice \n",
    "dice_game_two = Game(dice)\n",
    "dice_game_two.show(dice_game_two.play(10000) , 1)  # Displaying results in Wide Dataframe format"
   ]
  },
  {
   "cell_type": "code",
   "execution_count": 26,
   "id": "0be06891",
   "metadata": {},
   "outputs": [],
   "source": [
    "# For each game, use an Analyzer object\n",
    "# determine the relative frequency of jackpots –> getting either all 1s, 2s, 3s, 4s, 5s, 6s.\n",
    "die_analyzer_one = Analyzer(dice_game_one)\n",
    "die_analyzer_two = Analyzer(dice_game_two)"
   ]
  },
  {
   "cell_type": "code",
   "execution_count": 27,
   "id": "f27c6dce",
   "metadata": {},
   "outputs": [
    {
     "data": {
      "text/plain": [
       "10"
      ]
     },
     "execution_count": 27,
     "metadata": {},
     "output_type": "execute_result"
    }
   ],
   "source": [
    "die_analyzer_one.jackpot()"
   ]
  },
  {
   "cell_type": "code",
   "execution_count": 28,
   "id": "e9f3f72a",
   "metadata": {},
   "outputs": [
    {
     "data": {
      "text/plain": [
       "5"
      ]
     },
     "execution_count": 28,
     "metadata": {},
     "output_type": "execute_result"
    }
   ],
   "source": [
    "die_analyzer_two.jackpot()"
   ]
  },
  {
   "cell_type": "code",
   "execution_count": 29,
   "id": "d6166341",
   "metadata": {},
   "outputs": [
    {
     "data": {
      "text/plain": [
       "0.001"
      ]
     },
     "execution_count": 29,
     "metadata": {},
     "output_type": "execute_result"
    }
   ],
   "source": [
    "# Compute relative frequency as the number of jackpots over the total number of rolls(10000)\n",
    "die_relative_frequency_one = die_analyzer_one.jackpot() / 10000\n",
    "die_relative_frequency_one"
   ]
  },
  {
   "cell_type": "code",
   "execution_count": 30,
   "id": "4f25415a",
   "metadata": {},
   "outputs": [
    {
     "data": {
      "text/plain": [
       "0.0005"
      ]
     },
     "execution_count": 30,
     "metadata": {},
     "output_type": "execute_result"
    }
   ],
   "source": [
    "die_relative_frequency_two = die_analyzer_two.jackpot() / 10000\n",
    "die_relative_frequency_two"
   ]
  },
  {
   "cell_type": "code",
   "execution_count": 31,
   "id": "c87bcdce",
   "metadata": {},
   "outputs": [
    {
     "data": {
      "image/png": "[encoded data removed]",
      "text/plain": [
       "<Figure size 640x480 with 1 Axes>"
      ]
     },
     "metadata": {},
     "output_type": "display_data"
    }
   ],
   "source": [
    "df = pd.DataFrame({'Dice':['Relative Frequency One', 'Relative Frequency Two'], \n",
    "                   'frequency':[die_relative_frequency_one,die_relative_frequency_two]})\n",
    "ax = df.plot.bar(x='Dice', y='frequency', rot=0)"
   ]
  },
  {
   "cell_type": "code",
   "execution_count": 32,
   "id": "80c82a84",
   "metadata": {},
   "outputs": [
    {
     "data": {
      "text/plain": [
       "5665"
      ]
     },
     "execution_count": 32,
     "metadata": {},
     "output_type": "execute_result"
    }
   ],
   "source": [
    "# Compute 10 most frequent combinations of faces for each game\n",
    "die_analyzer_one.combo() "
   ]
  },
  {
   "cell_type": "code",
   "execution_count": 33,
   "id": "04fb606e",
   "metadata": {},
   "outputs": [
    {
     "data": {
      "text/plain": [
       "[(4, 2, 6, 3, 4, 7),\n",
       " (5, 3, 6, 4, 4, 7),\n",
       " (1, 1, 3, 3, 1, 6),\n",
       " (1, 4, 3, 6, 3, 6),\n",
       " (1, 5, 3, 5, 4, 6),\n",
       " (2, 1, 5, 6, 4, 6),\n",
       " (4, 3, 1, 6, 4, 6),\n",
       " (4, 4, 1, 2, 1, 6),\n",
       " (4, 4, 1, 6, 1, 6),\n",
       " (4, 6, 6, 5, 2, 6)]"
      ]
     },
     "execution_count": 33,
     "metadata": {},
     "output_type": "execute_result"
    }
   ],
   "source": [
    "# We can utilize the the <Class Analyzer>.combination_list according to the doc\n",
    "die_analyzer_one.combination_list \n",
    "die_analyzer_one.combination_list.sort(key=lambda roll: roll[-1:] , reverse = True)\n",
    "die_game_one_frequent_combinations = die_analyzer_one.combination_list[:10]\n",
    "die_game_one_frequent_combinations"
   ]
  },
  {
   "cell_type": "code",
   "execution_count": 34,
   "id": "7322e559",
   "metadata": {},
   "outputs": [
    {
     "data": {
      "text/plain": [
       "5651"
      ]
     },
     "execution_count": 34,
     "metadata": {},
     "output_type": "execute_result"
    }
   ],
   "source": [
    "die_analyzer_two.combo() "
   ]
  },
  {
   "cell_type": "code",
   "execution_count": 36,
   "id": "f5575a3c",
   "metadata": {},
   "outputs": [
    {
     "data": {
      "text/plain": [
       "[(5, 2, 3, 4, 4, 7),\n",
       " (5, 2, 6, 5, 1, 7),\n",
       " (5, 5, 2, 2, 4, 7),\n",
       " (5, 6, 3, 2, 6, 7),\n",
       " (1, 4, 5, 2, 4, 6),\n",
       " (2, 1, 4, 4, 1, 6),\n",
       " (2, 5, 4, 5, 6, 6),\n",
       " (3, 1, 1, 3, 4, 6),\n",
       " (3, 2, 5, 3, 4, 6),\n",
       " (3, 3, 1, 1, 6, 6)]"
      ]
     },
     "execution_count": 36,
     "metadata": {},
     "output_type": "execute_result"
    }
   ],
   "source": [
    "# We can utilize the the <Class Analyzer>.combination_list according to the doc\n",
    "die_analyzer_two.combination_list \n",
    "die_analyzer_two.combination_list.sort(key=lambda roll: roll[-1:] , reverse = True)\n",
    "die_game_two_frequent_combinations = die_analyzer_two.combination_list[:10]\n",
    "die_game_two_frequent_combinations"
   ]
  },
  {
   "cell_type": "code",
   "execution_count": 37,
   "id": "0a796804",
   "metadata": {},
   "outputs": [
    {
     "data": {
      "image/png": "[encoded data removed]",
      "text/plain": [
       "<Figure size 640x480 with 1 Axes>"
      ]
     },
     "metadata": {},
     "output_type": "display_data"
    }
   ],
   "source": [
    "# create data\n",
    "x = np.arange(10)\n",
    "combo_one = [list(combo[-1:])[0] for combo in die_game_one_frequent_combinations] # frequent combination Game one\n",
    "combo_two = [list(combo[-1:])[0] for combo in die_game_two_frequent_combinations]\n",
    "width = 0.40\n",
    "  \n",
    "# plot data in grouped manner of bar type for the Die Games \n",
    "plt.bar(x-0.2, combo_one, width)\n",
    "plt.bar(x+0.2, combo_two, width)\n",
    "plt.xlabel(\"Frequent Rolls\")\n",
    "plt.ylabel(\"Combination frequency\")\n",
    "plt.legend([\"Die Game One\", \"Die Game Two\"])\n",
    "plt.show()"
   ]
  },
  {
   "cell_type": "markdown",
   "id": "20528f8a",
   "metadata": {},
   "source": [
    "## Scenario 3: Roman Alphabet"
   ]
  },
  {
   "cell_type": "code",
   "execution_count": 38,
   "id": "517f8798",
   "metadata": {},
   "outputs": [
    {
     "data": {
      "text/html": [
       "<div>\n",
       "<style scoped>\n",
       "    .dataframe tbody tr th:only-of-type {\n",
       "        vertical-align: middle;\n",
       "    }\n",
       "\n",
       "    .dataframe tbody tr th {\n",
       "        vertical-align: top;\n",
       "    }\n",
       "\n",
       "    .dataframe thead th {\n",
       "        text-align: right;\n",
       "    }\n",
       "</style>\n",
       "<table border=\"1\" class=\"dataframe\">\n",
       "  <thead>\n",
       "    <tr style=\"text-align: right;\">\n",
       "      <th></th>\n",
       "      <th>faces</th>\n",
       "      <th>weights</th>\n",
       "    </tr>\n",
       "  </thead>\n",
       "  <tbody>\n",
       "    <tr>\n",
       "      <th>0</th>\n",
       "      <td>Q</td>\n",
       "      <td>1.0</td>\n",
       "    </tr>\n",
       "    <tr>\n",
       "      <th>1</th>\n",
       "      <td>S</td>\n",
       "      <td>1.0</td>\n",
       "    </tr>\n",
       "    <tr>\n",
       "      <th>2</th>\n",
       "      <td>R</td>\n",
       "      <td>1.0</td>\n",
       "    </tr>\n",
       "    <tr>\n",
       "      <th>3</th>\n",
       "      <td>Z</td>\n",
       "      <td>1.0</td>\n",
       "    </tr>\n",
       "    <tr>\n",
       "      <th>4</th>\n",
       "      <td>D</td>\n",
       "      <td>1.0</td>\n",
       "    </tr>\n",
       "    <tr>\n",
       "      <th>5</th>\n",
       "      <td>W</td>\n",
       "      <td>1.0</td>\n",
       "    </tr>\n",
       "    <tr>\n",
       "      <th>6</th>\n",
       "      <td>G</td>\n",
       "      <td>1.0</td>\n",
       "    </tr>\n",
       "    <tr>\n",
       "      <th>7</th>\n",
       "      <td>H</td>\n",
       "      <td>1.0</td>\n",
       "    </tr>\n",
       "    <tr>\n",
       "      <th>8</th>\n",
       "      <td>B</td>\n",
       "      <td>1.0</td>\n",
       "    </tr>\n",
       "    <tr>\n",
       "      <th>9</th>\n",
       "      <td>A</td>\n",
       "      <td>1.0</td>\n",
       "    </tr>\n",
       "    <tr>\n",
       "      <th>10</th>\n",
       "      <td>J</td>\n",
       "      <td>1.0</td>\n",
       "    </tr>\n",
       "    <tr>\n",
       "      <th>11</th>\n",
       "      <td>C</td>\n",
       "      <td>1.0</td>\n",
       "    </tr>\n",
       "    <tr>\n",
       "      <th>12</th>\n",
       "      <td>V</td>\n",
       "      <td>1.0</td>\n",
       "    </tr>\n",
       "    <tr>\n",
       "      <th>13</th>\n",
       "      <td>L</td>\n",
       "      <td>1.0</td>\n",
       "    </tr>\n",
       "    <tr>\n",
       "      <th>14</th>\n",
       "      <td>K</td>\n",
       "      <td>1.0</td>\n",
       "    </tr>\n",
       "    <tr>\n",
       "      <th>15</th>\n",
       "      <td>M</td>\n",
       "      <td>1.0</td>\n",
       "    </tr>\n",
       "    <tr>\n",
       "      <th>16</th>\n",
       "      <td>P</td>\n",
       "      <td>1.0</td>\n",
       "    </tr>\n",
       "    <tr>\n",
       "      <th>17</th>\n",
       "      <td>F</td>\n",
       "      <td>1.0</td>\n",
       "    </tr>\n",
       "    <tr>\n",
       "      <th>18</th>\n",
       "      <td>T</td>\n",
       "      <td>1.0</td>\n",
       "    </tr>\n",
       "    <tr>\n",
       "      <th>19</th>\n",
       "      <td>N</td>\n",
       "      <td>1.0</td>\n",
       "    </tr>\n",
       "    <tr>\n",
       "      <th>20</th>\n",
       "      <td>O</td>\n",
       "      <td>1.0</td>\n",
       "    </tr>\n",
       "    <tr>\n",
       "      <th>21</th>\n",
       "      <td>U</td>\n",
       "      <td>1.0</td>\n",
       "    </tr>\n",
       "    <tr>\n",
       "      <th>22</th>\n",
       "      <td>I</td>\n",
       "      <td>1.0</td>\n",
       "    </tr>\n",
       "    <tr>\n",
       "      <th>23</th>\n",
       "      <td>E</td>\n",
       "      <td>1.0</td>\n",
       "    </tr>\n",
       "    <tr>\n",
       "      <th>24</th>\n",
       "      <td>Y</td>\n",
       "      <td>1.0</td>\n",
       "    </tr>\n",
       "    <tr>\n",
       "      <th>25</th>\n",
       "      <td>X</td>\n",
       "      <td>1.0</td>\n",
       "    </tr>\n",
       "  </tbody>\n",
       "</table>\n",
       "</div>"
      ],
      "text/plain": [
       "   faces  weights\n",
       "0      Q      1.0\n",
       "1      S      1.0\n",
       "2      R      1.0\n",
       "3      Z      1.0\n",
       "4      D      1.0\n",
       "5      W      1.0\n",
       "6      G      1.0\n",
       "7      H      1.0\n",
       "8      B      1.0\n",
       "9      A      1.0\n",
       "10     J      1.0\n",
       "11     C      1.0\n",
       "12     V      1.0\n",
       "13     L      1.0\n",
       "14     K      1.0\n",
       "15     M      1.0\n",
       "16     P      1.0\n",
       "17     F      1.0\n",
       "18     T      1.0\n",
       "19     N      1.0\n",
       "20     O      1.0\n",
       "21     U      1.0\n",
       "22     I      1.0\n",
       "23     E      1.0\n",
       "24     Y      1.0\n",
       "25     X      1.0"
      ]
     },
     "execution_count": 38,
     "metadata": {},
     "output_type": "execute_result"
    }
   ],
   "source": [
    "# Create a \"die\" of letter s from a to z with weights based on their frequency of usage.\n",
    "roman_alphabet_faces = ['A','B','C','D','E','F','G','H','I','J','K','L','M','N','O','P','Q','R','S','T','U','V','W','X','Y','Z']\n",
    "roman_alphabet_die = Die(roman_alphabet_faces)\n",
    "roman_alphabet_die.show_state()"
   ]
  },
  {
   "cell_type": "markdown",
   "id": "b3fec01e",
   "metadata": {},
   "source": [
    "[The frequency of the letters of the alphabet in English](https://www3.nd.edu/~busiforc/handouts/cryptography/letterfrequencies.html)"
   ]
  },
  {
   "cell_type": "code",
   "execution_count": 39,
   "id": "56e2df0f",
   "metadata": {},
   "outputs": [],
   "source": [
    "# We will populate the Die according to the given frequencies"
   ]
  },
  {
   "cell_type": "code",
   "execution_count": 40,
   "id": "8fd33cc4",
   "metadata": {},
   "outputs": [
    {
     "data": {
      "text/html": [
       "<div>\n",
       "<style scoped>\n",
       "    .dataframe tbody tr th:only-of-type {\n",
       "        vertical-align: middle;\n",
       "    }\n",
       "\n",
       "    .dataframe tbody tr th {\n",
       "        vertical-align: top;\n",
       "    }\n",
       "\n",
       "    .dataframe thead th {\n",
       "        text-align: right;\n",
       "    }\n",
       "</style>\n",
       "<table border=\"1\" class=\"dataframe\">\n",
       "  <thead>\n",
       "    <tr style=\"text-align: right;\">\n",
       "      <th></th>\n",
       "      <th>faces</th>\n",
       "      <th>weights</th>\n",
       "    </tr>\n",
       "  </thead>\n",
       "  <tbody>\n",
       "    <tr>\n",
       "      <th>0</th>\n",
       "      <td>Q</td>\n",
       "      <td>0.1962</td>\n",
       "    </tr>\n",
       "    <tr>\n",
       "      <th>1</th>\n",
       "      <td>S</td>\n",
       "      <td>5.7351</td>\n",
       "    </tr>\n",
       "    <tr>\n",
       "      <th>2</th>\n",
       "      <td>R</td>\n",
       "      <td>7.5809</td>\n",
       "    </tr>\n",
       "    <tr>\n",
       "      <th>3</th>\n",
       "      <td>Z</td>\n",
       "      <td>0.2722</td>\n",
       "    </tr>\n",
       "    <tr>\n",
       "      <th>4</th>\n",
       "      <td>D</td>\n",
       "      <td>3.3844</td>\n",
       "    </tr>\n",
       "    <tr>\n",
       "      <th>5</th>\n",
       "      <td>W</td>\n",
       "      <td>1.2899</td>\n",
       "    </tr>\n",
       "    <tr>\n",
       "      <th>6</th>\n",
       "      <td>G</td>\n",
       "      <td>2.4705</td>\n",
       "    </tr>\n",
       "    <tr>\n",
       "      <th>7</th>\n",
       "      <td>H</td>\n",
       "      <td>3.0034</td>\n",
       "    </tr>\n",
       "    <tr>\n",
       "      <th>8</th>\n",
       "      <td>B</td>\n",
       "      <td>2.0720</td>\n",
       "    </tr>\n",
       "    <tr>\n",
       "      <th>9</th>\n",
       "      <td>A</td>\n",
       "      <td>8.4966</td>\n",
       "    </tr>\n",
       "    <tr>\n",
       "      <th>10</th>\n",
       "      <td>J</td>\n",
       "      <td>0.1965</td>\n",
       "    </tr>\n",
       "    <tr>\n",
       "      <th>11</th>\n",
       "      <td>C</td>\n",
       "      <td>4.5388</td>\n",
       "    </tr>\n",
       "    <tr>\n",
       "      <th>12</th>\n",
       "      <td>V</td>\n",
       "      <td>1.0074</td>\n",
       "    </tr>\n",
       "    <tr>\n",
       "      <th>13</th>\n",
       "      <td>L</td>\n",
       "      <td>5.4893</td>\n",
       "    </tr>\n",
       "    <tr>\n",
       "      <th>14</th>\n",
       "      <td>K</td>\n",
       "      <td>1.1016</td>\n",
       "    </tr>\n",
       "    <tr>\n",
       "      <th>15</th>\n",
       "      <td>M</td>\n",
       "      <td>3.0129</td>\n",
       "    </tr>\n",
       "    <tr>\n",
       "      <th>16</th>\n",
       "      <td>P</td>\n",
       "      <td>3.1671</td>\n",
       "    </tr>\n",
       "    <tr>\n",
       "      <th>17</th>\n",
       "      <td>F</td>\n",
       "      <td>1.8121</td>\n",
       "    </tr>\n",
       "    <tr>\n",
       "      <th>18</th>\n",
       "      <td>T</td>\n",
       "      <td>6.9509</td>\n",
       "    </tr>\n",
       "    <tr>\n",
       "      <th>19</th>\n",
       "      <td>N</td>\n",
       "      <td>6.6544</td>\n",
       "    </tr>\n",
       "    <tr>\n",
       "      <th>20</th>\n",
       "      <td>O</td>\n",
       "      <td>7.1635</td>\n",
       "    </tr>\n",
       "    <tr>\n",
       "      <th>21</th>\n",
       "      <td>U</td>\n",
       "      <td>3.6308</td>\n",
       "    </tr>\n",
       "    <tr>\n",
       "      <th>22</th>\n",
       "      <td>I</td>\n",
       "      <td>7.5448</td>\n",
       "    </tr>\n",
       "    <tr>\n",
       "      <th>23</th>\n",
       "      <td>E</td>\n",
       "      <td>11.1607</td>\n",
       "    </tr>\n",
       "    <tr>\n",
       "      <th>24</th>\n",
       "      <td>Y</td>\n",
       "      <td>1.7779</td>\n",
       "    </tr>\n",
       "    <tr>\n",
       "      <th>25</th>\n",
       "      <td>X</td>\n",
       "      <td>0.2902</td>\n",
       "    </tr>\n",
       "  </tbody>\n",
       "</table>\n",
       "</div>"
      ],
      "text/plain": [
       "   faces  weights\n",
       "0      Q   0.1962\n",
       "1      S   5.7351\n",
       "2      R   7.5809\n",
       "3      Z   0.2722\n",
       "4      D   3.3844\n",
       "5      W   1.2899\n",
       "6      G   2.4705\n",
       "7      H   3.0034\n",
       "8      B   2.0720\n",
       "9      A   8.4966\n",
       "10     J   0.1965\n",
       "11     C   4.5388\n",
       "12     V   1.0074\n",
       "13     L   5.4893\n",
       "14     K   1.1016\n",
       "15     M   3.0129\n",
       "16     P   3.1671\n",
       "17     F   1.8121\n",
       "18     T   6.9509\n",
       "19     N   6.6544\n",
       "20     O   7.1635\n",
       "21     U   3.6308\n",
       "22     I   7.5448\n",
       "23     E  11.1607\n",
       "24     Y   1.7779\n",
       "25     X   0.2902"
      ]
     },
     "execution_count": 40,
     "metadata": {},
     "output_type": "execute_result"
    }
   ],
   "source": [
    "frequency_list = [\n",
    "('A',8.4966),\n",
    "('B',2.0720),\n",
    "('C',4.5388),\n",
    "('D',3.3844),\n",
    "('E',11.1607),\n",
    "('F',1.8121),\n",
    "('G',2.4705),\n",
    "('H',3.0034),\n",
    "('I',7.5448),\n",
    "('J',0.1965),\n",
    "('K',1.1016),\n",
    "('L',5.4893),\n",
    "('M',3.0129),\n",
    "('N',6.6544),\n",
    "('O',7.1635),\n",
    "('P',3.1671),\n",
    "('Q',0.1962),\n",
    "('R',7.5809),\n",
    "('S',5.7351),\n",
    "('T',6.9509),\n",
    "('U',3.6308),\n",
    "('V',1.0074),\n",
    "('W',1.2899),\n",
    "('X',0.2902),\n",
    "('Y',1.7779),\n",
    "('Z',0.2722)] \n",
    "\n",
    "[roman_alphabet_die.change_weight(str(alphabet[0]) , alphabet[1]) for alphabet in frequency_list]\n",
    "roman_alphabet_die.show_state()"
   ]
  },
  {
   "cell_type": "code",
   "execution_count": 41,
   "id": "1740d1ba",
   "metadata": {},
   "outputs": [
    {
     "data": {
      "text/html": [
       "<div>\n",
       "<style scoped>\n",
       "    .dataframe tbody tr th:only-of-type {\n",
       "        vertical-align: middle;\n",
       "    }\n",
       "\n",
       "    .dataframe tbody tr th {\n",
       "        vertical-align: top;\n",
       "    }\n",
       "\n",
       "    .dataframe thead th {\n",
       "        text-align: right;\n",
       "    }\n",
       "</style>\n",
       "<table border=\"1\" class=\"dataframe\">\n",
       "  <thead>\n",
       "    <tr style=\"text-align: right;\">\n",
       "      <th></th>\n",
       "      <th>Die 1</th>\n",
       "      <th>Die 2</th>\n",
       "      <th>Die 3</th>\n",
       "      <th>Die 4</th>\n",
       "      <th>Die 5</th>\n",
       "    </tr>\n",
       "    <tr>\n",
       "      <th>roll number</th>\n",
       "      <th></th>\n",
       "      <th></th>\n",
       "      <th></th>\n",
       "      <th></th>\n",
       "      <th></th>\n",
       "    </tr>\n",
       "  </thead>\n",
       "  <tbody>\n",
       "    <tr>\n",
       "      <th>1</th>\n",
       "      <td>S</td>\n",
       "      <td>A</td>\n",
       "      <td>Q</td>\n",
       "      <td>J</td>\n",
       "      <td>P</td>\n",
       "    </tr>\n",
       "    <tr>\n",
       "      <th>2</th>\n",
       "      <td>V</td>\n",
       "      <td>M</td>\n",
       "      <td>O</td>\n",
       "      <td>F</td>\n",
       "      <td>O</td>\n",
       "    </tr>\n",
       "    <tr>\n",
       "      <th>3</th>\n",
       "      <td>N</td>\n",
       "      <td>L</td>\n",
       "      <td>V</td>\n",
       "      <td>H</td>\n",
       "      <td>O</td>\n",
       "    </tr>\n",
       "    <tr>\n",
       "      <th>4</th>\n",
       "      <td>G</td>\n",
       "      <td>V</td>\n",
       "      <td>W</td>\n",
       "      <td>I</td>\n",
       "      <td>N</td>\n",
       "    </tr>\n",
       "    <tr>\n",
       "      <th>5</th>\n",
       "      <td>T</td>\n",
       "      <td>Z</td>\n",
       "      <td>D</td>\n",
       "      <td>Q</td>\n",
       "      <td>R</td>\n",
       "    </tr>\n",
       "    <tr>\n",
       "      <th>...</th>\n",
       "      <td>...</td>\n",
       "      <td>...</td>\n",
       "      <td>...</td>\n",
       "      <td>...</td>\n",
       "      <td>...</td>\n",
       "    </tr>\n",
       "    <tr>\n",
       "      <th>996</th>\n",
       "      <td>E</td>\n",
       "      <td>N</td>\n",
       "      <td>L</td>\n",
       "      <td>S</td>\n",
       "      <td>J</td>\n",
       "    </tr>\n",
       "    <tr>\n",
       "      <th>997</th>\n",
       "      <td>B</td>\n",
       "      <td>N</td>\n",
       "      <td>T</td>\n",
       "      <td>H</td>\n",
       "      <td>K</td>\n",
       "    </tr>\n",
       "    <tr>\n",
       "      <th>998</th>\n",
       "      <td>G</td>\n",
       "      <td>T</td>\n",
       "      <td>P</td>\n",
       "      <td>J</td>\n",
       "      <td>D</td>\n",
       "    </tr>\n",
       "    <tr>\n",
       "      <th>999</th>\n",
       "      <td>Y</td>\n",
       "      <td>B</td>\n",
       "      <td>N</td>\n",
       "      <td>W</td>\n",
       "      <td>F</td>\n",
       "    </tr>\n",
       "    <tr>\n",
       "      <th>1000</th>\n",
       "      <td>Q</td>\n",
       "      <td>U</td>\n",
       "      <td>I</td>\n",
       "      <td>L</td>\n",
       "      <td>Y</td>\n",
       "    </tr>\n",
       "  </tbody>\n",
       "</table>\n",
       "<p>1000 rows × 5 columns</p>\n",
       "</div>"
      ],
      "text/plain": [
       "            Die 1 Die 2 Die 3 Die 4 Die 5\n",
       "roll number                              \n",
       "1               S     A     Q     J     P\n",
       "2               V     M     O     F     O\n",
       "3               N     L     V     H     O\n",
       "4               G     V     W     I     N\n",
       "5               T     Z     D     Q     R\n",
       "...           ...   ...   ...   ...   ...\n",
       "996             E     N     L     S     J\n",
       "997             B     N     T     H     K\n",
       "998             G     T     P     J     D\n",
       "999             Y     B     N     W     F\n",
       "1000            Q     U     I     L     Y\n",
       "\n",
       "[1000 rows x 5 columns]"
      ]
     },
     "execution_count": 41,
     "metadata": {},
     "output_type": "execute_result"
    }
   ],
   "source": [
    "# Play a game involving 5 of these dice with 1000 rolls.\n",
    "\n",
    "dice = []\n",
    "dice.extend([roman_alphabet_die , roman_alphabet_die, roman_alphabet_die, roman_alphabet_die, roman_alphabet_die]) # Playing a Five dice \n",
    "roman_game = Game(dice)\n",
    "roman_game.show(roman_game.play(1000) , 1)  # Displaying results in Wide Dataframe format"
   ]
  },
  {
   "cell_type": "code",
   "execution_count": 42,
   "id": "b7ab5c33",
   "metadata": {},
   "outputs": [],
   "source": [
    "# Generate 10 random samples of 10 from your data \n",
    "sample_value = []\n",
    "for sample in range(10):\n",
    "    sample_value.append(tuple(roman_game.play_df.sample(n = 10).sum(axis=1).astype(str)))"
   ]
  },
  {
   "cell_type": "code",
   "execution_count": 43,
   "id": "21c67bf4",
   "metadata": {},
   "outputs": [
    {
     "name": "stdout",
     "output_type": "stream",
     "text": [
      "0%\n"
     ]
    }
   ],
   "source": [
    "# Count the number of times you see a word that looks like an English word in each sample UNIX APPROACH\n",
    "\n",
    "import re\n",
    "file = open(\"/usr/share/dict/words\", \"r\")\n",
    "words = re.sub(\"[^\\w]\", \" \",  file.read()).split()\n",
    "file.close()\n",
    "    \n",
    "def is_word(word):\n",
    "    return word.lower() in words\n",
    "#How the Simple English word identifier function works\n",
    "#is_word(\"The\") # Returns true\n",
    "\n",
    "\n",
    "# Running count to Estimate of the percent of English words in the data. \n",
    "# Maintain the count of english word in the data \n",
    "count = 0\n",
    "for word in sample_value:\n",
    "    for i in range(len(word)):\n",
    "        if(is_word(word[i])):\n",
    "            count =count + 1\n",
    "print(f\"{count}%\")"
   ]
  },
  {
   "cell_type": "code",
   "execution_count": null,
   "id": "86025cfe",
   "metadata": {},
   "outputs": [],
   "source": []
  }
 ],
 "metadata": {
  "kernelspec": {
   "display_name": "Python 3 (ipykernel)",
   "language": "python",
   "name": "python3"
  },
  "language_info": {
   "codemirror_mode": {
    "name": "ipython",
    "version": 3
   },
   "file_extension": ".py",
   "mimetype": "text/x-python",
   "name": "python",
   "nbconvert_exporter": "python",
   "pygments_lexer": "ipython3",
   "version": "3.8.10"
  }
 },
 "nbformat": 4,
 "nbformat_minor": 5
}
