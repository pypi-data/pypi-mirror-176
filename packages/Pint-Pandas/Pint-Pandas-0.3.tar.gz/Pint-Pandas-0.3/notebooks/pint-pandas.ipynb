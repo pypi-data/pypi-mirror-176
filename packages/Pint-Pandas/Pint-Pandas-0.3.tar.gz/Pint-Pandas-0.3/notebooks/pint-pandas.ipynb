{
 "cells": [
  {
   "cell_type": "markdown",
   "metadata": {},
   "source": [
    "# Pandas support\n",
    "\n",
    "<div class=\"alert alert-warning\">\n",
    "\n",
    "**Warning:** pandas support is currently experimental, don't expect everything to work.\n",
    "\n",
    "</div>\n",
    "\n",
    "It is convenient to use the Pandas package when dealing with numerical data, so Pint provides PintArray. A PintArray is a Pandas Extension Array, which allows Pandas to recognise the Quantity and store it in Pandas DataFrames and Series."
   ]
  },
  {
   "cell_type": "markdown",
   "metadata": {},
   "source": [
    "## Installation\n",
    "\n",
    "\n",
    "Pandas support is provided by the `pint-pandas` package. To install it use either:\n",
    "```\n",
    "python -m pip install pint-pandas\n",
    "```\n",
    "Or:\n",
    "```\n",
    "conda install -c conda-forge pint-pandas\n",
    "```"
   ]
  },
  {
   "cell_type": "markdown",
   "metadata": {},
   "source": [
    "## Basic example"
   ]
  },
  {
   "cell_type": "markdown",
   "metadata": {},
   "source": [
    "This example will show the simplist way to use pandas with pint and the underlying objects. It's slightly fiddly as you are not reading from a file. A more normal use case is given in Reading a csv.\n",
    "\n",
    "First some imports"
   ]
  },
  {
   "cell_type": "code",
   "execution_count": 1,
   "metadata": {},
   "outputs": [
    {
     "name": "stdout",
     "output_type": "stream",
     "text": [
      "{'numpy': '1.18.5',\n",
      " 'pandas': '1.3.5',\n",
      " 'pint': '0.19.2',\n",
      " 'pint_pandas': '0.3.dev62+g7cff3c5'}\n"
     ]
    }
   ],
   "source": [
    "import pandas as pd \n",
    "import pint\n",
    "import pint_pandas\n",
    "pint_pandas.show_versions()"
   ]
  },
  {
   "cell_type": "markdown",
   "metadata": {},
   "source": [
    "Next, we create a DataFrame with PintArrays as columns."
   ]
  },
  {
   "cell_type": "code",
   "execution_count": 2,
   "metadata": {},
   "outputs": [
    {
     "data": {
      "text/html": [
       "<div>\n",
       "<style scoped>\n",
       "    .dataframe tbody tr th:only-of-type {\n",
       "        vertical-align: middle;\n",
       "    }\n",
       "\n",
       "    .dataframe tbody tr th {\n",
       "        vertical-align: top;\n",
       "    }\n",
       "\n",
       "    .dataframe thead th {\n",
       "        text-align: right;\n",
       "    }\n",
       "</style>\n",
       "<table border=\"1\" class=\"dataframe\">\n",
       "  <thead>\n",
       "    <tr style=\"text-align: right;\">\n",
       "      <th></th>\n",
       "      <th>torque</th>\n",
       "      <th>angular_velocity</th>\n",
       "    </tr>\n",
       "  </thead>\n",
       "  <tbody>\n",
       "    <tr>\n",
       "      <th>0</th>\n",
       "      <td>1.0</td>\n",
       "      <td>1.0</td>\n",
       "    </tr>\n",
       "    <tr>\n",
       "      <th>1</th>\n",
       "      <td>2.0</td>\n",
       "      <td>2.0</td>\n",
       "    </tr>\n",
       "    <tr>\n",
       "      <th>2</th>\n",
       "      <td>2.0</td>\n",
       "      <td>2.0</td>\n",
       "    </tr>\n",
       "    <tr>\n",
       "      <th>3</th>\n",
       "      <td>3.0</td>\n",
       "      <td>3.0</td>\n",
       "    </tr>\n",
       "  </tbody>\n",
       "</table>\n",
       "</div>"
      ],
      "text/plain": [
       "  torque angular_velocity\n",
       "0    1.0              1.0\n",
       "1    2.0              2.0\n",
       "2    2.0              2.0\n",
       "3    3.0              3.0"
      ]
     },
     "execution_count": 2,
     "metadata": {},
     "output_type": "execute_result"
    }
   ],
   "source": [
    "df = pd.DataFrame({\n",
    "    \"torque\": pd.Series([1., 2., 2., 3.], dtype=\"pint[lbf ft]\"),\n",
    "    \"angular_velocity\": pd.Series([1., 2., 2., 3.], dtype=\"pint[rpm]\"),\n",
    "})\n",
    "df"
   ]
  },
  {
   "cell_type": "markdown",
   "metadata": {},
   "source": [
    "Operations with columns are units aware so behave as we would intuitively expect."
   ]
  },
  {
   "cell_type": "code",
   "execution_count": 3,
   "metadata": {},
   "outputs": [
    {
     "data": {
      "text/html": [
       "<div>\n",
       "<style scoped>\n",
       "    .dataframe tbody tr th:only-of-type {\n",
       "        vertical-align: middle;\n",
       "    }\n",
       "\n",
       "    .dataframe tbody tr th {\n",
       "        vertical-align: top;\n",
       "    }\n",
       "\n",
       "    .dataframe thead th {\n",
       "        text-align: right;\n",
       "    }\n",
       "</style>\n",
       "<table border=\"1\" class=\"dataframe\">\n",
       "  <thead>\n",
       "    <tr style=\"text-align: right;\">\n",
       "      <th></th>\n",
       "      <th>torque</th>\n",
       "      <th>angular_velocity</th>\n",
       "      <th>power</th>\n",
       "    </tr>\n",
       "  </thead>\n",
       "  <tbody>\n",
       "    <tr>\n",
       "      <th>0</th>\n",
       "      <td>1.0</td>\n",
       "      <td>1.0</td>\n",
       "      <td>1.0</td>\n",
       "    </tr>\n",
       "    <tr>\n",
       "      <th>1</th>\n",
       "      <td>2.0</td>\n",
       "      <td>2.0</td>\n",
       "      <td>4.0</td>\n",
       "    </tr>\n",
       "    <tr>\n",
       "      <th>2</th>\n",
       "      <td>2.0</td>\n",
       "      <td>2.0</td>\n",
       "      <td>4.0</td>\n",
       "    </tr>\n",
       "    <tr>\n",
       "      <th>3</th>\n",
       "      <td>3.0</td>\n",
       "      <td>3.0</td>\n",
       "      <td>9.0</td>\n",
       "    </tr>\n",
       "  </tbody>\n",
       "</table>\n",
       "</div>"
      ],
      "text/plain": [
       "  torque angular_velocity power\n",
       "0    1.0              1.0   1.0\n",
       "1    2.0              2.0   4.0\n",
       "2    2.0              2.0   4.0\n",
       "3    3.0              3.0   9.0"
      ]
     },
     "execution_count": 3,
     "metadata": {},
     "output_type": "execute_result"
    }
   ],
   "source": [
    "df['power'] = df['torque'] * df['angular_velocity']\n",
    "df"
   ]
  },
  {
   "cell_type": "markdown",
   "metadata": {},
   "source": [
    "We can see the columns' units in the dtypes attribute"
   ]
  },
  {
   "cell_type": "code",
   "execution_count": 4,
   "metadata": {},
   "outputs": [
    {
     "data": {
      "text/plain": [
       "torque                                       pint[foot * force_pound]\n",
       "angular_velocity                         pint[revolutions_per_minute]\n",
       "power               pint[foot * force_pound * revolutions_per_minute]\n",
       "dtype: object"
      ]
     },
     "execution_count": 4,
     "metadata": {},
     "output_type": "execute_result"
    }
   ],
   "source": [
    "df.dtypes"
   ]
  },
  {
   "cell_type": "markdown",
   "metadata": {},
   "source": [
    "Each column can be accessed as a Pandas Series"
   ]
  },
  {
   "cell_type": "code",
   "execution_count": 5,
   "metadata": {},
   "outputs": [
    {
     "data": {
      "text/plain": [
       "0    1.0\n",
       "1    4.0\n",
       "2    4.0\n",
       "3    9.0\n",
       "Name: power, dtype: pint[foot * force_pound * revolutions_per_minute]"
      ]
     },
     "execution_count": 5,
     "metadata": {},
     "output_type": "execute_result"
    }
   ],
   "source": [
    "df.power"
   ]
  },
  {
   "cell_type": "markdown",
   "metadata": {},
   "source": [
    "Which contains a PintArray"
   ]
  },
  {
   "cell_type": "code",
   "execution_count": 6,
   "metadata": {},
   "outputs": [
    {
     "data": {
      "text/plain": [
       "<PintArray>\n",
       "[1.0, 4.0, 4.0, 9.0]\n",
       "Length: 4, dtype: pint[foot * force_pound * revolutions_per_minute]"
      ]
     },
     "execution_count": 6,
     "metadata": {},
     "output_type": "execute_result"
    }
   ],
   "source": [
    "df.power.values"
   ]
  },
  {
   "cell_type": "markdown",
   "metadata": {},
   "source": [
    "The PintArray contains a Quantity"
   ]
  },
  {
   "cell_type": "code",
   "execution_count": 7,
   "metadata": {},
   "outputs": [
    {
     "data": {
      "text/html": [
       "<table><tbody><tr><th>Magnitude</th><td style='text-align:left;'><pre>[1.0 4.0 4.0 9.0]</pre></td></tr><tr><th>Units</th><td style='text-align:left;'>foot force_pound revolutions_per_minute</td></tr></tbody></table>"
      ],
      "text/latex": [
       "$\\begin{pmatrix}1.0 & 4.0 & 4.0 & 9.0\\end{pmatrix}\\ \\mathrm{foot} \\cdot \\mathrm{force\\_pound} \\cdot \\mathrm{revolutions\\_per\\_minute}$"
      ],
      "text/plain": [
       "array([1., 4., 4., 9.]) <Unit('foot * force_pound * revolutions_per_minute')>"
      ]
     },
     "execution_count": 7,
     "metadata": {},
     "output_type": "execute_result"
    }
   ],
   "source": [
    "df.power.values.quantity"
   ]
  },
  {
   "cell_type": "markdown",
   "metadata": {},
   "source": [
    "Pandas Series accessors are provided for most Quantity properties and methods, which will convert the result to a Series where possible."
   ]
  },
  {
   "cell_type": "code",
   "execution_count": 8,
   "metadata": {},
   "outputs": [
    {
     "data": {
      "text/html": [
       "foot force_pound revolutions_per_minute"
      ],
      "text/latex": [
       "$\\mathrm{foot} \\cdot \\mathrm{force\\_pound} \\cdot \\mathrm{revolutions\\_per\\_minute}$"
      ],
      "text/plain": [
       "<Unit('foot * force_pound * revolutions_per_minute')>"
      ]
     },
     "execution_count": 8,
     "metadata": {},
     "output_type": "execute_result"
    }
   ],
   "source": [
    "df.power.pint.units"
   ]
  },
  {
   "cell_type": "code",
   "execution_count": 9,
   "metadata": {},
   "outputs": [
    {
     "data": {
      "text/plain": [
       "<PintArray>\n",
       "[0.00014198092353610379,  0.0005679236941444151,  0.0005679236941444151,\n",
       "   0.001277828311824934]\n",
       "Length: 4, dtype: pint[kilowatt]"
      ]
     },
     "execution_count": 9,
     "metadata": {},
     "output_type": "execute_result"
    }
   ],
   "source": [
    "df.power.pint.to(\"kW\").values"
   ]
  },
  {
   "cell_type": "markdown",
   "metadata": {},
   "source": [
    "## Reading from csv\n",
    "\n",
    "Reading from files is the far more standard way to use pandas. To facilitate this, DataFrame accessors are provided to make it easy to get to PintArrays. "
   ]
  },
  {
   "cell_type": "code",
   "execution_count": 10,
   "metadata": {},
   "outputs": [],
   "source": [
    "import pandas as pd \n",
    "import pint\n",
    "import pint_pandas\n",
    "import io"
   ]
  },
  {
   "cell_type": "markdown",
   "metadata": {},
   "source": [
    "Here's the contents of the csv file."
   ]
  },
  {
   "cell_type": "code",
   "execution_count": 11,
   "metadata": {},
   "outputs": [],
   "source": [
    "test_data = '''ShaftSpeedIndex,rpm,1200,1200,1200,1600,1600,1600,2300,2300,2300\n",
    "pump,,A,B,C,A,B,C,A,B,C\n",
    "TestDate,No Unit,01/01,01/01,01/01,01/01,01/01,01/01,01/02,01/02,01/02\n",
    "ShaftSpeed,rpm,1200,1200,1200,1600,1600,1600,2300,2300,2300\n",
    "FlowRate,m^3 h^-1,8.72,9.28,9.31,11.61,12.78,13.51,18.32,17.90,19.23\n",
    "DifferentialPressure,kPa,162.03,144.16,136.47,286.86,241.41,204.21,533.17,526.74,440.76\n",
    "ShaftPower,kW,1.32,1.23,1.18,3.09,2.78,2.50,8.59,8.51,7.61\n",
    "Efficiency,dimensionless,30.60,31.16,30.70,30.72,31.83,31.81,32.52,31.67,32.05'''"
   ]
  },
  {
   "cell_type": "markdown",
   "metadata": {},
   "source": [
    "Let's read that into a DataFrame.\n",
    "Here io.StringIO is used in place of reading a file from disk, whereas a csv file path would typically be used and is shown commented."
   ]
  },
  {
   "cell_type": "code",
   "execution_count": 12,
   "metadata": {},
   "outputs": [
    {
     "data": {
      "text/html": [
       "<div>\n",
       "<style scoped>\n",
       "    .dataframe tbody tr th:only-of-type {\n",
       "        vertical-align: middle;\n",
       "    }\n",
       "\n",
       "    .dataframe tbody tr th {\n",
       "        vertical-align: top;\n",
       "    }\n",
       "\n",
       "    .dataframe thead tr th {\n",
       "        text-align: left;\n",
       "    }\n",
       "\n",
       "    .dataframe thead tr:last-of-type th {\n",
       "        text-align: right;\n",
       "    }\n",
       "</style>\n",
       "<table border=\"1\" class=\"dataframe\">\n",
       "  <thead>\n",
       "    <tr>\n",
       "      <th></th>\n",
       "      <th></th>\n",
       "      <th>TestDate</th>\n",
       "      <th>ShaftSpeed</th>\n",
       "      <th>FlowRate</th>\n",
       "      <th>DifferentialPressure</th>\n",
       "      <th>ShaftPower</th>\n",
       "      <th>Efficiency</th>\n",
       "    </tr>\n",
       "    <tr>\n",
       "      <th></th>\n",
       "      <th></th>\n",
       "      <th>No Unit</th>\n",
       "      <th>rpm</th>\n",
       "      <th>m^3 h^-1</th>\n",
       "      <th>kPa</th>\n",
       "      <th>kW</th>\n",
       "      <th>dimensionless</th>\n",
       "    </tr>\n",
       "    <tr>\n",
       "      <th>ShaftSpeedIndex</th>\n",
       "      <th>pump</th>\n",
       "      <th></th>\n",
       "      <th></th>\n",
       "      <th></th>\n",
       "      <th></th>\n",
       "      <th></th>\n",
       "      <th></th>\n",
       "    </tr>\n",
       "  </thead>\n",
       "  <tbody>\n",
       "    <tr>\n",
       "      <th rowspan=\"3\" valign=\"top\">1200</th>\n",
       "      <th>A</th>\n",
       "      <td>01/01</td>\n",
       "      <td>1200</td>\n",
       "      <td>8.72</td>\n",
       "      <td>162.03</td>\n",
       "      <td>1.32</td>\n",
       "      <td>30.60</td>\n",
       "    </tr>\n",
       "    <tr>\n",
       "      <th>B</th>\n",
       "      <td>01/01</td>\n",
       "      <td>1200</td>\n",
       "      <td>9.28</td>\n",
       "      <td>144.16</td>\n",
       "      <td>1.23</td>\n",
       "      <td>31.16</td>\n",
       "    </tr>\n",
       "    <tr>\n",
       "      <th>C</th>\n",
       "      <td>01/01</td>\n",
       "      <td>1200</td>\n",
       "      <td>9.31</td>\n",
       "      <td>136.47</td>\n",
       "      <td>1.18</td>\n",
       "      <td>30.70</td>\n",
       "    </tr>\n",
       "    <tr>\n",
       "      <th rowspan=\"3\" valign=\"top\">1600</th>\n",
       "      <th>A</th>\n",
       "      <td>01/01</td>\n",
       "      <td>1600</td>\n",
       "      <td>11.61</td>\n",
       "      <td>286.86</td>\n",
       "      <td>3.09</td>\n",
       "      <td>30.72</td>\n",
       "    </tr>\n",
       "    <tr>\n",
       "      <th>B</th>\n",
       "      <td>01/01</td>\n",
       "      <td>1600</td>\n",
       "      <td>12.78</td>\n",
       "      <td>241.41</td>\n",
       "      <td>2.78</td>\n",
       "      <td>31.83</td>\n",
       "    </tr>\n",
       "    <tr>\n",
       "      <th>C</th>\n",
       "      <td>01/01</td>\n",
       "      <td>1600</td>\n",
       "      <td>13.51</td>\n",
       "      <td>204.21</td>\n",
       "      <td>2.50</td>\n",
       "      <td>31.81</td>\n",
       "    </tr>\n",
       "    <tr>\n",
       "      <th rowspan=\"3\" valign=\"top\">2300</th>\n",
       "      <th>A</th>\n",
       "      <td>01/02</td>\n",
       "      <td>2300</td>\n",
       "      <td>18.32</td>\n",
       "      <td>533.17</td>\n",
       "      <td>8.59</td>\n",
       "      <td>32.52</td>\n",
       "    </tr>\n",
       "    <tr>\n",
       "      <th>B</th>\n",
       "      <td>01/02</td>\n",
       "      <td>2300</td>\n",
       "      <td>17.90</td>\n",
       "      <td>526.74</td>\n",
       "      <td>8.51</td>\n",
       "      <td>31.67</td>\n",
       "    </tr>\n",
       "    <tr>\n",
       "      <th>C</th>\n",
       "      <td>01/02</td>\n",
       "      <td>2300</td>\n",
       "      <td>19.23</td>\n",
       "      <td>440.76</td>\n",
       "      <td>7.61</td>\n",
       "      <td>32.05</td>\n",
       "    </tr>\n",
       "  </tbody>\n",
       "</table>\n",
       "</div>"
      ],
      "text/plain": [
       "                     TestDate ShaftSpeed FlowRate DifferentialPressure  \\\n",
       "                      No Unit        rpm m^3 h^-1                  kPa   \n",
       "ShaftSpeedIndex pump                                                     \n",
       "1200            A       01/01       1200     8.72               162.03   \n",
       "                B       01/01       1200     9.28               144.16   \n",
       "                C       01/01       1200     9.31               136.47   \n",
       "1600            A       01/01       1600    11.61               286.86   \n",
       "                B       01/01       1600    12.78               241.41   \n",
       "                C       01/01       1600    13.51               204.21   \n",
       "2300            A       01/02       2300    18.32               533.17   \n",
       "                B       01/02       2300    17.90               526.74   \n",
       "                C       01/02       2300    19.23               440.76   \n",
       "\n",
       "                     ShaftPower    Efficiency  \n",
       "                             kW dimensionless  \n",
       "ShaftSpeedIndex pump                           \n",
       "1200            A          1.32         30.60  \n",
       "                B          1.23         31.16  \n",
       "                C          1.18         30.70  \n",
       "1600            A          3.09         30.72  \n",
       "                B          2.78         31.83  \n",
       "                C          2.50         31.81  \n",
       "2300            A          8.59         32.52  \n",
       "                B          8.51         31.67  \n",
       "                C          7.61         32.05  "
      ]
     },
     "execution_count": 12,
     "metadata": {},
     "output_type": "execute_result"
    }
   ],
   "source": [
    "df = pd.read_csv(io.StringIO(test_data), header=[0, 1], index_col = [0,1]).T\n",
    "# df = pd.read_csv(\"/path/to/test_data.csv\", header=[0, 1])\n",
    "df"
   ]
  },
  {
   "cell_type": "code",
   "execution_count": 13,
   "metadata": {},
   "outputs": [
    {
     "data": {
      "text/plain": [
       "TestDate              No Unit          object\n",
       "ShaftSpeed            rpm              object\n",
       "FlowRate              m^3 h^-1         object\n",
       "DifferentialPressure  kPa              object\n",
       "ShaftPower            kW               object\n",
       "Efficiency            dimensionless    object\n",
       "dtype: object"
      ]
     },
     "execution_count": 13,
     "metadata": {},
     "output_type": "execute_result"
    }
   ],
   "source": [
    "df.dtypes"
   ]
  },
  {
   "cell_type": "markdown",
   "metadata": {},
   "source": [
    "Then use the DataFrame's pint accessor's quantify method to convert the columns from `np.ndarray`s to PintArrays, with units from the bottom column level.\n",
    "\n",
    "Using 'No Unit' as the unit will prevent quantify converting a column to a PintArray. This can be changed by changing pint_pandas.pint_array.NO_UNIT."
   ]
  },
  {
   "cell_type": "code",
   "execution_count": 14,
   "metadata": {},
   "outputs": [
    {
     "data": {
      "text/plain": [
       "TestDate              No Unit          object\n",
       "ShaftSpeed            rpm              object\n",
       "FlowRate              m^3 h^-1         object\n",
       "DifferentialPressure  kPa              object\n",
       "ShaftPower            kW               object\n",
       "Efficiency            dimensionless    object\n",
       "dtype: object"
      ]
     },
     "execution_count": 14,
     "metadata": {},
     "output_type": "execute_result"
    }
   ],
   "source": [
    "df.dtypes"
   ]
  },
  {
   "cell_type": "code",
   "execution_count": 15,
   "metadata": {},
   "outputs": [
    {
     "name": "stderr",
     "output_type": "stream",
     "text": [
      "F:\\A\\repos\\pint-pandas\\pint_pandas\\pint_array.py:225: RuntimeWarning: pint-pandas does not support magnitudes of object. Converting magnitudes to float.\n",
      "  warnings.warn(\n"
     ]
    },
    {
     "data": {
      "text/html": [
       "<div>\n",
       "<style scoped>\n",
       "    .dataframe tbody tr th:only-of-type {\n",
       "        vertical-align: middle;\n",
       "    }\n",
       "\n",
       "    .dataframe tbody tr th {\n",
       "        vertical-align: top;\n",
       "    }\n",
       "\n",
       "    .dataframe thead th {\n",
       "        text-align: right;\n",
       "    }\n",
       "</style>\n",
       "<table border=\"1\" class=\"dataframe\">\n",
       "  <thead>\n",
       "    <tr style=\"text-align: right;\">\n",
       "      <th></th>\n",
       "      <th></th>\n",
       "      <th>TestDate</th>\n",
       "      <th>ShaftSpeed</th>\n",
       "      <th>FlowRate</th>\n",
       "      <th>DifferentialPressure</th>\n",
       "      <th>ShaftPower</th>\n",
       "      <th>Efficiency</th>\n",
       "    </tr>\n",
       "    <tr>\n",
       "      <th>ShaftSpeedIndex</th>\n",
       "      <th>pump</th>\n",
       "      <th></th>\n",
       "      <th></th>\n",
       "      <th></th>\n",
       "      <th></th>\n",
       "      <th></th>\n",
       "      <th></th>\n",
       "    </tr>\n",
       "  </thead>\n",
       "  <tbody>\n",
       "    <tr>\n",
       "      <th rowspan=\"3\" valign=\"top\">1200</th>\n",
       "      <th>A</th>\n",
       "      <td>01/01</td>\n",
       "      <td>1200.0</td>\n",
       "      <td>8.72</td>\n",
       "      <td>162.03</td>\n",
       "      <td>1.32</td>\n",
       "      <td>30.6</td>\n",
       "    </tr>\n",
       "    <tr>\n",
       "      <th>B</th>\n",
       "      <td>01/01</td>\n",
       "      <td>1200.0</td>\n",
       "      <td>9.28</td>\n",
       "      <td>144.16</td>\n",
       "      <td>1.23</td>\n",
       "      <td>31.16</td>\n",
       "    </tr>\n",
       "    <tr>\n",
       "      <th>C</th>\n",
       "      <td>01/01</td>\n",
       "      <td>1200.0</td>\n",
       "      <td>9.31</td>\n",
       "      <td>136.47</td>\n",
       "      <td>1.18</td>\n",
       "      <td>30.7</td>\n",
       "    </tr>\n",
       "    <tr>\n",
       "      <th rowspan=\"3\" valign=\"top\">1600</th>\n",
       "      <th>A</th>\n",
       "      <td>01/01</td>\n",
       "      <td>1600.0</td>\n",
       "      <td>11.61</td>\n",
       "      <td>286.86</td>\n",
       "      <td>3.09</td>\n",
       "      <td>30.72</td>\n",
       "    </tr>\n",
       "    <tr>\n",
       "      <th>B</th>\n",
       "      <td>01/01</td>\n",
       "      <td>1600.0</td>\n",
       "      <td>12.78</td>\n",
       "      <td>241.41</td>\n",
       "      <td>2.78</td>\n",
       "      <td>31.83</td>\n",
       "    </tr>\n",
       "    <tr>\n",
       "      <th>C</th>\n",
       "      <td>01/01</td>\n",
       "      <td>1600.0</td>\n",
       "      <td>13.51</td>\n",
       "      <td>204.21</td>\n",
       "      <td>2.5</td>\n",
       "      <td>31.81</td>\n",
       "    </tr>\n",
       "    <tr>\n",
       "      <th rowspan=\"3\" valign=\"top\">2300</th>\n",
       "      <th>A</th>\n",
       "      <td>01/02</td>\n",
       "      <td>2300.0</td>\n",
       "      <td>18.32</td>\n",
       "      <td>533.17</td>\n",
       "      <td>8.59</td>\n",
       "      <td>32.52</td>\n",
       "    </tr>\n",
       "    <tr>\n",
       "      <th>B</th>\n",
       "      <td>01/02</td>\n",
       "      <td>2300.0</td>\n",
       "      <td>17.9</td>\n",
       "      <td>526.74</td>\n",
       "      <td>8.51</td>\n",
       "      <td>31.67</td>\n",
       "    </tr>\n",
       "    <tr>\n",
       "      <th>C</th>\n",
       "      <td>01/02</td>\n",
       "      <td>2300.0</td>\n",
       "      <td>19.23</td>\n",
       "      <td>440.76</td>\n",
       "      <td>7.61</td>\n",
       "      <td>32.05</td>\n",
       "    </tr>\n",
       "  </tbody>\n",
       "</table>\n",
       "</div>"
      ],
      "text/plain": [
       "                     TestDate ShaftSpeed FlowRate DifferentialPressure  \\\n",
       "ShaftSpeedIndex pump                                                     \n",
       "1200            A       01/01     1200.0     8.72               162.03   \n",
       "                B       01/01     1200.0     9.28               144.16   \n",
       "                C       01/01     1200.0     9.31               136.47   \n",
       "1600            A       01/01     1600.0    11.61               286.86   \n",
       "                B       01/01     1600.0    12.78               241.41   \n",
       "                C       01/01     1600.0    13.51               204.21   \n",
       "2300            A       01/02     2300.0    18.32               533.17   \n",
       "                B       01/02     2300.0     17.9               526.74   \n",
       "                C       01/02     2300.0    19.23               440.76   \n",
       "\n",
       "                     ShaftPower Efficiency  \n",
       "ShaftSpeedIndex pump                        \n",
       "1200            A          1.32       30.6  \n",
       "                B          1.23      31.16  \n",
       "                C          1.18       30.7  \n",
       "1600            A          3.09      30.72  \n",
       "                B          2.78      31.83  \n",
       "                C           2.5      31.81  \n",
       "2300            A          8.59      32.52  \n",
       "                B          8.51      31.67  \n",
       "                C          7.61      32.05  "
      ]
     },
     "execution_count": 15,
     "metadata": {},
     "output_type": "execute_result"
    }
   ],
   "source": [
    "df_ = df.pint.quantify(level=-1)\n",
    "df_"
   ]
  },
  {
   "cell_type": "markdown",
   "metadata": {},
   "source": [
    "Let's confirm the units have been parsed correctly"
   ]
  },
  {
   "cell_type": "code",
   "execution_count": 16,
   "metadata": {},
   "outputs": [
    {
     "data": {
      "text/plain": [
       "TestDate                                      object\n",
       "ShaftSpeed              pint[revolutions_per_minute]\n",
       "FlowRate                     pint[meter ** 3 / hour]\n",
       "DifferentialPressure                pint[kilopascal]\n",
       "ShaftPower                            pint[kilowatt]\n",
       "Efficiency                       pint[dimensionless]\n",
       "dtype: object"
      ]
     },
     "execution_count": 16,
     "metadata": {},
     "output_type": "execute_result"
    }
   ],
   "source": [
    "df_.dtypes"
   ]
  },
  {
   "cell_type": "markdown",
   "metadata": {},
   "source": [
    "Here the h in m^3 h^-1 has been parsed as the planck constant. Let's change the unit to hours."
   ]
  },
  {
   "cell_type": "code",
   "execution_count": 17,
   "metadata": {},
   "outputs": [
    {
     "data": {
      "text/plain": [
       "TestDate                                      object\n",
       "ShaftSpeed              pint[revolutions_per_minute]\n",
       "FlowRate                     pint[meter ** 3 / hour]\n",
       "DifferentialPressure                pint[kilopascal]\n",
       "ShaftPower                            pint[kilowatt]\n",
       "Efficiency                       pint[dimensionless]\n",
       "dtype: object"
      ]
     },
     "execution_count": 17,
     "metadata": {},
     "output_type": "execute_result"
    }
   ],
   "source": [
    "df_['FlowRate'] = pint_pandas.PintArray(df_['FlowRate'].values.quantity.m, dtype = \"pint[m^3/hr]\")\n",
    "df_.dtypes"
   ]
  },
  {
   "cell_type": "markdown",
   "metadata": {},
   "source": [
    "As previously, operations between DataFrame columns are unit aware"
   ]
  },
  {
   "cell_type": "code",
   "execution_count": 18,
   "metadata": {},
   "outputs": [
    {
     "data": {
      "text/plain": [
       "ShaftSpeedIndex  pump\n",
       "1200             A                      0.0011\n",
       "                 B                    0.001025\n",
       "                 C       0.0009833333333333332\n",
       "1600             A       0.0019312499999999998\n",
       "                 B                   0.0017375\n",
       "                 C                   0.0015625\n",
       "2300             A        0.003734782608695652\n",
       "                 B       0.0036999999999999997\n",
       "                 C       0.0033086956521739133\n",
       "dtype: pint[kilowatt / revolutions_per_minute]"
      ]
     },
     "execution_count": 18,
     "metadata": {},
     "output_type": "execute_result"
    }
   ],
   "source": [
    "df_.ShaftPower / df_.ShaftSpeed"
   ]
  },
  {
   "cell_type": "code",
   "execution_count": 19,
   "metadata": {},
   "outputs": [
    {
     "data": {
      "text/html": [
       "<div>\n",
       "<style scoped>\n",
       "    .dataframe tbody tr th:only-of-type {\n",
       "        vertical-align: middle;\n",
       "    }\n",
       "\n",
       "    .dataframe tbody tr th {\n",
       "        vertical-align: top;\n",
       "    }\n",
       "\n",
       "    .dataframe thead th {\n",
       "        text-align: right;\n",
       "    }\n",
       "</style>\n",
       "<table border=\"1\" class=\"dataframe\">\n",
       "  <thead>\n",
       "    <tr style=\"text-align: right;\">\n",
       "      <th></th>\n",
       "      <th></th>\n",
       "      <th>TestDate</th>\n",
       "      <th>ShaftSpeed</th>\n",
       "      <th>FlowRate</th>\n",
       "      <th>DifferentialPressure</th>\n",
       "      <th>ShaftPower</th>\n",
       "      <th>Efficiency</th>\n",
       "      <th>ShaftTorque</th>\n",
       "      <th>FluidPower</th>\n",
       "    </tr>\n",
       "    <tr>\n",
       "      <th>ShaftSpeedIndex</th>\n",
       "      <th>pump</th>\n",
       "      <th></th>\n",
       "      <th></th>\n",
       "      <th></th>\n",
       "      <th></th>\n",
       "      <th></th>\n",
       "      <th></th>\n",
       "      <th></th>\n",
       "      <th></th>\n",
       "    </tr>\n",
       "  </thead>\n",
       "  <tbody>\n",
       "    <tr>\n",
       "      <th rowspan=\"3\" valign=\"top\">1200</th>\n",
       "      <th>A</th>\n",
       "      <td>01/01</td>\n",
       "      <td>1200.0</td>\n",
       "      <td>8.72</td>\n",
       "      <td>162.03</td>\n",
       "      <td>1.32</td>\n",
       "      <td>30.6</td>\n",
       "      <td>0.0011</td>\n",
       "      <td>1412.9016000000001</td>\n",
       "    </tr>\n",
       "    <tr>\n",
       "      <th>B</th>\n",
       "      <td>01/01</td>\n",
       "      <td>1200.0</td>\n",
       "      <td>9.28</td>\n",
       "      <td>144.16</td>\n",
       "      <td>1.23</td>\n",
       "      <td>31.16</td>\n",
       "      <td>0.001025</td>\n",
       "      <td>1337.8048</td>\n",
       "    </tr>\n",
       "    <tr>\n",
       "      <th>C</th>\n",
       "      <td>01/01</td>\n",
       "      <td>1200.0</td>\n",
       "      <td>9.31</td>\n",
       "      <td>136.47</td>\n",
       "      <td>1.18</td>\n",
       "      <td>30.7</td>\n",
       "      <td>0.0009833333333333332</td>\n",
       "      <td>1270.5357000000001</td>\n",
       "    </tr>\n",
       "    <tr>\n",
       "      <th rowspan=\"3\" valign=\"top\">1600</th>\n",
       "      <th>A</th>\n",
       "      <td>01/01</td>\n",
       "      <td>1600.0</td>\n",
       "      <td>11.61</td>\n",
       "      <td>286.86</td>\n",
       "      <td>3.09</td>\n",
       "      <td>30.72</td>\n",
       "      <td>0.0019312499999999998</td>\n",
       "      <td>3330.4446</td>\n",
       "    </tr>\n",
       "    <tr>\n",
       "      <th>B</th>\n",
       "      <td>01/01</td>\n",
       "      <td>1600.0</td>\n",
       "      <td>12.78</td>\n",
       "      <td>241.41</td>\n",
       "      <td>2.78</td>\n",
       "      <td>31.83</td>\n",
       "      <td>0.0017375</td>\n",
       "      <td>3085.2198</td>\n",
       "    </tr>\n",
       "    <tr>\n",
       "      <th>C</th>\n",
       "      <td>01/01</td>\n",
       "      <td>1600.0</td>\n",
       "      <td>13.51</td>\n",
       "      <td>204.21</td>\n",
       "      <td>2.5</td>\n",
       "      <td>31.81</td>\n",
       "      <td>0.0015625</td>\n",
       "      <td>2758.8771</td>\n",
       "    </tr>\n",
       "    <tr>\n",
       "      <th rowspan=\"3\" valign=\"top\">2300</th>\n",
       "      <th>A</th>\n",
       "      <td>01/02</td>\n",
       "      <td>2300.0</td>\n",
       "      <td>18.32</td>\n",
       "      <td>533.17</td>\n",
       "      <td>8.59</td>\n",
       "      <td>32.52</td>\n",
       "      <td>0.003734782608695652</td>\n",
       "      <td>9767.6744</td>\n",
       "    </tr>\n",
       "    <tr>\n",
       "      <th>B</th>\n",
       "      <td>01/02</td>\n",
       "      <td>2300.0</td>\n",
       "      <td>17.9</td>\n",
       "      <td>526.74</td>\n",
       "      <td>8.51</td>\n",
       "      <td>31.67</td>\n",
       "      <td>0.0036999999999999997</td>\n",
       "      <td>9428.645999999999</td>\n",
       "    </tr>\n",
       "    <tr>\n",
       "      <th>C</th>\n",
       "      <td>01/02</td>\n",
       "      <td>2300.0</td>\n",
       "      <td>19.23</td>\n",
       "      <td>440.76</td>\n",
       "      <td>7.61</td>\n",
       "      <td>32.05</td>\n",
       "      <td>0.0033086956521739133</td>\n",
       "      <td>8475.8148</td>\n",
       "    </tr>\n",
       "  </tbody>\n",
       "</table>\n",
       "</div>"
      ],
      "text/plain": [
       "                     TestDate ShaftSpeed FlowRate DifferentialPressure  \\\n",
       "ShaftSpeedIndex pump                                                     \n",
       "1200            A       01/01     1200.0     8.72               162.03   \n",
       "                B       01/01     1200.0     9.28               144.16   \n",
       "                C       01/01     1200.0     9.31               136.47   \n",
       "1600            A       01/01     1600.0    11.61               286.86   \n",
       "                B       01/01     1600.0    12.78               241.41   \n",
       "                C       01/01     1600.0    13.51               204.21   \n",
       "2300            A       01/02     2300.0    18.32               533.17   \n",
       "                B       01/02     2300.0     17.9               526.74   \n",
       "                C       01/02     2300.0    19.23               440.76   \n",
       "\n",
       "                     ShaftPower Efficiency            ShaftTorque  \\\n",
       "ShaftSpeedIndex pump                                                \n",
       "1200            A          1.32       30.6                 0.0011   \n",
       "                B          1.23      31.16               0.001025   \n",
       "                C          1.18       30.7  0.0009833333333333332   \n",
       "1600            A          3.09      30.72  0.0019312499999999998   \n",
       "                B          2.78      31.83              0.0017375   \n",
       "                C           2.5      31.81              0.0015625   \n",
       "2300            A          8.59      32.52   0.003734782608695652   \n",
       "                B          8.51      31.67  0.0036999999999999997   \n",
       "                C          7.61      32.05  0.0033086956521739133   \n",
       "\n",
       "                              FluidPower  \n",
       "ShaftSpeedIndex pump                      \n",
       "1200            A     1412.9016000000001  \n",
       "                B              1337.8048  \n",
       "                C     1270.5357000000001  \n",
       "1600            A              3330.4446  \n",
       "                B              3085.2198  \n",
       "                C              2758.8771  \n",
       "2300            A              9767.6744  \n",
       "                B      9428.645999999999  \n",
       "                C              8475.8148  "
      ]
     },
     "execution_count": 19,
     "metadata": {},
     "output_type": "execute_result"
    }
   ],
   "source": [
    "df_['ShaftTorque'] = df_.ShaftPower / df_.ShaftSpeed\n",
    "df_['FluidPower'] = df_['FlowRate'] * df_['DifferentialPressure']\n",
    "df_"
   ]
  },
  {
   "cell_type": "markdown",
   "metadata": {},
   "source": [
    "The DataFrame's `pint.dequantify` method then allows us to retrieve the units information as a header row once again."
   ]
  },
  {
   "cell_type": "code",
   "execution_count": 20,
   "metadata": {},
   "outputs": [
    {
     "data": {
      "text/html": [
       "<div>\n",
       "<style scoped>\n",
       "    .dataframe tbody tr th:only-of-type {\n",
       "        vertical-align: middle;\n",
       "    }\n",
       "\n",
       "    .dataframe tbody tr th {\n",
       "        vertical-align: top;\n",
       "    }\n",
       "\n",
       "    .dataframe thead tr th {\n",
       "        text-align: left;\n",
       "    }\n",
       "\n",
       "    .dataframe thead tr:last-of-type th {\n",
       "        text-align: right;\n",
       "    }\n",
       "</style>\n",
       "<table border=\"1\" class=\"dataframe\">\n",
       "  <thead>\n",
       "    <tr>\n",
       "      <th></th>\n",
       "      <th></th>\n",
       "      <th>TestDate</th>\n",
       "      <th>ShaftSpeed</th>\n",
       "      <th>FlowRate</th>\n",
       "      <th>DifferentialPressure</th>\n",
       "      <th>ShaftPower</th>\n",
       "      <th>Efficiency</th>\n",
       "      <th>ShaftTorque</th>\n",
       "      <th>FluidPower</th>\n",
       "    </tr>\n",
       "    <tr>\n",
       "      <th></th>\n",
       "      <th>unit</th>\n",
       "      <th>No Unit</th>\n",
       "      <th>revolutions_per_minute</th>\n",
       "      <th>meter ** 3 / hour</th>\n",
       "      <th>kilopascal</th>\n",
       "      <th>kilowatt</th>\n",
       "      <th>dimensionless</th>\n",
       "      <th>kilowatt / revolutions_per_minute</th>\n",
       "      <th>kilopascal * meter ** 3 / hour</th>\n",
       "    </tr>\n",
       "    <tr>\n",
       "      <th>ShaftSpeedIndex</th>\n",
       "      <th>pump</th>\n",
       "      <th></th>\n",
       "      <th></th>\n",
       "      <th></th>\n",
       "      <th></th>\n",
       "      <th></th>\n",
       "      <th></th>\n",
       "      <th></th>\n",
       "      <th></th>\n",
       "    </tr>\n",
       "  </thead>\n",
       "  <tbody>\n",
       "    <tr>\n",
       "      <th rowspan=\"3\" valign=\"top\">1200</th>\n",
       "      <th>A</th>\n",
       "      <td>01/01</td>\n",
       "      <td>1200.0</td>\n",
       "      <td>8.72</td>\n",
       "      <td>162.03</td>\n",
       "      <td>1.32</td>\n",
       "      <td>30.60</td>\n",
       "      <td>0.001100</td>\n",
       "      <td>1412.9016</td>\n",
       "    </tr>\n",
       "    <tr>\n",
       "      <th>B</th>\n",
       "      <td>01/01</td>\n",
       "      <td>1200.0</td>\n",
       "      <td>9.28</td>\n",
       "      <td>144.16</td>\n",
       "      <td>1.23</td>\n",
       "      <td>31.16</td>\n",
       "      <td>0.001025</td>\n",
       "      <td>1337.8048</td>\n",
       "    </tr>\n",
       "    <tr>\n",
       "      <th>C</th>\n",
       "      <td>01/01</td>\n",
       "      <td>1200.0</td>\n",
       "      <td>9.31</td>\n",
       "      <td>136.47</td>\n",
       "      <td>1.18</td>\n",
       "      <td>30.70</td>\n",
       "      <td>0.000983</td>\n",
       "      <td>1270.5357</td>\n",
       "    </tr>\n",
       "    <tr>\n",
       "      <th rowspan=\"3\" valign=\"top\">1600</th>\n",
       "      <th>A</th>\n",
       "      <td>01/01</td>\n",
       "      <td>1600.0</td>\n",
       "      <td>11.61</td>\n",
       "      <td>286.86</td>\n",
       "      <td>3.09</td>\n",
       "      <td>30.72</td>\n",
       "      <td>0.001931</td>\n",
       "      <td>3330.4446</td>\n",
       "    </tr>\n",
       "    <tr>\n",
       "      <th>B</th>\n",
       "      <td>01/01</td>\n",
       "      <td>1600.0</td>\n",
       "      <td>12.78</td>\n",
       "      <td>241.41</td>\n",
       "      <td>2.78</td>\n",
       "      <td>31.83</td>\n",
       "      <td>0.001737</td>\n",
       "      <td>3085.2198</td>\n",
       "    </tr>\n",
       "    <tr>\n",
       "      <th>C</th>\n",
       "      <td>01/01</td>\n",
       "      <td>1600.0</td>\n",
       "      <td>13.51</td>\n",
       "      <td>204.21</td>\n",
       "      <td>2.50</td>\n",
       "      <td>31.81</td>\n",
       "      <td>0.001563</td>\n",
       "      <td>2758.8771</td>\n",
       "    </tr>\n",
       "    <tr>\n",
       "      <th rowspan=\"3\" valign=\"top\">2300</th>\n",
       "      <th>A</th>\n",
       "      <td>01/02</td>\n",
       "      <td>2300.0</td>\n",
       "      <td>18.32</td>\n",
       "      <td>533.17</td>\n",
       "      <td>8.59</td>\n",
       "      <td>32.52</td>\n",
       "      <td>0.003735</td>\n",
       "      <td>9767.6744</td>\n",
       "    </tr>\n",
       "    <tr>\n",
       "      <th>B</th>\n",
       "      <td>01/02</td>\n",
       "      <td>2300.0</td>\n",
       "      <td>17.90</td>\n",
       "      <td>526.74</td>\n",
       "      <td>8.51</td>\n",
       "      <td>31.67</td>\n",
       "      <td>0.003700</td>\n",
       "      <td>9428.6460</td>\n",
       "    </tr>\n",
       "    <tr>\n",
       "      <th>C</th>\n",
       "      <td>01/02</td>\n",
       "      <td>2300.0</td>\n",
       "      <td>19.23</td>\n",
       "      <td>440.76</td>\n",
       "      <td>7.61</td>\n",
       "      <td>32.05</td>\n",
       "      <td>0.003309</td>\n",
       "      <td>8475.8148</td>\n",
       "    </tr>\n",
       "  </tbody>\n",
       "</table>\n",
       "</div>"
      ],
      "text/plain": [
       "                     TestDate             ShaftSpeed          FlowRate  \\\n",
       "unit                  No Unit revolutions_per_minute meter ** 3 / hour   \n",
       "ShaftSpeedIndex pump                                                     \n",
       "1200            A       01/01                 1200.0              8.72   \n",
       "                B       01/01                 1200.0              9.28   \n",
       "                C       01/01                 1200.0              9.31   \n",
       "1600            A       01/01                 1600.0             11.61   \n",
       "                B       01/01                 1600.0             12.78   \n",
       "                C       01/01                 1600.0             13.51   \n",
       "2300            A       01/02                 2300.0             18.32   \n",
       "                B       01/02                 2300.0             17.90   \n",
       "                C       01/02                 2300.0             19.23   \n",
       "\n",
       "                     DifferentialPressure ShaftPower    Efficiency  \\\n",
       "unit                           kilopascal   kilowatt dimensionless   \n",
       "ShaftSpeedIndex pump                                                 \n",
       "1200            A                  162.03       1.32         30.60   \n",
       "                B                  144.16       1.23         31.16   \n",
       "                C                  136.47       1.18         30.70   \n",
       "1600            A                  286.86       3.09         30.72   \n",
       "                B                  241.41       2.78         31.83   \n",
       "                C                  204.21       2.50         31.81   \n",
       "2300            A                  533.17       8.59         32.52   \n",
       "                B                  526.74       8.51         31.67   \n",
       "                C                  440.76       7.61         32.05   \n",
       "\n",
       "                                           ShaftTorque  \\\n",
       "unit                 kilowatt / revolutions_per_minute   \n",
       "ShaftSpeedIndex pump                                     \n",
       "1200            A                             0.001100   \n",
       "                B                             0.001025   \n",
       "                C                             0.000983   \n",
       "1600            A                             0.001931   \n",
       "                B                             0.001737   \n",
       "                C                             0.001563   \n",
       "2300            A                             0.003735   \n",
       "                B                             0.003700   \n",
       "                C                             0.003309   \n",
       "\n",
       "                                         FluidPower  \n",
       "unit                 kilopascal * meter ** 3 / hour  \n",
       "ShaftSpeedIndex pump                                 \n",
       "1200            A                         1412.9016  \n",
       "                B                         1337.8048  \n",
       "                C                         1270.5357  \n",
       "1600            A                         3330.4446  \n",
       "                B                         3085.2198  \n",
       "                C                         2758.8771  \n",
       "2300            A                         9767.6744  \n",
       "                B                         9428.6460  \n",
       "                C                         8475.8148  "
      ]
     },
     "execution_count": 20,
     "metadata": {},
     "output_type": "execute_result"
    }
   ],
   "source": [
    "df_.pint.dequantify()"
   ]
  },
  {
   "cell_type": "markdown",
   "metadata": {},
   "source": [
    "This allows for some rather powerful abilities. For example, to change a column's units"
   ]
  },
  {
   "cell_type": "code",
   "execution_count": 21,
   "metadata": {},
   "outputs": [
    {
     "data": {
      "text/html": [
       "<div>\n",
       "<style scoped>\n",
       "    .dataframe tbody tr th:only-of-type {\n",
       "        vertical-align: middle;\n",
       "    }\n",
       "\n",
       "    .dataframe tbody tr th {\n",
       "        vertical-align: top;\n",
       "    }\n",
       "\n",
       "    .dataframe thead tr th {\n",
       "        text-align: left;\n",
       "    }\n",
       "\n",
       "    .dataframe thead tr:last-of-type th {\n",
       "        text-align: right;\n",
       "    }\n",
       "</style>\n",
       "<table border=\"1\" class=\"dataframe\">\n",
       "  <thead>\n",
       "    <tr>\n",
       "      <th></th>\n",
       "      <th></th>\n",
       "      <th>TestDate</th>\n",
       "      <th>ShaftSpeed</th>\n",
       "      <th>FlowRate</th>\n",
       "      <th>DifferentialPressure</th>\n",
       "      <th>ShaftPower</th>\n",
       "      <th>Efficiency</th>\n",
       "      <th>ShaftTorque</th>\n",
       "      <th>FluidPower</th>\n",
       "    </tr>\n",
       "    <tr>\n",
       "      <th></th>\n",
       "      <th>unit</th>\n",
       "      <th>No Unit</th>\n",
       "      <th>revolutions_per_minute</th>\n",
       "      <th>liter / second</th>\n",
       "      <th>kilopascal</th>\n",
       "      <th>kilowatt</th>\n",
       "      <th>dimensionless</th>\n",
       "      <th>meter * newton</th>\n",
       "      <th>kilowatt</th>\n",
       "    </tr>\n",
       "    <tr>\n",
       "      <th>ShaftSpeedIndex</th>\n",
       "      <th>pump</th>\n",
       "      <th></th>\n",
       "      <th></th>\n",
       "      <th></th>\n",
       "      <th></th>\n",
       "      <th></th>\n",
       "      <th></th>\n",
       "      <th></th>\n",
       "      <th></th>\n",
       "    </tr>\n",
       "  </thead>\n",
       "  <tbody>\n",
       "    <tr>\n",
       "      <th rowspan=\"3\" valign=\"top\">1200</th>\n",
       "      <th>A</th>\n",
       "      <td>01/01</td>\n",
       "      <td>1200.0</td>\n",
       "      <td>2.422222</td>\n",
       "      <td>162.03</td>\n",
       "      <td>1.32</td>\n",
       "      <td>30.60</td>\n",
       "      <td>10.504226</td>\n",
       "      <td>0.392473</td>\n",
       "    </tr>\n",
       "    <tr>\n",
       "      <th>B</th>\n",
       "      <td>01/01</td>\n",
       "      <td>1200.0</td>\n",
       "      <td>2.577778</td>\n",
       "      <td>144.16</td>\n",
       "      <td>1.23</td>\n",
       "      <td>31.16</td>\n",
       "      <td>9.788029</td>\n",
       "      <td>0.371612</td>\n",
       "    </tr>\n",
       "    <tr>\n",
       "      <th>C</th>\n",
       "      <td>01/01</td>\n",
       "      <td>1200.0</td>\n",
       "      <td>2.586111</td>\n",
       "      <td>136.47</td>\n",
       "      <td>1.18</td>\n",
       "      <td>30.70</td>\n",
       "      <td>9.390142</td>\n",
       "      <td>0.352927</td>\n",
       "    </tr>\n",
       "    <tr>\n",
       "      <th rowspan=\"3\" valign=\"top\">1600</th>\n",
       "      <th>A</th>\n",
       "      <td>01/01</td>\n",
       "      <td>1600.0</td>\n",
       "      <td>3.225000</td>\n",
       "      <td>286.86</td>\n",
       "      <td>3.09</td>\n",
       "      <td>30.72</td>\n",
       "      <td>18.442079</td>\n",
       "      <td>0.925123</td>\n",
       "    </tr>\n",
       "    <tr>\n",
       "      <th>B</th>\n",
       "      <td>01/01</td>\n",
       "      <td>1600.0</td>\n",
       "      <td>3.550000</td>\n",
       "      <td>241.41</td>\n",
       "      <td>2.78</td>\n",
       "      <td>31.83</td>\n",
       "      <td>16.591903</td>\n",
       "      <td>0.857005</td>\n",
       "    </tr>\n",
       "    <tr>\n",
       "      <th>C</th>\n",
       "      <td>01/01</td>\n",
       "      <td>1600.0</td>\n",
       "      <td>3.752778</td>\n",
       "      <td>204.21</td>\n",
       "      <td>2.50</td>\n",
       "      <td>31.81</td>\n",
       "      <td>14.920776</td>\n",
       "      <td>0.766355</td>\n",
       "    </tr>\n",
       "    <tr>\n",
       "      <th rowspan=\"3\" valign=\"top\">2300</th>\n",
       "      <th>A</th>\n",
       "      <td>01/02</td>\n",
       "      <td>2300.0</td>\n",
       "      <td>5.088889</td>\n",
       "      <td>533.17</td>\n",
       "      <td>8.59</td>\n",
       "      <td>32.52</td>\n",
       "      <td>35.664547</td>\n",
       "      <td>2.713243</td>\n",
       "    </tr>\n",
       "    <tr>\n",
       "      <th>B</th>\n",
       "      <td>01/02</td>\n",
       "      <td>2300.0</td>\n",
       "      <td>4.972222</td>\n",
       "      <td>526.74</td>\n",
       "      <td>8.51</td>\n",
       "      <td>31.67</td>\n",
       "      <td>35.332397</td>\n",
       "      <td>2.619068</td>\n",
       "    </tr>\n",
       "    <tr>\n",
       "      <th>C</th>\n",
       "      <td>01/02</td>\n",
       "      <td>2300.0</td>\n",
       "      <td>5.341667</td>\n",
       "      <td>440.76</td>\n",
       "      <td>7.61</td>\n",
       "      <td>32.05</td>\n",
       "      <td>31.595716</td>\n",
       "      <td>2.354393</td>\n",
       "    </tr>\n",
       "  </tbody>\n",
       "</table>\n",
       "</div>"
      ],
      "text/plain": [
       "                     TestDate             ShaftSpeed       FlowRate  \\\n",
       "unit                  No Unit revolutions_per_minute liter / second   \n",
       "ShaftSpeedIndex pump                                                  \n",
       "1200            A       01/01                 1200.0       2.422222   \n",
       "                B       01/01                 1200.0       2.577778   \n",
       "                C       01/01                 1200.0       2.586111   \n",
       "1600            A       01/01                 1600.0       3.225000   \n",
       "                B       01/01                 1600.0       3.550000   \n",
       "                C       01/01                 1600.0       3.752778   \n",
       "2300            A       01/02                 2300.0       5.088889   \n",
       "                B       01/02                 2300.0       4.972222   \n",
       "                C       01/02                 2300.0       5.341667   \n",
       "\n",
       "                     DifferentialPressure ShaftPower    Efficiency  \\\n",
       "unit                           kilopascal   kilowatt dimensionless   \n",
       "ShaftSpeedIndex pump                                                 \n",
       "1200            A                  162.03       1.32         30.60   \n",
       "                B                  144.16       1.23         31.16   \n",
       "                C                  136.47       1.18         30.70   \n",
       "1600            A                  286.86       3.09         30.72   \n",
       "                B                  241.41       2.78         31.83   \n",
       "                C                  204.21       2.50         31.81   \n",
       "2300            A                  533.17       8.59         32.52   \n",
       "                B                  526.74       8.51         31.67   \n",
       "                C                  440.76       7.61         32.05   \n",
       "\n",
       "                        ShaftTorque FluidPower  \n",
       "unit                 meter * newton   kilowatt  \n",
       "ShaftSpeedIndex pump                            \n",
       "1200            A         10.504226   0.392473  \n",
       "                B          9.788029   0.371612  \n",
       "                C          9.390142   0.352927  \n",
       "1600            A         18.442079   0.925123  \n",
       "                B         16.591903   0.857005  \n",
       "                C         14.920776   0.766355  \n",
       "2300            A         35.664547   2.713243  \n",
       "                B         35.332397   2.619068  \n",
       "                C         31.595716   2.354393  "
      ]
     },
     "execution_count": 21,
     "metadata": {},
     "output_type": "execute_result"
    }
   ],
   "source": [
    "df_['FluidPower'] = df_['FluidPower'].pint.to(\"kW\")\n",
    "df_['FlowRate'] = df_['FlowRate'].pint.to(\"L/s\")\n",
    "df_['ShaftTorque'] = df_['ShaftTorque'].pint.to(\"N m\")\n",
    "df_.pint.dequantify()"
   ]
  },
  {
   "cell_type": "markdown",
   "metadata": {},
   "source": [
    "The units are harder to read than they need be, so lets change pints default format for displaying units."
   ]
  },
  {
   "cell_type": "code",
   "execution_count": 22,
   "metadata": {},
   "outputs": [
    {
     "data": {
      "text/html": [
       "<div>\n",
       "<style scoped>\n",
       "    .dataframe tbody tr th:only-of-type {\n",
       "        vertical-align: middle;\n",
       "    }\n",
       "\n",
       "    .dataframe tbody tr th {\n",
       "        vertical-align: top;\n",
       "    }\n",
       "\n",
       "    .dataframe thead tr th {\n",
       "        text-align: left;\n",
       "    }\n",
       "\n",
       "    .dataframe thead tr:last-of-type th {\n",
       "        text-align: right;\n",
       "    }\n",
       "</style>\n",
       "<table border=\"1\" class=\"dataframe\">\n",
       "  <thead>\n",
       "    <tr>\n",
       "      <th></th>\n",
       "      <th></th>\n",
       "      <th>TestDate</th>\n",
       "      <th>ShaftSpeed</th>\n",
       "      <th>FlowRate</th>\n",
       "      <th>DifferentialPressure</th>\n",
       "      <th>ShaftPower</th>\n",
       "      <th>Efficiency</th>\n",
       "      <th>ShaftTorque</th>\n",
       "      <th>FluidPower</th>\n",
       "    </tr>\n",
       "    <tr>\n",
       "      <th></th>\n",
       "      <th>unit</th>\n",
       "      <th>No Unit</th>\n",
       "      <th>rpm</th>\n",
       "      <th>l/s</th>\n",
       "      <th>kPa</th>\n",
       "      <th>kW</th>\n",
       "      <th></th>\n",
       "      <th>N·m</th>\n",
       "      <th>kW</th>\n",
       "    </tr>\n",
       "    <tr>\n",
       "      <th>ShaftSpeedIndex</th>\n",
       "      <th>pump</th>\n",
       "      <th></th>\n",
       "      <th></th>\n",
       "      <th></th>\n",
       "      <th></th>\n",
       "      <th></th>\n",
       "      <th></th>\n",
       "      <th></th>\n",
       "      <th></th>\n",
       "    </tr>\n",
       "  </thead>\n",
       "  <tbody>\n",
       "    <tr>\n",
       "      <th rowspan=\"3\" valign=\"top\">1200</th>\n",
       "      <th>A</th>\n",
       "      <td>01/01</td>\n",
       "      <td>1200.0</td>\n",
       "      <td>2.422222</td>\n",
       "      <td>162.03</td>\n",
       "      <td>1.32</td>\n",
       "      <td>30.60</td>\n",
       "      <td>10.504226</td>\n",
       "      <td>0.392473</td>\n",
       "    </tr>\n",
       "    <tr>\n",
       "      <th>B</th>\n",
       "      <td>01/01</td>\n",
       "      <td>1200.0</td>\n",
       "      <td>2.577778</td>\n",
       "      <td>144.16</td>\n",
       "      <td>1.23</td>\n",
       "      <td>31.16</td>\n",
       "      <td>9.788029</td>\n",
       "      <td>0.371612</td>\n",
       "    </tr>\n",
       "    <tr>\n",
       "      <th>C</th>\n",
       "      <td>01/01</td>\n",
       "      <td>1200.0</td>\n",
       "      <td>2.586111</td>\n",
       "      <td>136.47</td>\n",
       "      <td>1.18</td>\n",
       "      <td>30.70</td>\n",
       "      <td>9.390142</td>\n",
       "      <td>0.352927</td>\n",
       "    </tr>\n",
       "    <tr>\n",
       "      <th rowspan=\"3\" valign=\"top\">1600</th>\n",
       "      <th>A</th>\n",
       "      <td>01/01</td>\n",
       "      <td>1600.0</td>\n",
       "      <td>3.225000</td>\n",
       "      <td>286.86</td>\n",
       "      <td>3.09</td>\n",
       "      <td>30.72</td>\n",
       "      <td>18.442079</td>\n",
       "      <td>0.925123</td>\n",
       "    </tr>\n",
       "    <tr>\n",
       "      <th>B</th>\n",
       "      <td>01/01</td>\n",
       "      <td>1600.0</td>\n",
       "      <td>3.550000</td>\n",
       "      <td>241.41</td>\n",
       "      <td>2.78</td>\n",
       "      <td>31.83</td>\n",
       "      <td>16.591903</td>\n",
       "      <td>0.857005</td>\n",
       "    </tr>\n",
       "    <tr>\n",
       "      <th>C</th>\n",
       "      <td>01/01</td>\n",
       "      <td>1600.0</td>\n",
       "      <td>3.752778</td>\n",
       "      <td>204.21</td>\n",
       "      <td>2.50</td>\n",
       "      <td>31.81</td>\n",
       "      <td>14.920776</td>\n",
       "      <td>0.766355</td>\n",
       "    </tr>\n",
       "    <tr>\n",
       "      <th rowspan=\"3\" valign=\"top\">2300</th>\n",
       "      <th>A</th>\n",
       "      <td>01/02</td>\n",
       "      <td>2300.0</td>\n",
       "      <td>5.088889</td>\n",
       "      <td>533.17</td>\n",
       "      <td>8.59</td>\n",
       "      <td>32.52</td>\n",
       "      <td>35.664547</td>\n",
       "      <td>2.713243</td>\n",
       "    </tr>\n",
       "    <tr>\n",
       "      <th>B</th>\n",
       "      <td>01/02</td>\n",
       "      <td>2300.0</td>\n",
       "      <td>4.972222</td>\n",
       "      <td>526.74</td>\n",
       "      <td>8.51</td>\n",
       "      <td>31.67</td>\n",
       "      <td>35.332397</td>\n",
       "      <td>2.619068</td>\n",
       "    </tr>\n",
       "    <tr>\n",
       "      <th>C</th>\n",
       "      <td>01/02</td>\n",
       "      <td>2300.0</td>\n",
       "      <td>5.341667</td>\n",
       "      <td>440.76</td>\n",
       "      <td>7.61</td>\n",
       "      <td>32.05</td>\n",
       "      <td>31.595716</td>\n",
       "      <td>2.354393</td>\n",
       "    </tr>\n",
       "  </tbody>\n",
       "</table>\n",
       "</div>"
      ],
      "text/plain": [
       "                     TestDate ShaftSpeed  FlowRate DifferentialPressure  \\\n",
       "unit                  No Unit        rpm       l/s                  kPa   \n",
       "ShaftSpeedIndex pump                                                      \n",
       "1200            A       01/01     1200.0  2.422222               162.03   \n",
       "                B       01/01     1200.0  2.577778               144.16   \n",
       "                C       01/01     1200.0  2.586111               136.47   \n",
       "1600            A       01/01     1600.0  3.225000               286.86   \n",
       "                B       01/01     1600.0  3.550000               241.41   \n",
       "                C       01/01     1600.0  3.752778               204.21   \n",
       "2300            A       01/02     2300.0  5.088889               533.17   \n",
       "                B       01/02     2300.0  4.972222               526.74   \n",
       "                C       01/02     2300.0  5.341667               440.76   \n",
       "\n",
       "                     ShaftPower Efficiency ShaftTorque FluidPower  \n",
       "unit                         kW                    N·m         kW  \n",
       "ShaftSpeedIndex pump                                               \n",
       "1200            A          1.32      30.60   10.504226   0.392473  \n",
       "                B          1.23      31.16    9.788029   0.371612  \n",
       "                C          1.18      30.70    9.390142   0.352927  \n",
       "1600            A          3.09      30.72   18.442079   0.925123  \n",
       "                B          2.78      31.83   16.591903   0.857005  \n",
       "                C          2.50      31.81   14.920776   0.766355  \n",
       "2300            A          8.59      32.52   35.664547   2.713243  \n",
       "                B          8.51      31.67   35.332397   2.619068  \n",
       "                C          7.61      32.05   31.595716   2.354393  "
      ]
     },
     "execution_count": 22,
     "metadata": {},
     "output_type": "execute_result"
    }
   ],
   "source": [
    "pint_pandas.PintType.ureg.default_format = \"P~\"\n",
    "df_.pint.dequantify()"
   ]
  },
  {
   "cell_type": "markdown",
   "metadata": {},
   "source": [
    "or the entire table's units"
   ]
  },
  {
   "cell_type": "code",
   "execution_count": 23,
   "metadata": {},
   "outputs": [
    {
     "data": {
      "text/html": [
       "<div>\n",
       "<style scoped>\n",
       "    .dataframe tbody tr th:only-of-type {\n",
       "        vertical-align: middle;\n",
       "    }\n",
       "\n",
       "    .dataframe tbody tr th {\n",
       "        vertical-align: top;\n",
       "    }\n",
       "\n",
       "    .dataframe thead tr th {\n",
       "        text-align: left;\n",
       "    }\n",
       "\n",
       "    .dataframe thead tr:last-of-type th {\n",
       "        text-align: right;\n",
       "    }\n",
       "</style>\n",
       "<table border=\"1\" class=\"dataframe\">\n",
       "  <thead>\n",
       "    <tr>\n",
       "      <th></th>\n",
       "      <th></th>\n",
       "      <th>TestDate</th>\n",
       "      <th>ShaftSpeed</th>\n",
       "      <th>FlowRate</th>\n",
       "      <th>DifferentialPressure</th>\n",
       "      <th>ShaftPower</th>\n",
       "      <th>Efficiency</th>\n",
       "      <th>ShaftTorque</th>\n",
       "      <th>FluidPower</th>\n",
       "    </tr>\n",
       "    <tr>\n",
       "      <th></th>\n",
       "      <th>unit</th>\n",
       "      <th>No Unit</th>\n",
       "      <th>rad/s</th>\n",
       "      <th>m³/s</th>\n",
       "      <th>kg/m/s²</th>\n",
       "      <th>kg·m²/s³</th>\n",
       "      <th></th>\n",
       "      <th>kg·m²/s²</th>\n",
       "      <th>kg·m²/s³</th>\n",
       "    </tr>\n",
       "    <tr>\n",
       "      <th>ShaftSpeedIndex</th>\n",
       "      <th>pump</th>\n",
       "      <th></th>\n",
       "      <th></th>\n",
       "      <th></th>\n",
       "      <th></th>\n",
       "      <th></th>\n",
       "      <th></th>\n",
       "      <th></th>\n",
       "      <th></th>\n",
       "    </tr>\n",
       "  </thead>\n",
       "  <tbody>\n",
       "    <tr>\n",
       "      <th rowspan=\"3\" valign=\"top\">1200</th>\n",
       "      <th>A</th>\n",
       "      <td>01/01</td>\n",
       "      <td>125.663706</td>\n",
       "      <td>0.002422</td>\n",
       "      <td>162030.0</td>\n",
       "      <td>1320.0</td>\n",
       "      <td>30.60</td>\n",
       "      <td>10.504226</td>\n",
       "      <td>392.472667</td>\n",
       "    </tr>\n",
       "    <tr>\n",
       "      <th>B</th>\n",
       "      <td>01/01</td>\n",
       "      <td>125.663706</td>\n",
       "      <td>0.002578</td>\n",
       "      <td>144160.0</td>\n",
       "      <td>1230.0</td>\n",
       "      <td>31.16</td>\n",
       "      <td>9.788029</td>\n",
       "      <td>371.612444</td>\n",
       "    </tr>\n",
       "    <tr>\n",
       "      <th>C</th>\n",
       "      <td>01/01</td>\n",
       "      <td>125.663706</td>\n",
       "      <td>0.002586</td>\n",
       "      <td>136470.0</td>\n",
       "      <td>1180.0</td>\n",
       "      <td>30.70</td>\n",
       "      <td>9.390142</td>\n",
       "      <td>352.926583</td>\n",
       "    </tr>\n",
       "    <tr>\n",
       "      <th rowspan=\"3\" valign=\"top\">1600</th>\n",
       "      <th>A</th>\n",
       "      <td>01/01</td>\n",
       "      <td>167.551608</td>\n",
       "      <td>0.003225</td>\n",
       "      <td>286860.0</td>\n",
       "      <td>3090.0</td>\n",
       "      <td>30.72</td>\n",
       "      <td>18.442079</td>\n",
       "      <td>925.123500</td>\n",
       "    </tr>\n",
       "    <tr>\n",
       "      <th>B</th>\n",
       "      <td>01/01</td>\n",
       "      <td>167.551608</td>\n",
       "      <td>0.003550</td>\n",
       "      <td>241410.0</td>\n",
       "      <td>2780.0</td>\n",
       "      <td>31.83</td>\n",
       "      <td>16.591903</td>\n",
       "      <td>857.005500</td>\n",
       "    </tr>\n",
       "    <tr>\n",
       "      <th>C</th>\n",
       "      <td>01/01</td>\n",
       "      <td>167.551608</td>\n",
       "      <td>0.003753</td>\n",
       "      <td>204210.0</td>\n",
       "      <td>2500.0</td>\n",
       "      <td>31.81</td>\n",
       "      <td>14.920776</td>\n",
       "      <td>766.354750</td>\n",
       "    </tr>\n",
       "    <tr>\n",
       "      <th rowspan=\"3\" valign=\"top\">2300</th>\n",
       "      <th>A</th>\n",
       "      <td>01/02</td>\n",
       "      <td>240.855437</td>\n",
       "      <td>0.005089</td>\n",
       "      <td>533170.0</td>\n",
       "      <td>8590.0</td>\n",
       "      <td>32.52</td>\n",
       "      <td>35.664547</td>\n",
       "      <td>2713.242889</td>\n",
       "    </tr>\n",
       "    <tr>\n",
       "      <th>B</th>\n",
       "      <td>01/02</td>\n",
       "      <td>240.855437</td>\n",
       "      <td>0.004972</td>\n",
       "      <td>526740.0</td>\n",
       "      <td>8510.0</td>\n",
       "      <td>31.67</td>\n",
       "      <td>35.332397</td>\n",
       "      <td>2619.068333</td>\n",
       "    </tr>\n",
       "    <tr>\n",
       "      <th>C</th>\n",
       "      <td>01/02</td>\n",
       "      <td>240.855437</td>\n",
       "      <td>0.005342</td>\n",
       "      <td>440760.0</td>\n",
       "      <td>7610.0</td>\n",
       "      <td>32.05</td>\n",
       "      <td>31.595716</td>\n",
       "      <td>2354.393000</td>\n",
       "    </tr>\n",
       "  </tbody>\n",
       "</table>\n",
       "</div>"
      ],
      "text/plain": [
       "                     TestDate  ShaftSpeed  FlowRate DifferentialPressure  \\\n",
       "unit                  No Unit       rad/s      m³/s              kg/m/s²   \n",
       "ShaftSpeedIndex pump                                                       \n",
       "1200            A       01/01  125.663706  0.002422             162030.0   \n",
       "                B       01/01  125.663706  0.002578             144160.0   \n",
       "                C       01/01  125.663706  0.002586             136470.0   \n",
       "1600            A       01/01  167.551608  0.003225             286860.0   \n",
       "                B       01/01  167.551608  0.003550             241410.0   \n",
       "                C       01/01  167.551608  0.003753             204210.0   \n",
       "2300            A       01/02  240.855437  0.005089             533170.0   \n",
       "                B       01/02  240.855437  0.004972             526740.0   \n",
       "                C       01/02  240.855437  0.005342             440760.0   \n",
       "\n",
       "                     ShaftPower Efficiency ShaftTorque   FluidPower  \n",
       "unit                   kg·m²/s³               kg·m²/s²     kg·m²/s³  \n",
       "ShaftSpeedIndex pump                                                 \n",
       "1200            A        1320.0      30.60   10.504226   392.472667  \n",
       "                B        1230.0      31.16    9.788029   371.612444  \n",
       "                C        1180.0      30.70    9.390142   352.926583  \n",
       "1600            A        3090.0      30.72   18.442079   925.123500  \n",
       "                B        2780.0      31.83   16.591903   857.005500  \n",
       "                C        2500.0      31.81   14.920776   766.354750  \n",
       "2300            A        8590.0      32.52   35.664547  2713.242889  \n",
       "                B        8510.0      31.67   35.332397  2619.068333  \n",
       "                C        7610.0      32.05   31.595716  2354.393000  "
      ]
     },
     "execution_count": 23,
     "metadata": {},
     "output_type": "execute_result"
    }
   ],
   "source": [
    "df_.pint.to_base_units().pint.dequantify()"
   ]
  },
  {
   "cell_type": "markdown",
   "metadata": {},
   "source": [
    "## Plotting\n",
    "Pint's matplotlib support allows columns with the same dimensionality to be plotted."
   ]
  },
  {
   "cell_type": "code",
   "execution_count": 24,
   "metadata": {},
   "outputs": [
    {
     "data": {
      "image/png": "[encoded data removed]",
      "text/plain": [
       "<Figure size 640x480 with 1 Axes>"
      ]
     },
     "metadata": {},
     "output_type": "display_data"
    }
   ],
   "source": [
    "pint_pandas.PintType.ureg.setup_matplotlib()\n",
    "ax = df_[['ShaftPower', 'FluidPower']].unstack(\"pump\").plot()"
   ]
  },
  {
   "cell_type": "code",
   "execution_count": 25,
   "metadata": {},
   "outputs": [
    {
     "data": {
      "text/html": [
       "kW"
      ],
      "text/latex": [
       "$\\mathrm{kW}$"
      ],
      "text/plain": [
       "<Unit('kilowatt')>"
      ]
     },
     "execution_count": 25,
     "metadata": {},
     "output_type": "execute_result"
    }
   ],
   "source": [
    "ax.yaxis.units"
   ]
  },
  {
   "cell_type": "markdown",
   "metadata": {},
   "source": [
    "Note that indexes cannot store PintArrays, so don't contain unit information"
   ]
  },
  {
   "cell_type": "code",
   "execution_count": 26,
   "metadata": {},
   "outputs": [
    {
     "name": "stdout",
     "output_type": "stream",
     "text": [
      "None\n"
     ]
    }
   ],
   "source": [
    "print(ax.xaxis.units)"
   ]
  },
  {
   "cell_type": "markdown",
   "metadata": {},
   "source": [
    "## Advanced example\n",
    "This example shows alternative ways to use pint with pandas and other features.\n",
    "\n",
    "Start with the same imports."
   ]
  },
  {
   "cell_type": "code",
   "execution_count": 27,
   "metadata": {},
   "outputs": [],
   "source": [
    "import pandas as pd \n",
    "import pint\n",
    "import pint_pandas"
   ]
  },
  {
   "cell_type": "markdown",
   "metadata": {},
   "source": [
    "We'll be use a shorthand for PintArray"
   ]
  },
  {
   "cell_type": "code",
   "execution_count": 28,
   "metadata": {},
   "outputs": [],
   "source": [
    "PA_ = pint_pandas.PintArray"
   ]
  },
  {
   "cell_type": "markdown",
   "metadata": {},
   "source": [
    "And set up a unit registry and quantity shorthand."
   ]
  },
  {
   "cell_type": "code",
   "execution_count": 29,
   "metadata": {},
   "outputs": [],
   "source": [
    "ureg = pint.UnitRegistry()\n",
    "Q_ = ureg.Quantity"
   ]
  },
  {
   "cell_type": "markdown",
   "metadata": {},
   "source": [
    "Operations between PintArrays of different unit registry will not work. We can change the unit registry that will be used in creating new PintArrays to prevent this issue."
   ]
  },
  {
   "cell_type": "code",
   "execution_count": 30,
   "metadata": {},
   "outputs": [],
   "source": [
    "pint_pandas.PintType.ureg = ureg"
   ]
  },
  {
   "cell_type": "markdown",
   "metadata": {},
   "source": [
    "These are the possible ways to create a PintArray.\n",
    "\n",
    "Note that pint[unit] must be used for the Series constuctor, whereas the PintArray constructor allows the unit string or object."
   ]
  },
  {
   "cell_type": "code",
   "execution_count": 31,
   "metadata": {},
   "outputs": [
    {
     "name": "stderr",
     "output_type": "stream",
     "text": [
      "F:\\A\\repos\\pint-pandas\\pint_pandas\\pint_array.py:225: RuntimeWarning: pint-pandas does not support magnitudes of int32. Converting magnitudes to float.\n",
      "  warnings.warn(\n"
     ]
    },
    {
     "data": {
      "text/html": [
       "<div>\n",
       "<style scoped>\n",
       "    .dataframe tbody tr th:only-of-type {\n",
       "        vertical-align: middle;\n",
       "    }\n",
       "\n",
       "    .dataframe tbody tr th {\n",
       "        vertical-align: top;\n",
       "    }\n",
       "\n",
       "    .dataframe thead th {\n",
       "        text-align: right;\n",
       "    }\n",
       "</style>\n",
       "<table border=\"1\" class=\"dataframe\">\n",
       "  <thead>\n",
       "    <tr style=\"text-align: right;\">\n",
       "      <th></th>\n",
       "      <th>length</th>\n",
       "      <th>width</th>\n",
       "      <th>distance</th>\n",
       "      <th>height</th>\n",
       "      <th>depth</th>\n",
       "      <th>displacement</th>\n",
       "    </tr>\n",
       "  </thead>\n",
       "  <tbody>\n",
       "    <tr>\n",
       "      <th>0</th>\n",
       "      <td>1.0</td>\n",
       "      <td>2.0</td>\n",
       "      <td>2.0</td>\n",
       "      <td>2.0</td>\n",
       "      <td>2.0</td>\n",
       "      <td>2.0</td>\n",
       "    </tr>\n",
       "    <tr>\n",
       "      <th>1</th>\n",
       "      <td>2.0</td>\n",
       "      <td>3.0</td>\n",
       "      <td>3.0</td>\n",
       "      <td>3.0</td>\n",
       "      <td>3.0</td>\n",
       "      <td>3.0</td>\n",
       "    </tr>\n",
       "  </tbody>\n",
       "</table>\n",
       "</div>"
      ],
      "text/plain": [
       "  length width distance height depth displacement\n",
       "0    1.0   2.0      2.0    2.0   2.0          2.0\n",
       "1    2.0   3.0      3.0    3.0   3.0          3.0"
      ]
     },
     "execution_count": 31,
     "metadata": {},
     "output_type": "execute_result"
    }
   ],
   "source": [
    "df = pd.DataFrame({\n",
    "        \"length\" : pd.Series([1.,2.], dtype=\"pint[m]\"),\n",
    "        \"width\" : PA_([2.,3.], dtype=\"pint[m]\"),\n",
    "        \"distance\" : PA_([2.,3.], dtype=\"m\"),\n",
    "        \"height\" : PA_([2.,3.], dtype=ureg.m),\n",
    "        \"depth\" : PA_.from_1darray_quantity(Q_([2,3],ureg.m)),\n",
    "        \"displacement\" : PA_(Q_([2.,3.],ureg.m)),\n",
    "    })\n",
    "df"
   ]
  },
  {
   "cell_type": "code",
   "execution_count": 32,
   "metadata": {},
   "outputs": [
    {
     "data": {
      "text/html": [
       "meter"
      ],
      "text/latex": [
       "$\\mathrm{meter}$"
      ],
      "text/plain": [
       "<Unit('meter')>"
      ]
     },
     "execution_count": 32,
     "metadata": {},
     "output_type": "execute_result"
    }
   ],
   "source": [
    "df.length.values.units"
   ]
  }
 ],
 "metadata": {
  "anaconda-cloud": {},
  "kernelspec": {
   "display_name": "Python [conda env:pint-pandas-dev]",
   "language": "python",
   "name": "conda-env-pint-pandas-dev-py"
  },
  "language_info": {
   "codemirror_mode": {
    "name": "ipython",
    "version": 3
   },
   "file_extension": ".py",
   "mimetype": "text/x-python",
   "name": "python",
   "nbconvert_exporter": "python",
   "pygments_lexer": "ipython3",
   "version": "3.8.13"
  }
 },
 "nbformat": 4,
 "nbformat_minor": 2
}
