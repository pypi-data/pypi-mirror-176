{
 "cells": [
  {
   "cell_type": "markdown",
   "source": [
    "* 第1章 绪论 *"
   ],
   "metadata": {
    "collapsed": false,
    "pycharm": {
     "name": "#%% md\n"
    }
   }
  },
  {
   "cell_type": "markdown",
   "source": [
    "***安装本教材配套模块***"
   ],
   "metadata": {
    "collapsed": false,
    "pycharm": {
     "name": "#%% md\n"
    }
   }
  },
  {
   "cell_type": "code",
   "execution_count": 9,
   "outputs": [
    {
     "name": "stdout",
     "output_type": "stream",
     "text": [
      "Requirement already satisfied: python-education-tools in c:\\python\\python310\\lib\\site-packages (0.2.5)\n"
     ]
    }
   ],
   "source": [
    "!pip install -U python-education-tools"
   ],
   "metadata": {
    "collapsed": false,
    "pycharm": {
     "name": "#%%\n"
    }
   }
  },
  {
   "cell_type": "markdown",
   "source": [
    "**Python 官方网站 https://python.org**"
   ],
   "metadata": {
    "collapsed": false,
    "pycharm": {
     "name": "#%% md\n"
    }
   }
  },
  {
   "cell_type": "markdown",
   "source": [
    "试一试：在Python提示符下输入：>>>license() ，可查看Python的历史与版权信息介绍。"
   ],
   "metadata": {
    "collapsed": false,
    "pycharm": {
     "name": "#%% md\n"
    }
   }
  },
  {
   "cell_type": "code",
   "execution_count": 1,
   "outputs": [
    {
     "name": "stdout",
     "output_type": "stream",
     "text": [
      "A. HISTORY OF THE SOFTWARE\n",
      "==========================\n",
      "\n",
      "Python was created in the early 1990s by Guido van Rossum at Stichting\n",
      "Mathematisch Centrum (CWI, see http://www.cwi.nl) in the Netherlands\n",
      "as a successor of a language called ABC.  Guido remains Python's\n",
      "principal author, although it includes many contributions from others.\n",
      "\n",
      "In 1995, Guido continued his work on Python at the Corporation for\n",
      "National Research Initiatives (CNRI, see http://www.cnri.reston.va.us)\n",
      "in Reston, Virginia where he released several versions of the\n",
      "software.\n",
      "\n",
      "In May 2000, Guido and the Python core development team moved to\n",
      "BeOpen.com to form the BeOpen PythonLabs team.  In October of the same\n",
      "year, the PythonLabs team moved to Digital Creations, which became\n",
      "Zope Corporation.  In 2001, the Python Software Foundation (PSF, see\n",
      "https://www.python.org/psf/) was formed, a non-profit organization\n",
      "created specifically to own Python-related Intellectual Property.\n",
      "Zope Corporation was a sponsoring member of the PSF.\n",
      "\n",
      "All Python releases are Open Source (see http://www.opensource.org for\n",
      "the Open Source Definition).  Historically, most, but not all, Python\n",
      "releases have also been GPL-compatible; the table below summarizes\n",
      "the various releases.\n",
      "\n",
      "    Release         Derived     Year        Owner       GPL-\n",
      "                    from                                compatible? (1)\n",
      "\n",
      "    0.9.0 thru 1.2              1991-1995   CWI         yes\n",
      "    1.3 thru 1.5.2  1.2         1995-1999   CNRI        yes\n",
      "    1.6             1.5.2       2000        CNRI        no\n",
      "    2.0             1.6         2000        BeOpen.com  no\n",
      "    1.6.1           1.6         2001        CNRI        yes (2)\n",
      "    2.1             2.0+1.6.1   2001        PSF         no\n",
      "    2.0.1           2.0+1.6.1   2001        PSF         yes\n",
      "    2.1.1           2.1+2.0.1   2001        PSF         yes\n",
      "    2.1.2           2.1.1       2002        PSF         yes\n",
      "    2.1.3           2.1.2       2002        PSF         yes\n",
      "    2.2 and above   2.1.1       2001-now    PSF         yes\n",
      "\n",
      "Footnotes:\n",
      "\n",
      "(1) GPL-compatible doesn't mean that we're distributing Python under\n",
      "    the GPL.  All Python licenses, unlike the GPL, let you distribute\n",
      "    a modified version without making your changes open source.  The\n",
      "    GPL-compatible licenses make it possible to combine Python with\n",
      "    other software that is released under the GPL; the others don't.\n",
      "\n",
      "(2) According to Richard Stallman, 1.6.1 is not GPL-compatible,\n",
      "    because its license has a choice of law clause.  According to\n",
      "    CNRI, however, Stallman's lawyer has told CNRI's lawyer that 1.6.1\n",
      "    is \"not incompatible\" with the GPL.\n",
      "\n",
      "Thanks to the many outside volunteers who have worked under Guido's\n",
      "direction to make these releases possible.\n",
      "\n",
      "\n",
      "B. TERMS AND CONDITIONS FOR ACCESSING OR OTHERWISE USING PYTHON\n",
      "===============================================================\n",
      "\n",
      "Python software and documentation are licensed under the\n",
      "Python Software Foundation License Version 2.\n",
      "\n",
      "Starting with Python 3.8.6, examples, recipes, and other code in\n",
      "the documentation are dual licensed under the PSF License Version 2\n",
      "and the Zero-Clause BSD license.\n",
      "\n",
      "Some software incorporated into Python is under different licenses.\n"
     ]
    }
   ],
   "source": [
    "license()"
   ],
   "metadata": {
    "collapsed": false,
    "pycharm": {
     "name": "#%%\n"
    }
   }
  },
  {
   "cell_type": "markdown",
   "source": [
    "查看一下Python 的排名：[Python 排名](https://www.tiobe.com/tiobe-index/)"
   ],
   "metadata": {
    "collapsed": false,
    "pycharm": {
     "name": "#%% md\n"
    }
   }
  },
  {
   "cell_type": "markdown",
   "source": [
    "![排名截图](img/rank.jpg)"
   ],
   "metadata": {
    "collapsed": false,
    "pycharm": {
     "name": "#%% md\n"
    }
   }
  },
  {
   "cell_type": "markdown",
   "source": [
    "【例1.1】使用一行代码，实现九九乘法表的输出。"
   ],
   "metadata": {
    "collapsed": false,
    "pycharm": {
     "name": "#%% md\n"
    }
   }
  },
  {
   "cell_type": "code",
   "execution_count": 3,
   "outputs": [
    {
     "data": {
      "text/plain": "['1*1=1',\n '1*2=2',\n '1*3=3',\n '1*4=4',\n '1*5=5',\n '1*6=6',\n '1*7=7',\n '1*8=8',\n '1*9=9',\n '2*1=2',\n '2*2=4',\n '2*3=6',\n '2*4=8',\n '2*5=10',\n '2*6=12',\n '2*7=14',\n '2*8=16',\n '2*9=18',\n '3*1=3',\n '3*2=6',\n '3*3=9',\n '3*4=12',\n '3*5=15',\n '3*6=18',\n '3*7=21',\n '3*8=24',\n '3*9=27',\n '4*1=4',\n '4*2=8',\n '4*3=12',\n '4*4=16',\n '4*5=20',\n '4*6=24',\n '4*7=28',\n '4*8=32',\n '4*9=36',\n '5*1=5',\n '5*2=10',\n '5*3=15',\n '5*4=20',\n '5*5=25',\n '5*6=30',\n '5*7=35',\n '5*8=40',\n '5*9=45',\n '6*1=6',\n '6*2=12',\n '6*3=18',\n '6*4=24',\n '6*5=30',\n '6*6=36',\n '6*7=42',\n '6*8=48',\n '6*9=54',\n '7*1=7',\n '7*2=14',\n '7*3=21',\n '7*4=28',\n '7*5=35',\n '7*6=42',\n '7*7=49',\n '7*8=56',\n '7*9=63',\n '8*1=8',\n '8*2=16',\n '8*3=24',\n '8*4=32',\n '8*5=40',\n '8*6=48',\n '8*7=56',\n '8*8=64',\n '8*9=72',\n '9*1=9',\n '9*2=18',\n '9*3=27',\n '9*4=36',\n '9*5=45',\n '9*6=54',\n '9*7=63',\n '9*8=72',\n '9*9=81']"
     },
     "execution_count": 3,
     "metadata": {},
     "output_type": "execute_result"
    }
   ],
   "source": [
    "[f'{i}*{j}={i*j}' for i in range(1,10) for j in range(1,10)]"
   ],
   "metadata": {
    "collapsed": false,
    "pycharm": {
     "name": "#%%\n"
    }
   }
  },
  {
   "cell_type": "markdown",
   "source": [
    "[Python之禅（Zen）](https://www.python.org/dev/peps/pep-0020)"
   ],
   "metadata": {
    "collapsed": false,
    "pycharm": {
     "name": "#%% md\n"
    }
   }
  },
  {
   "cell_type": "code",
   "execution_count": 4,
   "outputs": [
    {
     "name": "stdout",
     "output_type": "stream",
     "text": [
      "\n",
      "                   编程之道：\n",
      "  \"大道无形，生育天地；大道无情，运行日月；大道无名，长养万物；吾不知其名，强名曰道。\"  编程之道，起于心，行于术，得于道。\n",
      "  心为万之源，心静万物自然静。\"常能遣其欲，而心自静，澄其心而神自清。心静至极\"，\"泰山崩于前而色不变，麋鹿兴于左而目不瞬，然后可以制利害，可以待敌。\"\n",
      "  为学日益，术业虽有专攻，然更相通。编程之术无异于雕塑、工笔水墨，多一行代码冗余，少一行代码则不足。\n",
      "  为道日损，\"秉之御繁以简，常得无事\"。大道至简，以简驭繁。理不简，则道不明！\n",
      "  “信言不美，美言不信。善者不辩，辩者不善。知者不博，博者不知。圣人不积，既以为人己愈有，既以与人己愈多。天之道，利而不害。人之道，为而不争。”\n",
      "\n",
      "                                    From: 道法自然 Prof.Li (liluqun@gmail.com)\n",
      "\n",
      "\n"
     ]
    }
   ],
   "source": [
    "import pet.that"
   ],
   "metadata": {
    "collapsed": false,
    "pycharm": {
     "name": "#%%\n"
    }
   }
  },
  {
   "cell_type": "code",
   "execution_count": 5,
   "outputs": [
    {
     "name": "stdout",
     "output_type": "stream",
     "text": [
      "The Zen of Python, by Tim Peters\n",
      "\n",
      "Beautiful is better than ugly.\n",
      "Explicit is better than implicit.\n",
      "Simple is better than complex.\n",
      "Complex is better than complicated.\n",
      "Flat is better than nested.\n",
      "Sparse is better than dense.\n",
      "Readability counts.\n",
      "Special cases aren't special enough to break the rules.\n",
      "Although practicality beats purity.\n",
      "Errors should never pass silently.\n",
      "Unless explicitly silenced.\n",
      "In the face of ambiguity, refuse the temptation to guess.\n",
      "There should be one-- and preferably only one --obvious way to do it.\n",
      "Although that way may not be obvious at first unless you're Dutch.\n",
      "Now is better than never.\n",
      "Although never is often better than *right* now.\n",
      "If the implementation is hard to explain, it's a bad idea.\n",
      "If the implementation is easy to explain, it may be a good idea.\n",
      "Namespaces are one honking great idea -- let's do more of those!\n"
     ]
    }
   ],
   "source": [
    "import this"
   ],
   "metadata": {
    "collapsed": false,
    "pycharm": {
     "name": "#%%\n"
    }
   }
  },
  {
   "cell_type": "markdown",
   "source": [
    "交换两个变量的值的Python代码实现。\n",
    "用Pythonic风格的写法："
   ],
   "metadata": {
    "collapsed": false,
    "pycharm": {
     "name": "#%% md\n"
    }
   }
  },
  {
   "cell_type": "code",
   "execution_count": 8,
   "outputs": [
    {
     "name": "stdout",
     "output_type": "stream",
     "text": [
      "6 5\n"
     ]
    }
   ],
   "source": [
    "a,b=5,6\n",
    "a,b = b,a\n",
    "print(a,b)"
   ],
   "metadata": {
    "collapsed": false,
    "pycharm": {
     "name": "#%%\n"
    }
   }
  },
  {
   "cell_type": "markdown",
   "source": [
    "Python第三方库PYPI（https://pypi.org/） [本书配套模块](https://pypi.org/project/python-education-tools/)"
   ],
   "metadata": {
    "collapsed": false,
    "pycharm": {
     "name": "#%% md\n"
    }
   }
  },
  {
   "cell_type": "markdown",
   "source": [
    "MicroPython官方网站 [MicroPython](https://micropython.org/)"
   ],
   "metadata": {
    "collapsed": false,
    "pycharm": {
     "name": "#%% md\n"
    }
   }
  },
  {
   "cell_type": "markdown",
   "source": [
    "[Python官方网站](https://www.python.org)"
   ],
   "metadata": {
    "collapsed": false,
    "pycharm": {
     "name": "#%% md\n"
    }
   }
  },
  {
   "cell_type": "markdown",
   "source": [
    "Python技术标准以PEP文档发布，[PEP](https://www.python.org/dev/peps/)"
   ],
   "metadata": {
    "collapsed": false,
    "pycharm": {
     "name": "#%% md\n"
    }
   }
  },
  {
   "cell_type": "markdown",
   "source": [
    "Python就业 [51job](https://www.51job.com/)"
   ],
   "metadata": {
    "collapsed": false,
    "pycharm": {
     "name": "#%% md\n"
    }
   }
  },
  {
   "cell_type": "markdown",
   "source": [
    "python 技术顶会！  [pycon](https://us.pycon.org/2022/)"
   ],
   "metadata": {
    "collapsed": false,
    "pycharm": {
     "name": "#%% md\n"
    }
   }
  },
  {
   "cell_type": "markdown",
   "source": [
    "![pycon](img\\pycon.jpg)"
   ],
   "metadata": {
    "collapsed": false,
    "pycharm": {
     "name": "#%% md\n"
    }
   }
  },
  {
   "cell_type": "code",
   "execution_count": null,
   "outputs": [],
   "source": [],
   "metadata": {
    "collapsed": false,
    "pycharm": {
     "name": "#%%\n"
    }
   }
  }
 ],
 "metadata": {
  "kernelspec": {
   "display_name": "Python 3",
   "language": "python",
   "name": "python3"
  },
  "language_info": {
   "codemirror_mode": {
    "name": "ipython",
    "version": 2
   },
   "file_extension": ".py",
   "mimetype": "text/x-python",
   "name": "python",
   "nbconvert_exporter": "python",
   "pygments_lexer": "ipython2",
   "version": "2.7.6"
  }
 },
 "nbformat": 4,
 "nbformat_minor": 0
}