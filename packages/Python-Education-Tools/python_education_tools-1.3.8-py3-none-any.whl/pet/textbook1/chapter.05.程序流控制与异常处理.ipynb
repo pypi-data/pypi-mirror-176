{
 "cells": [
  {
   "cell_type": "code",
   "execution_count": 6,
   "outputs": [
    {
     "data": {
      "text/plain": "['gre', 'Toefl', 'PETS', 'HK']"
     },
     "execution_count": 6,
     "metadata": {},
     "output_type": "execute_result"
    }
   ],
   "source": [
    "s='(A) gre (B) Toefl (C) PETS (D) HK [B]'\n",
    "import re\n",
    "result=re.findall('\\s*\\([A-E]\\)\\s*(\\w*)\\s?',s)\n",
    "result"
   ],
   "metadata": {
    "collapsed": false,
    "pycharm": {
     "name": "#%%\n"
    }
   }
  },
  {
   "cell_type": "markdown",
   "source": [
    "输入0~100任意成绩数据，通过if语句判断成绩的等级。"
   ],
   "metadata": {
    "collapsed": false,
    "pycharm": {
     "name": "#%% md\n"
    }
   }
  },
  {
   "cell_type": "code",
   "execution_count": 7,
   "outputs": [
    {
     "name": "stdout",
     "output_type": "stream",
     "text": [
      "挂科！\n"
     ]
    }
   ],
   "source": [
    "num = int(input('请输入分数：'))\n",
    "if  0<= num < 60:    # 判断值是否在0~60之间\n",
    "    print ('挂科！')\n",
    "elif 60<=num<70:    # 判断值是否在60~70之间\n",
    "    print ('及格')\n",
    "elif 70<=num<80:    # 判断值是否在70~80之间\n",
    "    print ('中')\n",
    "elif 80<=num<90:    # 判断值是否在80~90之间\n",
    "    print ('良好')\n",
    "elif 80<=num<=100:    # 判断值是否在90~100之间\n",
    "    print ('优秀')\n",
    "else:\n",
    "    print ('输入有误！')"
   ],
   "metadata": {
    "collapsed": false,
    "pycharm": {
     "name": "#%%\n"
    }
   }
  },
  {
   "cell_type": "code",
   "execution_count": 8,
   "outputs": [
    {
     "name": "stdout",
     "output_type": "stream",
     "text": [
      "及格了\n"
     ]
    }
   ],
   "source": [
    "x=float(input('input your mark:'))\n",
    "result='及格了' if x>=60 else '不及格'\n",
    "print(result)"
   ],
   "metadata": {
    "collapsed": false,
    "pycharm": {
     "name": "#%%\n"
    }
   }
  },
  {
   "cell_type": "code",
   "execution_count": 9,
   "outputs": [
    {
     "data": {
      "text/plain": "'优秀'"
     },
     "execution_count": 9,
     "metadata": {},
     "output_type": "execute_result"
    }
   ],
   "source": [
    "m=90\n",
    "grade=['不及格','及格','中','良','优秀']\n",
    "line=[m>60,m>=70,m>=80,m>=90]\n",
    "result=grade[sum(line)]\n",
    "result"
   ],
   "metadata": {
    "collapsed": false,
    "pycharm": {
     "name": "#%%\n"
    }
   }
  },
  {
   "cell_type": "code",
   "execution_count": 10,
   "outputs": [
    {
     "name": "stdout",
     "output_type": "stream",
     "text": [
      "Round.0 test!\n",
      "Round.1 test!\n",
      "Round.2 test!\n"
     ]
    }
   ],
   "source": [
    "# 用while循环，必须有一控制逻辑条件\n",
    "count=0\n",
    "while count<3:\n",
    "    # 循环就是重复执行循环体里面的代码\n",
    "    print(f'Round.{count} test!')\n",
    "    count+=1"
   ],
   "metadata": {
    "collapsed": false,
    "pycharm": {
     "name": "#%%\n"
    }
   }
  },
  {
   "cell_type": "code",
   "execution_count": 11,
   "outputs": [
    {
     "name": "stdout",
     "output_type": "stream",
     "text": [
      "我来逛北京\n",
      "我来逛上海\n",
      "我来逛广州\n",
      "我来逛天津\n",
      "没有循环数据!\n",
      "完成循环!\n"
     ]
    }
   ],
   "source": [
    "cities = [\"北京\", \"上海\", \"广州\", \"天津\"]\n",
    "for city in cities:\n",
    "    print(f\"我来逛{city}\")\n",
    "else:\n",
    "    print(\"没有循环数据!\")\n",
    "print(\"完成循环!\")\n"
   ],
   "metadata": {
    "collapsed": false,
    "pycharm": {
     "name": "#%%\n"
    }
   }
  },
  {
   "cell_type": "code",
   "execution_count": 12,
   "outputs": [
    {
     "name": "stdout",
     "output_type": "stream",
     "text": [
      "输入错误\n"
     ]
    }
   ],
   "source": [
    "x = int(input(\"输入性别（0，1）: \"))\n",
    "match x:\n",
    "    case 0:\n",
    "        print('female')\n",
    "    case 1:\n",
    "        print('male')\n",
    "    case _:\n",
    "        print(\"输入错误\")"
   ],
   "metadata": {
    "collapsed": false,
    "pycharm": {
     "name": "#%%\n"
    }
   }
  },
  {
   "cell_type": "code",
   "execution_count": 13,
   "outputs": [
    {
     "name": "stdout",
     "output_type": "stream",
     "text": [
      "匹配类型<class 'float'>,得到：星期一\n",
      "匹配类型<class 'int'>,得到：星期二\n",
      "匹配类型<class 'tuple'>,得到：星期三\n",
      "匹配类型<class 'tuple'>,得到：星期三\n",
      "匹配类型<class 'list'>,得到：星期四\n",
      "匹配类型<class 'dict'>,得到：星期五\n",
      "匹配类型<class 'str'>,得到：星期六\n",
      "输入错误\n"
     ]
    }
   ],
   "source": [
    "t = [1.0, 2, (3, 3, 3),(3,9,9),[4, 4, 4], {'5': 'ok', '55': 'good'}, '6', {7, 8, 9}]\n",
    "\n",
    "for x in t:\n",
    "    match x:\n",
    "        case 1.0:\n",
    "            print(f'匹配类型{type(x)},得到：星期一')\n",
    "        case 2:\n",
    "            print(f'匹配类型{type(x)},得到：星期二')\n",
    "        case (3, _, _):\n",
    "            print(f'匹配类型{type(x)},得到：星期三')\n",
    "        case [4, 4, _]:\n",
    "            print(f'匹配类型{type(x)},得到：星期四')\n",
    "        case {'5': 'ok', '55': 'good'}:\n",
    "            print(f'匹配类型{type(x)},得到：星期五')\n",
    "        case '6':\n",
    "            print(f'匹配类型{type(x)},得到：星期六')\n",
    "        case _:\n",
    "            print(\"输入错误\")"
   ],
   "metadata": {
    "collapsed": false,
    "pycharm": {
     "name": "#%%\n"
    }
   }
  },
  {
   "cell_type": "code",
   "execution_count": 15,
   "outputs": [
    {
     "name": "stdout",
     "output_type": "stream",
     "text": [
      "工作日\n"
     ]
    }
   ],
   "source": [
    "x = int(input(\"输入(1~7)数值: \"))\n",
    "match x:\n",
    "    case 1 | 2 | 3 | 4 | 5:\n",
    "        print('工作日')\n",
    "    case 6 | 7:\n",
    "        print('周末')\n",
    "    case _:\n",
    "        print(\"输入错误\")"
   ],
   "metadata": {
    "collapsed": false,
    "pycharm": {
     "name": "#%%\n"
    }
   }
  },
  {
   "cell_type": "code",
   "execution_count": 16,
   "outputs": [
    {
     "name": "stdout",
     "output_type": "stream",
     "text": [
      "other=[2, 3, 4, 5]\n"
     ]
    }
   ],
   "source": [
    "x=[1,2,3,4,5]\n",
    "match x:\n",
    "    case [1,*other]:\n",
    "        print(f'{other=}')\n",
    "    case _:\n",
    "        print(\"未匹配\")"
   ],
   "metadata": {
    "collapsed": false,
    "pycharm": {
     "name": "#%%\n"
    }
   }
  },
  {
   "cell_type": "code",
   "execution_count": 17,
   "outputs": [
    {
     "name": "stdout",
     "output_type": "stream",
     "text": [
      "other={1: '星期一', 3: '星期三'}\n"
     ]
    }
   ],
   "source": [
    "x={1: \"星期一\", 2: \"星期二\",3:'星期三'}\n",
    "match x:\n",
    "    case {2: \"星期二\", **other}:\n",
    "        print(f'{other=}')\n",
    "    case _:\n",
    "        print('未匹配')"
   ],
   "metadata": {
    "collapsed": false,
    "pycharm": {
     "name": "#%%\n"
    }
   }
  },
  {
   "cell_type": "code",
   "execution_count": 18,
   "outputs": [
    {
     "name": "stdout",
     "output_type": "stream",
     "text": [
      "1 2 4 5 "
     ]
    }
   ],
   "source": [
    "game = '12345'\n",
    "for round in game:\n",
    "    if round == '3':\n",
    "        continue #放弃第3局\n",
    "    print(round,end=\" \")\n",
    "#运行结果：1,2,4,5,"
   ],
   "metadata": {
    "collapsed": false,
    "pycharm": {
     "name": "#%%\n"
    }
   }
  },
  {
   "cell_type": "code",
   "execution_count": 19,
   "outputs": [
    {
     "name": "stdout",
     "output_type": "stream",
     "text": [
      "1 2 "
     ]
    }
   ],
   "source": [
    "#break，跳出循环\n",
    "for round in game:\n",
    "    if round == '3':\n",
    "        break   #从3局就不玩了\n",
    "    print(round,end=\" \")\n",
    "#运行结果：1, 2,"
   ],
   "metadata": {
    "collapsed": false,
    "pycharm": {
     "name": "#%%\n"
    }
   }
  },
  {
   "cell_type": "code",
   "execution_count": 20,
   "outputs": [],
   "source": [
    "for round in game:\n",
    "    pass"
   ],
   "metadata": {
    "collapsed": false,
    "pycharm": {
     "name": "#%%\n"
    }
   }
  },
  {
   "cell_type": "code",
   "execution_count": 22,
   "outputs": [],
   "source": [
    "for round in game:\n",
    "    ..."
   ],
   "metadata": {
    "collapsed": false,
    "pycharm": {
     "name": "#%%\n"
    }
   }
  },
  {
   "cell_type": "code",
   "execution_count": 26,
   "outputs": [],
   "source": [
    "for round in game:\n",
    "    \"可以使用任意字符串作为占位符\""
   ],
   "metadata": {
    "collapsed": false,
    "pycharm": {
     "name": "#%%\n"
    }
   }
  },
  {
   "cell_type": "code",
   "execution_count": 24,
   "outputs": [],
   "source": [
    "for round in game:\n",
    "    Ellipsis"
   ],
   "metadata": {
    "collapsed": false,
    "pycharm": {
     "name": "#%%\n"
    }
   }
  },
  {
   "cell_type": "code",
   "execution_count": 27,
   "outputs": [
    {
     "ename": "ValueError",
     "evalue": "invalid literal for int() with base 10: 'pp'",
     "output_type": "error",
     "traceback": [
      "\u001B[1;31m---------------------------------------------------------------------------\u001B[0m",
      "\u001B[1;31mValueError\u001B[0m                                Traceback (most recent call last)",
      "\u001B[1;32m~\\AppData\\Local\\Temp\\ipykernel_5028\\1896586199.py\u001B[0m in \u001B[0;36m<cell line: 2>\u001B[1;34m()\u001B[0m\n\u001B[0;32m      1\u001B[0m \u001B[0mnum\u001B[0m\u001B[1;33m=\u001B[0m\u001B[0minput\u001B[0m\u001B[1;33m(\u001B[0m\u001B[1;34m'please input the number?'\u001B[0m\u001B[1;33m)\u001B[0m\u001B[1;33m\u001B[0m\u001B[1;33m\u001B[0m\u001B[0m\n\u001B[1;32m----> 2\u001B[1;33m \u001B[1;32mfor\u001B[0m \u001B[0mi\u001B[0m \u001B[1;32min\u001B[0m \u001B[0mrange\u001B[0m\u001B[1;33m(\u001B[0m\u001B[0mint\u001B[0m\u001B[1;33m(\u001B[0m\u001B[0mnum\u001B[0m\u001B[1;33m)\u001B[0m\u001B[1;33m)\u001B[0m\u001B[1;33m:\u001B[0m\u001B[1;33m\u001B[0m\u001B[1;33m\u001B[0m\u001B[0m\n\u001B[0m\u001B[0;32m      3\u001B[0m     \u001B[0mprint\u001B[0m\u001B[1;33m(\u001B[0m\u001B[0mi\u001B[0m\u001B[1;33m)\u001B[0m\u001B[1;33m\u001B[0m\u001B[1;33m\u001B[0m\u001B[0m\n",
      "\u001B[1;31mValueError\u001B[0m: invalid literal for int() with base 10: 'pp'"
     ]
    }
   ],
   "source": [
    "num=input('please input the number?')\n",
    "for i in range(int(num)):\n",
    "    print(i)"
   ],
   "metadata": {
    "collapsed": false,
    "pycharm": {
     "name": "#%%\n"
    }
   }
  },
  {
   "cell_type": "code",
   "execution_count": 28,
   "outputs": [
    {
     "name": "stdout",
     "output_type": "stream",
     "text": [
      "(\"could not convert string to float: 'pp'\",):输入成绩有误，重来！！\n",
      "无论有无异常，我都执行！！\n",
      "(\"could not convert string to float: 'kkk'\",):输入成绩有误，重来！！\n",
      "无论有无异常，我都执行！！\n",
      "及格了\n",
      "无论有无异常，我都执行！！\n"
     ]
    }
   ],
   "source": [
    "for i in range(3):\n",
    "    try:\n",
    "        mark=input(f'{i}.请输入成绩（0~100）?')\n",
    "        print('及格了')  if float(mark)>=60 else print('不及格')\n",
    "    except ValueError as arg:\n",
    "        print(f'{arg.args}:输入成绩有误，重来！！')\n",
    "    finally:\n",
    "        print('无论有无异常，我都执行！！')"
   ],
   "metadata": {
    "collapsed": false,
    "pycharm": {
     "name": "#%%\n"
    }
   }
  },
  {
   "cell_type": "code",
   "execution_count": 29,
   "outputs": [
    {
     "name": "stdout",
     "output_type": "stream",
     "text": [
      "('成绩输入异常',)\n"
     ]
    }
   ],
   "source": [
    "try:\n",
    "    mark=input('input x:')\n",
    "    if float(mark) < 0 or float(mark) > 100:\n",
    "        raise ValueError('成绩输入异常')\n",
    "except ValueError as arg:\n",
    "    print(arg.args)"
   ],
   "metadata": {
    "collapsed": false,
    "pycharm": {
     "name": "#%%\n"
    }
   }
  },
  {
   "cell_type": "code",
   "execution_count": 30,
   "outputs": [],
   "source": [
    "assert 1==1"
   ],
   "metadata": {
    "collapsed": false,
    "pycharm": {
     "name": "#%%\n"
    }
   }
  },
  {
   "cell_type": "code",
   "execution_count": 31,
   "outputs": [
    {
     "ename": "AssertionError",
     "evalue": "",
     "output_type": "error",
     "traceback": [
      "\u001B[1;31m---------------------------------------------------------------------------\u001B[0m",
      "\u001B[1;31mAssertionError\u001B[0m                            Traceback (most recent call last)",
      "\u001B[1;32m~\\AppData\\Local\\Temp\\ipykernel_5028\\3014608303.py\u001B[0m in \u001B[0;36m<cell line: 1>\u001B[1;34m()\u001B[0m\n\u001B[1;32m----> 1\u001B[1;33m \u001B[1;32massert\u001B[0m \u001B[1;36m1\u001B[0m\u001B[1;33m==\u001B[0m\u001B[1;36m0\u001B[0m\u001B[1;33m\u001B[0m\u001B[1;33m\u001B[0m\u001B[0m\n\u001B[0m",
      "\u001B[1;31mAssertionError\u001B[0m: "
     ]
    }
   ],
   "source": [
    "assert 1==0"
   ],
   "metadata": {
    "collapsed": false,
    "pycharm": {
     "name": "#%%\n"
    }
   }
  },
  {
   "cell_type": "code",
   "execution_count": 32,
   "outputs": [
    {
     "ename": "AssertionError",
     "evalue": "",
     "output_type": "error",
     "traceback": [
      "\u001B[1;31m---------------------------------------------------------------------------\u001B[0m",
      "\u001B[1;31mAssertionError\u001B[0m                            Traceback (most recent call last)",
      "\u001B[1;32m~\\AppData\\Local\\Temp\\ipykernel_5028\\2792880029.py\u001B[0m in \u001B[0;36m<cell line: 2>\u001B[1;34m()\u001B[0m\n\u001B[0;32m      1\u001B[0m \u001B[0mmark\u001B[0m \u001B[1;33m=\u001B[0m \u001B[0minput\u001B[0m\u001B[1;33m(\u001B[0m\u001B[1;34m'请输入成绩（0~100）?'\u001B[0m\u001B[1;33m)\u001B[0m\u001B[1;33m\u001B[0m\u001B[1;33m\u001B[0m\u001B[0m\n\u001B[1;32m----> 2\u001B[1;33m \u001B[1;32massert\u001B[0m \u001B[1;36m0\u001B[0m \u001B[1;33m<=\u001B[0m \u001B[0mfloat\u001B[0m\u001B[1;33m(\u001B[0m\u001B[0mmark\u001B[0m\u001B[1;33m)\u001B[0m \u001B[1;33m<=\u001B[0m \u001B[1;36m100\u001B[0m\u001B[1;33m\u001B[0m\u001B[1;33m\u001B[0m\u001B[0m\n\u001B[0m\u001B[0;32m      3\u001B[0m \u001B[0mprint\u001B[0m\u001B[1;33m(\u001B[0m\u001B[1;34m'及格了'\u001B[0m\u001B[1;33m)\u001B[0m \u001B[1;32mif\u001B[0m \u001B[0mfloat\u001B[0m\u001B[1;33m(\u001B[0m\u001B[0mmark\u001B[0m\u001B[1;33m)\u001B[0m \u001B[1;33m>=\u001B[0m \u001B[1;36m60\u001B[0m \u001B[1;32melse\u001B[0m \u001B[0mprint\u001B[0m\u001B[1;33m(\u001B[0m\u001B[1;34m'不及格'\u001B[0m\u001B[1;33m)\u001B[0m\u001B[1;33m\u001B[0m\u001B[1;33m\u001B[0m\u001B[0m\n",
      "\u001B[1;31mAssertionError\u001B[0m: "
     ]
    }
   ],
   "source": [
    "mark = input('请输入成绩（0~100）?')\n",
    "assert 0 <= float(mark) <= 100\n",
    "print('及格了') if float(mark) >= 60 else print('不及格')"
   ],
   "metadata": {
    "collapsed": false,
    "pycharm": {
     "name": "#%%\n"
    }
   }
  },
  {
   "cell_type": "markdown",
   "source": [
    "Python中可变对象与不可变对象代码测试（通过代码自动判读对象是否可以改变）。"
   ],
   "metadata": {
    "collapsed": false,
    "pycharm": {
     "name": "#%% md\n"
    }
   }
  },
  {
   "cell_type": "code",
   "execution_count": 33,
   "outputs": [],
   "source": [
    "a=[1,2,'hello']\n",
    "b=set('hello')\n",
    "c=dict(one=11, two=22, three=33)\n",
    "d=bytearray('hello',encoding='utf-8')\n",
    "e=(1,2,'hello')\n",
    "f=range(1,6,2)\n",
    "g='hello'\n",
    "h=bytes('hello',encoding='utf-8')\n",
    "i=memoryview(b'hello')\n",
    "j=frozenset('hello')\n"
   ],
   "metadata": {
    "collapsed": false,
    "pycharm": {
     "name": "#%%\n"
    }
   }
  },
  {
   "cell_type": "code",
   "execution_count": 34,
   "outputs": [
    {
     "name": "stdout",
     "output_type": "stream",
     "text": [
      "<class 'list'> 是可变对象\n",
      "<class 'set'> 是可变对象\n",
      "<class 'dict'> 是可变对象\n",
      "<class 'bytearray'> 是可变对象\n",
      "<class 'tuple'> 是不可变对象\n",
      "<class 'range'> 是不可变对象\n",
      "<class 'str'> 是不可变对象\n",
      "<class 'bytes'> 是不可变对象\n",
      "<class 'memoryview'> 是不可变对象\n",
      "<class 'frozenset'> 是不可变对象\n"
     ]
    }
   ],
   "source": [
    "test=[a,b,c,d,e,f,g,h,i,j]\n",
    "for i in test:\n",
    "    try:\n",
    "        hash(i)\n",
    "        print(f'{type(i)} 是不可变对象')\n",
    "    except:\n",
    "        print(f'{type(i)} 是可变对象')"
   ],
   "metadata": {
    "collapsed": false,
    "pycharm": {
     "name": "#%%\n"
    }
   }
  },
  {
   "cell_type": "code",
   "execution_count": 35,
   "outputs": [
    {
     "name": "stdout",
     "output_type": "stream",
     "text": [
      "<class 'list'> 是可变对象\n",
      "<class 'set'> 是可变对象\n",
      "<class 'dict'> 是可变对象\n",
      "<class 'bytearray'> 是可变对象\n",
      "<class 'tuple'> 是不可变对象\n",
      "<class 'range'> 是不可变对象\n",
      "<class 'str'> 是不可变对象\n",
      "<class 'bytes'> 是不可变对象\n",
      "<class 'frozenset'> 是不可变对象\n",
      "<class 'frozenset'> 是不可变对象\n",
      "{<class 'list'>: '可变对象', <class 'set'>: '可变对象', <class 'dict'>: '可变对象', <class 'bytearray'>: '可变对象', <class 'tuple'>: '不可变对象', <class 'range'>: '不可变对象', <class 'str'>: '不可变对象', <class 'bytes'>: '不可变对象', <class 'frozenset'>: '不可变对象'}\n"
     ]
    }
   ],
   "source": [
    "test=[a,b,c,d,e,f,g,h,i,j]\n",
    "results={}\n",
    "for i in test:\n",
    "    try:\n",
    "        hash(i)\n",
    "        results[type(i)]='不可变对象'\n",
    "        print(f'{type(i)} 是不可变对象')\n",
    "    except:\n",
    "        results[type(i)]='可变对象'\n",
    "        print(f'{type(i)} 是可变对象')\n",
    "print(results)"
   ],
   "metadata": {
    "collapsed": false,
    "pycharm": {
     "name": "#%%\n"
    }
   }
  },
  {
   "cell_type": "code",
   "execution_count": 36,
   "outputs": [
    {
     "name": "stdout",
     "output_type": "stream",
     "text": [
      "{<class 'list'>: '可变对象', <class 'set'>: '可变对象', <class 'dict'>: '可变对象', <class 'bytearray'>: '可变对象', <class 'tuple'>: '不可变对象', <class 'range'>: '不可变对象', <class 'str'>: '不可变对象', <class 'bytes'>: '不可变对象', <class 'frozenset'>: '不可变对象'}\n"
     ]
    }
   ],
   "source": [
    "print(results)"
   ],
   "metadata": {
    "collapsed": false,
    "pycharm": {
     "name": "#%%\n"
    }
   }
  },
  {
   "cell_type": "code",
   "execution_count": null,
   "outputs": [],
   "source": [],
   "metadata": {
    "collapsed": false,
    "pycharm": {
     "name": "#%%\n"
    }
   }
  }
 ],
 "metadata": {
  "kernelspec": {
   "display_name": "Python 3",
   "language": "python",
   "name": "python3"
  },
  "language_info": {
   "codemirror_mode": {
    "name": "ipython",
    "version": 2
   },
   "file_extension": ".py",
   "mimetype": "text/x-python",
   "name": "python",
   "nbconvert_exporter": "python",
   "pygments_lexer": "ipython2",
   "version": "2.7.6"
  }
 },
 "nbformat": 4,
 "nbformat_minor": 0
}