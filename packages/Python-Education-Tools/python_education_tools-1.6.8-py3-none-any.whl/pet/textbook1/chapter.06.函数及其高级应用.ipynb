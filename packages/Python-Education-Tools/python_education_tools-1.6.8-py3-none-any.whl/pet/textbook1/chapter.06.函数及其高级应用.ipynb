{
 "cells": [
  {
   "cell_type": "code",
   "execution_count": 2,
   "outputs": [
    {
     "name": "stdout",
     "output_type": "stream",
     "text": [
      "Help on function func_demo in module __main__:\n",
      "\n",
      "func_demo(r)\n",
      "    此函数输入参数为圆的半径r，返回值为圆的周长和面积\n",
      "\n",
      "None\n",
      "\n",
      "    此函数输入参数为圆的半径r，返回值为圆的周长和面积\n",
      "    \n"
     ]
    }
   ],
   "source": [
    "def func_demo(r):\n",
    "    '''\n",
    "    此函数输入参数为圆的半径r，返回值为圆的周长和面积\n",
    "    '''\n",
    "    pi = 3.14\n",
    "    p,a = 2 * pi * r,pi * r * r\n",
    "\n",
    "    return p, a\n",
    "r = 9\n",
    "print(help(func_demo))\n",
    "print(func_demo.__doc__)\n"
   ],
   "metadata": {
    "collapsed": false,
    "pycharm": {
     "name": "#%%\n"
    }
   }
  },
  {
   "cell_type": "code",
   "execution_count": 3,
   "outputs": [
    {
     "name": "stdout",
     "output_type": "stream",
     "text": [
      "初始状态：------------------------------\n",
      "id(a)=2390010953968,a=1;id(b)=2390087630720,b=[2, 3, 4, 5]\n",
      "函数体内------------------------------\n",
      "id(a)=2390010954608,a=21;id(b)=2390087630720,b=[2, 3, 4, 5, 99]\n",
      "结束状态：------------------------------\n",
      "id(a)=2390010953968,a=1;id(b)=2390087630720,b=[2, 3, 4, 5, 99]\n"
     ]
    }
   ],
   "source": [
    "def print_info(name, a, b):\n",
    "    print(name+'-'*30)\n",
    "    print(f'{id(a)=},{a=};{id(b)=},{b=}' )\n",
    "\n",
    "def demo(a, b):\n",
    "    a = a + 20\n",
    "    b.append(99)\n",
    "    print_info('函数体内',a, b)\n",
    "if __name__ == '__main__':\n",
    "    a, *b = list(range(1, 6))\n",
    "    print_info('初始状态：',a, b)\n",
    "    demo(a, b)\n",
    "    print_info('结束状态：', a, b)"
   ],
   "metadata": {
    "collapsed": false,
    "pycharm": {
     "name": "#%%\n"
    }
   }
  },
  {
   "cell_type": "code",
   "execution_count": 4,
   "outputs": [
    {
     "name": "stdout",
     "output_type": "stream",
     "text": [
      "Hello\n",
      "World World World World World \n"
     ]
    }
   ],
   "source": [
    "def repeat(msg, times=1):\n",
    "    print(msg * times)\n",
    "repeat('Hello')\n",
    "repeat('World ', 5)"
   ],
   "metadata": {
    "collapsed": false,
    "pycharm": {
     "name": "#%%\n"
    }
   }
  },
  {
   "cell_type": "code",
   "execution_count": 5,
   "outputs": [
    {
     "name": "stdout",
     "output_type": "stream",
     "text": [
      "1 2 3\n",
      "1 2 3\n"
     ]
    }
   ],
   "source": [
    "def fun(x, y, z=1):\n",
    "    print(x, y, z)\n",
    "fun( 1,y=2,z=3)\n",
    "fun(z=3,y=2,x=1)"
   ],
   "metadata": {
    "collapsed": false,
    "pycharm": {
     "name": "#%%\n"
    }
   }
  },
  {
   "cell_type": "code",
   "execution_count": 6,
   "outputs": [
    {
     "name": "stdout",
     "output_type": "stream",
     "text": [
      "{'x': 1, 'y': 99, 'z': 88, 'xx': (2, 4), 'yy': {'k1': 0, 'g': 33}}\n"
     ]
    }
   ],
   "source": [
    "def fun(x,*xx,y=21,z=2, **yy):\n",
    "    print(locals())\n",
    "fun(1,2,4, z=88, y=99, k1=0,g=33)"
   ],
   "metadata": {
    "collapsed": false,
    "pycharm": {
     "name": "#%%\n"
    }
   }
  },
  {
   "cell_type": "code",
   "execution_count": 7,
   "outputs": [
    {
     "name": "stdout",
     "output_type": "stream",
     "text": [
      "调用前：id(x)=2390010955536\n",
      "x=50\n",
      "函数体内：id(x)=2390010954000\n",
      "局部变量x： x=2\n",
      "调用func后：id(x)=2390010955536\n",
      "x的值： x=50\n"
     ]
    }
   ],
   "source": [
    "def func(x):\n",
    "    print(f'{x=}')\n",
    "    x = 2\n",
    "    print(f'函数体内：{id(x)=}')\n",
    "    print(f'局部变量x： {x=}')\n",
    "if __name__=='__main__':\n",
    "    x = 50\n",
    "    print(f'调用前：{id(x)=}')\n",
    "    func(x)\n",
    "    print(f'调用{func.__name__}后：{id(x)=}')\n",
    "    print(f'x的值： {x=}')"
   ],
   "metadata": {
    "collapsed": false,
    "pycharm": {
     "name": "#%%\n"
    }
   }
  },
  {
   "cell_type": "code",
   "execution_count": 8,
   "outputs": [
    {
     "name": "stdout",
     "output_type": "stream",
     "text": [
      "调用前：id(gx)=2390010955536\n",
      "x=50\n",
      "函数体内：id(gx)=2390010954000, id(x)=2390010955536\n",
      "局部变量x： x=50\n",
      "调用func后：id(gx)=2390010954000\n",
      "x的值： gx=2\n"
     ]
    }
   ],
   "source": [
    "def func(x):\n",
    "    global gx\n",
    "    print(f'{x=}')\n",
    "    gx = 2\n",
    "    print(f'函数体内：{id(gx)=}, {id(x)=}')\n",
    "    print(f'局部变量x： {x=}')\n",
    "if __name__=='__main__':\n",
    "    gx = 50\n",
    "    print(f'调用前：{id(gx)=}')\n",
    "    func(gx)\n",
    "    print(f'调用{func.__name__}后：{id(gx)=}')\n",
    "    print(f'x的值： {gx=}')\n"
   ],
   "metadata": {
    "collapsed": false,
    "pycharm": {
     "name": "#%%\n"
    }
   }
  },
  {
   "cell_type": "code",
   "execution_count": 9,
   "outputs": [
    {
     "name": "stdout",
     "output_type": "stream",
     "text": [
      "函数体内：locals()={'lx': 300, 'ly': 400, 'l': 'l-自设局部变量'},总共有3个局部变量\n",
      "函数体内：globals()={'__name__': '__main__', '__doc__': 'Automatically created module for IPython interactive environment', '__package__': None, '__loader__': None, '__spec__': None, '__builtin__': <module 'builtins' (built-in)>, '__builtins__': <module 'builtins' (built-in)>, '_ih': ['', \"def func_demo(r):\\n    '''\\n    此函数输入参数为圆的半径r，返回值为圆的周长和面积\\n    '''\\n    pi = 3.14\\n    p,a = 2 * pi * r, pi * r * r\\n    return p, a\\n\\nr = 9\\np, a = func_demo(r)\\nhelp(func_demo)\\nprint(type(func_demo(r)))\\nprint(f'Perimeter is: {p=}  Area is: {a=}')\\nprint(help(func_demo))\", \"def func_demo(r):\\n    '''\\n    此函数输入参数为圆的半径r，返回值为圆的周长和面积\\n    '''\\n    pi = 3.14\\n    p,a = 2 * pi * r,pi * r * r\\n   \\n    return p, a\\nr = 9\\nprint(help(func_demo))\\nprint(func_demo.__doc__)\", \"def print_info(name, a, b):\\n    print(name+'-'*30)\\n    print(f'{id(a)=},{a=};{id(b)=},{b=}' )\\n\\ndef demo(a, b):\\n    a = a + 20\\n    b.append(99)\\n    print_info('函数体内',a, b)\\nif __name__ == '__main__':\\n    a, *b = list(range(1, 6))\\n    print_info('初始状态：',a, b)\\n    demo(a, b)\\n    print_info('结束状态：', a, b)\", \"def repeat(msg, times=1):\\n    print(msg * times)\\nrepeat('Hello')\\nrepeat('World ', 5)\", 'def fun(x, y, z=1):\\n    print(x, y, z)\\nfun( 1,y=2,z=3)\\nfun(z=3,y=2,x=1)', 'def fun(x,*xx,y=21,z=2, **yy):\\n    print(locals())\\nfun(1,2,4, z=88, y=99, k1=0,g=33)', \"def func(x):\\n    print(f'{x=}')\\n    x = 2\\n    print(f'函数体内：{id(x)=}')\\n    print(f'局部变量x： {x=}')\\nif __name__=='__main__':\\n    x = 50\\n    print(f'调用前：{id(x)=}')\\n    func(x)\\n    print(f'调用{func.__name__}后：{id(x)=}')\\n    print(f'x的值： {x=}')\", \"def func(x):\\n    global gx\\n    print(f'{x=}')\\n    gx = 2\\n    print(f'函数体内：{id(gx)=}, {id(x)=}')\\n    print(f'局部变量x： {x=}')\\nif __name__=='__main__':\\n    gx = 50\\n    print(f'调用前：{id(gx)=}')\\n    func(gx)\\n    print(f'调用{func.__name__}后：{id(gx)=}')\\n    print(f'x的值： {gx=}') \", \"def inspect():\\n    lx = 300\\n    ly = 400\\n    locals()['l'] = 'l-自设局部变量'\\n    print(f'函数体内：{locals()=},总共有{len(locals())}个局部变量')\\n    print(f'函数体内：{globals()=}，总共有:{len(globals())}全局变量')\\n    print(f'函数体内：{vars()=}，总共有:{len(vars())}个变量')\\n\\n\\nif __name__ == '__main__':\\n    x, y = 100, 200\\n    inspect()\\n    globals()['g'] = 'g-自设全局变量'\\n    vars()['v'] = 'v-自设变量'\\n    locals()['gl'] = 'gl-自设局部变量'\\n\\n    print(f'{locals()=},总共有{len(locals())}个局部变量')\\n    print(f'{globals()=}，总共有:{len(globals())}全局变量')\\n    print(f'{vars()=}，总共有:{len(vars())}个变量')\\n    print(f'测试globals()与vars()是否相同：{globals() == vars()}')\\n    print(f'测试globals()与locals()是否相同：{globals() == locals()}')\"], '_oh': {}, '_dh': ['C:\\\\Users\\\\Administrator\\\\Desktop\\\\2022年7月\\\\python_education_tools\\\\src\\\\pet\\\\textbook1'], 'In': ['', \"def func_demo(r):\\n    '''\\n    此函数输入参数为圆的半径r，返回值为圆的周长和面积\\n    '''\\n    pi = 3.14\\n    p,a = 2 * pi * r, pi * r * r\\n    return p, a\\n\\nr = 9\\np, a = func_demo(r)\\nhelp(func_demo)\\nprint(type(func_demo(r)))\\nprint(f'Perimeter is: {p=}  Area is: {a=}')\\nprint(help(func_demo))\", \"def func_demo(r):\\n    '''\\n    此函数输入参数为圆的半径r，返回值为圆的周长和面积\\n    '''\\n    pi = 3.14\\n    p,a = 2 * pi * r,pi * r * r\\n   \\n    return p, a\\nr = 9\\nprint(help(func_demo))\\nprint(func_demo.__doc__)\", \"def print_info(name, a, b):\\n    print(name+'-'*30)\\n    print(f'{id(a)=},{a=};{id(b)=},{b=}' )\\n\\ndef demo(a, b):\\n    a = a + 20\\n    b.append(99)\\n    print_info('函数体内',a, b)\\nif __name__ == '__main__':\\n    a, *b = list(range(1, 6))\\n    print_info('初始状态：',a, b)\\n    demo(a, b)\\n    print_info('结束状态：', a, b)\", \"def repeat(msg, times=1):\\n    print(msg * times)\\nrepeat('Hello')\\nrepeat('World ', 5)\", 'def fun(x, y, z=1):\\n    print(x, y, z)\\nfun( 1,y=2,z=3)\\nfun(z=3,y=2,x=1)', 'def fun(x,*xx,y=21,z=2, **yy):\\n    print(locals())\\nfun(1,2,4, z=88, y=99, k1=0,g=33)', \"def func(x):\\n    print(f'{x=}')\\n    x = 2\\n    print(f'函数体内：{id(x)=}')\\n    print(f'局部变量x： {x=}')\\nif __name__=='__main__':\\n    x = 50\\n    print(f'调用前：{id(x)=}')\\n    func(x)\\n    print(f'调用{func.__name__}后：{id(x)=}')\\n    print(f'x的值： {x=}')\", \"def func(x):\\n    global gx\\n    print(f'{x=}')\\n    gx = 2\\n    print(f'函数体内：{id(gx)=}, {id(x)=}')\\n    print(f'局部变量x： {x=}')\\nif __name__=='__main__':\\n    gx = 50\\n    print(f'调用前：{id(gx)=}')\\n    func(gx)\\n    print(f'调用{func.__name__}后：{id(gx)=}')\\n    print(f'x的值： {gx=}') \", \"def inspect():\\n    lx = 300\\n    ly = 400\\n    locals()['l'] = 'l-自设局部变量'\\n    print(f'函数体内：{locals()=},总共有{len(locals())}个局部变量')\\n    print(f'函数体内：{globals()=}，总共有:{len(globals())}全局变量')\\n    print(f'函数体内：{vars()=}，总共有:{len(vars())}个变量')\\n\\n\\nif __name__ == '__main__':\\n    x, y = 100, 200\\n    inspect()\\n    globals()['g'] = 'g-自设全局变量'\\n    vars()['v'] = 'v-自设变量'\\n    locals()['gl'] = 'gl-自设局部变量'\\n\\n    print(f'{locals()=},总共有{len(locals())}个局部变量')\\n    print(f'{globals()=}，总共有:{len(globals())}全局变量')\\n    print(f'{vars()=}，总共有:{len(vars())}个变量')\\n    print(f'测试globals()与vars()是否相同：{globals() == vars()}')\\n    print(f'测试globals()与locals()是否相同：{globals() == locals()}')\"], 'Out': {}, 'get_ipython': <bound method InteractiveShell.get_ipython of <ipykernel.zmqshell.ZMQInteractiveShell object at 0x0000022C7C551600>>, 'exit': <IPython.core.autocall.ZMQExitAutocall object at 0x0000022C7C552290>, 'quit': <IPython.core.autocall.ZMQExitAutocall object at 0x0000022C7C552290>, '_': '', '__': '', '___': '', '_i': \"def func(x):\\n    global gx\\n    print(f'{x=}')\\n    gx = 2\\n    print(f'函数体内：{id(gx)=}, {id(x)=}')\\n    print(f'局部变量x： {x=}')\\nif __name__=='__main__':\\n    gx = 50\\n    print(f'调用前：{id(gx)=}')\\n    func(gx)\\n    print(f'调用{func.__name__}后：{id(gx)=}')\\n    print(f'x的值： {gx=}') \", '_ii': \"def func(x):\\n    print(f'{x=}')\\n    x = 2\\n    print(f'函数体内：{id(x)=}')\\n    print(f'局部变量x： {x=}')\\nif __name__=='__main__':\\n    x = 50\\n    print(f'调用前：{id(x)=}')\\n    func(x)\\n    print(f'调用{func.__name__}后：{id(x)=}')\\n    print(f'x的值： {x=}')\", '_iii': 'def fun(x,*xx,y=21,z=2, **yy):\\n    print(locals())\\nfun(1,2,4, z=88, y=99, k1=0,g=33)', '_i1': \"def func_demo(r):\\n    '''\\n    此函数输入参数为圆的半径r，返回值为圆的周长和面积\\n    '''\\n    pi = 3.14\\n    p,a = 2 * pi * r, pi * r * r\\n    return p, a\\n\\nr = 9\\np, a = func_demo(r)\\nhelp(func_demo)\\nprint(type(func_demo(r)))\\nprint(f'Perimeter is: {p=}  Area is: {a=}')\\nprint(help(func_demo))\", 'func_demo': <function func_demo at 0x0000022C7C63FE20>, 'r': 9, 'p': 56.52, 'a': 1, 'sys': <module 'sys' (built-in)>, 'remove_imported_pydev_package': <function remove_imported_pydev_package at 0x0000022C7C5C17E0>, '_pydevd_bundle': <module '_pydevd_bundle' from 'C:\\\\Users\\\\Administrator\\\\AppData\\\\Local\\\\JetBrains\\\\Toolbox\\\\apps\\\\PyCharm-P\\\\ch-0\\\\221.5921.27\\\\plugins\\\\python\\\\helpers\\\\pydev\\\\_pydevd_bundle\\\\__init__.py'>, 'pydev_jupyter_vars': <module 'pydev_jupyter_vars' from 'C:\\\\Users\\\\Administrator\\\\AppData\\\\Local\\\\JetBrains\\\\Toolbox\\\\apps\\\\PyCharm-P\\\\ch-0\\\\221.5921.27\\\\plugins\\\\python\\\\helpers-pro\\\\jupyter_debug\\\\pydev_jupyter_vars.py'>, '_i2': \"def func_demo(r):\\n    '''\\n    此函数输入参数为圆的半径r，返回值为圆的周长和面积\\n    '''\\n    pi = 3.14\\n    p,a = 2 * pi * r,pi * r * r\\n   \\n    return p, a\\nr = 9\\nprint(help(func_demo))\\nprint(func_demo.__doc__)\", '_i3': \"def print_info(name, a, b):\\n    print(name+'-'*30)\\n    print(f'{id(a)=},{a=};{id(b)=},{b=}' )\\n\\ndef demo(a, b):\\n    a = a + 20\\n    b.append(99)\\n    print_info('函数体内',a, b)\\nif __name__ == '__main__':\\n    a, *b = list(range(1, 6))\\n    print_info('初始状态：',a, b)\\n    demo(a, b)\\n    print_info('结束状态：', a, b)\", 'print_info': <function print_info at 0x0000022C7C522E60>, 'demo': <function demo at 0x0000022C7C522EF0>, 'b': [2, 3, 4, 5, 99], '_i4': \"def repeat(msg, times=1):\\n    print(msg * times)\\nrepeat('Hello')\\nrepeat('World ', 5)\", 'repeat': <function repeat at 0x0000022C7BE505E0>, '_i5': 'def fun(x, y, z=1):\\n    print(x, y, z)\\nfun( 1,y=2,z=3)\\nfun(z=3,y=2,x=1)', 'fun': <function fun at 0x0000022C7C647A30>, '_i6': 'def fun(x,*xx,y=21,z=2, **yy):\\n    print(locals())\\nfun(1,2,4, z=88, y=99, k1=0,g=33)', '_i7': \"def func(x):\\n    print(f'{x=}')\\n    x = 2\\n    print(f'函数体内：{id(x)=}')\\n    print(f'局部变量x： {x=}')\\nif __name__=='__main__':\\n    x = 50\\n    print(f'调用前：{id(x)=}')\\n    func(x)\\n    print(f'调用{func.__name__}后：{id(x)=}')\\n    print(f'x的值： {x=}')\", 'func': <function func at 0x0000022C7C647AC0>, 'x': 100, '_i8': \"def func(x):\\n    global gx\\n    print(f'{x=}')\\n    gx = 2\\n    print(f'函数体内：{id(gx)=}, {id(x)=}')\\n    print(f'局部变量x： {x=}')\\nif __name__=='__main__':\\n    gx = 50\\n    print(f'调用前：{id(gx)=}')\\n    func(gx)\\n    print(f'调用{func.__name__}后：{id(gx)=}')\\n    print(f'x的值： {gx=}') \", 'gx': 2, '_i9': \"def inspect():\\n    lx = 300\\n    ly = 400\\n    locals()['l'] = 'l-自设局部变量'\\n    print(f'函数体内：{locals()=},总共有{len(locals())}个局部变量')\\n    print(f'函数体内：{globals()=}，总共有:{len(globals())}全局变量')\\n    print(f'函数体内：{vars()=}，总共有:{len(vars())}个变量')\\n\\n\\nif __name__ == '__main__':\\n    x, y = 100, 200\\n    inspect()\\n    globals()['g'] = 'g-自设全局变量'\\n    vars()['v'] = 'v-自设变量'\\n    locals()['gl'] = 'gl-自设局部变量'\\n\\n    print(f'{locals()=},总共有{len(locals())}个局部变量')\\n    print(f'{globals()=}，总共有:{len(globals())}全局变量')\\n    print(f'{vars()=}，总共有:{len(vars())}个变量')\\n    print(f'测试globals()与vars()是否相同：{globals() == vars()}')\\n    print(f'测试globals()与locals()是否相同：{globals() == locals()}')\", 'inspect': <function inspect at 0x0000022C7C6476D0>, 'y': 200}，总共有:48全局变量\n",
      "函数体内：vars()={'lx': 300, 'ly': 400, 'l': 'l-自设局部变量'}，总共有:3个变量\n",
      "locals()={'__name__': '__main__', '__doc__': 'Automatically created module for IPython interactive environment', '__package__': None, '__loader__': None, '__spec__': None, '__builtin__': <module 'builtins' (built-in)>, '__builtins__': <module 'builtins' (built-in)>, '_ih': ['', \"def func_demo(r):\\n    '''\\n    此函数输入参数为圆的半径r，返回值为圆的周长和面积\\n    '''\\n    pi = 3.14\\n    p,a = 2 * pi * r, pi * r * r\\n    return p, a\\n\\nr = 9\\np, a = func_demo(r)\\nhelp(func_demo)\\nprint(type(func_demo(r)))\\nprint(f'Perimeter is: {p=}  Area is: {a=}')\\nprint(help(func_demo))\", \"def func_demo(r):\\n    '''\\n    此函数输入参数为圆的半径r，返回值为圆的周长和面积\\n    '''\\n    pi = 3.14\\n    p,a = 2 * pi * r,pi * r * r\\n   \\n    return p, a\\nr = 9\\nprint(help(func_demo))\\nprint(func_demo.__doc__)\", \"def print_info(name, a, b):\\n    print(name+'-'*30)\\n    print(f'{id(a)=},{a=};{id(b)=},{b=}' )\\n\\ndef demo(a, b):\\n    a = a + 20\\n    b.append(99)\\n    print_info('函数体内',a, b)\\nif __name__ == '__main__':\\n    a, *b = list(range(1, 6))\\n    print_info('初始状态：',a, b)\\n    demo(a, b)\\n    print_info('结束状态：', a, b)\", \"def repeat(msg, times=1):\\n    print(msg * times)\\nrepeat('Hello')\\nrepeat('World ', 5)\", 'def fun(x, y, z=1):\\n    print(x, y, z)\\nfun( 1,y=2,z=3)\\nfun(z=3,y=2,x=1)', 'def fun(x,*xx,y=21,z=2, **yy):\\n    print(locals())\\nfun(1,2,4, z=88, y=99, k1=0,g=33)', \"def func(x):\\n    print(f'{x=}')\\n    x = 2\\n    print(f'函数体内：{id(x)=}')\\n    print(f'局部变量x： {x=}')\\nif __name__=='__main__':\\n    x = 50\\n    print(f'调用前：{id(x)=}')\\n    func(x)\\n    print(f'调用{func.__name__}后：{id(x)=}')\\n    print(f'x的值： {x=}')\", \"def func(x):\\n    global gx\\n    print(f'{x=}')\\n    gx = 2\\n    print(f'函数体内：{id(gx)=}, {id(x)=}')\\n    print(f'局部变量x： {x=}')\\nif __name__=='__main__':\\n    gx = 50\\n    print(f'调用前：{id(gx)=}')\\n    func(gx)\\n    print(f'调用{func.__name__}后：{id(gx)=}')\\n    print(f'x的值： {gx=}') \", \"def inspect():\\n    lx = 300\\n    ly = 400\\n    locals()['l'] = 'l-自设局部变量'\\n    print(f'函数体内：{locals()=},总共有{len(locals())}个局部变量')\\n    print(f'函数体内：{globals()=}，总共有:{len(globals())}全局变量')\\n    print(f'函数体内：{vars()=}，总共有:{len(vars())}个变量')\\n\\n\\nif __name__ == '__main__':\\n    x, y = 100, 200\\n    inspect()\\n    globals()['g'] = 'g-自设全局变量'\\n    vars()['v'] = 'v-自设变量'\\n    locals()['gl'] = 'gl-自设局部变量'\\n\\n    print(f'{locals()=},总共有{len(locals())}个局部变量')\\n    print(f'{globals()=}，总共有:{len(globals())}全局变量')\\n    print(f'{vars()=}，总共有:{len(vars())}个变量')\\n    print(f'测试globals()与vars()是否相同：{globals() == vars()}')\\n    print(f'测试globals()与locals()是否相同：{globals() == locals()}')\"], '_oh': {}, '_dh': ['C:\\\\Users\\\\Administrator\\\\Desktop\\\\2022年7月\\\\python_education_tools\\\\src\\\\pet\\\\textbook1'], 'In': ['', \"def func_demo(r):\\n    '''\\n    此函数输入参数为圆的半径r，返回值为圆的周长和面积\\n    '''\\n    pi = 3.14\\n    p,a = 2 * pi * r, pi * r * r\\n    return p, a\\n\\nr = 9\\np, a = func_demo(r)\\nhelp(func_demo)\\nprint(type(func_demo(r)))\\nprint(f'Perimeter is: {p=}  Area is: {a=}')\\nprint(help(func_demo))\", \"def func_demo(r):\\n    '''\\n    此函数输入参数为圆的半径r，返回值为圆的周长和面积\\n    '''\\n    pi = 3.14\\n    p,a = 2 * pi * r,pi * r * r\\n   \\n    return p, a\\nr = 9\\nprint(help(func_demo))\\nprint(func_demo.__doc__)\", \"def print_info(name, a, b):\\n    print(name+'-'*30)\\n    print(f'{id(a)=},{a=};{id(b)=},{b=}' )\\n\\ndef demo(a, b):\\n    a = a + 20\\n    b.append(99)\\n    print_info('函数体内',a, b)\\nif __name__ == '__main__':\\n    a, *b = list(range(1, 6))\\n    print_info('初始状态：',a, b)\\n    demo(a, b)\\n    print_info('结束状态：', a, b)\", \"def repeat(msg, times=1):\\n    print(msg * times)\\nrepeat('Hello')\\nrepeat('World ', 5)\", 'def fun(x, y, z=1):\\n    print(x, y, z)\\nfun( 1,y=2,z=3)\\nfun(z=3,y=2,x=1)', 'def fun(x,*xx,y=21,z=2, **yy):\\n    print(locals())\\nfun(1,2,4, z=88, y=99, k1=0,g=33)', \"def func(x):\\n    print(f'{x=}')\\n    x = 2\\n    print(f'函数体内：{id(x)=}')\\n    print(f'局部变量x： {x=}')\\nif __name__=='__main__':\\n    x = 50\\n    print(f'调用前：{id(x)=}')\\n    func(x)\\n    print(f'调用{func.__name__}后：{id(x)=}')\\n    print(f'x的值： {x=}')\", \"def func(x):\\n    global gx\\n    print(f'{x=}')\\n    gx = 2\\n    print(f'函数体内：{id(gx)=}, {id(x)=}')\\n    print(f'局部变量x： {x=}')\\nif __name__=='__main__':\\n    gx = 50\\n    print(f'调用前：{id(gx)=}')\\n    func(gx)\\n    print(f'调用{func.__name__}后：{id(gx)=}')\\n    print(f'x的值： {gx=}') \", \"def inspect():\\n    lx = 300\\n    ly = 400\\n    locals()['l'] = 'l-自设局部变量'\\n    print(f'函数体内：{locals()=},总共有{len(locals())}个局部变量')\\n    print(f'函数体内：{globals()=}，总共有:{len(globals())}全局变量')\\n    print(f'函数体内：{vars()=}，总共有:{len(vars())}个变量')\\n\\n\\nif __name__ == '__main__':\\n    x, y = 100, 200\\n    inspect()\\n    globals()['g'] = 'g-自设全局变量'\\n    vars()['v'] = 'v-自设变量'\\n    locals()['gl'] = 'gl-自设局部变量'\\n\\n    print(f'{locals()=},总共有{len(locals())}个局部变量')\\n    print(f'{globals()=}，总共有:{len(globals())}全局变量')\\n    print(f'{vars()=}，总共有:{len(vars())}个变量')\\n    print(f'测试globals()与vars()是否相同：{globals() == vars()}')\\n    print(f'测试globals()与locals()是否相同：{globals() == locals()}')\"], 'Out': {}, 'get_ipython': <bound method InteractiveShell.get_ipython of <ipykernel.zmqshell.ZMQInteractiveShell object at 0x0000022C7C551600>>, 'exit': <IPython.core.autocall.ZMQExitAutocall object at 0x0000022C7C552290>, 'quit': <IPython.core.autocall.ZMQExitAutocall object at 0x0000022C7C552290>, '_': '', '__': '', '___': '', '_i': \"def func(x):\\n    global gx\\n    print(f'{x=}')\\n    gx = 2\\n    print(f'函数体内：{id(gx)=}, {id(x)=}')\\n    print(f'局部变量x： {x=}')\\nif __name__=='__main__':\\n    gx = 50\\n    print(f'调用前：{id(gx)=}')\\n    func(gx)\\n    print(f'调用{func.__name__}后：{id(gx)=}')\\n    print(f'x的值： {gx=}') \", '_ii': \"def func(x):\\n    print(f'{x=}')\\n    x = 2\\n    print(f'函数体内：{id(x)=}')\\n    print(f'局部变量x： {x=}')\\nif __name__=='__main__':\\n    x = 50\\n    print(f'调用前：{id(x)=}')\\n    func(x)\\n    print(f'调用{func.__name__}后：{id(x)=}')\\n    print(f'x的值： {x=}')\", '_iii': 'def fun(x,*xx,y=21,z=2, **yy):\\n    print(locals())\\nfun(1,2,4, z=88, y=99, k1=0,g=33)', '_i1': \"def func_demo(r):\\n    '''\\n    此函数输入参数为圆的半径r，返回值为圆的周长和面积\\n    '''\\n    pi = 3.14\\n    p,a = 2 * pi * r, pi * r * r\\n    return p, a\\n\\nr = 9\\np, a = func_demo(r)\\nhelp(func_demo)\\nprint(type(func_demo(r)))\\nprint(f'Perimeter is: {p=}  Area is: {a=}')\\nprint(help(func_demo))\", 'func_demo': <function func_demo at 0x0000022C7C63FE20>, 'r': 9, 'p': 56.52, 'a': 1, 'sys': <module 'sys' (built-in)>, 'remove_imported_pydev_package': <function remove_imported_pydev_package at 0x0000022C7C5C17E0>, '_pydevd_bundle': <module '_pydevd_bundle' from 'C:\\\\Users\\\\Administrator\\\\AppData\\\\Local\\\\JetBrains\\\\Toolbox\\\\apps\\\\PyCharm-P\\\\ch-0\\\\221.5921.27\\\\plugins\\\\python\\\\helpers\\\\pydev\\\\_pydevd_bundle\\\\__init__.py'>, 'pydev_jupyter_vars': <module 'pydev_jupyter_vars' from 'C:\\\\Users\\\\Administrator\\\\AppData\\\\Local\\\\JetBrains\\\\Toolbox\\\\apps\\\\PyCharm-P\\\\ch-0\\\\221.5921.27\\\\plugins\\\\python\\\\helpers-pro\\\\jupyter_debug\\\\pydev_jupyter_vars.py'>, '_i2': \"def func_demo(r):\\n    '''\\n    此函数输入参数为圆的半径r，返回值为圆的周长和面积\\n    '''\\n    pi = 3.14\\n    p,a = 2 * pi * r,pi * r * r\\n   \\n    return p, a\\nr = 9\\nprint(help(func_demo))\\nprint(func_demo.__doc__)\", '_i3': \"def print_info(name, a, b):\\n    print(name+'-'*30)\\n    print(f'{id(a)=},{a=};{id(b)=},{b=}' )\\n\\ndef demo(a, b):\\n    a = a + 20\\n    b.append(99)\\n    print_info('函数体内',a, b)\\nif __name__ == '__main__':\\n    a, *b = list(range(1, 6))\\n    print_info('初始状态：',a, b)\\n    demo(a, b)\\n    print_info('结束状态：', a, b)\", 'print_info': <function print_info at 0x0000022C7C522E60>, 'demo': <function demo at 0x0000022C7C522EF0>, 'b': [2, 3, 4, 5, 99], '_i4': \"def repeat(msg, times=1):\\n    print(msg * times)\\nrepeat('Hello')\\nrepeat('World ', 5)\", 'repeat': <function repeat at 0x0000022C7BE505E0>, '_i5': 'def fun(x, y, z=1):\\n    print(x, y, z)\\nfun( 1,y=2,z=3)\\nfun(z=3,y=2,x=1)', 'fun': <function fun at 0x0000022C7C647A30>, '_i6': 'def fun(x,*xx,y=21,z=2, **yy):\\n    print(locals())\\nfun(1,2,4, z=88, y=99, k1=0,g=33)', '_i7': \"def func(x):\\n    print(f'{x=}')\\n    x = 2\\n    print(f'函数体内：{id(x)=}')\\n    print(f'局部变量x： {x=}')\\nif __name__=='__main__':\\n    x = 50\\n    print(f'调用前：{id(x)=}')\\n    func(x)\\n    print(f'调用{func.__name__}后：{id(x)=}')\\n    print(f'x的值： {x=}')\", 'func': <function func at 0x0000022C7C647AC0>, 'x': 100, '_i8': \"def func(x):\\n    global gx\\n    print(f'{x=}')\\n    gx = 2\\n    print(f'函数体内：{id(gx)=}, {id(x)=}')\\n    print(f'局部变量x： {x=}')\\nif __name__=='__main__':\\n    gx = 50\\n    print(f'调用前：{id(gx)=}')\\n    func(gx)\\n    print(f'调用{func.__name__}后：{id(gx)=}')\\n    print(f'x的值： {gx=}') \", 'gx': 2, '_i9': \"def inspect():\\n    lx = 300\\n    ly = 400\\n    locals()['l'] = 'l-自设局部变量'\\n    print(f'函数体内：{locals()=},总共有{len(locals())}个局部变量')\\n    print(f'函数体内：{globals()=}，总共有:{len(globals())}全局变量')\\n    print(f'函数体内：{vars()=}，总共有:{len(vars())}个变量')\\n\\n\\nif __name__ == '__main__':\\n    x, y = 100, 200\\n    inspect()\\n    globals()['g'] = 'g-自设全局变量'\\n    vars()['v'] = 'v-自设变量'\\n    locals()['gl'] = 'gl-自设局部变量'\\n\\n    print(f'{locals()=},总共有{len(locals())}个局部变量')\\n    print(f'{globals()=}，总共有:{len(globals())}全局变量')\\n    print(f'{vars()=}，总共有:{len(vars())}个变量')\\n    print(f'测试globals()与vars()是否相同：{globals() == vars()}')\\n    print(f'测试globals()与locals()是否相同：{globals() == locals()}')\", 'inspect': <function inspect at 0x0000022C7C6476D0>, 'y': 200, 'g': 'g-自设全局变量', 'v': 'v-自设变量', 'gl': 'gl-自设局部变量'},总共有51个局部变量\n",
      "globals()={'__name__': '__main__', '__doc__': 'Automatically created module for IPython interactive environment', '__package__': None, '__loader__': None, '__spec__': None, '__builtin__': <module 'builtins' (built-in)>, '__builtins__': <module 'builtins' (built-in)>, '_ih': ['', \"def func_demo(r):\\n    '''\\n    此函数输入参数为圆的半径r，返回值为圆的周长和面积\\n    '''\\n    pi = 3.14\\n    p,a = 2 * pi * r, pi * r * r\\n    return p, a\\n\\nr = 9\\np, a = func_demo(r)\\nhelp(func_demo)\\nprint(type(func_demo(r)))\\nprint(f'Perimeter is: {p=}  Area is: {a=}')\\nprint(help(func_demo))\", \"def func_demo(r):\\n    '''\\n    此函数输入参数为圆的半径r，返回值为圆的周长和面积\\n    '''\\n    pi = 3.14\\n    p,a = 2 * pi * r,pi * r * r\\n   \\n    return p, a\\nr = 9\\nprint(help(func_demo))\\nprint(func_demo.__doc__)\", \"def print_info(name, a, b):\\n    print(name+'-'*30)\\n    print(f'{id(a)=},{a=};{id(b)=},{b=}' )\\n\\ndef demo(a, b):\\n    a = a + 20\\n    b.append(99)\\n    print_info('函数体内',a, b)\\nif __name__ == '__main__':\\n    a, *b = list(range(1, 6))\\n    print_info('初始状态：',a, b)\\n    demo(a, b)\\n    print_info('结束状态：', a, b)\", \"def repeat(msg, times=1):\\n    print(msg * times)\\nrepeat('Hello')\\nrepeat('World ', 5)\", 'def fun(x, y, z=1):\\n    print(x, y, z)\\nfun( 1,y=2,z=3)\\nfun(z=3,y=2,x=1)', 'def fun(x,*xx,y=21,z=2, **yy):\\n    print(locals())\\nfun(1,2,4, z=88, y=99, k1=0,g=33)', \"def func(x):\\n    print(f'{x=}')\\n    x = 2\\n    print(f'函数体内：{id(x)=}')\\n    print(f'局部变量x： {x=}')\\nif __name__=='__main__':\\n    x = 50\\n    print(f'调用前：{id(x)=}')\\n    func(x)\\n    print(f'调用{func.__name__}后：{id(x)=}')\\n    print(f'x的值： {x=}')\", \"def func(x):\\n    global gx\\n    print(f'{x=}')\\n    gx = 2\\n    print(f'函数体内：{id(gx)=}, {id(x)=}')\\n    print(f'局部变量x： {x=}')\\nif __name__=='__main__':\\n    gx = 50\\n    print(f'调用前：{id(gx)=}')\\n    func(gx)\\n    print(f'调用{func.__name__}后：{id(gx)=}')\\n    print(f'x的值： {gx=}') \", \"def inspect():\\n    lx = 300\\n    ly = 400\\n    locals()['l'] = 'l-自设局部变量'\\n    print(f'函数体内：{locals()=},总共有{len(locals())}个局部变量')\\n    print(f'函数体内：{globals()=}，总共有:{len(globals())}全局变量')\\n    print(f'函数体内：{vars()=}，总共有:{len(vars())}个变量')\\n\\n\\nif __name__ == '__main__':\\n    x, y = 100, 200\\n    inspect()\\n    globals()['g'] = 'g-自设全局变量'\\n    vars()['v'] = 'v-自设变量'\\n    locals()['gl'] = 'gl-自设局部变量'\\n\\n    print(f'{locals()=},总共有{len(locals())}个局部变量')\\n    print(f'{globals()=}，总共有:{len(globals())}全局变量')\\n    print(f'{vars()=}，总共有:{len(vars())}个变量')\\n    print(f'测试globals()与vars()是否相同：{globals() == vars()}')\\n    print(f'测试globals()与locals()是否相同：{globals() == locals()}')\"], '_oh': {}, '_dh': ['C:\\\\Users\\\\Administrator\\\\Desktop\\\\2022年7月\\\\python_education_tools\\\\src\\\\pet\\\\textbook1'], 'In': ['', \"def func_demo(r):\\n    '''\\n    此函数输入参数为圆的半径r，返回值为圆的周长和面积\\n    '''\\n    pi = 3.14\\n    p,a = 2 * pi * r, pi * r * r\\n    return p, a\\n\\nr = 9\\np, a = func_demo(r)\\nhelp(func_demo)\\nprint(type(func_demo(r)))\\nprint(f'Perimeter is: {p=}  Area is: {a=}')\\nprint(help(func_demo))\", \"def func_demo(r):\\n    '''\\n    此函数输入参数为圆的半径r，返回值为圆的周长和面积\\n    '''\\n    pi = 3.14\\n    p,a = 2 * pi * r,pi * r * r\\n   \\n    return p, a\\nr = 9\\nprint(help(func_demo))\\nprint(func_demo.__doc__)\", \"def print_info(name, a, b):\\n    print(name+'-'*30)\\n    print(f'{id(a)=},{a=};{id(b)=},{b=}' )\\n\\ndef demo(a, b):\\n    a = a + 20\\n    b.append(99)\\n    print_info('函数体内',a, b)\\nif __name__ == '__main__':\\n    a, *b = list(range(1, 6))\\n    print_info('初始状态：',a, b)\\n    demo(a, b)\\n    print_info('结束状态：', a, b)\", \"def repeat(msg, times=1):\\n    print(msg * times)\\nrepeat('Hello')\\nrepeat('World ', 5)\", 'def fun(x, y, z=1):\\n    print(x, y, z)\\nfun( 1,y=2,z=3)\\nfun(z=3,y=2,x=1)', 'def fun(x,*xx,y=21,z=2, **yy):\\n    print(locals())\\nfun(1,2,4, z=88, y=99, k1=0,g=33)', \"def func(x):\\n    print(f'{x=}')\\n    x = 2\\n    print(f'函数体内：{id(x)=}')\\n    print(f'局部变量x： {x=}')\\nif __name__=='__main__':\\n    x = 50\\n    print(f'调用前：{id(x)=}')\\n    func(x)\\n    print(f'调用{func.__name__}后：{id(x)=}')\\n    print(f'x的值： {x=}')\", \"def func(x):\\n    global gx\\n    print(f'{x=}')\\n    gx = 2\\n    print(f'函数体内：{id(gx)=}, {id(x)=}')\\n    print(f'局部变量x： {x=}')\\nif __name__=='__main__':\\n    gx = 50\\n    print(f'调用前：{id(gx)=}')\\n    func(gx)\\n    print(f'调用{func.__name__}后：{id(gx)=}')\\n    print(f'x的值： {gx=}') \", \"def inspect():\\n    lx = 300\\n    ly = 400\\n    locals()['l'] = 'l-自设局部变量'\\n    print(f'函数体内：{locals()=},总共有{len(locals())}个局部变量')\\n    print(f'函数体内：{globals()=}，总共有:{len(globals())}全局变量')\\n    print(f'函数体内：{vars()=}，总共有:{len(vars())}个变量')\\n\\n\\nif __name__ == '__main__':\\n    x, y = 100, 200\\n    inspect()\\n    globals()['g'] = 'g-自设全局变量'\\n    vars()['v'] = 'v-自设变量'\\n    locals()['gl'] = 'gl-自设局部变量'\\n\\n    print(f'{locals()=},总共有{len(locals())}个局部变量')\\n    print(f'{globals()=}，总共有:{len(globals())}全局变量')\\n    print(f'{vars()=}，总共有:{len(vars())}个变量')\\n    print(f'测试globals()与vars()是否相同：{globals() == vars()}')\\n    print(f'测试globals()与locals()是否相同：{globals() == locals()}')\"], 'Out': {}, 'get_ipython': <bound method InteractiveShell.get_ipython of <ipykernel.zmqshell.ZMQInteractiveShell object at 0x0000022C7C551600>>, 'exit': <IPython.core.autocall.ZMQExitAutocall object at 0x0000022C7C552290>, 'quit': <IPython.core.autocall.ZMQExitAutocall object at 0x0000022C7C552290>, '_': '', '__': '', '___': '', '_i': \"def func(x):\\n    global gx\\n    print(f'{x=}')\\n    gx = 2\\n    print(f'函数体内：{id(gx)=}, {id(x)=}')\\n    print(f'局部变量x： {x=}')\\nif __name__=='__main__':\\n    gx = 50\\n    print(f'调用前：{id(gx)=}')\\n    func(gx)\\n    print(f'调用{func.__name__}后：{id(gx)=}')\\n    print(f'x的值： {gx=}') \", '_ii': \"def func(x):\\n    print(f'{x=}')\\n    x = 2\\n    print(f'函数体内：{id(x)=}')\\n    print(f'局部变量x： {x=}')\\nif __name__=='__main__':\\n    x = 50\\n    print(f'调用前：{id(x)=}')\\n    func(x)\\n    print(f'调用{func.__name__}后：{id(x)=}')\\n    print(f'x的值： {x=}')\", '_iii': 'def fun(x,*xx,y=21,z=2, **yy):\\n    print(locals())\\nfun(1,2,4, z=88, y=99, k1=0,g=33)', '_i1': \"def func_demo(r):\\n    '''\\n    此函数输入参数为圆的半径r，返回值为圆的周长和面积\\n    '''\\n    pi = 3.14\\n    p,a = 2 * pi * r, pi * r * r\\n    return p, a\\n\\nr = 9\\np, a = func_demo(r)\\nhelp(func_demo)\\nprint(type(func_demo(r)))\\nprint(f'Perimeter is: {p=}  Area is: {a=}')\\nprint(help(func_demo))\", 'func_demo': <function func_demo at 0x0000022C7C63FE20>, 'r': 9, 'p': 56.52, 'a': 1, 'sys': <module 'sys' (built-in)>, 'remove_imported_pydev_package': <function remove_imported_pydev_package at 0x0000022C7C5C17E0>, '_pydevd_bundle': <module '_pydevd_bundle' from 'C:\\\\Users\\\\Administrator\\\\AppData\\\\Local\\\\JetBrains\\\\Toolbox\\\\apps\\\\PyCharm-P\\\\ch-0\\\\221.5921.27\\\\plugins\\\\python\\\\helpers\\\\pydev\\\\_pydevd_bundle\\\\__init__.py'>, 'pydev_jupyter_vars': <module 'pydev_jupyter_vars' from 'C:\\\\Users\\\\Administrator\\\\AppData\\\\Local\\\\JetBrains\\\\Toolbox\\\\apps\\\\PyCharm-P\\\\ch-0\\\\221.5921.27\\\\plugins\\\\python\\\\helpers-pro\\\\jupyter_debug\\\\pydev_jupyter_vars.py'>, '_i2': \"def func_demo(r):\\n    '''\\n    此函数输入参数为圆的半径r，返回值为圆的周长和面积\\n    '''\\n    pi = 3.14\\n    p,a = 2 * pi * r,pi * r * r\\n   \\n    return p, a\\nr = 9\\nprint(help(func_demo))\\nprint(func_demo.__doc__)\", '_i3': \"def print_info(name, a, b):\\n    print(name+'-'*30)\\n    print(f'{id(a)=},{a=};{id(b)=},{b=}' )\\n\\ndef demo(a, b):\\n    a = a + 20\\n    b.append(99)\\n    print_info('函数体内',a, b)\\nif __name__ == '__main__':\\n    a, *b = list(range(1, 6))\\n    print_info('初始状态：',a, b)\\n    demo(a, b)\\n    print_info('结束状态：', a, b)\", 'print_info': <function print_info at 0x0000022C7C522E60>, 'demo': <function demo at 0x0000022C7C522EF0>, 'b': [2, 3, 4, 5, 99], '_i4': \"def repeat(msg, times=1):\\n    print(msg * times)\\nrepeat('Hello')\\nrepeat('World ', 5)\", 'repeat': <function repeat at 0x0000022C7BE505E0>, '_i5': 'def fun(x, y, z=1):\\n    print(x, y, z)\\nfun( 1,y=2,z=3)\\nfun(z=3,y=2,x=1)', 'fun': <function fun at 0x0000022C7C647A30>, '_i6': 'def fun(x,*xx,y=21,z=2, **yy):\\n    print(locals())\\nfun(1,2,4, z=88, y=99, k1=0,g=33)', '_i7': \"def func(x):\\n    print(f'{x=}')\\n    x = 2\\n    print(f'函数体内：{id(x)=}')\\n    print(f'局部变量x： {x=}')\\nif __name__=='__main__':\\n    x = 50\\n    print(f'调用前：{id(x)=}')\\n    func(x)\\n    print(f'调用{func.__name__}后：{id(x)=}')\\n    print(f'x的值： {x=}')\", 'func': <function func at 0x0000022C7C647AC0>, 'x': 100, '_i8': \"def func(x):\\n    global gx\\n    print(f'{x=}')\\n    gx = 2\\n    print(f'函数体内：{id(gx)=}, {id(x)=}')\\n    print(f'局部变量x： {x=}')\\nif __name__=='__main__':\\n    gx = 50\\n    print(f'调用前：{id(gx)=}')\\n    func(gx)\\n    print(f'调用{func.__name__}后：{id(gx)=}')\\n    print(f'x的值： {gx=}') \", 'gx': 2, '_i9': \"def inspect():\\n    lx = 300\\n    ly = 400\\n    locals()['l'] = 'l-自设局部变量'\\n    print(f'函数体内：{locals()=},总共有{len(locals())}个局部变量')\\n    print(f'函数体内：{globals()=}，总共有:{len(globals())}全局变量')\\n    print(f'函数体内：{vars()=}，总共有:{len(vars())}个变量')\\n\\n\\nif __name__ == '__main__':\\n    x, y = 100, 200\\n    inspect()\\n    globals()['g'] = 'g-自设全局变量'\\n    vars()['v'] = 'v-自设变量'\\n    locals()['gl'] = 'gl-自设局部变量'\\n\\n    print(f'{locals()=},总共有{len(locals())}个局部变量')\\n    print(f'{globals()=}，总共有:{len(globals())}全局变量')\\n    print(f'{vars()=}，总共有:{len(vars())}个变量')\\n    print(f'测试globals()与vars()是否相同：{globals() == vars()}')\\n    print(f'测试globals()与locals()是否相同：{globals() == locals()}')\", 'inspect': <function inspect at 0x0000022C7C6476D0>, 'y': 200, 'g': 'g-自设全局变量', 'v': 'v-自设变量', 'gl': 'gl-自设局部变量'}，总共有:51全局变量\n",
      "vars()={'__name__': '__main__', '__doc__': 'Automatically created module for IPython interactive environment', '__package__': None, '__loader__': None, '__spec__': None, '__builtin__': <module 'builtins' (built-in)>, '__builtins__': <module 'builtins' (built-in)>, '_ih': ['', \"def func_demo(r):\\n    '''\\n    此函数输入参数为圆的半径r，返回值为圆的周长和面积\\n    '''\\n    pi = 3.14\\n    p,a = 2 * pi * r, pi * r * r\\n    return p, a\\n\\nr = 9\\np, a = func_demo(r)\\nhelp(func_demo)\\nprint(type(func_demo(r)))\\nprint(f'Perimeter is: {p=}  Area is: {a=}')\\nprint(help(func_demo))\", \"def func_demo(r):\\n    '''\\n    此函数输入参数为圆的半径r，返回值为圆的周长和面积\\n    '''\\n    pi = 3.14\\n    p,a = 2 * pi * r,pi * r * r\\n   \\n    return p, a\\nr = 9\\nprint(help(func_demo))\\nprint(func_demo.__doc__)\", \"def print_info(name, a, b):\\n    print(name+'-'*30)\\n    print(f'{id(a)=},{a=};{id(b)=},{b=}' )\\n\\ndef demo(a, b):\\n    a = a + 20\\n    b.append(99)\\n    print_info('函数体内',a, b)\\nif __name__ == '__main__':\\n    a, *b = list(range(1, 6))\\n    print_info('初始状态：',a, b)\\n    demo(a, b)\\n    print_info('结束状态：', a, b)\", \"def repeat(msg, times=1):\\n    print(msg * times)\\nrepeat('Hello')\\nrepeat('World ', 5)\", 'def fun(x, y, z=1):\\n    print(x, y, z)\\nfun( 1,y=2,z=3)\\nfun(z=3,y=2,x=1)', 'def fun(x,*xx,y=21,z=2, **yy):\\n    print(locals())\\nfun(1,2,4, z=88, y=99, k1=0,g=33)', \"def func(x):\\n    print(f'{x=}')\\n    x = 2\\n    print(f'函数体内：{id(x)=}')\\n    print(f'局部变量x： {x=}')\\nif __name__=='__main__':\\n    x = 50\\n    print(f'调用前：{id(x)=}')\\n    func(x)\\n    print(f'调用{func.__name__}后：{id(x)=}')\\n    print(f'x的值： {x=}')\", \"def func(x):\\n    global gx\\n    print(f'{x=}')\\n    gx = 2\\n    print(f'函数体内：{id(gx)=}, {id(x)=}')\\n    print(f'局部变量x： {x=}')\\nif __name__=='__main__':\\n    gx = 50\\n    print(f'调用前：{id(gx)=}')\\n    func(gx)\\n    print(f'调用{func.__name__}后：{id(gx)=}')\\n    print(f'x的值： {gx=}') \", \"def inspect():\\n    lx = 300\\n    ly = 400\\n    locals()['l'] = 'l-自设局部变量'\\n    print(f'函数体内：{locals()=},总共有{len(locals())}个局部变量')\\n    print(f'函数体内：{globals()=}，总共有:{len(globals())}全局变量')\\n    print(f'函数体内：{vars()=}，总共有:{len(vars())}个变量')\\n\\n\\nif __name__ == '__main__':\\n    x, y = 100, 200\\n    inspect()\\n    globals()['g'] = 'g-自设全局变量'\\n    vars()['v'] = 'v-自设变量'\\n    locals()['gl'] = 'gl-自设局部变量'\\n\\n    print(f'{locals()=},总共有{len(locals())}个局部变量')\\n    print(f'{globals()=}，总共有:{len(globals())}全局变量')\\n    print(f'{vars()=}，总共有:{len(vars())}个变量')\\n    print(f'测试globals()与vars()是否相同：{globals() == vars()}')\\n    print(f'测试globals()与locals()是否相同：{globals() == locals()}')\"], '_oh': {}, '_dh': ['C:\\\\Users\\\\Administrator\\\\Desktop\\\\2022年7月\\\\python_education_tools\\\\src\\\\pet\\\\textbook1'], 'In': ['', \"def func_demo(r):\\n    '''\\n    此函数输入参数为圆的半径r，返回值为圆的周长和面积\\n    '''\\n    pi = 3.14\\n    p,a = 2 * pi * r, pi * r * r\\n    return p, a\\n\\nr = 9\\np, a = func_demo(r)\\nhelp(func_demo)\\nprint(type(func_demo(r)))\\nprint(f'Perimeter is: {p=}  Area is: {a=}')\\nprint(help(func_demo))\", \"def func_demo(r):\\n    '''\\n    此函数输入参数为圆的半径r，返回值为圆的周长和面积\\n    '''\\n    pi = 3.14\\n    p,a = 2 * pi * r,pi * r * r\\n   \\n    return p, a\\nr = 9\\nprint(help(func_demo))\\nprint(func_demo.__doc__)\", \"def print_info(name, a, b):\\n    print(name+'-'*30)\\n    print(f'{id(a)=},{a=};{id(b)=},{b=}' )\\n\\ndef demo(a, b):\\n    a = a + 20\\n    b.append(99)\\n    print_info('函数体内',a, b)\\nif __name__ == '__main__':\\n    a, *b = list(range(1, 6))\\n    print_info('初始状态：',a, b)\\n    demo(a, b)\\n    print_info('结束状态：', a, b)\", \"def repeat(msg, times=1):\\n    print(msg * times)\\nrepeat('Hello')\\nrepeat('World ', 5)\", 'def fun(x, y, z=1):\\n    print(x, y, z)\\nfun( 1,y=2,z=3)\\nfun(z=3,y=2,x=1)', 'def fun(x,*xx,y=21,z=2, **yy):\\n    print(locals())\\nfun(1,2,4, z=88, y=99, k1=0,g=33)', \"def func(x):\\n    print(f'{x=}')\\n    x = 2\\n    print(f'函数体内：{id(x)=}')\\n    print(f'局部变量x： {x=}')\\nif __name__=='__main__':\\n    x = 50\\n    print(f'调用前：{id(x)=}')\\n    func(x)\\n    print(f'调用{func.__name__}后：{id(x)=}')\\n    print(f'x的值： {x=}')\", \"def func(x):\\n    global gx\\n    print(f'{x=}')\\n    gx = 2\\n    print(f'函数体内：{id(gx)=}, {id(x)=}')\\n    print(f'局部变量x： {x=}')\\nif __name__=='__main__':\\n    gx = 50\\n    print(f'调用前：{id(gx)=}')\\n    func(gx)\\n    print(f'调用{func.__name__}后：{id(gx)=}')\\n    print(f'x的值： {gx=}') \", \"def inspect():\\n    lx = 300\\n    ly = 400\\n    locals()['l'] = 'l-自设局部变量'\\n    print(f'函数体内：{locals()=},总共有{len(locals())}个局部变量')\\n    print(f'函数体内：{globals()=}，总共有:{len(globals())}全局变量')\\n    print(f'函数体内：{vars()=}，总共有:{len(vars())}个变量')\\n\\n\\nif __name__ == '__main__':\\n    x, y = 100, 200\\n    inspect()\\n    globals()['g'] = 'g-自设全局变量'\\n    vars()['v'] = 'v-自设变量'\\n    locals()['gl'] = 'gl-自设局部变量'\\n\\n    print(f'{locals()=},总共有{len(locals())}个局部变量')\\n    print(f'{globals()=}，总共有:{len(globals())}全局变量')\\n    print(f'{vars()=}，总共有:{len(vars())}个变量')\\n    print(f'测试globals()与vars()是否相同：{globals() == vars()}')\\n    print(f'测试globals()与locals()是否相同：{globals() == locals()}')\"], 'Out': {}, 'get_ipython': <bound method InteractiveShell.get_ipython of <ipykernel.zmqshell.ZMQInteractiveShell object at 0x0000022C7C551600>>, 'exit': <IPython.core.autocall.ZMQExitAutocall object at 0x0000022C7C552290>, 'quit': <IPython.core.autocall.ZMQExitAutocall object at 0x0000022C7C552290>, '_': '', '__': '', '___': '', '_i': \"def func(x):\\n    global gx\\n    print(f'{x=}')\\n    gx = 2\\n    print(f'函数体内：{id(gx)=}, {id(x)=}')\\n    print(f'局部变量x： {x=}')\\nif __name__=='__main__':\\n    gx = 50\\n    print(f'调用前：{id(gx)=}')\\n    func(gx)\\n    print(f'调用{func.__name__}后：{id(gx)=}')\\n    print(f'x的值： {gx=}') \", '_ii': \"def func(x):\\n    print(f'{x=}')\\n    x = 2\\n    print(f'函数体内：{id(x)=}')\\n    print(f'局部变量x： {x=}')\\nif __name__=='__main__':\\n    x = 50\\n    print(f'调用前：{id(x)=}')\\n    func(x)\\n    print(f'调用{func.__name__}后：{id(x)=}')\\n    print(f'x的值： {x=}')\", '_iii': 'def fun(x,*xx,y=21,z=2, **yy):\\n    print(locals())\\nfun(1,2,4, z=88, y=99, k1=0,g=33)', '_i1': \"def func_demo(r):\\n    '''\\n    此函数输入参数为圆的半径r，返回值为圆的周长和面积\\n    '''\\n    pi = 3.14\\n    p,a = 2 * pi * r, pi * r * r\\n    return p, a\\n\\nr = 9\\np, a = func_demo(r)\\nhelp(func_demo)\\nprint(type(func_demo(r)))\\nprint(f'Perimeter is: {p=}  Area is: {a=}')\\nprint(help(func_demo))\", 'func_demo': <function func_demo at 0x0000022C7C63FE20>, 'r': 9, 'p': 56.52, 'a': 1, 'sys': <module 'sys' (built-in)>, 'remove_imported_pydev_package': <function remove_imported_pydev_package at 0x0000022C7C5C17E0>, '_pydevd_bundle': <module '_pydevd_bundle' from 'C:\\\\Users\\\\Administrator\\\\AppData\\\\Local\\\\JetBrains\\\\Toolbox\\\\apps\\\\PyCharm-P\\\\ch-0\\\\221.5921.27\\\\plugins\\\\python\\\\helpers\\\\pydev\\\\_pydevd_bundle\\\\__init__.py'>, 'pydev_jupyter_vars': <module 'pydev_jupyter_vars' from 'C:\\\\Users\\\\Administrator\\\\AppData\\\\Local\\\\JetBrains\\\\Toolbox\\\\apps\\\\PyCharm-P\\\\ch-0\\\\221.5921.27\\\\plugins\\\\python\\\\helpers-pro\\\\jupyter_debug\\\\pydev_jupyter_vars.py'>, '_i2': \"def func_demo(r):\\n    '''\\n    此函数输入参数为圆的半径r，返回值为圆的周长和面积\\n    '''\\n    pi = 3.14\\n    p,a = 2 * pi * r,pi * r * r\\n   \\n    return p, a\\nr = 9\\nprint(help(func_demo))\\nprint(func_demo.__doc__)\", '_i3': \"def print_info(name, a, b):\\n    print(name+'-'*30)\\n    print(f'{id(a)=},{a=};{id(b)=},{b=}' )\\n\\ndef demo(a, b):\\n    a = a + 20\\n    b.append(99)\\n    print_info('函数体内',a, b)\\nif __name__ == '__main__':\\n    a, *b = list(range(1, 6))\\n    print_info('初始状态：',a, b)\\n    demo(a, b)\\n    print_info('结束状态：', a, b)\", 'print_info': <function print_info at 0x0000022C7C522E60>, 'demo': <function demo at 0x0000022C7C522EF0>, 'b': [2, 3, 4, 5, 99], '_i4': \"def repeat(msg, times=1):\\n    print(msg * times)\\nrepeat('Hello')\\nrepeat('World ', 5)\", 'repeat': <function repeat at 0x0000022C7BE505E0>, '_i5': 'def fun(x, y, z=1):\\n    print(x, y, z)\\nfun( 1,y=2,z=3)\\nfun(z=3,y=2,x=1)', 'fun': <function fun at 0x0000022C7C647A30>, '_i6': 'def fun(x,*xx,y=21,z=2, **yy):\\n    print(locals())\\nfun(1,2,4, z=88, y=99, k1=0,g=33)', '_i7': \"def func(x):\\n    print(f'{x=}')\\n    x = 2\\n    print(f'函数体内：{id(x)=}')\\n    print(f'局部变量x： {x=}')\\nif __name__=='__main__':\\n    x = 50\\n    print(f'调用前：{id(x)=}')\\n    func(x)\\n    print(f'调用{func.__name__}后：{id(x)=}')\\n    print(f'x的值： {x=}')\", 'func': <function func at 0x0000022C7C647AC0>, 'x': 100, '_i8': \"def func(x):\\n    global gx\\n    print(f'{x=}')\\n    gx = 2\\n    print(f'函数体内：{id(gx)=}, {id(x)=}')\\n    print(f'局部变量x： {x=}')\\nif __name__=='__main__':\\n    gx = 50\\n    print(f'调用前：{id(gx)=}')\\n    func(gx)\\n    print(f'调用{func.__name__}后：{id(gx)=}')\\n    print(f'x的值： {gx=}') \", 'gx': 2, '_i9': \"def inspect():\\n    lx = 300\\n    ly = 400\\n    locals()['l'] = 'l-自设局部变量'\\n    print(f'函数体内：{locals()=},总共有{len(locals())}个局部变量')\\n    print(f'函数体内：{globals()=}，总共有:{len(globals())}全局变量')\\n    print(f'函数体内：{vars()=}，总共有:{len(vars())}个变量')\\n\\n\\nif __name__ == '__main__':\\n    x, y = 100, 200\\n    inspect()\\n    globals()['g'] = 'g-自设全局变量'\\n    vars()['v'] = 'v-自设变量'\\n    locals()['gl'] = 'gl-自设局部变量'\\n\\n    print(f'{locals()=},总共有{len(locals())}个局部变量')\\n    print(f'{globals()=}，总共有:{len(globals())}全局变量')\\n    print(f'{vars()=}，总共有:{len(vars())}个变量')\\n    print(f'测试globals()与vars()是否相同：{globals() == vars()}')\\n    print(f'测试globals()与locals()是否相同：{globals() == locals()}')\", 'inspect': <function inspect at 0x0000022C7C6476D0>, 'y': 200, 'g': 'g-自设全局变量', 'v': 'v-自设变量', 'gl': 'gl-自设局部变量'}，总共有:51个变量\n",
      "测试globals()与vars()是否相同：True\n",
      "测试globals()与locals()是否相同：True\n"
     ]
    }
   ],
   "source": [
    "def inspect():\n",
    "    lx = 300\n",
    "    ly = 400\n",
    "    locals()['l'] = 'l-自设局部变量'\n",
    "    print(f'函数体内：{locals()=},总共有{len(locals())}个局部变量')\n",
    "    print(f'函数体内：{globals()=}，总共有:{len(globals())}全局变量')\n",
    "    print(f'函数体内：{vars()=}，总共有:{len(vars())}个变量')\n",
    "\n",
    "\n",
    "if __name__ == '__main__':\n",
    "    x, y = 100, 200\n",
    "    inspect()\n",
    "    globals()['g'] = 'g-自设全局变量'\n",
    "    vars()['v'] = 'v-自设变量'\n",
    "    locals()['gl'] = 'gl-自设局部变量'\n",
    "\n",
    "    print(f'{locals()=},总共有{len(locals())}个局部变量')\n",
    "    print(f'{globals()=}，总共有:{len(globals())}全局变量')\n",
    "    print(f'{vars()=}，总共有:{len(vars())}个变量')\n",
    "    print(f'测试globals()与vars()是否相同：{globals() == vars()}')\n",
    "    print(f'测试globals()与locals()是否相同：{globals() == locals()}')"
   ],
   "metadata": {
    "collapsed": false,
    "pycharm": {
     "name": "#%%\n"
    }
   }
  },
  {
   "cell_type": "code",
   "execution_count": 10,
   "outputs": [
    {
     "name": "stdout",
     "output_type": "stream",
     "text": [
      "119\n"
     ]
    }
   ],
   "source": [
    "def outer():\n",
    "    x = 119\n",
    "    def inter():\n",
    "        x = 114\n",
    "    inter()\n",
    "    print(x)\n",
    "\n",
    "outer()\n"
   ],
   "metadata": {
    "collapsed": false,
    "pycharm": {
     "name": "#%%\n"
    }
   }
  },
  {
   "cell_type": "code",
   "execution_count": 11,
   "outputs": [
    {
     "name": "stdout",
     "output_type": "stream",
     "text": [
      "114\n"
     ]
    }
   ],
   "source": [
    "def outer():\n",
    "    x = 119\n",
    "    def inter():\n",
    "        nonlocal x\n",
    "        x = 114\n",
    "    inter()\n",
    "    print(x)\n",
    "outer()\n"
   ],
   "metadata": {
    "collapsed": false,
    "pycharm": {
     "name": "#%%\n"
    }
   }
  },
  {
   "cell_type": "code",
   "execution_count": 14,
   "outputs": [
    {
     "ename": "SyntaxError",
     "evalue": "no binding for nonlocal 'x' found (287810154.py, line 5)",
     "output_type": "error",
     "traceback": [
      "\u001B[1;36m  File \u001B[1;32m\"C:\\Users\\Administrator\\AppData\\Local\\Temp\\ipykernel_4688\\287810154.py\"\u001B[1;36m, line \u001B[1;32m5\u001B[0m\n\u001B[1;33m    nonlocal x\u001B[0m\n\u001B[1;37m    ^\u001B[0m\n\u001B[1;31mSyntaxError\u001B[0m\u001B[1;31m:\u001B[0m no binding for nonlocal 'x' found\n"
     ]
    }
   ],
   "source": [
    "x = 120\n",
    "def outer():\n",
    "    # x = 119\n",
    "    def inter():\n",
    "        nonlocal x\n",
    "        x = 114\n",
    "    inter()\n",
    "    print(x)\n",
    "outer()"
   ],
   "metadata": {
    "collapsed": false,
    "pycharm": {
     "name": "#%%\n"
    }
   }
  },
  {
   "cell_type": "code",
   "execution_count": 15,
   "outputs": [
    {
     "name": "stdout",
     "output_type": "stream",
     "text": [
      "13\n",
      "39\n"
     ]
    }
   ],
   "source": [
    "x,y=2,3\n",
    "f=lambda x,y:x*x+y*y\n",
    "g=lambda : 39\n",
    "print(f(x,y))\n",
    "print(g())"
   ],
   "metadata": {
    "collapsed": false,
    "pycharm": {
     "name": "#%%\n"
    }
   }
  },
  {
   "cell_type": "code",
   "execution_count": 17,
   "outputs": [
    {
     "name": "stdout",
     "output_type": "stream",
     "text": [
      "16 25 [0, 4, 16, 36, 64] {0, 9, 36, 81}\n"
     ]
    }
   ],
   "source": [
    "a= (x*x for x in range(10) if 3<x<6)\n",
    "b=[x*x for x in range(10) if x%2==0]\n",
    "c={x*x for x in range(10) if x%3==0 }\n",
    "print(*a,b,c)"
   ],
   "metadata": {
    "collapsed": false,
    "pycharm": {
     "name": "#%%\n"
    }
   }
  },
  {
   "cell_type": "code",
   "execution_count": 18,
   "outputs": [
    {
     "name": "stdout",
     "output_type": "stream",
     "text": [
      "{'hello b': 'a world', 'hello d': 'c world'}\n",
      "['ab', 'cd']\n"
     ]
    }
   ],
   "source": [
    "dic = {'a':'b','c':'d'}\n",
    "dic1 = {'hello '+dic[i]:i+' world' for i in dic}\n",
    "print(dic1)\n",
    "print([k+v for (k,v) in dic.items()])"
   ],
   "metadata": {
    "collapsed": false,
    "pycharm": {
     "name": "#%%\n"
    }
   }
  },
  {
   "cell_type": "code",
   "execution_count": 19,
   "outputs": [
    {
     "name": "stdout",
     "output_type": "stream",
     "text": [
      "['李四', '李世民', '李鸿章'] ['赵六', '赵匡胤']\n"
     ]
    }
   ],
   "source": [
    "names = [[\"张三\",\"李四\",\"王五\",\"赵六\"],\n",
    "         [\"张无忌\",\"李世民\",\"李鸿章\",\"赵匡胤\"]]\n",
    "la = lambda x: [n for f in names for n in f if x in n]\n",
    "print(la('李'), la('赵'))"
   ],
   "metadata": {
    "collapsed": false,
    "pycharm": {
     "name": "#%%\n"
    }
   }
  },
  {
   "cell_type": "code",
   "execution_count": 20,
   "outputs": [
    {
     "name": "stdout",
     "output_type": "stream",
     "text": [
      "type(x)=<class 'filter'>,x=<filter object at 0x0000022C7C64EB90>,t(x)=['d', 'e', 'f']\n",
      "type(x)=<class 'filter'>,x=<filter object at 0x0000022C7C64E4A0>,t(x)=(6, 7, 8, 9)\n"
     ]
    }
   ],
   "source": [
    "x=filter(lambda x: x>'c','bcdef')\n",
    "z=filter(lambda x: 5< x<10,range(1,100))\n",
    "show=lambda x,t: print(f'{type(x)=},{x=},{t(x)=}')\n",
    "show(x,list)\n",
    "show(z,tuple)"
   ],
   "metadata": {
    "collapsed": false,
    "pycharm": {
     "name": "#%%\n"
    }
   }
  },
  {
   "cell_type": "code",
   "execution_count": 21,
   "outputs": [
    {
     "name": "stdout",
     "output_type": "stream",
     "text": [
      "type(zp)=<class 'map'>,zp=<map object at 0x0000022C7C64D990>,[57.3, 68.0, 89.3]\n"
     ]
    }
   ],
   "source": [
    "ps,qm=[30,89,90],[69,59,89]\n",
    "zp=map(lambda x,y:0.3*x+0.7*y,ps,qm)\n",
    "print(f'{type(zp)=},{zp=},{list(zp)}')"
   ],
   "metadata": {
    "collapsed": false,
    "pycharm": {
     "name": "#%%\n"
    }
   }
  },
  {
   "cell_type": "code",
   "execution_count": 22,
   "outputs": [
    {
     "name": "stdout",
     "output_type": "stream",
     "text": [
      "15\n",
      "115\n",
      "5\n",
      "4950\n",
      "[2, 3, 5, 9, 3, 4, 5]\n"
     ]
    }
   ],
   "source": [
    "from functools import reduce\n",
    "def add(x,y):\n",
    "    return x+y\n",
    "print (reduce(add,[1,2,3,4,5]))\n",
    "print (reduce(add,(1,2,3,4,5),100))\n",
    "print (reduce(add,{1,2,3,4,5},-10))\n",
    "print(reduce(lambda x,y:x+y,range(1,100)))\n",
    "print(reduce(add,[[2,3],[5,9],[3,4,5]],[]))"
   ],
   "metadata": {
    "collapsed": false,
    "pycharm": {
     "name": "#%%\n"
    }
   }
  },
  {
   "cell_type": "code",
   "execution_count": 23,
   "outputs": [],
   "source": [
    "import time\n",
    "#计算时间函数\n",
    "def show_run_time(func):\n",
    "    def wrapper(*args, **kw):\n",
    "        start_time = time.time()\n",
    "        print(locals())\n",
    "        func(*args, **kw)\n",
    "        print(f'函数名： {func.__name__} 函数参数：{args=},{kw=} 运行时间： {time.time() - start_time}')\n",
    "    return wrapper"
   ],
   "metadata": {
    "collapsed": false,
    "pycharm": {
     "name": "#%%\n"
    }
   }
  },
  {
   "cell_type": "code",
   "execution_count": 24,
   "outputs": [
    {
     "name": "stdout",
     "output_type": "stream",
     "text": [
      "{'args': (900000,), 'kw': {'name': '装饰器demo'}, 'start_time': 1659619272.60161, 'func': <function demo_func at 0x0000022C7C670670>}\n",
      "函数名： demo_func 函数参数：args=(900000,),kw={'name': '装饰器demo'} 运行时间： 0.08182740211486816\n"
     ]
    }
   ],
   "source": [
    "@show_run_time\n",
    "def demo_func(n,name):\n",
    "    for i in range(n):\n",
    "        pass\n",
    "if __name__=='__main__':\n",
    "    demo_func(900000,name='装饰器demo')"
   ],
   "metadata": {
    "collapsed": false,
    "pycharm": {
     "name": "#%%\n"
    }
   }
  },
  {
   "cell_type": "code",
   "execution_count": 25,
   "outputs": [
    {
     "name": "stdout",
     "output_type": "stream",
     "text": [
      "I walk from start=0 to end=59\n",
      "I walk from start=59 to end=50\n",
      "I walk from start=50 to end=90\n"
     ]
    }
   ],
   "source": [
    "import random\n",
    "def walk():\n",
    "    start = 0\n",
    "    def step():\n",
    "        end=random.randint(1,100)\n",
    "        nonlocal start\n",
    "        print(f'I walk from {start=} to {end=}')\n",
    "        start = end\n",
    "    return step\n",
    "\n",
    "t=walk()\n",
    "t()\n",
    "t()\n",
    "t()"
   ],
   "metadata": {
    "collapsed": false,
    "pycharm": {
     "name": "#%%\n"
    }
   }
  },
  {
   "cell_type": "code",
   "execution_count": 26,
   "outputs": [
    {
     "name": "stdout",
     "output_type": "stream",
     "text": [
      "a=90,outfunc(a)=<function outfunc.<locals>.infunc at 0x0000022C7C670940>\n",
      "outfunc(a).__name__='infunc'\n",
      "outfunc(a)(5)=105\n",
      "outfunc(a)(6)=106\n"
     ]
    }
   ],
   "source": [
    "def outfunc(x):\n",
    "    y = 10\n",
    "    def infunc(z):\n",
    "        c = x + y + z\n",
    "        return c\n",
    "    return infunc\n",
    "a = 90\n",
    "print(f'{a=},{outfunc(a)=}')\n",
    "print(f'{outfunc(a).__name__=}')\n",
    "print(f'{outfunc(a)(5)=}')\n",
    "print(f'{outfunc(a)(6)=}')"
   ],
   "metadata": {
    "collapsed": false,
    "pycharm": {
     "name": "#%%\n"
    }
   }
  },
  {
   "cell_type": "code",
   "execution_count": 27,
   "outputs": [
    {
     "name": "stdout",
     "output_type": "stream",
     "text": [
      "计数器 :No.1\n",
      "计数器 :No.2\n",
      "计数器 :No.3\n",
      "ret.__closure__=(<cell at 0x0000022C7C64E8C0: int object at 0x0000022C77C10130>, <cell at 0x0000022C7C64DCC0: str object at 0x0000022C7C667D50>)\n"
     ]
    }
   ],
   "source": [
    "def func():\n",
    "    name = '计数器'  # 常驻内存  防止其他程序改变这个变量\n",
    "    counter = 0\n",
    "    def inner():\n",
    "        nonlocal counter\n",
    "        counter += 1\n",
    "        print(f'{name} :No.{counter}')\n",
    "        # 内层函数调用外层函数的变量，叫闭包，可以让一个局部变量常驻内存\n",
    "    return inner\n",
    "ret = func()\n",
    "ret()\n",
    "ret()\n",
    "ret()\n",
    "print(f'{ret.__closure__=}')"
   ],
   "metadata": {
    "collapsed": false,
    "pycharm": {
     "name": "#%%\n"
    }
   }
  },
  {
   "cell_type": "code",
   "execution_count": 28,
   "outputs": [
    {
     "name": "stdout",
     "output_type": "stream",
     "text": [
      "1\n",
      "2\n",
      "3\n",
      "4\n",
      "5\n",
      "6\n",
      "7\n",
      "8\n",
      "9\n",
      "10\n",
      "11\n",
      "12\n",
      "13\n",
      "14\n",
      "15\n",
      "16\n",
      "17\n",
      "18\n",
      "19\n",
      "20\n",
      "21\n",
      "22\n",
      "23\n",
      "24\n",
      "25\n",
      "26\n",
      "27\n",
      "28\n",
      "29\n",
      "30\n",
      "31\n",
      "32\n",
      "33\n",
      "34\n",
      "35\n",
      "36\n",
      "37\n",
      "38\n",
      "39\n",
      "40\n",
      "41\n",
      "42\n",
      "43\n",
      "44\n",
      "45\n",
      "46\n",
      "47\n",
      "48\n",
      "49\n",
      "50\n",
      "51\n",
      "52\n",
      "53\n",
      "54\n",
      "55\n",
      "56\n",
      "57\n",
      "58\n",
      "59\n",
      "60\n",
      "61\n",
      "62\n",
      "63\n",
      "64\n",
      "65\n",
      "66\n",
      "67\n",
      "68\n",
      "69\n",
      "70\n",
      "71\n",
      "72\n",
      "73\n",
      "74\n",
      "75\n",
      "76\n",
      "77\n",
      "78\n",
      "79\n",
      "80\n",
      "81\n",
      "82\n",
      "83\n",
      "84\n",
      "85\n",
      "86\n",
      "87\n",
      "88\n",
      "89\n",
      "90\n",
      "91\n",
      "92\n",
      "93\n",
      "94\n",
      "95\n",
      "96\n",
      "97\n",
      "98\n",
      "99\n"
     ]
    }
   ],
   "source": [
    "class MyIterator:\n",
    "    def __init__(self, start, end):\n",
    "        self.value = start\n",
    "        self.end = end\n",
    "\n",
    "    def __iter__(self):\n",
    "        return self\n",
    "\n",
    "    def __next__(self):\n",
    "        if self.value >= self.end:\n",
    "            raise StopIteration\n",
    "        current = self.value\n",
    "        self.value += 1\n",
    "        return current\n",
    "\n",
    "it1=MyIterator(1,100)\n",
    "for num in it1:\n",
    "    print(num)"
   ],
   "metadata": {
    "collapsed": false,
    "pycharm": {
     "name": "#%%\n"
    }
   }
  },
  {
   "cell_type": "code",
   "execution_count": 29,
   "outputs": [
    {
     "name": "stdout",
     "output_type": "stream",
     "text": [
      "lst=[0, 1, 2, 3, 4] Iterable:a=True,  Itertor:b=False\n",
      "iterator= <list_iterator object at 0x0000022C7C64F520> --> Iterable:aa=True, Itertor:bb=True\n"
     ]
    }
   ],
   "source": [
    "from collections.abc import Iterable, Iterator\n",
    "lst = list(range(5))\n",
    "a,b=isinstance(lst, Iterable), isinstance(lst, Iterator)\n",
    "#是可迭代对象, 但不是迭代器\n",
    "print(f'{lst=} Iterable:{a=},  Itertor:{b=}')\n",
    "iterator = iter(lst)  # 返回可迭代对象 lst 的迭代器\n",
    "aa,bb=isinstance(iterator, Iterable), isinstance(iterator, Iterator)\n",
    " # 既是可迭代对象, 也是迭代器\n",
    "print(f'{iterator= } --> Iterable:{aa=}, Itertor:{bb=}')"
   ],
   "metadata": {
    "collapsed": false,
    "pycharm": {
     "name": "#%%\n"
    }
   }
  },
  {
   "cell_type": "code",
   "execution_count": 30,
   "outputs": [
    {
     "name": "stdout",
     "output_type": "stream",
     "text": [
      "this\n",
      "is\n",
      "only\n",
      "a\n",
      "test\n",
      "for\n",
      "generator!!\n"
     ]
    }
   ],
   "source": [
    "def gen(content:str):\n",
    " for i in content.split():\n",
    "        yield i\n",
    "if __name__=='__main__':\n",
    "    for i in gen('this is only a test for generator!!'):\n",
    "        print(i)\n"
   ],
   "metadata": {
    "collapsed": false,
    "pycharm": {
     "name": "#%%\n"
    }
   }
  },
  {
   "cell_type": "code",
   "execution_count": 31,
   "outputs": [
    {
     "name": "stdout",
     "output_type": "stream",
     "text": [
      "[1, 2, 3, 4, 5, 6, 7, 8]\n",
      "[9, 10, 11, 12, 13, 14, 15, 16]\n",
      "[17, 18, 19, 20, 21, 22, 23, 24]\n",
      "[25, 26, 27, 28, 29, 30, 31, 32]\n",
      "[33, 34, 35, 36, 37, 38, 39]\n"
     ]
    }
   ],
   "source": [
    "import math\n",
    "data = list(range(1, 40))\n",
    "def func(data,epoch=5):\n",
    "    batchSize = math.ceil(len(data) / epoch)\n",
    "    j = 0\n",
    "    for i in range(1, epoch + 1):\n",
    "        content = data[j:i * batchSize]\n",
    "        j = i * batchSize\n",
    "        yield content\n",
    "g = func(data)  # 获取生成器\n",
    "for i in g:\n",
    "    print(i)"
   ],
   "metadata": {
    "collapsed": false,
    "pycharm": {
     "name": "#%%\n"
    }
   }
  },
  {
   "cell_type": "code",
   "execution_count": 34,
   "outputs": [
    {
     "name": "stdout",
     "output_type": "stream",
     "text": [
      "g.__next__()=[1, 2, 3, 4]\n",
      "call_id='欧阳锋',  got content=[1, 2, 3, 4] \n",
      "call_id='洪七公',  got content=[5, 6, 7, 8] \n",
      "call_id='黄药师',  got content=[9, 10, 11, 12] \n",
      "call_id=None,  got content=[13, 14, 15, 16] \n",
      "g.__next__()=[17, 18, 19, 20]\n",
      "call_id=None,  got content=[17, 18, 19, 20] \n",
      "g.__next__()=[21, 22, 23, 24]\n"
     ]
    }
   ],
   "source": [
    "import math\n",
    "def func(data,epoch=5):\n",
    "    batchSize = math.ceil(len(data) / epoch)\n",
    "    j = 0\n",
    "    for i in range(1, epoch + 1):\n",
    "        content = data[j:i * batchSize]\n",
    "        j = i * batchSize\n",
    "        call_id=yield content\n",
    "        print(f'{call_id=},  got {content=} ')\n",
    "g = func(list(range(1,30)),8)\n",
    "print(f'{g.__next__()=}')\n",
    "ret2 = g.send(\"欧阳锋\")\n",
    "ret3 = g.send(\"洪七公\")\n",
    "ret4 = g.send(\"黄药师\")\n",
    "print(f'{g.__next__()=}')\n",
    "print(f'{g.__next__()=}')"
   ],
   "metadata": {
    "collapsed": false,
    "pycharm": {
     "name": "#%%\n"
    }
   }
  },
  {
   "cell_type": "code",
   "execution_count": 35,
   "outputs": [
    {
     "data": {
      "text/plain": "2"
     },
     "execution_count": 35,
     "metadata": {},
     "output_type": "execute_result"
    }
   ],
   "source": [
    "x = 1\n",
    "eval('x+1')\n",
    "\n"
   ],
   "metadata": {
    "collapsed": false,
    "pycharm": {
     "name": "#%%\n"
    }
   }
  },
  {
   "cell_type": "code",
   "execution_count": 37,
   "outputs": [
    {
     "data": {
      "text/plain": "3"
     },
     "execution_count": 37,
     "metadata": {},
     "output_type": "execute_result"
    }
   ],
   "source": [
    "eval('[2,3,4] [1]')"
   ],
   "metadata": {
    "collapsed": false,
    "pycharm": {
     "name": "#%%\n"
    }
   }
  },
  {
   "cell_type": "code",
   "execution_count": 38,
   "outputs": [
    {
     "name": "stdout",
     "output_type": "stream",
     "text": [
      "112\n",
      "['In', 'Iterable', 'Iterator', 'MyIterator', 'Out', '_', '_35', '_37', '__', '___', '__builtin__', '__builtins__', '__doc__', '__loader__', '__name__', '__package__', '__spec__', '_dh', '_i', '_i1', '_i10', '_i11', '_i12', '_i14', '_i15', '_i16', '_i17', '_i18', '_i19', '_i2', '_i20', '_i21', '_i22', '_i23', '_i24', '_i25', '_i26', '_i27', '_i28', '_i29', '_i3', '_i30', '_i31', '_i32', '_i34', '_i35', '_i36', '_i37', '_i38', '_i4', '_i5', '_i6', '_i7', '_i8', '_i9', '_ih', '_ii', '_iii', '_oh', '_pydevd_bundle', 'a', 'aa', 'add', 'b', 'bb', 'c', 'data', 'demo', 'demo_func', 'dic', 'dic1', 'exit', 'f', 'fun', 'func', 'func_demo', 'g', 'gen', 'get_ipython', 'gl', 'gx', 'i', 'inspect', 'it1', 'iterator', 'la', 'lst', 'math', 'names', 'num', 'outer', 'outfunc', 'p', 'print_info', 'ps', 'pydev_jupyter_vars', 'qm', 'quit', 'r', 'random', 'reduce', 'remove_imported_pydev_package', 'repeat', 'ret', 'ret2', 'ret3', 'ret4', 'show', 'show_run_time', 'sys', 't', 'time', 'v', 'walk', 'x', 'y', 'z', 'zp']\n"
     ]
    }
   ],
   "source": [
    "x=100\n",
    "exec('x=x+12')\n",
    "print(x)\n",
    "exec('print(dir())')"
   ],
   "metadata": {
    "collapsed": false,
    "pycharm": {
     "name": "#%%\n"
    }
   }
  },
  {
   "cell_type": "code",
   "execution_count": null,
   "outputs": [],
   "source": [],
   "metadata": {
    "collapsed": false,
    "pycharm": {
     "name": "#%%\n"
    }
   }
  }
 ],
 "metadata": {
  "kernelspec": {
   "display_name": "Python 3",
   "language": "python",
   "name": "python3"
  },
  "language_info": {
   "codemirror_mode": {
    "name": "ipython",
    "version": 2
   },
   "file_extension": ".py",
   "mimetype": "text/x-python",
   "name": "python",
   "nbconvert_exporter": "python",
   "pygments_lexer": "ipython2",
   "version": "2.7.6"
  }
 },
 "nbformat": 4,
 "nbformat_minor": 0
}