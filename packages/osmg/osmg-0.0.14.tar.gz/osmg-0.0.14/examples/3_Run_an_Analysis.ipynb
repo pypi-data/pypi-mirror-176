{
 "cells": [
  {
   "cell_type": "markdown",
   "id": "fa829eb0",
   "metadata": {},
   "source": [
    "# Running an analysis"
   ]
  },
  {
   "cell_type": "markdown",
   "id": "94d043bd",
   "metadata": {},
   "source": [
    "The `solver` module is used to interact with OpenSees.\n",
    "\n",
    "The most convenient approach is using a child of the `Analysis` class from those already defined in the `solver` module for the specific analysis that is needed. This will run the analysis and store the requested results of each analysis step.\n",
    "\n",
    "Alternatively, a generic `Analysis` object can be defined (from the parent class), and its generic methods for model definition can be used together with OpenSees commands issued directly in the analysis script. If such an analysis is repeated a lot, a new `Analysis` child class can be defined in the `solver` module."
   ]
  },
  {
   "cell_type": "markdown",
   "id": "a021a5a4",
   "metadata": {},
   "source": [
    "## Available analysis objects"
   ]
  },
  {
   "cell_type": "markdown",
   "id": "6319b182",
   "metadata": {},
   "source": [
    "First, we need to define a model."
   ]
  },
  {
   "cell_type": "code",
   "execution_count": null,
   "id": "94b67089",
   "metadata": {},
   "outputs": [],
   "source": [
    "# This cell defines the model from notebook 2_Define_a_Model\n",
    "import numpy as np\n",
    "from osmg import model\n",
    "import osmg.defaults as defaults\n",
    "from osmg.gen.section_gen import SectionGenerator\n",
    "from osmg.ops.section import ElasticSection\n",
    "from osmg.gen.beamcolumn_gen import BeamColumnGenerator\n",
    "from osmg.ops.element import ElasticBeamColumn\n",
    "from osmg.gen.zerolength_gen import gravity_shear_tab\n",
    "from osmg.load_case import LoadCase\n",
    "from osmg.preprocessing.self_weight_mass import self_weight\n",
    "from osmg.preprocessing.self_weight_mass import self_mass\n",
    "from osmg.preprocessing.tributary_area_analysis import PolygonLoad\n",
    "from osmg.graphics.preprocessing_3d import show\n",
    "mdl = model.Model('example_model')\n",
    "for i in range(3):\n",
    "    mdl.add_level(i, 144.00*(i))\n",
    "defaults.load_default_steel(mdl)\n",
    "defaults.load_default_fix_release(mdl)\n",
    "steel_phys_mat = mdl.physical_materials.retrieve_by_attr('name', 'default steel')\n",
    "secg = SectionGenerator(mdl)\n",
    "secg.load_aisc_from_database(\n",
    "    'W',\n",
    "    [\"W24X94\"],\n",
    "    'default steel',\n",
    "    'default steel',\n",
    "    ElasticSection)\n",
    "mdl.levels.set_active([1, 2])\n",
    "p1 = np.array((0.00, 0.00))\n",
    "p2 = np.array((360., 0.00))\n",
    "p3 = np.array((360., 360.))\n",
    "p4 = np.array((0.00, 360.00))\n",
    "mcg = BeamColumnGenerator(mdl)\n",
    "sec = mdl.elastic_sections.retrieve_by_attr('name', 'W24X94')\n",
    "for pt in [p1, p2, p3, p4]:\n",
    "    mcg.add_pz_active(\n",
    "        pt[0], pt[1],\n",
    "        sec,\n",
    "        steel_phys_mat,\n",
    "        0.00,\n",
    "        24.00,\n",
    "        24.00,\n",
    "        0.00,\n",
    "        0.02)\n",
    "    mcg.add_vertical_active(\n",
    "        x_coord=pt[0], y_coord=pt[1],\n",
    "        offset_i=np.zeros(3), offset_j=np.zeros(3),\n",
    "        transf_type='Corotational',\n",
    "        n_sub=1,\n",
    "        section=sec,\n",
    "        element_type=ElasticBeamColumn,\n",
    "        placement='centroid',\n",
    "        angle=0.00)\n",
    "snap_i_list = ['centroid', 'middle_front', 'centroid', 'middle_back']\n",
    "snap_j_list = ['centroid', 'middle_back', 'centroid', 'middle_front']\n",
    "for i, pair in enumerate([(p1, p2), (p2, p3), (p3, p4), (p4, p1)]):\n",
    "    mcg.add_horizontal_active(\n",
    "        xi_coord=pair[0][0],\n",
    "        yi_coord=pair[0][1],\n",
    "        xj_coord=pair[1][0],\n",
    "        yj_coord=pair[1][1],\n",
    "        offset_i=np.zeros(3),\n",
    "        offset_j=np.zeros(3),\n",
    "        snap_i=snap_i_list[i],\n",
    "        snap_j=snap_j_list[i],\n",
    "        transf_type='Linear',\n",
    "        n_sub=4,\n",
    "        section=sec,\n",
    "        element_type=ElasticBeamColumn,\n",
    "        placement='top_center',\n",
    "        angle=0.00,\n",
    "        method='generate_hinged_component_assembly',\n",
    "        additional_args={\n",
    "            'zerolength_gen_i': gravity_shear_tab,\n",
    "            'zerolength_gen_args_i': {\n",
    "                'consider_composite': True,\n",
    "                'section': sec,\n",
    "                'physical_material': steel_phys_mat,\n",
    "                'distance': 10.00,\n",
    "                'n_sub': 2\n",
    "            },\n",
    "            'zerolength_gen_j': gravity_shear_tab,\n",
    "            'zerolength_gen_args_j': {\n",
    "                'consider_composite': True,\n",
    "                'section': sec,\n",
    "                'physical_material': steel_phys_mat,\n",
    "                'distance': 10.00,\n",
    "                'n_sub': 2\n",
    "            }\n",
    "        }\n",
    "    )\n",
    "for node in mdl.levels[0].nodes.values():\n",
    "    node.restraint = [True]*6\n",
    "testcase = LoadCase('test', mdl)\n",
    "self_weight(mdl, testcase)\n",
    "self_mass(mdl, testcase)\n",
    "testcase.rigid_diaphragms([1, 2])\n",
    "# for key in [1, 2]:\n",
    "#     testcase.tributary_area_analysis[key].polygon_loads.append(\n",
    "#         PolygonLoad('dead', 5.00, None, None, False))\n",
    "#     testcase.tributary_area_analysis[key].polygon_loads.append(\n",
    "#         PolygonLoad('live', 1.00, None, None, True))\n",
    "#     testcase.tributary_area_analysis[key].run()"
   ]
  },
  {
   "cell_type": "code",
   "execution_count": null,
   "id": "821997f5",
   "metadata": {},
   "outputs": [],
   "source": [
    "show(mdl, testcase, extrude=True)"
   ]
  },
  {
   "cell_type": "markdown",
   "id": "7e9f7ca0",
   "metadata": {},
   "source": [
    "### Linear static"
   ]
  },
  {
   "cell_type": "code",
   "execution_count": null,
   "id": "3e8d4c89",
   "metadata": {},
   "outputs": [],
   "source": [
    "from osmg import solver"
   ]
  },
  {
   "cell_type": "code",
   "execution_count": null,
   "id": "7d5c4854",
   "metadata": {},
   "outputs": [],
   "source": [
    "# instantiate analysis object\n",
    "static_anl = solver.StaticAnalysis(mdl, {testcase.name: testcase})"
   ]
  },
  {
   "cell_type": "code",
   "execution_count": null,
   "id": "e780b938",
   "metadata": {},
   "outputs": [],
   "source": [
    "static_anl.run()"
   ]
  },
  {
   "cell_type": "markdown",
   "id": "ed06881c",
   "metadata": {},
   "source": [
    "#### Retrieving results"
   ]
  },
  {
   "cell_type": "markdown",
   "id": "7f0ad575",
   "metadata": {},
   "source": [
    "Analysis results are stored in dictionaries. The keys are the unique identifiers of the elements that the results correspond to, and the values contain the results."
   ]
  },
  {
   "cell_type": "code",
   "execution_count": null,
   "id": "ce5bf0db",
   "metadata": {
    "scrolled": true
   },
   "outputs": [],
   "source": [
    "# Show all node displacement results\n",
    "# DANGER: Don't do this for a large model.\n",
    "static_anl.results[testcase.name].node_displacements.items()"
   ]
  },
  {
   "cell_type": "code",
   "execution_count": null,
   "id": "23513fd2",
   "metadata": {},
   "outputs": [],
   "source": [
    "# Displacement of the parent node of the top story,\n",
    "# in the Y direction.\n",
    "analysis_step = 0\n",
    "direction = 1\n",
    "node_id = testcase.parent_nodes[2].uid\n",
    "static_anl.results[testcase.name].node_displacements[\n",
    "    node_id][analysis_step][direction]"
   ]
  },
  {
   "cell_type": "markdown",
   "id": "6d4e0ac2",
   "metadata": {},
   "source": [
    "Note: Multiple load cases and analysis objects can be defined using the same model. The results will be stored independently in the various analysis objects."
   ]
  },
  {
   "cell_type": "markdown",
   "id": "6b7c90a1",
   "metadata": {},
   "source": [
    "#### Visualizing results"
   ]
  },
  {
   "cell_type": "markdown",
   "id": "064fc989",
   "metadata": {},
   "source": [
    "The following visualization methods work for all analysis methods. However, some require specifying the analysis step to visualize. Static analyses only have a single step, so we specify 0."
   ]
  },
  {
   "cell_type": "code",
   "execution_count": null,
   "id": "e50dc15f",
   "metadata": {},
   "outputs": [],
   "source": [
    "from osmg.graphics.postprocessing_3d import show_deformed_shape\n",
    "from osmg.graphics.postprocessing_3d import show_basic_forces"
   ]
  },
  {
   "cell_type": "code",
   "execution_count": null,
   "id": "d5f5bd78",
   "metadata": {},
   "outputs": [],
   "source": [
    "help(show_deformed_shape)"
   ]
  },
  {
   "cell_type": "code",
   "execution_count": null,
   "id": "76074bba",
   "metadata": {},
   "outputs": [],
   "source": [
    "show_deformed_shape(static_anl, testcase.name, 0, 0.00, True)"
   ]
  },
  {
   "cell_type": "code",
   "execution_count": null,
   "id": "ad300aff",
   "metadata": {},
   "outputs": [],
   "source": [
    "help(show_basic_forces)"
   ]
  },
  {
   "cell_type": "code",
   "execution_count": null,
   "id": "2b09dc85",
   "metadata": {},
   "outputs": [],
   "source": [
    "show_basic_forces(static_anl, testcase.name, 0, 1.00, 1.00, 1.00, 1.00, 1.00, 10, 1.00, 1.00, False)"
   ]
  },
  {
   "cell_type": "markdown",
   "id": "5895481e",
   "metadata": {},
   "source": [
    "### Modal"
   ]
  },
  {
   "cell_type": "code",
   "execution_count": null,
   "id": "0ec18f81",
   "metadata": {},
   "outputs": [],
   "source": [
    "modalcase = LoadCase('modal', mdl)\n",
    "self_mass(mdl, modalcase)\n",
    "modalcase.rigid_diaphragms([1, 2])"
   ]
  },
  {
   "cell_type": "code",
   "execution_count": null,
   "id": "a87ec8f2",
   "metadata": {},
   "outputs": [],
   "source": [
    "modal_analysis = solver.ModalAnalysis(mdl, {modalcase.name: modalcase}, num_modes=4)\n",
    "modal_analysis.run()"
   ]
  },
  {
   "cell_type": "code",
   "execution_count": null,
   "id": "ba52d630",
   "metadata": {},
   "outputs": [],
   "source": [
    "print(modal_analysis.results[modalcase.name].periods)"
   ]
  },
  {
   "cell_type": "code",
   "execution_count": null,
   "id": "44f50604",
   "metadata": {},
   "outputs": [],
   "source": [
    "# for modal analyses, steps corresponds to modes"
   ]
  },
  {
   "cell_type": "code",
   "execution_count": null,
   "id": "45946384",
   "metadata": {},
   "outputs": [],
   "source": [
    "show_deformed_shape(modal_analysis, modalcase.name, 3, 0.00, True)"
   ]
  },
  {
   "cell_type": "markdown",
   "id": "faa92ebf",
   "metadata": {},
   "source": [
    "More analysis methods are available, including static pushover and transient time-history. See `solver.py` and the tests."
   ]
  },
  {
   "cell_type": "markdown",
   "id": "6d201a01",
   "metadata": {},
   "source": [
    "# Time-history"
   ]
  },
  {
   "cell_type": "code",
   "execution_count": null,
   "id": "b27b0391",
   "metadata": {},
   "outputs": [],
   "source": [
    "nlth_anl = solver.NLTHAnalysis(mdl, {testcase.name: testcase})"
   ]
  },
  {
   "cell_type": "code",
   "execution_count": null,
   "id": "7dd2418b",
   "metadata": {},
   "outputs": [],
   "source": [
    "help(nlth_anl.run)"
   ]
  },
  {
   "cell_type": "code",
   "execution_count": null,
   "id": "9e3b8734",
   "metadata": {},
   "outputs": [],
   "source": [
    "nlth_anl.run(\n",
    "    0.01,\n",
    "    'groundmotions/1xa.txt',\n",
    "    'groundmotions/1ya.txt',\n",
    "    None,\n",
    "    0.005,\n",
    "    damping={'type': 'rayleigh', 'ratio': 0.05, 'periods': [1.00, 0.30]},\n",
    "    print_progress=True\n",
    ")"
   ]
  },
  {
   "cell_type": "code",
   "execution_count": null,
   "id": "ca0060ee",
   "metadata": {},
   "outputs": [],
   "source": [
    "parent_node_lvl2 = testcase.parent_nodes[2]"
   ]
  },
  {
   "cell_type": "code",
   "execution_count": null,
   "id": "b7437eb3",
   "metadata": {},
   "outputs": [],
   "source": [
    "nlth_anl.plot_node_displacement_history(testcase.name, parent_node_lvl2, 0, plotly=True)"
   ]
  }
 ],
 "metadata": {
  "kernelspec": {
   "display_name": "Python 3 (ipykernel)",
   "language": "python",
   "name": "python3"
  },
  "language_info": {
   "codemirror_mode": {
    "name": "ipython",
    "version": 3
   },
   "file_extension": ".py",
   "mimetype": "text/x-python",
   "name": "python",
   "nbconvert_exporter": "python",
   "pygments_lexer": "ipython3",
   "version": "3.9.7"
  }
 },
 "nbformat": 4,
 "nbformat_minor": 5
}
