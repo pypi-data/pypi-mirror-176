{
 "cells": [
  {
   "cell_type": "markdown",
   "id": "ea1aac6c",
   "metadata": {},
   "source": [
    "# Welcome"
   ]
  },
  {
   "cell_type": "markdown",
   "id": "fdac4271",
   "metadata": {},
   "source": [
    "This document provides a general overview of `OpenSees_Model_Generator (osmg)`."
   ]
  },
  {
   "cell_type": "markdown",
   "id": "149adc69",
   "metadata": {},
   "source": [
    "Opensees_Model_Generator is a python module aimed to simplify the definition of 3D models in OpenSees by automating various \"offline calculations\", such as orienting line elements in 3D space,  subdividing line elements, distributing loads based on tributary area analysis, and other such operations. The module aims to promote the use of OpenSees for research applications and form a community of researchers who benefit from its capabilities and contribute to its development."
   ]
  },
  {
   "cell_type": "markdown",
   "id": "ca9a9c10",
   "metadata": {},
   "source": [
    "The source code of this module should be thought of as a higher-level interface to OpenSees.\n",
    "Users of the module are expected to understand the source code and be willing to make changes to it to meet their goals."
   ]
  },
  {
   "cell_type": "markdown",
   "id": "3f4c8e9d",
   "metadata": {},
   "source": [
    "## Workflow"
   ]
  },
  {
   "cell_type": "markdown",
   "id": "1a109653",
   "metadata": {},
   "source": [
    "The general workflow enabled by the module is the following:\n",
    "1. Instantiate model objects and define their components\n",
    "2. Perform preprocessing operations\n",
    "3. Define load_case and analysis objects\n",
    "4. Run the analyses\n",
    "5. Post-process the analysis results\n",
    "\n",
    "Actual interaction with OpenSees only happens at step #4."
   ]
  },
  {
   "cell_type": "markdown",
   "id": "1c1bbaa4",
   "metadata": {},
   "source": [
    "## Install"
   ]
  },
  {
   "cell_type": "markdown",
   "id": "da25fe67",
   "metadata": {},
   "source": [
    "It is recommended to use a virtual environment to manage the dependencies of this module. I use Anaconda.\n",
    "\n",
    "Here is how to [install Aanaconda](https://docs.conda.io/projects/conda/en/latest/user-guide/install/index.html).\n",
    "\n"
   ]
  },
  {
   "cell_type": "markdown",
   "id": "b91fb8fc",
   "metadata": {},
   "source": [
    "### Install from PyPI"
   ]
  },
  {
   "cell_type": "markdown",
   "id": "e22d9bd8",
   "metadata": {},
   "source": [
    "```\n",
    "# create a conda environment\n",
    "$ conda create --name your_env_name_here python=3.9\n",
    "$ conda activate your_env_name_here\n",
    "$ python -m pip install osmg\n",
    "```"
   ]
  },
  {
   "cell_type": "markdown",
   "id": "796ea5cf",
   "metadata": {},
   "source": [
    "Optional:\n",
    "In case you would like to run tributary area analyses for load distribution calculations, `scikit-geometry` needs to be installed.\n",
    "```\n",
    "$ conda install scikit-geometry -c conda-forge\n",
    "```\n"
   ]
  },
  {
   "cell_type": "markdown",
   "id": "2326fd15",
   "metadata": {},
   "source": [
    "### Development mode"
   ]
  },
  {
   "cell_type": "markdown",
   "id": "c73f2840",
   "metadata": {},
   "source": [
    "Alternatively, if you plan to make changes to the code, installing osmg in development mode is recommended.\n",
    "This is how it is done.\n",
    "```\n",
    "$ mkdir parent_directory_where_you_would_like_to_have_osmg\n",
    "$ cd parent_directory_where_you_would_like_to_have_osmg\n",
    "$ git clone https://github.com/ioannis-vm/OpenSees_Model_Generator\n",
    "$ cd OpenSees_Model_Generator\n",
    "$ conda create --name your_env_name_here python=3.9\n",
    "$ conda activate your_env_name_here\n",
    "$ python -m pip install -r requrements_dev.txt\n",
    "$ conda install scikit-geometry -c conda-forge\n",
    "$ python -m pip install -e .\n",
    "```"
   ]
  },
  {
   "cell_type": "markdown",
   "id": "dcf78ed1",
   "metadata": {},
   "source": [
    "### Units\n",
    "At the moment, the following unit options are available:\n",
    "\n",
    "Imperial (default)\n",
    "\n",
    "| Quantity | Unit |\n",
    "| --- | --- |\n",
    "| Length | in |\n",
    "| Force  | lb |\n",
    "| Weight | lb/(in/s2) |\n",
    "\n",
    "Metric\n",
    "\n",
    "| Quantity | Unit |\n",
    "| --- | --- |\n",
    "| Length | m |\n",
    "| Force  | kN |\n",
    "| Weight | kg |\n"
   ]
  },
  {
   "cell_type": "markdown",
   "id": "a84a1181",
   "metadata": {},
   "source": [
    "### IDE or Jupyter Notebooks?\n",
    "I prefer using Emacs as my IDE and working directly with `.py` files. Jupyter notebooks can be used instead, as in these example files.\n",
    "\n",
    "The benefit of using an IDE and `.py` files is the added ability to set up an argument parser and coordinate analyses from the command line. `.py` files also work much better with version control. The benefit of jupyter notebooks is a somewhat more interactive experience, integrated plots, and markdown integration, but the lack of convenient version-control and Emacs key bindings is a deal-breaker for me.\n",
    "\n",
    "An excellent IDE that I used in the past is [Spyder](https://www.spyder-ide.org/)."
   ]
  },
  {
   "cell_type": "markdown",
   "id": "a9d04aa4",
   "metadata": {},
   "source": [
    "## Tips\n",
    "How to make sense of all this code?\n"
   ]
  },
  {
   "cell_type": "markdown",
   "id": "47be240e",
   "metadata": {},
   "source": [
    "To figure out the required syntax, these example files as well as the tests of the module will be helpful.\n",
    "For a deep-dive into the execution steps, other than reading the source files and the docstrings, an effective way is to run the examples using [the python debugger](https://docs.python.org/3/library/pdb.html). Just add\n",
    "```\n",
    "import pdb\n",
    "pdb.set_trace()\n",
    "```\n",
    "at any line where you would like to stop the execution, and then follow the execution step by step. This is another instance where an IDE can be more effective than jupyter notebooks. Taking notes in the process might also help."
   ]
  },
  {
   "cell_type": "code",
   "execution_count": null,
   "id": "e1e8b0b4",
   "metadata": {},
   "outputs": [],
   "source": []
  }
 ],
 "metadata": {
  "kernelspec": {
   "display_name": "Python 3 (ipykernel)",
   "language": "python",
   "name": "python3"
  },
  "language_info": {
   "codemirror_mode": {
    "name": "ipython",
    "version": 3
   },
   "file_extension": ".py",
   "mimetype": "text/x-python",
   "name": "python",
   "nbconvert_exporter": "python",
   "pygments_lexer": "ipython3",
   "version": "3.9.7"
  }
 },
 "nbformat": 4,
 "nbformat_minor": 5
}
