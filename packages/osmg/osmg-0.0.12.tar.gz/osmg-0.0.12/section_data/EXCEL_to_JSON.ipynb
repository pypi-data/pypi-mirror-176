{
 "cells": [
  {
   "cell_type": "markdown",
   "id": "03e1fc26",
   "metadata": {},
   "source": [
    "# Excel to JSON\n",
    "The following code converts the AISC shapes databse excel file to JSON.\n",
    "\n",
    "The original file contains two sections per row. The left has imperial, and the right metric units, but they do not correspond to the exact same section (the metric section dimensions are close to the imperial size but rounded up, they are not merely converted). The following code reads the imperial sections only.\n",
    "\n",
    "To decrease the lookup time for the subsequent analysis, we only extract data for specific section types."
   ]
  },
  {
   "cell_type": "code",
   "execution_count": 1,
   "id": "254bc9ca",
   "metadata": {},
   "outputs": [],
   "source": [
    "import pandas as pd\n",
    "import json"
   ]
  },
  {
   "cell_type": "code",
   "execution_count": 2,
   "id": "a0c83736",
   "metadata": {},
   "outputs": [],
   "source": [
    "contents = pd.read_excel(\n",
    "    \"aisc-shapes-database-v15.0.xlsx\",\n",
    "    sheet_name=\"Database v15.0\",\n",
    "    usecols=\"A:CF\")"
   ]
  },
  {
   "cell_type": "code",
   "execution_count": 3,
   "id": "403f5deb",
   "metadata": {
    "scrolled": false
   },
   "outputs": [],
   "source": [
    "# instantiate an empty list to store the dictionaries\n",
    "sections = {}\n",
    "for i in range(len(contents)):  # for each row\n",
    "\n",
    "    # turn row into a dictionary\n",
    "    dct = dict(contents.loc[i])\n",
    "    \n",
    "    # we only want data for specific section types\n",
    "    if dct[\"Type\"] not in [\"W\", \"HSS\"]:\n",
    "        continue\n",
    "\n",
    "    # filter out key-value pairs\n",
    "    # where value = '-'\n",
    "    # and redundant keys\n",
    "    new_dct = dict()\n",
    "    for (key, value) in dct.items():\n",
    "        if (value != \"–\"):\n",
    "            new_dct[key] = value\n",
    "    # add it to the list\n",
    "    sections[dct[\"AISC_Manual_Label\"]] = new_dct"
   ]
  },
  {
   "cell_type": "code",
   "execution_count": 4,
   "id": "f451638f",
   "metadata": {},
   "outputs": [],
   "source": [
    "# save to a JSON file\n",
    "\n",
    "with open(\"sections.json\", \"w\") as f:\n",
    "    f.write(json.dumps(sections))"
   ]
  }
 ],
 "metadata": {
  "kernelspec": {
   "display_name": "Python 3",
   "language": "python",
   "name": "python3"
  },
  "language_info": {
   "codemirror_mode": {
    "name": "ipython",
    "version": 3
   },
   "file_extension": ".py",
   "mimetype": "text/x-python",
   "name": "python",
   "nbconvert_exporter": "python",
   "pygments_lexer": "ipython3",
   "version": "3.9.5"
  }
 },
 "nbformat": 4,
 "nbformat_minor": 5
}
