{
 "cells": [
  {
   "cell_type": "markdown",
   "id": "b3c91be6",
   "metadata": {},
   "source": [
    "# Defining a Model"
   ]
  },
  {
   "cell_type": "markdown",
   "id": "f74f5f40",
   "metadata": {},
   "source": [
    "This section demonstrates the definition of models."
   ]
  },
  {
   "cell_type": "markdown",
   "id": "63abea52",
   "metadata": {},
   "source": [
    "As noted in `1_Getting_Started`, the general workflow enabled by the module is the following:\n",
    "1. Instantiate model objects and define their components\n",
    "2. Perform pre-processing operations\n",
    "3. Define load_case and analysis objects\n",
    "4. Run the analyses\n",
    "5. Post-process the analysis results\n",
    "\n",
    "This jupyter notebook demonstrates steps #1 and #2."
   ]
  },
  {
   "cell_type": "markdown",
   "id": "a4332fa4",
   "metadata": {},
   "source": [
    "## Model Definition Overview"
   ]
  },
  {
   "cell_type": "markdown",
   "id": "d6f0ebe8",
   "metadata": {},
   "source": [
    "The overall procedure for defining the elements of a model can be broken down into the following steps:\n",
    "- [ ] Set active levels\n",
    "- [ ] Define components\n",
    "- [ ] Apply pre-processing methods\n",
    "\n",
    "The model can be visualized at any step in the process to confirm its validity."
   ]
  },
  {
   "cell_type": "markdown",
   "id": "d127b3e7",
   "metadata": {},
   "source": [
    "**To see all the available arguments of each of the following methods, please look at their source code and read the docstrings**."
   ]
  },
  {
   "cell_type": "markdown",
   "id": "99a6ed61",
   "metadata": {},
   "source": [
    "Alternatively, use the `help()` function.\n",
    "e.g. `help(mdl.add_level)`"
   ]
  },
  {
   "cell_type": "code",
   "execution_count": null,
   "id": "4d660d72",
   "metadata": {},
   "outputs": [],
   "source": [
    "# imports\n",
    "import numpy as np\n",
    "from osmg import model\n",
    "import osmg.defaults as defaults\n",
    "from osmg.gen.section_gen import SectionGenerator\n",
    "from osmg.ops.section import ElasticSection\n",
    "from osmg.gen.beamcolumn_gen import BeamColumnGenerator\n",
    "from osmg.ops.element import ElasticBeamColumn\n",
    "from osmg.graphics.preprocessing_3d import show"
   ]
  },
  {
   "cell_type": "code",
   "execution_count": null,
   "id": "5a858e73",
   "metadata": {},
   "outputs": [],
   "source": [
    "# Instantiate a model\n",
    "mdl = model.Model('example_model')"
   ]
  },
  {
   "cell_type": "code",
   "execution_count": null,
   "id": "93bff0bd",
   "metadata": {},
   "outputs": [],
   "source": [
    "help(mdl.add_level)"
   ]
  },
  {
   "cell_type": "code",
   "execution_count": null,
   "id": "a93feb8f",
   "metadata": {},
   "outputs": [],
   "source": [
    "# Define levels\n",
    "for i in range(3):\n",
    "    mdl.add_level(i, 144.00*(i))"
   ]
  },
  {
   "cell_type": "code",
   "execution_count": null,
   "id": "d0d9001f",
   "metadata": {},
   "outputs": [],
   "source": [
    "defaults.load_default_steel(mdl)\n",
    "steel_phys_mat = mdl.physical_materials.retrieve_by_attr('name', 'default steel')"
   ]
  },
  {
   "cell_type": "code",
   "execution_count": null,
   "id": "61f58dc6",
   "metadata": {},
   "outputs": [],
   "source": [
    "# define line element sections\n",
    "secg = SectionGenerator(mdl)\n",
    "secg.load_aisc_from_database(\n",
    "    'W',\n",
    "    [\"W24X94\"],\n",
    "    'default steel',\n",
    "    'default steel',\n",
    "    ElasticSection)\n"
   ]
  },
  {
   "cell_type": "code",
   "execution_count": null,
   "id": "1ffd6415",
   "metadata": {},
   "outputs": [],
   "source": [
    "# set active levels\n",
    "mdl.levels.set_active([1, 2])"
   ]
  },
  {
   "cell_type": "code",
   "execution_count": null,
   "id": "892cc5c7",
   "metadata": {},
   "outputs": [],
   "source": [
    "p1 = np.array((0.00, 0.00))\n",
    "p2 = np.array((360., 0.00))\n",
    "p3 = np.array((360., 360.))\n",
    "p4 = np.array((0.00, 360.00))"
   ]
  },
  {
   "cell_type": "code",
   "execution_count": null,
   "id": "7973bc60",
   "metadata": {},
   "outputs": [],
   "source": [
    "mcg = BeamColumnGenerator(mdl)\n",
    "sec = mdl.elastic_sections.retrieve_by_attr('name', 'W24X94')\n",
    "for pt in [p1, p2, p3, p4]:\n",
    "    mcg.add_vertical_active(\n",
    "        x_coord=pt[0], y_coord=pt[1],\n",
    "        offset_i=np.zeros(3), offset_j=np.zeros(3),\n",
    "        transf_type='Corotational',\n",
    "        n_sub=4,\n",
    "        section=sec,\n",
    "        element_type=ElasticBeamColumn,\n",
    "        placement='centroid',\n",
    "        angle=0.00)"
   ]
  },
  {
   "cell_type": "code",
   "execution_count": null,
   "id": "b10ae818",
   "metadata": {},
   "outputs": [],
   "source": [
    "for pair in ((p1, p2), (p2, p3), (p3, p4), (p4, p1)):\n",
    "    mcg.add_horizontal_active(\n",
    "        xi_coord=pair[0][0],\n",
    "        yi_coord=pair[0][1],\n",
    "        xj_coord=pair[1][0],\n",
    "        yj_coord=pair[1][1],\n",
    "        offset_i=np.zeros(3),\n",
    "        offset_j=np.zeros(3),\n",
    "        snap_i='centroid',\n",
    "        snap_j='centroid',\n",
    "        transf_type='Linear',\n",
    "        n_sub=4,\n",
    "        section=sec,\n",
    "        element_type=ElasticBeamColumn,\n",
    "        placement='top_center',\n",
    "        angle=0.00)\n"
   ]
  },
  {
   "cell_type": "code",
   "execution_count": null,
   "id": "192adb16",
   "metadata": {},
   "outputs": [],
   "source": [
    "show(mdl)"
   ]
  },
  {
   "cell_type": "code",
   "execution_count": null,
   "id": "d1c2c7be",
   "metadata": {},
   "outputs": [],
   "source": [
    "# fixing the base\n",
    "for node in mdl.levels[0].nodes.values():\n",
    "    node.restraint = [True, True, True, False, False, False]"
   ]
  },
  {
   "cell_type": "code",
   "execution_count": null,
   "id": "de41810f",
   "metadata": {},
   "outputs": [],
   "source": [
    "show(mdl)"
   ]
  },
  {
   "cell_type": "markdown",
   "id": "107d71f9",
   "metadata": {},
   "source": [
    "## Preprocessing"
   ]
  },
  {
   "cell_type": "markdown",
   "id": "bb8aa9a6",
   "metadata": {},
   "source": [
    "Now that all the intended elements have been defined, we can apply pre-processing methods to the model.\n",
    "Two very common methods are the following:\n",
    "- `rigid_diaphragms` assigns rigid diaphragm constraints to all levels that contain beams\n",
    "- `tributary_area_analysis` distributes loads from the floors to the supporting elements\n",
    "- `self_weight`, `self_mass` assign self-weight loads and lumped self-mass to all the elements.\n",
    "\n",
    "However, loads, mass, and diaphragm constraints are load_case-specific. We therefore need to define a load case first."
   ]
  },
  {
   "cell_type": "code",
   "execution_count": null,
   "id": "72800a69",
   "metadata": {},
   "outputs": [],
   "source": [
    "# imports\n",
    "from osmg.load_case import LoadCase\n",
    "from osmg.preprocessing.self_weight_mass import self_weight\n",
    "from osmg.preprocessing.self_weight_mass import self_mass\n",
    "from osmg.preprocessing.tributary_area_analysis import PolygonLoad"
   ]
  },
  {
   "cell_type": "code",
   "execution_count": null,
   "id": "2af234e2",
   "metadata": {},
   "outputs": [],
   "source": [
    "testcase = LoadCase('test', mdl)"
   ]
  },
  {
   "cell_type": "code",
   "execution_count": null,
   "id": "ba106e81",
   "metadata": {},
   "outputs": [],
   "source": [
    "self_weight(mdl, testcase)\n",
    "self_mass(mdl, testcase)"
   ]
  },
  {
   "cell_type": "code",
   "execution_count": null,
   "id": "05e7550f",
   "metadata": {},
   "outputs": [],
   "source": [
    "testcase.rigid_diaphragms([1, 2])"
   ]
  },
  {
   "cell_type": "code",
   "execution_count": null,
   "id": "4bb739f1",
   "metadata": {},
   "outputs": [],
   "source": [
    "for key in [1, 2]:\n",
    "    testcase.tributary_area_analysis[key].polygon_loads.append(\n",
    "        PolygonLoad('dead', 50.00, None, None, False))\n",
    "    testcase.tributary_area_analysis[key].polygon_loads.append(\n",
    "        PolygonLoad('live', 10.00, None, None, True))\n",
    "    testcase.tributary_area_analysis[key].run()\n"
   ]
  },
  {
   "cell_type": "code",
   "execution_count": null,
   "id": "a9a5a288",
   "metadata": {},
   "outputs": [],
   "source": [
    "# visualize the model\n",
    "show(mdl, testcase, extrude=True)"
   ]
  }
 ],
 "metadata": {
  "kernelspec": {
   "display_name": "Python 3 (ipykernel)",
   "language": "python",
   "name": "python3"
  },
  "language_info": {
   "codemirror_mode": {
    "name": "ipython",
    "version": 3
   },
   "file_extension": ".py",
   "mimetype": "text/x-python",
   "name": "python",
   "nbconvert_exporter": "python",
   "pygments_lexer": "ipython3",
   "version": "3.9.7"
  },
  "name": "2_Define_a_Model.ipynb"
 },
 "nbformat": 4,
 "nbformat_minor": 5
}
