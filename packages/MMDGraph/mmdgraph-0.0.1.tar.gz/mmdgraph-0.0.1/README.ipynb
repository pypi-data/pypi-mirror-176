{
 "cells": [
  {
   "cell_type": "markdown",
   "metadata": {},
   "source": [
    "# MMDGraph"
   ]
  },
  {
   "cell_type": "markdown",
   "metadata": {},
   "source": [
    "## What is this package for?\n",
    "\n",
    "This package contains code to perform kernel two-sample hypothesis testing on samples of graphs. The code additionally allows for estimation of graphs from a real data matrix.\n"
   ]
  },
  {
   "cell_type": "markdown",
   "metadata": {},
   "source": [
    "## How to install\n",
    "\n",
    "<code> pip install MMDGraph </code>"
   ]
  },
  {
   "cell_type": "markdown",
   "metadata": {},
   "source": [
    "## Usage"
   ]
  },
  {
   "cell_type": "markdown",
   "metadata": {},
   "source": [
    "We will go thorugh multiple scenariros: The case when the user has it own networkx graphs, when they are estimated from data matricies, using different kernels and using different MMD estimators."
   ]
  },
  {
   "cell_type": "code",
   "execution_count": 2,
   "metadata": {},
   "outputs": [],
   "source": [
    "import numpy as np\n",
    "import networkx as nx\n",
    "import seaborn as sns\n",
    "import matplotlib.pyplot as plt\n",
    "import MMDGraph as mg"
   ]
  },
  {
   "cell_type": "markdown",
   "metadata": {},
   "source": [
    "### Fit when H1 true, different edge probability"
   ]
  },
  {
   "cell_type": "markdown",
   "metadata": {},
   "source": [
    "Start by creating sample graphs"
   ]
  },
  {
   "cell_type": "code",
   "execution_count": 3,
   "metadata": {},
   "outputs": [],
   "source": [
    "\n",
    "n1 = n2 = 50\n",
    "g1 = [nx.fast_gnp_random_graph(30,0.3) for _ in range(n1)]\n",
    "g2 = [nx.fast_gnp_random_graph(30,0.4) for _ in range(n2)]\n",
    "for j in range(len(g1)):\n",
    "    nx.set_node_attributes(g1[j],  {key: str(value) for key, value in dict(g1[j].degree).items()} , 'label')\n",
    "for j in range(len(g2)):\n",
    "    nx.set_node_attributes(g2[j], {key: str(value) for key, value in dict(g2[j].degree).items()}, 'label')\n"
   ]
  },
  {
   "cell_type": "markdown",
   "metadata": {},
   "source": [
    "Performd mmd test using various kernels"
   ]
  },
  {
   "cell_type": "code",
   "execution_count": 4,
   "metadata": {},
   "outputs": [
    {
     "name": "stderr",
     "output_type": "stream",
     "text": [
      "c:\\Users\\User\\Code\\MMDGraph\\MMDGraph\\kernels\\RandomWalk.py:560: FutureWarning: adjacency_matrix will return a scipy.sparse array instead of a matrix in Networkx 3.0.\n",
      "  return scipy.sparse.csr_matrix(nx.adjacency_matrix(G ,weight=edge_attr), dtype=np.float64)\n"
     ]
    },
    {
     "name": "stdout",
     "output_type": "stream",
     "text": [
      " RW_ARKU_plus {'MMD_u': 0.0}\n"
     ]
    }
   ],
   "source": [
    "# Random Walk\n",
    "MMD_out = mg.MMD()\n",
    "MMD_out.fit(G1 = g1, G2 = g2, kernel = 'RW_ARKU_plus', mmd_estimators = 'MMD_u', r = 6, c = 0.001)\n",
    "print(f\" RW_ARKU_plus {MMD_out.p_values}\")"
   ]
  },
  {
   "cell_type": "code",
   "execution_count": 5,
   "metadata": {},
   "outputs": [
    {
     "name": "stdout",
     "output_type": "stream",
     "text": [
      "Using label as node labels\n",
      " RW_ARKL {'MMD_u': 0.0}\n"
     ]
    }
   ],
   "source": [
    "# RW kernel with labels, we just need to find the unique labels first\n",
    "MMD_out = mg.MMD()\n",
    "MMD_out.fit(G1 = g1, G2 = g2, kernel = 'RW_ARKL', mmd_estimators = 'MMD_u', r = 4, c = 1e-3,node_label = 'label',\n",
    "                                    unique_node_labels= set(np.concatenate([list(nx.get_node_attributes(g, 'label').values())for g in g1+g2])))\n",
    "print(f\" RW_ARKL {MMD_out.p_values}\")\n"
   ]
  },
  {
   "cell_type": "code",
   "execution_count": 6,
   "metadata": {},
   "outputs": [
    {
     "name": "stderr",
     "output_type": "stream",
     "text": [
      "100%|██████████| 5050/5050.0 [00:05<00:00, 919.40it/s] \n"
     ]
    },
    {
     "name": "stdout",
     "output_type": "stream",
     "text": [
      " GNTK {'MMD_u': 0.0}\n"
     ]
    }
   ],
   "source": [
    "# GNTK kernel\n",
    "MMD_out = mg.MMD()\n",
    "MMD_out.fit(G1 = g1, G2 = g2, kernel = 'GNTK', mmd_estimators = 'MMD_u', num_layers = 2, num_mlp_lauers = 2, jk = True, scale = 'uniform')\n",
    "print(f\" GNTK {MMD_out.p_values}\")"
   ]
  },
  {
   "cell_type": "code",
   "execution_count": 7,
   "metadata": {},
   "outputs": [
    {
     "name": "stdout",
     "output_type": "stream",
     "text": [
      "Using label as node labels\n",
      " WWL {'MMD_u': 0.0}\n"
     ]
    }
   ],
   "source": [
    "# WWL kernel\n",
    "MMD_out = mg.MMD()\n",
    "MMD_out.fit(G1 = g1, G2 = g2, kernel = 'WWL', mmd_estimators = 'MMD_u', discount = 0.1, h = 2, node_label = 'label')\n",
    "print(f\" WWL {MMD_out.p_values}\")"
   ]
  },
  {
   "cell_type": "code",
   "execution_count": 8,
   "metadata": {},
   "outputs": [
    {
     "name": "stdout",
     "output_type": "stream",
     "text": [
      "Using label as node labels\n",
      " ML DK {'MMD_u': 0.0}\n"
     ]
    }
   ],
   "source": [
    "# Deep Kernel without the deepness\n",
    "MMD_out = mg.MMD()\n",
    "MMD_out.fit(G1 = g1, G2 = g2, kernel = 'DK', mmd_estimators = 'MMD_u', type = 'wl', wl_it = 4, node_label = 'label')\n",
    "print(f\" ML DK {MMD_out.p_values}\")"
   ]
  },
  {
   "cell_type": "code",
   "execution_count": 9,
   "metadata": {},
   "outputs": [
    {
     "name": "stdout",
     "output_type": "stream",
     "text": [
      "Using label as node labels\n",
      " Deep DK {'MMD_u': 0.0}\n"
     ]
    }
   ],
   "source": [
    "\n",
    "# Deep kernel with deepness, user has to install gensim, this might take some time, can try to increase number of workers\n",
    "MMD_out = mg.MMD()\n",
    "MMD_out.fit(G1 = g1, G2 = g2, kernel = 'DK', mmd_estimators = 'MMD_u', type = 'wl', wl_it = 4, opt_type = 'word2vec', node_label = 'label', workers = 10)\n",
    "print(f\" Deep DK {MMD_out.p_values}\")"
   ]
  },
  {
   "cell_type": "code",
   "execution_count": 10,
   "metadata": {},
   "outputs": [
    {
     "name": "stdout",
     "output_type": "stream",
     "text": [
      "Using label as node labels\n",
      "label\n",
      " WL {'MMD_u': 0.0}\n"
     ]
    }
   ],
   "source": [
    "# Grakel kernel example\n",
    "kernel = [{\"name\": \"weisfeiler_lehman\", \"n_iter\": 1}, {\"name\": \"vertex_histogram\"}]\n",
    "MMD_out = mg.MMD()\n",
    "MMD_out.fit(G1 = g1, G2 = g2, kernel = kernel, mmd_estimators = 'MMD_u', node_label = 'label')\n",
    "print(f\" WL {MMD_out.p_values}\")"
   ]
  },
  {
   "cell_type": "code",
   "execution_count": 11,
   "metadata": {},
   "outputs": [
    {
     "name": "stdout",
     "output_type": "stream",
     "text": [
      "Using label as node labels\n",
      "label\n"
     ]
    },
    {
     "name": "stderr",
     "output_type": "stream",
     "text": [
      "c:\\Users\\User\\Code\\MMDGraph\\.mmdvenv8\\lib\\site-packages\\grakel\\kernels\\propagation.py:212: RuntimeWarning: invalid value encountered in true_divide\n",
      "  transition_matrix[i] = (T.T / np.sum(T, axis=1)).T\n"
     ]
    },
    {
     "ename": "KeyError",
     "evalue": "nan",
     "output_type": "error",
     "traceback": [
      "\u001b[1;31m---------------------------------------------------------------------------\u001b[0m",
      "\u001b[1;31mKeyError\u001b[0m                                  Traceback (most recent call last)",
      "\u001b[1;32mc:\\Users\\User\\Code\\MMDGraph\\README.ipynb Cell 18\u001b[0m in \u001b[0;36m<cell line: 4>\u001b[1;34m()\u001b[0m\n\u001b[0;32m      <a href='vscode-notebook-cell:/c%3A/Users/User/Code/MMDGraph/README.ipynb#X22sZmlsZQ%3D%3D?line=1'>2</a>\u001b[0m kernel \u001b[39m=\u001b[39m [ {\u001b[39m\"\u001b[39m\u001b[39mname\u001b[39m\u001b[39m\"\u001b[39m:\u001b[39m\"\u001b[39m\u001b[39mpropagation\u001b[39m\u001b[39m\"\u001b[39m, \u001b[39m'\u001b[39m\u001b[39mt_max\u001b[39m\u001b[39m'\u001b[39m:\u001b[39m5\u001b[39m, \u001b[39m'\u001b[39m\u001b[39mw\u001b[39m\u001b[39m'\u001b[39m:\u001b[39m0.1\u001b[39m, \u001b[39m'\u001b[39m\u001b[39mM\u001b[39m\u001b[39m'\u001b[39m:\u001b[39m\"\u001b[39m\u001b[39mTV\u001b[39m\u001b[39m\"\u001b[39m}]\n\u001b[0;32m      <a href='vscode-notebook-cell:/c%3A/Users/User/Code/MMDGraph/README.ipynb#X22sZmlsZQ%3D%3D?line=2'>3</a>\u001b[0m MMD_out \u001b[39m=\u001b[39m mg\u001b[39m.\u001b[39mMMD()\n\u001b[1;32m----> <a href='vscode-notebook-cell:/c%3A/Users/User/Code/MMDGraph/README.ipynb#X22sZmlsZQ%3D%3D?line=3'>4</a>\u001b[0m MMD_out\u001b[39m.\u001b[39;49mfit(G1 \u001b[39m=\u001b[39;49m g1, G2 \u001b[39m=\u001b[39;49m g2, kernel \u001b[39m=\u001b[39;49m kernel, mmd_estimators \u001b[39m=\u001b[39;49m \u001b[39m'\u001b[39;49m\u001b[39mMMD_u\u001b[39;49m\u001b[39m'\u001b[39;49m, node_label \u001b[39m=\u001b[39;49m \u001b[39m'\u001b[39;49m\u001b[39mlabel\u001b[39;49m\u001b[39m'\u001b[39;49m)\n\u001b[0;32m      <a href='vscode-notebook-cell:/c%3A/Users/User/Code/MMDGraph/README.ipynb#X22sZmlsZQ%3D%3D?line=4'>5</a>\u001b[0m \u001b[39mprint\u001b[39m(\u001b[39mf\u001b[39m\u001b[39m\"\u001b[39m\u001b[39m propagation \u001b[39m\u001b[39m{\u001b[39;00mMMD_out\u001b[39m.\u001b[39mp_values\u001b[39m}\u001b[39;00m\u001b[39m\"\u001b[39m)\n",
      "File \u001b[1;32mc:\\Users\\User\\Code\\MMDGraph\\MMDGraph\\MMD.py:577\u001b[0m, in \u001b[0;36mMMD.fit\u001b[1;34m(self, kernel, mmd_estimators, G1, G2, **kwargs)\u001b[0m\n\u001b[0;32m    573\u001b[0m     init_kernel \u001b[39m=\u001b[39m gk\u001b[39m.\u001b[39mGraphKernel(kernel\u001b[39m=\u001b[39m kernel, normalize\u001b[39m=\u001b[39mkwargs\u001b[39m.\u001b[39mget(\u001b[39m'\u001b[39m\u001b[39mnormalize\u001b[39m\u001b[39m'\u001b[39m,\u001b[39mFalse\u001b[39;00m))\n\u001b[0;32m    574\u001b[0m     graph_list \u001b[39m=\u001b[39m gk\u001b[39m.\u001b[39mgraph_from_networkx(\u001b[39mself\u001b[39m\u001b[39m.\u001b[39mG1\u001b[39m+\u001b[39m\u001b[39mself\u001b[39m\u001b[39m.\u001b[39mG2, node_labels_tag\u001b[39m=\u001b[39mnode_labels_tag, \n\u001b[0;32m    575\u001b[0m                                             edge_weight_tag\u001b[39m=\u001b[39m\u001b[39mgetattr\u001b[39m(\u001b[39mself\u001b[39m, \u001b[39m'\u001b[39m\u001b[39medge_attr\u001b[39m\u001b[39m'\u001b[39m, \u001b[39mNone\u001b[39;00m), \n\u001b[0;32m    576\u001b[0m                                             edge_labels_tag\u001b[39m=\u001b[39m\u001b[39mgetattr\u001b[39m(\u001b[39mself\u001b[39m, \u001b[39m'\u001b[39m\u001b[39medge_label\u001b[39m\u001b[39m'\u001b[39m, \u001b[39mNone\u001b[39;00m))\n\u001b[1;32m--> 577\u001b[0m     \u001b[39mself\u001b[39m\u001b[39m.\u001b[39mK \u001b[39m=\u001b[39m init_kernel\u001b[39m.\u001b[39;49mfit_transform(graph_list)\n\u001b[0;32m    578\u001b[0m     \u001b[39mdel\u001b[39;00m init_kernel\n\u001b[0;32m    580\u001b[0m \u001b[39melse\u001b[39;00m: \n",
      "File \u001b[1;32mc:\\Users\\User\\Code\\MMDGraph\\.mmdvenv8\\lib\\site-packages\\grakel\\graph_kernels.py:407\u001b[0m, in \u001b[0;36mGraphKernel.fit_transform\u001b[1;34m(self, X, y)\u001b[0m\n\u001b[0;32m    405\u001b[0m     K \u001b[39m=\u001b[39m \u001b[39mself\u001b[39m\u001b[39m.\u001b[39mkernel_\u001b[39m.\u001b[39mtransform(X)\u001b[39m.\u001b[39mdot(\u001b[39mself\u001b[39m\u001b[39m.\u001b[39mnystroem_normalization_\u001b[39m.\u001b[39mT)\n\u001b[0;32m    406\u001b[0m \u001b[39melse\u001b[39;00m:\n\u001b[1;32m--> 407\u001b[0m     K \u001b[39m=\u001b[39m \u001b[39mself\u001b[39;49m\u001b[39m.\u001b[39;49mkernel_\u001b[39m.\u001b[39;49mfit_transform(X)\n\u001b[0;32m    409\u001b[0m \u001b[39mreturn\u001b[39;00m K\n",
      "File \u001b[1;32mc:\\Users\\User\\Code\\MMDGraph\\.mmdvenv8\\lib\\site-packages\\grakel\\kernels\\kernel.py:194\u001b[0m, in \u001b[0;36mKernel.fit_transform\u001b[1;34m(self, X)\u001b[0m\n\u001b[0;32m    170\u001b[0m \u001b[39m\"\"\"Fit and transform, on the same dataset.\u001b[39;00m\n\u001b[0;32m    171\u001b[0m \n\u001b[0;32m    172\u001b[0m \u001b[39mParameters\u001b[39;00m\n\u001b[1;32m   (...)\u001b[0m\n\u001b[0;32m    191\u001b[0m \n\u001b[0;32m    192\u001b[0m \u001b[39m\"\"\"\u001b[39;00m\n\u001b[0;32m    193\u001b[0m \u001b[39mself\u001b[39m\u001b[39m.\u001b[39m_method_calling \u001b[39m=\u001b[39m \u001b[39m2\u001b[39m\n\u001b[1;32m--> 194\u001b[0m \u001b[39mself\u001b[39;49m\u001b[39m.\u001b[39;49mfit(X)\n\u001b[0;32m    196\u001b[0m \u001b[39m# Transform - calculate kernel matrix\u001b[39;00m\n\u001b[0;32m    197\u001b[0m km \u001b[39m=\u001b[39m \u001b[39mself\u001b[39m\u001b[39m.\u001b[39m_calculate_kernel_matrix()\n",
      "File \u001b[1;32mc:\\Users\\User\\Code\\MMDGraph\\.mmdvenv8\\lib\\site-packages\\grakel\\kernels\\kernel.py:123\u001b[0m, in \u001b[0;36mKernel.fit\u001b[1;34m(self, X, y)\u001b[0m\n\u001b[0;32m    121\u001b[0m     \u001b[39mraise\u001b[39;00m \u001b[39mValueError\u001b[39;00m(\u001b[39m'\u001b[39m\u001b[39m`fit` input cannot be None\u001b[39m\u001b[39m'\u001b[39m)\n\u001b[0;32m    122\u001b[0m \u001b[39melse\u001b[39;00m:\n\u001b[1;32m--> 123\u001b[0m     \u001b[39mself\u001b[39m\u001b[39m.\u001b[39mX \u001b[39m=\u001b[39m \u001b[39mself\u001b[39;49m\u001b[39m.\u001b[39;49mparse_input(X)\n\u001b[0;32m    125\u001b[0m \u001b[39m# Return the transformer\u001b[39;00m\n\u001b[0;32m    126\u001b[0m \u001b[39mreturn\u001b[39;00m \u001b[39mself\u001b[39m\n",
      "File \u001b[1;32mc:\\Users\\User\\Code\\MMDGraph\\.mmdvenv8\\lib\\site-packages\\grakel\\kernels\\propagation.py:273\u001b[0m, in \u001b[0;36mPropagation.parse_input\u001b[1;34m(self, X)\u001b[0m\n\u001b[0;32m    271\u001b[0m hd \u001b[39m=\u001b[39m \u001b[39mdict\u001b[39m((j, i) \u001b[39mfor\u001b[39;00m i, j \u001b[39min\u001b[39;00m \u001b[39menumerate\u001b[39m(\u001b[39mset\u001b[39m(np\u001b[39m.\u001b[39munique(hashes))))\n\u001b[0;32m    272\u001b[0m \u001b[39mself\u001b[39m\u001b[39m.\u001b[39m_hd\u001b[39m.\u001b[39mappend(hd)\n\u001b[1;32m--> 273\u001b[0m features \u001b[39m=\u001b[39m np\u001b[39m.\u001b[39;49mvectorize(\u001b[39mlambda\u001b[39;49;00m i: hd[i])(hashes)\n\u001b[0;32m    275\u001b[0m \u001b[39m# Accumulate the results.\u001b[39;00m\n\u001b[0;32m    276\u001b[0m \u001b[39mfor\u001b[39;00m k \u001b[39min\u001b[39;00m \u001b[39mrange\u001b[39m(n):\n",
      "File \u001b[1;32mc:\\Users\\User\\Code\\MMDGraph\\.mmdvenv8\\lib\\site-packages\\numpy\\lib\\function_base.py:2163\u001b[0m, in \u001b[0;36mvectorize.__call__\u001b[1;34m(self, *args, **kwargs)\u001b[0m\n\u001b[0;32m   2160\u001b[0m     vargs \u001b[39m=\u001b[39m [args[_i] \u001b[39mfor\u001b[39;00m _i \u001b[39min\u001b[39;00m inds]\n\u001b[0;32m   2161\u001b[0m     vargs\u001b[39m.\u001b[39mextend([kwargs[_n] \u001b[39mfor\u001b[39;00m _n \u001b[39min\u001b[39;00m names])\n\u001b[1;32m-> 2163\u001b[0m \u001b[39mreturn\u001b[39;00m \u001b[39mself\u001b[39;49m\u001b[39m.\u001b[39;49m_vectorize_call(func\u001b[39m=\u001b[39;49mfunc, args\u001b[39m=\u001b[39;49mvargs)\n",
      "File \u001b[1;32mc:\\Users\\User\\Code\\MMDGraph\\.mmdvenv8\\lib\\site-packages\\numpy\\lib\\function_base.py:2246\u001b[0m, in \u001b[0;36mvectorize._vectorize_call\u001b[1;34m(self, func, args)\u001b[0m\n\u001b[0;32m   2243\u001b[0m \u001b[39m# Convert args to object arrays first\u001b[39;00m\n\u001b[0;32m   2244\u001b[0m inputs \u001b[39m=\u001b[39m [asanyarray(a, dtype\u001b[39m=\u001b[39m\u001b[39mobject\u001b[39m) \u001b[39mfor\u001b[39;00m a \u001b[39min\u001b[39;00m args]\n\u001b[1;32m-> 2246\u001b[0m outputs \u001b[39m=\u001b[39m ufunc(\u001b[39m*\u001b[39;49minputs)\n\u001b[0;32m   2248\u001b[0m \u001b[39mif\u001b[39;00m ufunc\u001b[39m.\u001b[39mnout \u001b[39m==\u001b[39m \u001b[39m1\u001b[39m:\n\u001b[0;32m   2249\u001b[0m     res \u001b[39m=\u001b[39m asanyarray(outputs, dtype\u001b[39m=\u001b[39motypes[\u001b[39m0\u001b[39m])\n",
      "File \u001b[1;32mc:\\Users\\User\\Code\\MMDGraph\\.mmdvenv8\\lib\\site-packages\\grakel\\kernels\\propagation.py:273\u001b[0m, in \u001b[0;36mPropagation.parse_input.<locals>.<lambda>\u001b[1;34m(i)\u001b[0m\n\u001b[0;32m    271\u001b[0m hd \u001b[39m=\u001b[39m \u001b[39mdict\u001b[39m((j, i) \u001b[39mfor\u001b[39;00m i, j \u001b[39min\u001b[39;00m \u001b[39menumerate\u001b[39m(\u001b[39mset\u001b[39m(np\u001b[39m.\u001b[39munique(hashes))))\n\u001b[0;32m    272\u001b[0m \u001b[39mself\u001b[39m\u001b[39m.\u001b[39m_hd\u001b[39m.\u001b[39mappend(hd)\n\u001b[1;32m--> 273\u001b[0m features \u001b[39m=\u001b[39m np\u001b[39m.\u001b[39mvectorize(\u001b[39mlambda\u001b[39;00m i: hd[i])(hashes)\n\u001b[0;32m    275\u001b[0m \u001b[39m# Accumulate the results.\u001b[39;00m\n\u001b[0;32m    276\u001b[0m \u001b[39mfor\u001b[39;00m k \u001b[39min\u001b[39;00m \u001b[39mrange\u001b[39m(n):\n",
      "\u001b[1;31mKeyError\u001b[0m: nan"
     ]
    }
   ],
   "source": [
    "# Grakel propagation\n",
    "kernel = [ {\"name\":\"propagation\", 't_max':5, 'w':0.1, 'M':\"TV\"}]\n",
    "MMD_out = mg.MMD()\n",
    "MMD_out.fit(G1 = g1, G2 = g2, kernel = kernel, mmd_estimators = 'MMD_u', node_label = 'label')\n",
    "print(f\" propagation {MMD_out.p_values}\")\n"
   ]
  },
  {
   "cell_type": "markdown",
   "metadata": {},
   "source": [
    "### Using different MMD estimators\n",
    "\n",
    "We can also use other MMD estimators"
   ]
  },
  {
   "cell_type": "code",
   "execution_count": null,
   "metadata": {},
   "outputs": [
    {
     "name": "stderr",
     "output_type": "stream",
     "text": [
      "c:\\Users\\User\\Code\\MMDGraph\\MMDGraph\\kernels\\RandomWalk.py:935: FutureWarning: adjacency_matrix will return a scipy.sparse array instead of a matrix in Networkx 3.0.\n",
      "  return scipy.sparse.csr_matrix(nx.adjacency_matrix(G ,weight=edge_attr), dtype=np.float64)\n"
     ]
    },
    {
     "name": "stdout",
     "output_type": "stream",
     "text": [
      " RW_ARKU_plus {'MMD_u': 0.0, 'MMD_b': 0.0, 'MMD_l': 0.0, 'MONK_EST': 0.0}\n"
     ]
    }
   ],
   "source": [
    "MMD_out = mg.MMD()\n",
    "MMD_out.fit(G1 = g1, G2 = g2, kernel = 'RW_ARKU_plus', mmd_estimators = ['MMD_u', 'MMD_b', 'MMD_l', 'MONK_EST'], r = 2, c = 0.001, Q = 5)\n",
    "print(f\" RW_ARKU_plus {MMD_out.p_values}\")"
   ]
  },
  {
   "cell_type": "markdown",
   "metadata": {},
   "source": [
    "### H1 true different weights"
   ]
  },
  {
   "cell_type": "code",
   "execution_count": null,
   "metadata": {},
   "outputs": [],
   "source": [
    "n1 = n2 = 50\n",
    "g1_weights = [nx.fast_gnp_random_graph(30,0.3, seed = 42) for _ in range(n1)]\n",
    "g2_weight = [nx.fast_gnp_random_graph(30,0.3, seed = 50) for _ in range(n2)]\n",
    "\n",
    "\n",
    "for j in range(len(g1_weights)):\n",
    "    nx.set_node_attributes(g1_weights[j],  {key: str(value) for key, value in dict(g1_weights[j].degree).items()} , 'label')\n",
    "for j in range(len(g2_weight)):\n",
    "    nx.set_node_attributes(g2_weight[j], {key: str(value) for key, value in dict(g2_weight[j].degree).items()}, 'label')\n",
    "\n",
    "\n",
    "def edge_dist(loc, scale ):\n",
    "    from scipy.stats import uniform\n",
    "    return np.random.normal(loc = loc, scale = scale)# uniform.rvs(size=1,  loc = loc , scale = scale)[0]\n",
    "def add_weight(G, loc, scale ):\n",
    "    edge_w = dict()\n",
    "    for e in G.edges():\n",
    "        edge_w[e] = edge_dist(loc, scale)\n",
    "    return edge_w\n",
    "\n",
    "\n",
    "for G in g1_weights:\n",
    "    nx.set_edge_attributes(G, add_weight(G, loc = 0.5, scale = 1), \"weight\")\n",
    "for G in g2_weight:\n",
    "    nx.set_edge_attributes(G, add_weight(G, loc = 0.5, scale = 4), \"weight\")\n"
   ]
  },
  {
   "cell_type": "code",
   "execution_count": null,
   "metadata": {},
   "outputs": [
    {
     "name": "stdout",
     "output_type": "stream",
     "text": [
      "Using weight as edge attributes\n"
     ]
    },
    {
     "name": "stderr",
     "output_type": "stream",
     "text": [
      "c:\\Users\\User\\Code\\MMDGraph\\MMDGraph\\kernels\\RandomWalk.py:935: FutureWarning: adjacency_matrix will return a scipy.sparse array instead of a matrix in Networkx 3.0.\n",
      "  return scipy.sparse.csr_matrix(nx.adjacency_matrix(G ,weight=edge_attr), dtype=np.float64)\n"
     ]
    },
    {
     "name": "stdout",
     "output_type": "stream",
     "text": [
      " RW_ARKU_plus {'MMD_u': 0.0}\n"
     ]
    }
   ],
   "source": [
    "# Random Walk\n",
    "MMD_out = mg.MMD()\n",
    "MMD_out.fit(G1 = g1_weights, G2 = g2_weight, kernel = 'RW_ARKU_plus', mmd_estimators = 'MMD_u', r = 2, c = 0.001, edge_attr = 'weight')\n",
    "print(f\" RW_ARKU_plus {MMD_out.p_values}\")"
   ]
  },
  {
   "cell_type": "code",
   "execution_count": null,
   "metadata": {},
   "outputs": [
    {
     "name": "stdout",
     "output_type": "stream",
     "text": [
      " propagation {'MMD_u': 0.0}\n"
     ]
    }
   ],
   "source": [
    "# Random Walk weights ignored, should not reject\n",
    "MMD_out = mg.MMD()\n",
    "MMD_out.fit(G1 = g1_weights, G2 = g2_weight, kernel = 'RW_ARKU_plus', mmd_estimators = 'MMD_u', r = 2, c = 0.001, edge_attr = None)\n",
    "print(f\" propagation {MMD_out.p_values}\")"
   ]
  },
  {
   "cell_type": "code",
   "execution_count": null,
   "metadata": {},
   "outputs": [
    {
     "name": "stdout",
     "output_type": "stream",
     "text": [
      "Using weight as edge attributes\n",
      "None\n",
      " pyramid_match {'MMD_u': 0.006}\n"
     ]
    }
   ],
   "source": [
    "# Grakel pyramid\n",
    "kernel = [{\"name\": \"pyramid_match\", \"L\": 6, \"d\":6, 'with_labels':False}]\n",
    "MMD_out = mg.MMD()\n",
    "MMD_out.fit(G1 = g1_weights, G2 = g2_weight, kernel = kernel, mmd_estimators = 'MMD_u', edge_attr = 'weight')\n",
    "print(f\" pyramid_match {MMD_out.p_values}\")"
   ]
  },
  {
   "cell_type": "code",
   "execution_count": null,
   "metadata": {},
   "outputs": [
    {
     "name": "stdout",
     "output_type": "stream",
     "text": [
      "Using weight as edge attributes\n",
      "Using label as node labels\n",
      "label\n",
      " propagation {'MMD_u': 0.0}\n"
     ]
    }
   ],
   "source": [
    "# propagation, needs node attribute or label \n",
    "kernel = [ {\"name\":\"propagation\", 't_max':5, 'w':0.01, 'M':\"TV\"}]\n",
    "MMD_out = mg.MMD()\n",
    "MMD_out.fit(G1 = g1_weights, G2 = g2_weight, kernel = kernel, mmd_estimators = 'MMD_u', edge_attr = 'weight', node_label = 'label')\n",
    "print(f\" propagation {MMD_out.p_values}\")"
   ]
  },
  {
   "cell_type": "markdown",
   "metadata": {},
   "source": [
    " ### H1 true different attributes"
   ]
  },
  {
   "cell_type": "code",
   "execution_count": null,
   "metadata": {},
   "outputs": [],
   "source": [
    "\n",
    "n1 = n2 = 50\n",
    "g1_attr = [nx.fast_gnp_random_graph(30,0.2,seed=42) for _ in range(n1)]\n",
    "g2_attr = [nx.fast_gnp_random_graph(30,0.2,seed=50) for _ in range(n2)]\n",
    "for j in range(len(g1_attr)):\n",
    "    nx.set_node_attributes(g1_attr[j], dict( ( (i, np.random.normal(loc = 0, scale = 0.1, size = (1,))) for i in range(len(g1_attr[j])) ) ), 'attr')\n",
    "for j in range(len(g2_attr)):\n",
    "    nx.set_node_attributes(g2_attr[j], dict( ( (i, np.random.normal(loc = 0.1, scale = 0.1, size = (1,))) for i in range(len(g2_attr[j])) ) ), 'attr')\n"
   ]
  },
  {
   "cell_type": "code",
   "execution_count": null,
   "metadata": {},
   "outputs": [
    {
     "name": "stdout",
     "output_type": "stream",
     "text": [
      "Using attr as node attributes\n",
      " RW_ARKU_plus {'MMD_u': 0.0}\n"
     ]
    }
   ],
   "source": [
    "# Random Walk with weights and node attributes\n",
    "MMD_out = mg.MMD()\n",
    "MMD_out.fit(G1 = g1_attr, G2 = g2_attr, kernel = 'RW_ARKU_plus', mmd_estimators = 'MMD_u', r = 4, c = 0.01, node_attr = 'attr')\n",
    "print(f\" RW_ARKU_plus {MMD_out.p_values}\")"
   ]
  },
  {
   "cell_type": "code",
   "execution_count": null,
   "metadata": {},
   "outputs": [
    {
     "name": "stdout",
     "output_type": "stream",
     "text": [
      "Using attr as node attributes\n"
     ]
    },
    {
     "name": "stderr",
     "output_type": "stream",
     "text": [
      "100%|██████████| 5050/5050.0 [00:03<00:00, 1284.80it/s]"
     ]
    },
    {
     "name": "stdout",
     "output_type": "stream",
     "text": [
      " GNTK {'MMD_u': 0.0}\n"
     ]
    },
    {
     "name": "stderr",
     "output_type": "stream",
     "text": [
      "\n"
     ]
    }
   ],
   "source": [
    "# GNTK with node attributes\n",
    "MMD_out = mg.MMD()\n",
    "MMD_out.fit(G1 = g1_attr, G2 = g2_attr, kernel = 'GNTK', mmd_estimators = 'MMD_u', num_layers = 2, num_mlp_lauers = 2, jk = True, scale = 'uniform', node_attr = 'attr')\n",
    "print(f\" GNTK {MMD_out.p_values}\")"
   ]
  },
  {
   "cell_type": "code",
   "execution_count": null,
   "metadata": {},
   "outputs": [
    {
     "name": "stdout",
     "output_type": "stream",
     "text": [
      "Using attr as node attributes\n",
      "attr\n",
      " Propagation {'MMD_u': 0.0}\n"
     ]
    }
   ],
   "source": [
    "# Grakel propagation\n",
    "kernel = [ {\"name\":\"propagation\", 't_max':5, 'w':0.1, 'M':\"L1\",'with_attributes':True}]\n",
    "MMD_out = mg.MMD()\n",
    "MMD_out.fit(G1 = g1_attr, G2 = g2_attr, kernel = kernel, mmd_estimators = 'MMD_u', discount = 0.1, h = 2, node_attr = 'attr')\n",
    "print(f\" Propagation {MMD_out.p_values}\")"
   ]
  },
  {
   "cell_type": "markdown",
   "metadata": {},
   "source": [
    "### Different edge labels\n",
    "\n",
    "The RW kernel can take different edge labels"
   ]
  },
  {
   "cell_type": "code",
   "execution_count": null,
   "metadata": {},
   "outputs": [],
   "source": [
    "n1 = n2 = 50\n",
    "g1_edge = [nx.fast_gnp_random_graph(30,0.2,seed=42) for _ in range(n1)]\n",
    "g2_edge = [nx.fast_gnp_random_graph(30,0.2,seed=50) for _ in range(n2)]\n",
    "for j in range(len(g1_edge)):\n",
    "    nx.set_edge_attributes(g1_edge[j], {(i,k):np.random.choice(['a','b'], p = [0.6,0.4]) for i,k in g1_edge[j].edges }, 'edge_label')\n",
    "for j in range(len(g2_edge)):\n",
    "    nx.set_edge_attributes(g2_edge[j], {(i,k):np.random.choice(['a','b'], p = [0.7,0.3]) for i,k in g2_edge[j].edges }, 'edge_label')\n",
    "\n",
    "\n",
    "for j in range(len(g1_edge)):\n",
    "    nx.set_node_attributes(g1_edge[j], {i:np.random.choice(['a','b'], p = [0.6,0.4]) for i in range(g1_edge[j].number_of_nodes()) }, 'label')\n",
    "for j in range(len(g2_edge)):\n",
    "    nx.set_node_attributes(g2_edge[j], {i:np.random.choice(['a','b'], p = [0.7,0.3]) for i in range(g2_edge[j].number_of_nodes()) }, 'label')\n",
    "\n",
    "\n",
    "\n"
   ]
  },
  {
   "cell_type": "code",
   "execution_count": null,
   "metadata": {},
   "outputs": [
    {
     "name": "stdout",
     "output_type": "stream",
     "text": [
      "Using label as edge labels\n",
      " RW_ARKU_edge {'MMD_u': 0.0}\n"
     ]
    }
   ],
   "source": [
    "MMD_out = mg.MMD()\n",
    "MMD_out.fit(G1 = g1_edge, G2 = g2_edge, kernel = 'RW_ARKU_edge', mmd_estimators = 'MMD_u', r = 4, c = 1e-3,edge_label = 'label',\n",
    "                                    unique_edge_labels= ['a', 'b'])\n",
    "print(f\" RW_ARKU_edge {MMD_out.p_values}\")\n"
   ]
  },
  {
   "cell_type": "markdown",
   "metadata": {},
   "source": [
    "# Directed Graphs\n",
    "\n",
    "The RW kernel can take directed graphs\n",
    "\n"
   ]
  },
  {
   "cell_type": "code",
   "execution_count": null,
   "metadata": {},
   "outputs": [],
   "source": [
    "n1 = n2 = 50\n",
    "g1_di = [nx.fast_gnp_random_graph(30,0.2,seed=42) for _ in range(n1)]\n",
    "g2_di = [nx.fast_gnp_random_graph(30,0.2,seed=50) for _ in range(n2)]\n",
    "\n",
    "for j in range(len(g1_di)):\n",
    "    nx.set_node_attributes(g1_di[j], {i:np.random.choice(['a','b'], p = [0.6,0.4]) for i in range(g1_di[j].number_of_nodes()) }, 'label')\n",
    "for j in range(len(g2_di)):\n",
    "    nx.set_node_attributes(g2_di[j], {i:np.random.choice(['a','b'], p = [0.7,0.3]) for i in range(g2_di[j].number_of_nodes()) }, 'label')\n",
    "\n",
    "for j in range(len(g1_di)):\n",
    "    g1_di[j] = nx.DiGraph(g1_di[j])\n",
    "for j in range(len(g2_di)):\n",
    "    g2_di[j] = nx.DiGraph(g2_di[j])\n",
    "\n",
    "for j in range(len(g1_di)):\n",
    "    edges= list(g1_di[j].edges())\n",
    "    for e,u in edges:\n",
    "        if np.random.uniform() <0.3:\n",
    "            g1_di[j].remove_edge(e,u)\n",
    "for j in range(len(g2_di)):\n",
    "    edges= list(g2_di[j].edges())\n",
    "    for e,u in edges:\n",
    "        if np.random.uniform() <0.4:\n",
    "            g2_di[j].remove_edge(e,u)\n",
    "\n",
    "\n",
    "\n",
    "\n"
   ]
  },
  {
   "cell_type": "code",
   "execution_count": null,
   "metadata": {},
   "outputs": [
    {
     "name": "stdout",
     "output_type": "stream",
     "text": [
      " RW_ARKU_edge {'MMD_u': 0.003}\n"
     ]
    }
   ],
   "source": [
    "MMD_out = mg.MMD()\n",
    "MMD_out.fit(G1 = g1_di, G2 = g2_di, kernel = 'RW_ARKU', mmd_estimators = 'MMD_u', r = 4, c = 1e-3)\n",
    "print(f\" RW_ARKU_edge {MMD_out.p_values}\")\n"
   ]
  },
  {
   "cell_type": "markdown",
   "metadata": {},
   "source": [
    "### Two data matrices different structure\n",
    "It is possible to estimate graphs from data matrices"
   ]
  },
  {
   "cell_type": "code",
   "execution_count": null,
   "metadata": {},
   "outputs": [
    {
     "name": "stderr",
     "output_type": "stream",
     "text": [
      "C:\\Users\\User\\AppData\\Local\\Temp\\ipykernel_32480\\3751381554.py:12: FutureWarning: adjacency_matrix will return a scipy.sparse array instead of a matrix in Networkx 3.0.\n",
      "  A = np.array(nx.adjacency_matrix(G).todense())\n"
     ]
    }
   ],
   "source": [
    "G = nx.fast_gnp_random_graph(11, 0.25, seed = 42)\n",
    "assert nx.is_connected(G)\n",
    "\n",
    "for e in G.edges():\n",
    "    if np.random.uniform() <0.1:\n",
    "        w = np.random.uniform(low = 0.1, high = 0.3)\n",
    "        G.edges[e[0], e[1]]['weight'] = -w\n",
    "    else:\n",
    "        w = np.random.uniform(low = 0.1, high = 0.3)\n",
    "        G.edges[e[0], e[1]]['weight'] = w\n",
    "\n",
    "A = np.array(nx.adjacency_matrix(G).todense())\n",
    "np.fill_diagonal(A, np.sum(np.abs(A), axis = 1)+0.1)\n",
    "\n",
    "A_s = A.copy()\n",
    "A_s[7,4] = 0\n",
    "A_s[4,7] = 0\n",
    "A_s[5,2] = 0\n",
    "A_s[2,5] = 0\n",
    "\n",
    "\n",
    "X1 = np.random.multivariate_normal(np.zeros(11),np.linalg.inv(A), size = 5000)\n",
    "X2 = np.random.multivariate_normal(np.zeros(11),np.linalg.inv(A_s), size = 5000)"
   ]
  },
  {
   "cell_type": "code",
   "execution_count": null,
   "metadata": {},
   "outputs": [
    {
     "name": "stdout",
     "output_type": "stream",
     "text": [
      "Using weight as edge attributes\n"
     ]
    },
    {
     "name": "stderr",
     "output_type": "stream",
     "text": [
      "c:\\Users\\User\\Code\\MMDGraph\\MMDGraph\\kernels\\RandomWalk.py:935: FutureWarning: adjacency_matrix will return a scipy.sparse array instead of a matrix in Networkx 3.0.\n",
      "  return scipy.sparse.csr_matrix(nx.adjacency_matrix(G ,weight=edge_attr), dtype=np.float64)\n"
     ]
    },
    {
     "name": "stdout",
     "output_type": "stream",
     "text": [
      "{'MMD_u': 0.0}\n"
     ]
    }
   ],
   "source": [
    "# window size = 200 so 5000/200 = 25 graphs in each sample\n",
    "# Random Walk\n",
    "MMD_out = mg.MMD()\n",
    "MMD_out.estimate_graphs(X1,X2,window_size=200, alpha = np.exp(np.linspace(-5,-2,100)),beta = 0.5, nonparanormal=False,scale = False)\n",
    "MMD_out.fit( kernel = 'RW_ARKU_plus', mmd_estimators = 'MMD_u', r = 5, c = 0.1, edge_attr = 'weight')\n",
    "print(MMD_out.p_values)\n",
    "\n"
   ]
  },
  {
   "cell_type": "code",
   "execution_count": null,
   "metadata": {},
   "outputs": [
    {
     "name": "stdout",
     "output_type": "stream",
     "text": [
      "Using weight as edge attributes\n",
      "Using label as node labels\n",
      "label\n",
      "{'MMD_u': 0.015}\n"
     ]
    }
   ],
   "source": [
    "# We can set node labels as degree (or define our own labelling, see below)\n",
    "MMD_out = mg.MMD()\n",
    "kernel = [{\"name\": \"weisfeiler_lehman\", \"n_iter\": 2}, {\"name\": \"vertex_histogram\"}]\n",
    "MMD_out.estimate_graphs(X1,X2,window_size=400, alpha = np.exp(np.linspace(-5,-2,100)),beta = 0.5, nonparanormal=False,scale = False, set_labels=\"degree\")\n",
    "MMD_out.fit( kernel = kernel, mmd_estimators = 'MMD_u',  edge_attr = 'weight')\n",
    "print(MMD_out.p_values)"
   ]
  },
  {
   "cell_type": "code",
   "execution_count": null,
   "metadata": {},
   "outputs": [
    {
     "data": {
      "text/plain": [
       "Text(0.5, 1.0, 'One estimated precision structure from sample 2')"
      ]
     },
     "execution_count": 27,
     "metadata": {},
     "output_type": "execute_result"
    },
    {
     "data": {
      "image/png": "[encoded data removed]",
      "text/plain": [
       "<Figure size 720x720 with 4 Axes>"
      ]
     },
     "metadata": {},
     "output_type": "display_data"
    }
   ],
   "source": [
    "np.fill_diagonal(A_s,0)\n",
    "fig, ax = plt.subplots(2,2,figsize = (10,10))\n",
    "pos = nx.kamada_kawai_layout(G, weight = None)\n",
    "nx.draw(G, pos = pos, ax = ax[0,0])\n",
    "nx.draw(nx.from_numpy_array(A_s), pos = pos, ax = ax[0,1])\n",
    "nx.draw(MMD_out.G1[3], pos = pos, ax = ax[1,0])\n",
    "nx.draw(MMD_out.G2[3], pos = pos, ax = ax[1,1])\n",
    "ax[0,0].set_title(\"Sample 1 true precision structure\")\n",
    "ax[0,1].set_title(\"Sample 2 true precision structure\")\n",
    "ax[1,0].set_title(\"One estimated precision structure from sample 1\")\n",
    "ax[1,1].set_title(\"One estimated precision structure from sample 2\")"
   ]
  },
  {
   "cell_type": "markdown",
   "metadata": {},
   "source": [
    "### Two data matrices same structure different attributes\n",
    "It is possible to estimate the graphs beforehand and apply a function to get node attributes"
   ]
  },
  {
   "cell_type": "code",
   "execution_count": null,
   "metadata": {},
   "outputs": [
    {
     "name": "stderr",
     "output_type": "stream",
     "text": [
      "C:\\Users\\User\\AppData\\Local\\Temp\\ipykernel_32480\\3274406453.py:12: FutureWarning: adjacency_matrix will return a scipy.sparse array instead of a matrix in Networkx 3.0.\n",
      "  A = np.array(nx.adjacency_matrix(G).todense())\n"
     ]
    }
   ],
   "source": [
    "G = nx.fast_gnp_random_graph(11, 0.25, seed = 42)\n",
    "assert nx.is_connected(G)\n",
    "\n",
    "for e in G.edges():\n",
    "    if np.random.uniform() <0.1:\n",
    "        w = np.random.uniform(low = 0.1, high = 0.3)\n",
    "        G.edges[e[0], e[1]]['weight'] = -w\n",
    "    else:\n",
    "        w = np.random.uniform(low = 0.1, high = 0.3)\n",
    "        G.edges[e[0], e[1]]['weight'] = w\n",
    "\n",
    "A = np.array(nx.adjacency_matrix(G).todense())\n",
    "np.fill_diagonal(A, np.sum(np.abs(A), axis = 1)+0.1)\n",
    "\n",
    "\n",
    "X1 = np.random.multivariate_normal(np.zeros(11),np.linalg.inv(A), size = 10000)\n",
    "X2 = np.random.multivariate_normal(np.ones(11),np.linalg.inv(A), size = 10000)"
   ]
  },
  {
   "cell_type": "code",
   "execution_count": null,
   "metadata": {},
   "outputs": [
    {
     "name": "stdout",
     "output_type": "stream",
     "text": [
      "Using weight as edge attributes\n",
      "Using attr as node attributes\n"
     ]
    },
    {
     "name": "stderr",
     "output_type": "stream",
     "text": [
      "c:\\Users\\User\\Code\\MMDGraph\\MMDGraph\\kernels\\RandomWalk.py:935: FutureWarning: adjacency_matrix will return a scipy.sparse array instead of a matrix in Networkx 3.0.\n",
      "  return scipy.sparse.csr_matrix(nx.adjacency_matrix(G ,weight=edge_attr), dtype=np.float64)\n"
     ]
    },
    {
     "name": "stdout",
     "output_type": "stream",
     "text": [
      "{'MMD_u': 0.0}\n"
     ]
    }
   ],
   "source": [
    "# Random Walk, with attributes, should reject. , the class will use the node label name 'attr'\n",
    "def attr_function(X):\n",
    "    return np.expand_dims(np.mean(X,axis = 0),axis=1)\n",
    "\n",
    "MMD_out = mg.MMD()\n",
    "MMD_out.estimate_graphs(X1,X2,window_size=400, alpha = np.exp(np.linspace(-5,-2,100)),beta = 0.5, nonparanormal=False,scale = False, set_attributes = attr_function)\n",
    "MMD_out.fit( kernel = 'RW_ARKU_plus', mmd_estimators = 'MMD_u', r = 5, c = 0.1, edge_attr = 'weight', node_attr = 'attr')\n",
    "print(MMD_out.p_values)"
   ]
  },
  {
   "cell_type": "code",
   "execution_count": null,
   "metadata": {},
   "outputs": [
    {
     "name": "stdout",
     "output_type": "stream",
     "text": [
      "Using weight as edge attributes\n",
      "{'MMD_u': 0.515}\n"
     ]
    }
   ],
   "source": [
    "# If we do not give attributes in this case the test should not reject\n",
    "MMD_out_no_attr = mg.MMD()\n",
    "MMD_out_no_attr.fit(G1= MMD_out.G1, G2 = MMD_out.G2, kernel = 'RW_ARKU_plus', mmd_estimators = 'MMD_u', r = 5, c = 0.1, edge_attr = 'weight')\n",
    "print(MMD_out_no_attr.p_values)"
   ]
  },
  {
   "cell_type": "code",
   "execution_count": null,
   "metadata": {},
   "outputs": [
    {
     "name": "stdout",
     "output_type": "stream",
     "text": [
      "Using label as node labels\n",
      "label\n",
      "{'MMD_u': 0.0}\n"
     ]
    }
   ],
   "source": [
    "# We can also try to make a label function, has to be a dictionary, the class will use the node label name 'label'\n",
    "def label_function(X):\n",
    "    m = np.mean(X,axis = 0)\n",
    "    return {i:str(np.round(m[i],1)) for i in range(len(m))}\n",
    "\n",
    "kernel = [{\"name\": \"weisfeiler_lehman\", \"n_iter\": 2}, {\"name\": \"vertex_histogram\"}]\n",
    "MMD_out = mg.MMD()\n",
    "MMD_out.estimate_graphs(X1,X2,window_size=400, alpha = np.exp(np.linspace(-5,-2,100)),beta = 0.5, nonparanormal=False,scale = False, set_labels= label_function)\n",
    "MMD_out.fit(kernel = kernel, mmd_estimators = 'MMD_u', node_label = 'label')\n",
    "print(MMD_out.p_values)"
   ]
  },
  {
   "cell_type": "code",
   "execution_count": null,
   "metadata": {},
   "outputs": [
    {
     "name": "stdout",
     "output_type": "stream",
     "text": [
      "Using label as node labels\n",
      "label\n",
      "{'MMD_u': 0.0}\n"
     ]
    }
   ],
   "source": [
    "# We can also define labels using a dict\n",
    "label_dict = {'1':{j:i for j,i in enumerate(['a']*6 + ['b']*5)}, \n",
    "              '2':{j:i for j,i in enumerate(['a']*4 + ['b']*7)}}\n",
    "kernel = [{\"name\": \"weisfeiler_lehman\", \"n_iter\": 2}, {\"name\": \"vertex_histogram\"}]\n",
    "MMD_out = mg.MMD()\n",
    "MMD_out.estimate_graphs(X1,X2,window_size=400, alpha = np.exp(np.linspace(-5,-2,100)),beta = 0.5, nonparanormal=False,scale = False, set_labels= label_dict)\n",
    "MMD_out.fit(kernel = kernel, mmd_estimators = 'MMD_u', node_label = 'label')\n",
    "print(MMD_out.p_values)"
   ]
  }
 ],
 "metadata": {
  "kernelspec": {
   "display_name": "Python 3.8.5 (conda)",
   "language": "python",
   "name": "python3"
  },
  "language_info": {
   "codemirror_mode": {
    "name": "ipython",
    "version": 3
   },
   "file_extension": ".py",
   "mimetype": "text/x-python",
   "name": "python",
   "nbconvert_exporter": "python",
   "pygments_lexer": "ipython3",
   "version": "3.8.5"
  },
  "orig_nbformat": 4,
  "vscode": {
   "interpreter": {
    "hash": "e5751a66115cca13560cf37aeeed4243eac6d0108f8b06b399eb3b36d8bd3124"
   }
  }
 },
 "nbformat": 4,
 "nbformat_minor": 2
}
