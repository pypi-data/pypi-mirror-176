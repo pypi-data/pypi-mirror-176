{
 "cells": [
  {
   "cell_type": "markdown",
   "metadata": {},
   "source": [
    "# MMDGraph"
   ]
  },
  {
   "cell_type": "markdown",
   "metadata": {},
   "source": [
    "## What is this package for?\n",
    "\n",
    "This package contains code to perform kernel two-sample hypothesis testing on samples of graphs. The code additionally allows for estimation of graphs from a real data matrix.\n"
   ]
  },
  {
   "cell_type": "markdown",
   "metadata": {},
   "source": [
    "## How to install"
   ]
  },
  {
   "cell_type": "markdown",
   "metadata": {},
   "source": [
    "## Usage"
   ]
  },
  {
   "cell_type": "markdown",
   "metadata": {},
   "source": [
    "We will go through the case when the user has it own networkx graphs, and when they are estimated from data matricies. We will go thorugh multiple scenariros"
   ]
  },
  {
   "cell_type": "code",
   "execution_count": 29,
   "metadata": {},
   "outputs": [],
   "source": [
    "import numpy as np\n",
    "import networkx as nx\n",
    "import seaborn as sns\n",
    "import matplotlib.pyplot as plt\n",
    "import MMDGraph as mg"
   ]
  },
  {
   "cell_type": "markdown",
   "metadata": {},
   "source": [
    "### Fit when H1 true, different edge probability"
   ]
  },
  {
   "cell_type": "markdown",
   "metadata": {},
   "source": [
    "Start by creating sample graphs"
   ]
  },
  {
   "cell_type": "code",
   "execution_count": 30,
   "metadata": {},
   "outputs": [],
   "source": [
    "\n",
    "n1 = n2 = 50\n",
    "g1 = [nx.fast_gnp_random_graph(30,0.3,seed = 42) for _ in range(n1)]\n",
    "g2 = [nx.fast_gnp_random_graph(30,0.2,seed = 50) for _ in range(n2)]\n",
    "for j in range(len(g1)):\n",
    "    nx.set_node_attributes(g1[j],  {key: str(value) for key, value in dict(g1[j].degree).items()} , 'label')\n",
    "for j in range(len(g2)):\n",
    "    nx.set_node_attributes(g2[j], {key: str(value) for key, value in dict(g2[j].degree).items()}, 'label')\n"
   ]
  },
  {
   "cell_type": "markdown",
   "metadata": {},
   "source": [
    "Performd mmd test using various kernels"
   ]
  },
  {
   "cell_type": "code",
   "execution_count": 31,
   "metadata": {},
   "outputs": [
    {
     "name": "stderr",
     "output_type": "stream",
     "text": [
      "c:\\Users\\User\\Code\\MMDGraph\\MMDGraph\\kernels\\RandomWalk.py:937: FutureWarning: adjacency_matrix will return a scipy.sparse array instead of a matrix in Networkx 3.0.\n",
      "  return scipy.sparse.csr_matrix(nx.adjacency_matrix(G ,weight=edge_attr), dtype=np.float64)\n"
     ]
    },
    {
     "name": "stdout",
     "output_type": "stream",
     "text": [
      " RW_ARKU_plus {'MMD_u': 0.0}\n"
     ]
    }
   ],
   "source": [
    "# Random Walk\n",
    "MMD_out = mg.MMD()\n",
    "MMD_out.fit(G1 = g1, G2 = g2, kernel = 'RW_ARKU_plus', mmd_estimators = 'MMD_u', r = 2, c = 0.001)\n",
    "print(f\" RW_ARKU_plus {MMD_out.p_values}\")"
   ]
  },
  {
   "cell_type": "code",
   "execution_count": 32,
   "metadata": {},
   "outputs": [
    {
     "name": "stderr",
     "output_type": "stream",
     "text": [
      "100%|██████████| 5050/5050.0 [00:05<00:00, 1009.35it/s]\n"
     ]
    },
    {
     "name": "stdout",
     "output_type": "stream",
     "text": [
      " GNTK {'MMD_u': 0.0}\n"
     ]
    }
   ],
   "source": [
    "# GNTK kernel\n",
    "MMD_out = mg.MMD()\n",
    "MMD_out.fit(G1 = g1, G2 = g2, kernel = 'GNTK', mmd_estimators = 'MMD_u', num_layers = 2, num_mlp_lauers = 2, jk = True, scale = 'uniform')\n",
    "print(f\" GNTK {MMD_out.p_values}\")"
   ]
  },
  {
   "cell_type": "code",
   "execution_count": 33,
   "metadata": {},
   "outputs": [
    {
     "name": "stdout",
     "output_type": "stream",
     "text": [
      "Using label as node labels\n",
      " WWL {'MMD_u': 0.0}\n"
     ]
    }
   ],
   "source": [
    "# WWL kernel\n",
    "MMD_out = mg.MMD()\n",
    "MMD_out.fit(G1 = g1, G2 = g2, kernel = 'WWL', mmd_estimators = 'MMD_u', discount = 0.1, h = 2, node_label = 'label')\n",
    "print(f\" WWL {MMD_out.p_values}\")"
   ]
  },
  {
   "cell_type": "code",
   "execution_count": 34,
   "metadata": {},
   "outputs": [
    {
     "name": "stdout",
     "output_type": "stream",
     "text": [
      "Using label as node labels\n",
      " ML DK {'MMD_u': 0.0}\n"
     ]
    }
   ],
   "source": [
    "# Deep Kernel without the deepness\n",
    "MMD_out = mg.MMD()\n",
    "MMD_out.fit(G1 = g1, G2 = g2, kernel = 'DK', mmd_estimators = 'MMD_u', type = 'wl', wl_it = 4, node_label = 'label')\n",
    "print(f\" ML DK {MMD_out.p_values}\")"
   ]
  },
  {
   "cell_type": "code",
   "execution_count": 35,
   "metadata": {},
   "outputs": [
    {
     "name": "stdout",
     "output_type": "stream",
     "text": [
      "Using label as node labels\n",
      " Deep DK {'MMD_u': 0.0}\n"
     ]
    }
   ],
   "source": [
    "\n",
    "# Deep kernel with deepness, user has to install gensim, this might take some time, can try to increase number of workers\n",
    "MMD_out = mg.MMD()\n",
    "MMD_out.fit(G1 = g1, G2 = g2, kernel = 'DK', mmd_estimators = 'MMD_u', type = 'wl', wl_it = 4, opt_type = 'word2vec', node_label = 'label', workers = 10)\n",
    "print(f\" Deep DK {MMD_out.p_values}\")"
   ]
  },
  {
   "cell_type": "code",
   "execution_count": 36,
   "metadata": {},
   "outputs": [
    {
     "name": "stdout",
     "output_type": "stream",
     "text": [
      "Using label as node labels\n",
      "label\n",
      " WL {'MMD_u': 0.0}\n"
     ]
    }
   ],
   "source": [
    "# Grakel kernel example\n",
    "kernel = [{\"name\": \"weisfeiler_lehman\", \"n_iter\": 1}, {\"name\": \"vertex_histogram\"}]\n",
    "MMD_out = mg.MMD()\n",
    "MMD_out.fit(G1 = g1, G2 = g2, kernel = kernel, mmd_estimators = 'MMD_u', node_label = 'label')\n",
    "print(f\" WL {MMD_out.p_values}\")"
   ]
  },
  {
   "cell_type": "code",
   "execution_count": 37,
   "metadata": {},
   "outputs": [
    {
     "name": "stdout",
     "output_type": "stream",
     "text": [
      "Using label as node labels\n",
      "label\n",
      " propagation {'MMD_u': 0.0}\n"
     ]
    }
   ],
   "source": [
    "# Grakel propagation\n",
    "kernel = [ {\"name\":\"propagation\", 't_max':5, 'w':0.1, 'M':\"TV\"}]\n",
    "MMD_out = mg.MMD()\n",
    "MMD_out.fit(G1 = g1, G2 = g2, kernel = kernel, mmd_estimators = 'MMD_u', node_label = 'label')\n",
    "print(f\" propagation {MMD_out.p_values}\")\n"
   ]
  },
  {
   "cell_type": "markdown",
   "metadata": {},
   "source": [
    "### H1 true different weights"
   ]
  },
  {
   "cell_type": "code",
   "execution_count": 38,
   "metadata": {},
   "outputs": [],
   "source": [
    "n1 = n2 = 50\n",
    "g1_weights = [nx.fast_gnp_random_graph(30,0.3, seed = 42) for _ in range(n1)]\n",
    "g2_weight = [nx.fast_gnp_random_graph(30,0.3, seed = 50) for _ in range(n2)]\n",
    "\n",
    "\n",
    "for j in range(len(g1_weights)):\n",
    "    nx.set_node_attributes(g1_weights[j],  {key: str(value) for key, value in dict(g1_weights[j].degree).items()} , 'label')\n",
    "for j in range(len(g2_weight)):\n",
    "    nx.set_node_attributes(g2_weight[j], {key: str(value) for key, value in dict(g2_weight[j].degree).items()}, 'label')\n",
    "\n",
    "\n",
    "def edge_dist(loc, scale ):\n",
    "    from scipy.stats import uniform\n",
    "    return np.random.normal(loc = loc, scale = scale)# uniform.rvs(size=1,  loc = loc , scale = scale)[0]\n",
    "def add_weight(G, loc, scale ):\n",
    "    edge_w = dict()\n",
    "    for e in G.edges():\n",
    "        edge_w[e] = edge_dist(loc, scale)\n",
    "    return edge_w\n",
    "\n",
    "\n",
    "for G in g1_weights:\n",
    "    nx.set_edge_attributes(G, add_weight(G, loc = 0.5, scale = 1), \"weight\")\n",
    "for G in g2_weight:\n",
    "    nx.set_edge_attributes(G, add_weight(G, loc = 0.5, scale = 4), \"weight\")\n"
   ]
  },
  {
   "cell_type": "code",
   "execution_count": 39,
   "metadata": {},
   "outputs": [
    {
     "name": "stdout",
     "output_type": "stream",
     "text": [
      "Using weight as edge attributes\n"
     ]
    },
    {
     "name": "stderr",
     "output_type": "stream",
     "text": [
      "c:\\Users\\User\\Code\\MMDGraph\\MMDGraph\\kernels\\RandomWalk.py:937: FutureWarning: adjacency_matrix will return a scipy.sparse array instead of a matrix in Networkx 3.0.\n",
      "  return scipy.sparse.csr_matrix(nx.adjacency_matrix(G ,weight=edge_attr), dtype=np.float64)\n"
     ]
    },
    {
     "name": "stdout",
     "output_type": "stream",
     "text": [
      " RW_ARKU_plus {'MMD_u': 0.0}\n"
     ]
    }
   ],
   "source": [
    "# Random Walk\n",
    "MMD_out = mg.MMD()\n",
    "MMD_out.fit(G1 = g1_weights, G2 = g2_weight, kernel = 'RW_ARKU_plus', mmd_estimators = 'MMD_u', r = 2, c = 0.001, edge_attr = 'weight')\n",
    "print(f\" RW_ARKU_plus {MMD_out.p_values}\")"
   ]
  },
  {
   "cell_type": "code",
   "execution_count": 40,
   "metadata": {},
   "outputs": [
    {
     "name": "stdout",
     "output_type": "stream",
     "text": [
      " propagation {'MMD_u': 0.0}\n"
     ]
    }
   ],
   "source": [
    "# Random Walk weights ignored, should not reject\n",
    "MMD_out = mg.MMD()\n",
    "MMD_out.fit(G1 = g1_weights, G2 = g2_weight, kernel = 'RW_ARKU_plus', mmd_estimators = 'MMD_u', r = 2, c = 0.001, edge_attr = None)\n",
    "print(f\" propagation {MMD_out.p_values}\")"
   ]
  },
  {
   "cell_type": "code",
   "execution_count": 41,
   "metadata": {},
   "outputs": [
    {
     "name": "stdout",
     "output_type": "stream",
     "text": [
      "Using weight as edge attributes\n",
      "None\n",
      " pyramid_match {'MMD_u': 0.192}\n"
     ]
    }
   ],
   "source": [
    "# Grakel pyramid\n",
    "kernel = [{\"name\": \"pyramid_match\", \"L\": 6, \"d\":6, 'with_labels':False}]\n",
    "MMD_out = mg.MMD()\n",
    "MMD_out.fit(G1 = g1_weights, G2 = g2_weight, kernel = kernel, mmd_estimators = 'MMD_u', edge_attr = 'weight')\n",
    "print(f\" pyramid_match {MMD_out.p_values}\")"
   ]
  },
  {
   "cell_type": "code",
   "execution_count": 42,
   "metadata": {},
   "outputs": [
    {
     "name": "stdout",
     "output_type": "stream",
     "text": [
      "Using weight as edge attributes\n",
      "Using label as node labels\n",
      "label\n",
      " propagation {'MMD_u': 0.0}\n"
     ]
    }
   ],
   "source": [
    "# propagation, needs node attribute or label \n",
    "kernel = [ {\"name\":\"propagation\", 't_max':5, 'w':0.01, 'M':\"TV\"}]\n",
    "MMD_out = mg.MMD()\n",
    "MMD_out.fit(G1 = g1_weights, G2 = g2_weight, kernel = kernel, mmd_estimators = 'MMD_u', edge_attr = 'weight', node_label = 'label')\n",
    "print(f\" propagation {MMD_out.p_values}\")"
   ]
  },
  {
   "cell_type": "markdown",
   "metadata": {},
   "source": [
    " ### H1 true different attributes"
   ]
  },
  {
   "cell_type": "code",
   "execution_count": 43,
   "metadata": {},
   "outputs": [],
   "source": [
    "\n",
    "n1 = n2 = 50\n",
    "g1_attr = [nx.fast_gnp_random_graph(30,0.2,seed=42) for _ in range(n1)]\n",
    "g2_attr = [nx.fast_gnp_random_graph(30,0.2,seed=50) for _ in range(n2)]\n",
    "for j in range(len(g1_attr)):\n",
    "    nx.set_node_attributes(g1_attr[j], dict( ( (i, np.random.normal(loc = 0, scale = 0.1, size = (1,))) for i in range(len(g1_attr[j])) ) ), 'attr')\n",
    "for j in range(len(g2_attr)):\n",
    "    nx.set_node_attributes(g2_attr[j], dict( ( (i, np.random.normal(loc = 0.1, scale = 0.1, size = (1,))) for i in range(len(g2_attr[j])) ) ), 'attr')\n"
   ]
  },
  {
   "cell_type": "code",
   "execution_count": 44,
   "metadata": {},
   "outputs": [
    {
     "name": "stdout",
     "output_type": "stream",
     "text": [
      "Using attr as node attributes\n",
      " RW_ARKU_plus {'MMD_u': 0.0}\n"
     ]
    }
   ],
   "source": [
    "# Random Walk with weights and node attributes\n",
    "MMD_out = mg.MMD()\n",
    "MMD_out.fit(G1 = g1_attr, G2 = g2_attr, kernel = 'RW_ARKU_plus', mmd_estimators = 'MMD_u', r = 4, c = 0.01, node_attr = 'attr')\n",
    "print(f\" RW_ARKU_plus {MMD_out.p_values}\")"
   ]
  },
  {
   "cell_type": "code",
   "execution_count": 45,
   "metadata": {},
   "outputs": [
    {
     "name": "stdout",
     "output_type": "stream",
     "text": [
      "Using attr as node attributes\n"
     ]
    },
    {
     "name": "stderr",
     "output_type": "stream",
     "text": [
      "100%|██████████| 5050/5050.0 [00:03<00:00, 1308.41it/s]"
     ]
    },
    {
     "name": "stdout",
     "output_type": "stream",
     "text": [
      " GNTK {'MMD_u': 0.0}\n"
     ]
    },
    {
     "name": "stderr",
     "output_type": "stream",
     "text": [
      "\n"
     ]
    }
   ],
   "source": [
    "# GNTK with node attributes\n",
    "MMD_out = mg.MMD()\n",
    "MMD_out.fit(G1 = g1_attr, G2 = g2_attr, kernel = 'GNTK', mmd_estimators = 'MMD_u', num_layers = 2, num_mlp_lauers = 2, jk = True, scale = 'uniform', node_attr = 'attr')\n",
    "print(f\" GNTK {MMD_out.p_values}\")"
   ]
  },
  {
   "cell_type": "code",
   "execution_count": 46,
   "metadata": {},
   "outputs": [
    {
     "name": "stdout",
     "output_type": "stream",
     "text": [
      "Using attr as node attributes\n",
      "attr\n",
      " Propagation {'MMD_u': 0.0}\n"
     ]
    }
   ],
   "source": [
    "# Grakel propagation\n",
    "kernel = [ {\"name\":\"propagation\", 't_max':5, 'w':0.1, 'M':\"L1\",'with_attributes':True}]\n",
    "MMD_out = mg.MMD()\n",
    "MMD_out.fit(G1 = g1_attr, G2 = g2_attr, kernel = kernel, mmd_estimators = 'MMD_u', discount = 0.1, h = 2, node_attr = 'attr')\n",
    "print(f\" Propagation {MMD_out.p_values}\")"
   ]
  },
  {
   "cell_type": "markdown",
   "metadata": {},
   "source": [
    "### Two data matrices different structure\n",
    "It is possible to estimate graphs from data matrices"
   ]
  },
  {
   "cell_type": "code",
   "execution_count": 47,
   "metadata": {},
   "outputs": [
    {
     "name": "stderr",
     "output_type": "stream",
     "text": [
      "C:\\Users\\User\\AppData\\Local\\Temp\\ipykernel_10516\\3751381554.py:12: FutureWarning: adjacency_matrix will return a scipy.sparse array instead of a matrix in Networkx 3.0.\n",
      "  A = np.array(nx.adjacency_matrix(G).todense())\n"
     ]
    }
   ],
   "source": [
    "G = nx.fast_gnp_random_graph(11, 0.25, seed = 42)\n",
    "assert nx.is_connected(G)\n",
    "\n",
    "for e in G.edges():\n",
    "    if np.random.uniform() <0.1:\n",
    "        w = np.random.uniform(low = 0.1, high = 0.3)\n",
    "        G.edges[e[0], e[1]]['weight'] = -w\n",
    "    else:\n",
    "        w = np.random.uniform(low = 0.1, high = 0.3)\n",
    "        G.edges[e[0], e[1]]['weight'] = w\n",
    "\n",
    "A = np.array(nx.adjacency_matrix(G).todense())\n",
    "np.fill_diagonal(A, np.sum(np.abs(A), axis = 1)+0.1)\n",
    "\n",
    "A_s = A.copy()\n",
    "A_s[7,4] = 0\n",
    "A_s[4,7] = 0\n",
    "A_s[5,2] = 0\n",
    "A_s[2,5] = 0\n",
    "\n",
    "\n",
    "X1 = np.random.multivariate_normal(np.zeros(11),np.linalg.inv(A), size = 5000)\n",
    "X2 = np.random.multivariate_normal(np.zeros(11),np.linalg.inv(A_s), size = 5000)"
   ]
  },
  {
   "cell_type": "code",
   "execution_count": 48,
   "metadata": {},
   "outputs": [
    {
     "name": "stdout",
     "output_type": "stream",
     "text": [
      "Using weight as edge attributes\n"
     ]
    },
    {
     "name": "stderr",
     "output_type": "stream",
     "text": [
      "c:\\Users\\User\\Code\\MMDGraph\\MMDGraph\\kernels\\RandomWalk.py:937: FutureWarning: adjacency_matrix will return a scipy.sparse array instead of a matrix in Networkx 3.0.\n",
      "  return scipy.sparse.csr_matrix(nx.adjacency_matrix(G ,weight=edge_attr), dtype=np.float64)\n"
     ]
    },
    {
     "name": "stdout",
     "output_type": "stream",
     "text": [
      "{'MMD_u': 0.106}\n"
     ]
    }
   ],
   "source": [
    "# window size = 200 so 5000/200 = 25 graphs in each sample\n",
    "# Random Walk\n",
    "MMD_out = mg.MMD()\n",
    "MMD_out.estimate_graphs(X1,X2,window_size=200, alpha = np.exp(np.linspace(-5,-2,100)),beta = 0.5, nonparanormal=False,scale = False)\n",
    "MMD_out.fit( kernel = 'RW_ARKU_plus', mmd_estimators = 'MMD_u', r = 5, c = 0.1, edge_attr = 'weight')\n",
    "print(MMD_out.p_values)\n",
    "\n"
   ]
  },
  {
   "cell_type": "code",
   "execution_count": 49,
   "metadata": {},
   "outputs": [
    {
     "name": "stdout",
     "output_type": "stream",
     "text": [
      "Using weight as edge attributes\n",
      "Using label as node labels\n",
      "label\n",
      "{'MMD_u': 0.509}\n"
     ]
    }
   ],
   "source": [
    "# We can set node labels as degree (or define our own labelling, see below)\n",
    "MMD_out = mg.MMD()\n",
    "kernel = [{\"name\": \"weisfeiler_lehman\", \"n_iter\": 2}, {\"name\": \"vertex_histogram\"}]\n",
    "MMD_out.estimate_graphs(X1,X2,window_size=400, alpha = np.exp(np.linspace(-5,-2,100)),beta = 0.5, nonparanormal=False,scale = False, set_labels=\"degree\")\n",
    "MMD_out.fit( kernel = kernel, mmd_estimators = 'MMD_u',  edge_attr = 'weight')\n",
    "print(MMD_out.p_values)"
   ]
  },
  {
   "cell_type": "code",
   "execution_count": 50,
   "metadata": {},
   "outputs": [
    {
     "data": {
      "text/plain": [
       "Text(0.5, 1.0, 'One estimated precision structure from sample 2')"
      ]
     },
     "execution_count": 50,
     "metadata": {},
     "output_type": "execute_result"
    },
    {
     "data": {
      "image/png": "[encoded data removed]",
      "text/plain": [
       "<Figure size 720x720 with 4 Axes>"
      ]
     },
     "metadata": {},
     "output_type": "display_data"
    }
   ],
   "source": [
    "np.fill_diagonal(A_s,0)\n",
    "fig, ax = plt.subplots(2,2,figsize = (10,10))\n",
    "pos = nx.kamada_kawai_layout(G, weight = None)\n",
    "nx.draw(G, pos = pos, ax = ax[0,0])\n",
    "nx.draw(nx.from_numpy_array(A_s), pos = pos, ax = ax[0,1])\n",
    "nx.draw(MMD_out.G1[3], pos = pos, ax = ax[1,0])\n",
    "nx.draw(MMD_out.G2[3], pos = pos, ax = ax[1,1])\n",
    "ax[0,0].set_title(\"Sample 1 true precision structure\")\n",
    "ax[0,1].set_title(\"Sample 2 true precision structure\")\n",
    "ax[1,0].set_title(\"One estimated precision structure from sample 1\")\n",
    "ax[1,1].set_title(\"One estimated precision structure from sample 2\")"
   ]
  },
  {
   "cell_type": "markdown",
   "metadata": {},
   "source": [
    "### Two data matrices same structure different attributes\n",
    "It is possible to estimate the graphs beforehand and apply a function to get node attributes"
   ]
  },
  {
   "cell_type": "code",
   "execution_count": 51,
   "metadata": {},
   "outputs": [
    {
     "name": "stderr",
     "output_type": "stream",
     "text": [
      "C:\\Users\\User\\AppData\\Local\\Temp\\ipykernel_10516\\3274406453.py:12: FutureWarning: adjacency_matrix will return a scipy.sparse array instead of a matrix in Networkx 3.0.\n",
      "  A = np.array(nx.adjacency_matrix(G).todense())\n"
     ]
    }
   ],
   "source": [
    "G = nx.fast_gnp_random_graph(11, 0.25, seed = 42)\n",
    "assert nx.is_connected(G)\n",
    "\n",
    "for e in G.edges():\n",
    "    if np.random.uniform() <0.1:\n",
    "        w = np.random.uniform(low = 0.1, high = 0.3)\n",
    "        G.edges[e[0], e[1]]['weight'] = -w\n",
    "    else:\n",
    "        w = np.random.uniform(low = 0.1, high = 0.3)\n",
    "        G.edges[e[0], e[1]]['weight'] = w\n",
    "\n",
    "A = np.array(nx.adjacency_matrix(G).todense())\n",
    "np.fill_diagonal(A, np.sum(np.abs(A), axis = 1)+0.1)\n",
    "\n",
    "\n",
    "X1 = np.random.multivariate_normal(np.zeros(11),np.linalg.inv(A), size = 10000)\n",
    "X2 = np.random.multivariate_normal(np.ones(11),np.linalg.inv(A), size = 10000)"
   ]
  },
  {
   "cell_type": "code",
   "execution_count": 52,
   "metadata": {},
   "outputs": [
    {
     "name": "stdout",
     "output_type": "stream",
     "text": [
      "Using weight as edge attributes\n",
      "Using attr as node attributes\n"
     ]
    },
    {
     "name": "stderr",
     "output_type": "stream",
     "text": [
      "c:\\Users\\User\\Code\\MMDGraph\\MMDGraph\\kernels\\RandomWalk.py:937: FutureWarning: adjacency_matrix will return a scipy.sparse array instead of a matrix in Networkx 3.0.\n",
      "  return scipy.sparse.csr_matrix(nx.adjacency_matrix(G ,weight=edge_attr), dtype=np.float64)\n"
     ]
    },
    {
     "name": "stdout",
     "output_type": "stream",
     "text": [
      "{'MMD_u': 0.0}\n"
     ]
    }
   ],
   "source": [
    "# Random Walk, with attributes, should reject. , the class will use the node label name 'attr'\n",
    "def attr_function(X):\n",
    "    return np.expand_dims(np.mean(X,axis = 0),axis=1)\n",
    "\n",
    "MMD_out = mg.MMD()\n",
    "MMD_out.estimate_graphs(X1,X2,window_size=400, alpha = np.exp(np.linspace(-5,-2,100)),beta = 0.5, nonparanormal=False,scale = False, set_attributes = attr_function)\n",
    "MMD_out.fit( kernel = 'RW_ARKU_plus', mmd_estimators = 'MMD_u', r = 5, c = 0.1, edge_attr = 'weight', node_attr = 'attr')\n",
    "print(MMD_out.p_values)"
   ]
  },
  {
   "cell_type": "code",
   "execution_count": 53,
   "metadata": {},
   "outputs": [
    {
     "name": "stdout",
     "output_type": "stream",
     "text": [
      "Using weight as edge attributes\n",
      "{'MMD_u': 0.665}\n"
     ]
    }
   ],
   "source": [
    "# If we do not give attributes in this case the test should not reject\n",
    "MMD_out_no_attr = mg.MMD()\n",
    "MMD_out_no_attr.fit(G1= MMD_out.G1, G2 = MMD_out.G2, kernel = 'RW_ARKU_plus', mmd_estimators = 'MMD_u', r = 5, c = 0.1, edge_attr = 'weight')\n",
    "print(MMD_out_no_attr.p_values)"
   ]
  },
  {
   "cell_type": "code",
   "execution_count": 54,
   "metadata": {},
   "outputs": [
    {
     "name": "stdout",
     "output_type": "stream",
     "text": [
      "Using label as node labels\n",
      "label\n",
      "{'MMD_u': 0.0}\n"
     ]
    }
   ],
   "source": [
    "# We can also try to make a label function, has to be a dictionary, the class will use the node label name 'label'\n",
    "def label_function(X):\n",
    "    m = np.mean(X,axis = 0)\n",
    "    return {i:str(np.round(m[i],1)) for i in range(len(m))}\n",
    "\n",
    "kernel = [{\"name\": \"weisfeiler_lehman\", \"n_iter\": 2}, {\"name\": \"vertex_histogram\"}]\n",
    "MMD_out = mg.MMD()\n",
    "MMD_out.estimate_graphs(X1,X2,window_size=400, alpha = np.exp(np.linspace(-5,-2,100)),beta = 0.5, nonparanormal=False,scale = False, set_labels= label_function)\n",
    "MMD_out.fit(kernel = kernel, mmd_estimators = 'MMD_u', node_label = 'label')\n",
    "print(MMD_out.p_values)"
   ]
  },
  {
   "cell_type": "code",
   "execution_count": 55,
   "metadata": {},
   "outputs": [
    {
     "name": "stdout",
     "output_type": "stream",
     "text": [
      "Using label as node labels\n",
      "label\n",
      "{'MMD_u': 0.0}\n"
     ]
    }
   ],
   "source": [
    "# We can also define labels using a dict\n",
    "label_dict = {'1':{j:i for j,i in enumerate(['a']*6 + ['b']*5)}, \n",
    "              '2':{j:i for j,i in enumerate(['a']*4 + ['b']*7)}}\n",
    "kernel = [{\"name\": \"weisfeiler_lehman\", \"n_iter\": 2}, {\"name\": \"vertex_histogram\"}]\n",
    "MMD_out = mg.MMD()\n",
    "MMD_out.estimate_graphs(X1,X2,window_size=400, alpha = np.exp(np.linspace(-5,-2,100)),beta = 0.5, nonparanormal=False,scale = False, set_labels= label_dict)\n",
    "MMD_out.fit(kernel = kernel, mmd_estimators = 'MMD_u', node_label = 'label')\n",
    "print(MMD_out.p_values)"
   ]
  }
 ],
 "metadata": {
  "kernelspec": {
   "display_name": "Python 3.8.5 (conda)",
   "language": "python",
   "name": "python3"
  },
  "language_info": {
   "codemirror_mode": {
    "name": "ipython",
    "version": 3
   },
   "file_extension": ".py",
   "mimetype": "text/x-python",
   "name": "python",
   "nbconvert_exporter": "python",
   "pygments_lexer": "ipython3",
   "version": "3.8.5"
  },
  "orig_nbformat": 4,
  "vscode": {
   "interpreter": {
    "hash": "e5751a66115cca13560cf37aeeed4243eac6d0108f8b06b399eb3b36d8bd3124"
   }
  }
 },
 "nbformat": 4,
 "nbformat_minor": 2
}
