{
 "cells": [
  {
   "cell_type": "markdown",
   "id": "91653bb3",
   "metadata": {},
   "source": [
    "# 🌈 Quickstart\n",
    "\n",
    "This page shows how to load a time-series spectroscopic dataset, do some basic calculations with it, generate some visualizations, and then save it out to another format. "
   ]
  },
  {
   "cell_type": "code",
   "execution_count": null,
   "id": "7745c111",
   "metadata": {},
   "outputs": [],
   "source": [
    "from chromatic import read_rainbow, version\n",
    "from chromatic import plt, np, u"
   ]
  },
  {
   "cell_type": "code",
   "execution_count": null,
   "id": "9925743d",
   "metadata": {},
   "outputs": [],
   "source": [
    "version()"
   ]
  },
  {
   "cell_type": "markdown",
   "id": "06578767",
   "metadata": {},
   "source": [
    "The [JWST Early Release Observation of WASP-96b](https://www.stsci.edu/jwst/science-execution/approved-programs/webb-first-image-observations) is one of the first observations of a transiting exoplanet with a 6.5m infrared space telescope. Let's load the default pipeline `x1dints` outputs provided with these data; there are lots of reasons why we shouldn't use these particular pipeline files for science, but they're useful for a quick initial look. If you want a more detailed look at these same data, check out the [🌈⏰🌊 time-series spectra example](../example-timeseries-spectra)."
   ]
  },
  {
   "cell_type": "code",
   "execution_count": null,
   "id": "e6f42847",
   "metadata": {},
   "outputs": [],
   "source": [
    "rainbow = read_rainbow(\n",
    "    \"example-datasets/stsci/jw02734002001_04101_00001-seg00*_nis_x1dints.fits\"\n",
    ")"
   ]
  },
  {
   "cell_type": "markdown",
   "id": "344382ad",
   "metadata": {},
   "source": [
    "The 🌈 object we just loaded provides easy access to the different dimensions we might want from the dataset. Quantities might have `astropy` [Units](https://docs.astropy.org/en/stable/units/index.html), if appropriate."
   ]
  },
  {
   "cell_type": "code",
   "execution_count": null,
   "id": "0ce65b0e",
   "metadata": {},
   "outputs": [],
   "source": [
    "rainbow.wavelength"
   ]
  },
  {
   "cell_type": "code",
   "execution_count": null,
   "id": "6075e928",
   "metadata": {},
   "outputs": [],
   "source": [
    "rainbow.time"
   ]
  },
  {
   "cell_type": "code",
   "execution_count": null,
   "id": "a87577b3",
   "metadata": {},
   "outputs": [],
   "source": [
    "rainbow.flux"
   ]
  },
  {
   "cell_type": "code",
   "execution_count": null,
   "id": "1f5bc632",
   "metadata": {},
   "outputs": [],
   "source": [
    "rainbow.uncertainty"
   ]
  },
  {
   "cell_type": "markdown",
   "id": "a9760f54",
   "metadata": {},
   "source": [
    "To see a transit in these data, we'll can normalize out the median spectrum of the star and make a map of the flux over wavelength and time."
   ]
  },
  {
   "cell_type": "code",
   "execution_count": null,
   "id": "48c38d8c",
   "metadata": {},
   "outputs": [],
   "source": [
    "rainbow.normalize().pcolormesh();"
   ]
  },
  {
   "cell_type": "markdown",
   "id": "5cf32700",
   "metadata": {},
   "source": [
    "What a transit! Let's flag outlying data points, bin the data to very low resolution ($R = \\lambda/\\Delta \\lambda = 10$), fold the times onto the period and transit epoch for [WASP-96b](https://exoplanetarchive.ipac.caltech.edu/overview/WASP-96b), and plot the data as a series of stacked transit light curves."
   ]
  },
  {
   "cell_type": "code",
   "execution_count": null,
   "id": "7cfe9a49",
   "metadata": {},
   "outputs": [],
   "source": [
    "(\n",
    "    rainbow.normalize()\n",
    "    .flag_outliers()\n",
    "    .bin(R=10)\n",
    "    .fold(period=3.4252577 * u.day, t0=2459111.30170 * u.day)\n",
    "    .plot()\n",
    ");"
   ]
  },
  {
   "cell_type": "markdown",
   "id": "143156f5",
   "metadata": {},
   "source": [
    "Finally, let's convert these data into a different format by saving it as a new file, which we might imagine using as a starting place for another analysis."
   ]
  },
  {
   "cell_type": "code",
   "execution_count": null,
   "id": "70a1a115",
   "metadata": {},
   "outputs": [],
   "source": [
    "rainbow.save(\"example-datasets/chromatic/ero-transit-wasp-96b.rainbow.npy\")"
   ]
  },
  {
   "cell_type": "markdown",
   "id": "23aa7da8",
   "metadata": {},
   "source": [
    "That's it! This quick tutorial highlighted `chromatic`'s abilities to...\n",
    "- load in time-series spectra or multiwavelength light curves from formats like `x1dints`\n",
    "- access core data variables like `wavelength`, `time`, `flux`, `uncertainty`\n",
    "- perform calculations like `normalize` and `.bin` \n",
    "- visualize the data with reasonable default choices\n",
    "\n",
    "Hopefully, you're now curious to read through the [User Guide](basics) to learn more about options for reading 🌈s, doing actions with 🌈s, visualizing 🌈s in different ways, and more! You can also run the `.help()` method associated with all 🌈 objects to get a quick summary of what other methods are available."
   ]
  },
  {
   "cell_type": "code",
   "execution_count": null,
   "id": "abc9595d",
   "metadata": {
    "scrolled": true
   },
   "outputs": [],
   "source": [
    "rainbow.help()"
   ]
  }
 ],
 "metadata": {
  "kernelspec": {
   "display_name": "Python 3 (ipykernel)",
   "language": "python",
   "name": "python3"
  },
  "language_info": {
   "codemirror_mode": {
    "name": "ipython",
    "version": 3
   },
   "file_extension": ".py",
   "mimetype": "text/x-python",
   "name": "python",
   "nbconvert_exporter": "python",
   "pygments_lexer": "ipython3",
   "version": "3.10.4"
  }
 },
 "nbformat": 4,
 "nbformat_minor": 5
}
