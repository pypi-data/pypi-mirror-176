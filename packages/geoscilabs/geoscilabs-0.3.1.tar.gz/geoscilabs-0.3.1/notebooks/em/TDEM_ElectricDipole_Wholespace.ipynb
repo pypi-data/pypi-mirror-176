{
 "cells": [
  {
   "cell_type": "code",
   "execution_count": 1,
   "metadata": {
    "extensions": {
     "jupyter_dashboards": {
      "version": 1,
      "views": {
       "grid_default": {
        "col": 0,
        "height": 4,
        "hidden": true,
        "row": 0,
        "width": 4
       },
       "report_default": {}
      }
     }
    },
    "nbpresent": {
     "id": "c59bfd9b-4293-433e-83db-820c33f4c378"
    }
   },
   "outputs": [],
   "source": [
    "from geoscilabs.em.DipoleWidgetTD import DipoleWidgetTD, InteractiveDipoleProfileTD, InteractiveDipoleDecay\n",
    "from geoscilabs.em.VolumeWidget import InteractivePlanes, plotObj3D"
   ]
  },
  {
   "cell_type": "markdown",
   "metadata": {
    "extensions": {
     "jupyter_dashboards": {
      "version": 1,
      "views": {
       "grid_default": {
        "col": 0,
        "height": 7,
        "hidden": false,
        "row": 0,
        "width": 7
       },
       "report_default": {}
      }
     }
    },
    "nbpresent": {
     "id": "95f1e819-0749-42ff-ad94-6d428298a5a7"
    }
   },
   "source": [
    "# Electrical Dipole in a Whole-space (time domain)"
   ]
  },
  {
   "cell_type": "markdown",
   "metadata": {},
   "source": [
    "# Purpose\n",
    "\n",
    "By using an analytic solution electromagnetic (EM) fields from electrical dipole in a Whole-space, we present some fundamentals of EM responses in the context of crosswell EM survey. "
   ]
  },
  {
   "cell_type": "markdown",
   "metadata": {},
   "source": [
    "#  Set up\n",
    "\n",
    "For time domain EM method using galvanic source, we inject step-off currents to the earth through electrodes.\n",
    "\n",
    "## Crosswell EM geometry\n",
    "\n",
    "Here, we choose geometric parameters for a crosswell EM set-up having two boreholes for Tx and Rx. In the Tx hole, a VED source is located at (0m, 0m, 0m), and it is fixed. Horizontal location of the Rx hole is fixed to 50m apart from the source location in x-direction.  \n"
   ]
  },
  {
   "cell_type": "code",
   "execution_count": 2,
   "metadata": {
    "extensions": {
     "jupyter_dashboards": {
      "version": 1,
      "views": {
       "grid_default": {
        "col": 8,
        "height": 13,
        "hidden": true,
        "row": 0,
        "width": 4
       },
       "report_default": {}
      }
     }
    },
    "nbpresent": {
     "id": "c0138e15-c392-4695-9627-578e85ae9c0a"
    }
   },
   "outputs": [
    {
     "ename": "AttributeError",
     "evalue": "'Arrow3D' object has no attribute 'do_3d_projection'",
     "output_type": "error",
     "traceback": [
      "\u001b[0;31m---------------------------------------------------------------------------\u001b[0m",
      "\u001b[0;31mAttributeError\u001b[0m                            Traceback (most recent call last)",
      "File \u001b[0;32m~/opt/anaconda3/envs/e350_notebook/lib/python3.9/site-packages/IPython/core/formatters.py:339\u001b[0m, in \u001b[0;36mBaseFormatter.__call__\u001b[0;34m(self, obj)\u001b[0m\n\u001b[1;32m    337\u001b[0m     \u001b[38;5;28;01mpass\u001b[39;00m\n\u001b[1;32m    338\u001b[0m \u001b[38;5;28;01melse\u001b[39;00m:\n\u001b[0;32m--> 339\u001b[0m     \u001b[38;5;28;01mreturn\u001b[39;00m \u001b[43mprinter\u001b[49m\u001b[43m(\u001b[49m\u001b[43mobj\u001b[49m\u001b[43m)\u001b[49m\n\u001b[1;32m    340\u001b[0m \u001b[38;5;66;03m# Finally look for special method names\u001b[39;00m\n\u001b[1;32m    341\u001b[0m method \u001b[38;5;241m=\u001b[39m get_real_method(obj, \u001b[38;5;28mself\u001b[39m\u001b[38;5;241m.\u001b[39mprint_method)\n",
      "File \u001b[0;32m~/opt/anaconda3/envs/e350_notebook/lib/python3.9/site-packages/IPython/core/pylabtools.py:151\u001b[0m, in \u001b[0;36mprint_figure\u001b[0;34m(fig, fmt, bbox_inches, base64, **kwargs)\u001b[0m\n\u001b[1;32m    148\u001b[0m     \u001b[38;5;28;01mfrom\u001b[39;00m \u001b[38;5;21;01mmatplotlib\u001b[39;00m\u001b[38;5;21;01m.\u001b[39;00m\u001b[38;5;21;01mbackend_bases\u001b[39;00m \u001b[38;5;28;01mimport\u001b[39;00m FigureCanvasBase\n\u001b[1;32m    149\u001b[0m     FigureCanvasBase(fig)\n\u001b[0;32m--> 151\u001b[0m \u001b[43mfig\u001b[49m\u001b[38;5;241;43m.\u001b[39;49m\u001b[43mcanvas\u001b[49m\u001b[38;5;241;43m.\u001b[39;49m\u001b[43mprint_figure\u001b[49m\u001b[43m(\u001b[49m\u001b[43mbytes_io\u001b[49m\u001b[43m,\u001b[49m\u001b[43m \u001b[49m\u001b[38;5;241;43m*\u001b[39;49m\u001b[38;5;241;43m*\u001b[39;49m\u001b[43mkw\u001b[49m\u001b[43m)\u001b[49m\n\u001b[1;32m    152\u001b[0m data \u001b[38;5;241m=\u001b[39m bytes_io\u001b[38;5;241m.\u001b[39mgetvalue()\n\u001b[1;32m    153\u001b[0m \u001b[38;5;28;01mif\u001b[39;00m fmt \u001b[38;5;241m==\u001b[39m \u001b[38;5;124m'\u001b[39m\u001b[38;5;124msvg\u001b[39m\u001b[38;5;124m'\u001b[39m:\n",
      "File \u001b[0;32m~/opt/anaconda3/envs/e350_notebook/lib/python3.9/site-packages/matplotlib/backend_bases.py:2295\u001b[0m, in \u001b[0;36mFigureCanvasBase.print_figure\u001b[0;34m(self, filename, dpi, facecolor, edgecolor, orientation, format, bbox_inches, pad_inches, bbox_extra_artists, backend, **kwargs)\u001b[0m\n\u001b[1;32m   2289\u001b[0m     renderer \u001b[38;5;241m=\u001b[39m _get_renderer(\n\u001b[1;32m   2290\u001b[0m         \u001b[38;5;28mself\u001b[39m\u001b[38;5;241m.\u001b[39mfigure,\n\u001b[1;32m   2291\u001b[0m         functools\u001b[38;5;241m.\u001b[39mpartial(\n\u001b[1;32m   2292\u001b[0m             print_method, orientation\u001b[38;5;241m=\u001b[39morientation)\n\u001b[1;32m   2293\u001b[0m     )\n\u001b[1;32m   2294\u001b[0m     \u001b[38;5;28;01mwith\u001b[39;00m \u001b[38;5;28mgetattr\u001b[39m(renderer, \u001b[38;5;124m\"\u001b[39m\u001b[38;5;124m_draw_disabled\u001b[39m\u001b[38;5;124m\"\u001b[39m, nullcontext)():\n\u001b[0;32m-> 2295\u001b[0m         \u001b[38;5;28;43mself\u001b[39;49m\u001b[38;5;241;43m.\u001b[39;49m\u001b[43mfigure\u001b[49m\u001b[38;5;241;43m.\u001b[39;49m\u001b[43mdraw\u001b[49m\u001b[43m(\u001b[49m\u001b[43mrenderer\u001b[49m\u001b[43m)\u001b[49m\n\u001b[1;32m   2297\u001b[0m \u001b[38;5;28;01mif\u001b[39;00m bbox_inches:\n\u001b[1;32m   2298\u001b[0m     \u001b[38;5;28;01mif\u001b[39;00m bbox_inches \u001b[38;5;241m==\u001b[39m \u001b[38;5;124m\"\u001b[39m\u001b[38;5;124mtight\u001b[39m\u001b[38;5;124m\"\u001b[39m:\n",
      "File \u001b[0;32m~/opt/anaconda3/envs/e350_notebook/lib/python3.9/site-packages/matplotlib/artist.py:73\u001b[0m, in \u001b[0;36m_finalize_rasterization.<locals>.draw_wrapper\u001b[0;34m(artist, renderer, *args, **kwargs)\u001b[0m\n\u001b[1;32m     71\u001b[0m \u001b[38;5;129m@wraps\u001b[39m(draw)\n\u001b[1;32m     72\u001b[0m \u001b[38;5;28;01mdef\u001b[39;00m \u001b[38;5;21mdraw_wrapper\u001b[39m(artist, renderer, \u001b[38;5;241m*\u001b[39margs, \u001b[38;5;241m*\u001b[39m\u001b[38;5;241m*\u001b[39mkwargs):\n\u001b[0;32m---> 73\u001b[0m     result \u001b[38;5;241m=\u001b[39m \u001b[43mdraw\u001b[49m\u001b[43m(\u001b[49m\u001b[43martist\u001b[49m\u001b[43m,\u001b[49m\u001b[43m \u001b[49m\u001b[43mrenderer\u001b[49m\u001b[43m,\u001b[49m\u001b[43m \u001b[49m\u001b[38;5;241;43m*\u001b[39;49m\u001b[43margs\u001b[49m\u001b[43m,\u001b[49m\u001b[43m \u001b[49m\u001b[38;5;241;43m*\u001b[39;49m\u001b[38;5;241;43m*\u001b[39;49m\u001b[43mkwargs\u001b[49m\u001b[43m)\u001b[49m\n\u001b[1;32m     74\u001b[0m     \u001b[38;5;28;01mif\u001b[39;00m renderer\u001b[38;5;241m.\u001b[39m_rasterizing:\n\u001b[1;32m     75\u001b[0m         renderer\u001b[38;5;241m.\u001b[39mstop_rasterizing()\n",
      "File \u001b[0;32m~/opt/anaconda3/envs/e350_notebook/lib/python3.9/site-packages/matplotlib/artist.py:50\u001b[0m, in \u001b[0;36mallow_rasterization.<locals>.draw_wrapper\u001b[0;34m(artist, renderer)\u001b[0m\n\u001b[1;32m     47\u001b[0m     \u001b[38;5;28;01mif\u001b[39;00m artist\u001b[38;5;241m.\u001b[39mget_agg_filter() \u001b[38;5;129;01mis\u001b[39;00m \u001b[38;5;129;01mnot\u001b[39;00m \u001b[38;5;28;01mNone\u001b[39;00m:\n\u001b[1;32m     48\u001b[0m         renderer\u001b[38;5;241m.\u001b[39mstart_filter()\n\u001b[0;32m---> 50\u001b[0m     \u001b[38;5;28;01mreturn\u001b[39;00m \u001b[43mdraw\u001b[49m\u001b[43m(\u001b[49m\u001b[43martist\u001b[49m\u001b[43m,\u001b[49m\u001b[43m \u001b[49m\u001b[43mrenderer\u001b[49m\u001b[43m)\u001b[49m\n\u001b[1;32m     51\u001b[0m \u001b[38;5;28;01mfinally\u001b[39;00m:\n\u001b[1;32m     52\u001b[0m     \u001b[38;5;28;01mif\u001b[39;00m artist\u001b[38;5;241m.\u001b[39mget_agg_filter() \u001b[38;5;129;01mis\u001b[39;00m \u001b[38;5;129;01mnot\u001b[39;00m \u001b[38;5;28;01mNone\u001b[39;00m:\n",
      "File \u001b[0;32m~/opt/anaconda3/envs/e350_notebook/lib/python3.9/site-packages/matplotlib/figure.py:2837\u001b[0m, in \u001b[0;36mFigure.draw\u001b[0;34m(self, renderer)\u001b[0m\n\u001b[1;32m   2834\u001b[0m         \u001b[38;5;66;03m# ValueError can occur when resizing a window.\u001b[39;00m\n\u001b[1;32m   2836\u001b[0m \u001b[38;5;28mself\u001b[39m\u001b[38;5;241m.\u001b[39mpatch\u001b[38;5;241m.\u001b[39mdraw(renderer)\n\u001b[0;32m-> 2837\u001b[0m \u001b[43mmimage\u001b[49m\u001b[38;5;241;43m.\u001b[39;49m\u001b[43m_draw_list_compositing_images\u001b[49m\u001b[43m(\u001b[49m\n\u001b[1;32m   2838\u001b[0m \u001b[43m    \u001b[49m\u001b[43mrenderer\u001b[49m\u001b[43m,\u001b[49m\u001b[43m \u001b[49m\u001b[38;5;28;43mself\u001b[39;49m\u001b[43m,\u001b[49m\u001b[43m \u001b[49m\u001b[43martists\u001b[49m\u001b[43m,\u001b[49m\u001b[43m \u001b[49m\u001b[38;5;28;43mself\u001b[39;49m\u001b[38;5;241;43m.\u001b[39;49m\u001b[43msuppressComposite\u001b[49m\u001b[43m)\u001b[49m\n\u001b[1;32m   2840\u001b[0m \u001b[38;5;28;01mfor\u001b[39;00m sfig \u001b[38;5;129;01min\u001b[39;00m \u001b[38;5;28mself\u001b[39m\u001b[38;5;241m.\u001b[39msubfigs:\n\u001b[1;32m   2841\u001b[0m     sfig\u001b[38;5;241m.\u001b[39mdraw(renderer)\n",
      "File \u001b[0;32m~/opt/anaconda3/envs/e350_notebook/lib/python3.9/site-packages/matplotlib/image.py:132\u001b[0m, in \u001b[0;36m_draw_list_compositing_images\u001b[0;34m(renderer, parent, artists, suppress_composite)\u001b[0m\n\u001b[1;32m    130\u001b[0m \u001b[38;5;28;01mif\u001b[39;00m not_composite \u001b[38;5;129;01mor\u001b[39;00m \u001b[38;5;129;01mnot\u001b[39;00m has_images:\n\u001b[1;32m    131\u001b[0m     \u001b[38;5;28;01mfor\u001b[39;00m a \u001b[38;5;129;01min\u001b[39;00m artists:\n\u001b[0;32m--> 132\u001b[0m         \u001b[43ma\u001b[49m\u001b[38;5;241;43m.\u001b[39;49m\u001b[43mdraw\u001b[49m\u001b[43m(\u001b[49m\u001b[43mrenderer\u001b[49m\u001b[43m)\u001b[49m\n\u001b[1;32m    133\u001b[0m \u001b[38;5;28;01melse\u001b[39;00m:\n\u001b[1;32m    134\u001b[0m     \u001b[38;5;66;03m# Composite any adjacent images together\u001b[39;00m\n\u001b[1;32m    135\u001b[0m     image_group \u001b[38;5;241m=\u001b[39m []\n",
      "File \u001b[0;32m~/opt/anaconda3/envs/e350_notebook/lib/python3.9/site-packages/matplotlib/artist.py:50\u001b[0m, in \u001b[0;36mallow_rasterization.<locals>.draw_wrapper\u001b[0;34m(artist, renderer)\u001b[0m\n\u001b[1;32m     47\u001b[0m     \u001b[38;5;28;01mif\u001b[39;00m artist\u001b[38;5;241m.\u001b[39mget_agg_filter() \u001b[38;5;129;01mis\u001b[39;00m \u001b[38;5;129;01mnot\u001b[39;00m \u001b[38;5;28;01mNone\u001b[39;00m:\n\u001b[1;32m     48\u001b[0m         renderer\u001b[38;5;241m.\u001b[39mstart_filter()\n\u001b[0;32m---> 50\u001b[0m     \u001b[38;5;28;01mreturn\u001b[39;00m \u001b[43mdraw\u001b[49m\u001b[43m(\u001b[49m\u001b[43martist\u001b[49m\u001b[43m,\u001b[49m\u001b[43m \u001b[49m\u001b[43mrenderer\u001b[49m\u001b[43m)\u001b[49m\n\u001b[1;32m     51\u001b[0m \u001b[38;5;28;01mfinally\u001b[39;00m:\n\u001b[1;32m     52\u001b[0m     \u001b[38;5;28;01mif\u001b[39;00m artist\u001b[38;5;241m.\u001b[39mget_agg_filter() \u001b[38;5;129;01mis\u001b[39;00m \u001b[38;5;129;01mnot\u001b[39;00m \u001b[38;5;28;01mNone\u001b[39;00m:\n",
      "File \u001b[0;32m~/opt/anaconda3/envs/e350_notebook/lib/python3.9/site-packages/mpl_toolkits/mplot3d/axes3d.py:451\u001b[0m, in \u001b[0;36mAxes3D.draw\u001b[0;34m(self, renderer)\u001b[0m\n\u001b[1;32m    448\u001b[0m zorder_offset \u001b[38;5;241m=\u001b[39m \u001b[38;5;28mmax\u001b[39m(axis\u001b[38;5;241m.\u001b[39mget_zorder()\n\u001b[1;32m    449\u001b[0m                     \u001b[38;5;28;01mfor\u001b[39;00m axis \u001b[38;5;129;01min\u001b[39;00m \u001b[38;5;28mself\u001b[39m\u001b[38;5;241m.\u001b[39m_get_axis_list()) \u001b[38;5;241m+\u001b[39m \u001b[38;5;241m1\u001b[39m\n\u001b[1;32m    450\u001b[0m collection_zorder \u001b[38;5;241m=\u001b[39m patch_zorder \u001b[38;5;241m=\u001b[39m zorder_offset\n\u001b[0;32m--> 451\u001b[0m \u001b[38;5;28;01mfor\u001b[39;00m artist \u001b[38;5;129;01min\u001b[39;00m \u001b[38;5;28;43msorted\u001b[39;49m\u001b[43m(\u001b[49m\u001b[43mcollections_and_patches\u001b[49m\u001b[43m,\u001b[49m\n\u001b[1;32m    452\u001b[0m \u001b[43m                     \u001b[49m\u001b[43mkey\u001b[49m\u001b[38;5;241;43m=\u001b[39;49m\u001b[43mdo_3d_projection\u001b[49m\u001b[43m,\u001b[49m\n\u001b[1;32m    453\u001b[0m \u001b[43m                     \u001b[49m\u001b[43mreverse\u001b[49m\u001b[38;5;241;43m=\u001b[39;49m\u001b[38;5;28;43;01mTrue\u001b[39;49;00m\u001b[43m)\u001b[49m:\n\u001b[1;32m    454\u001b[0m     \u001b[38;5;28;01mif\u001b[39;00m \u001b[38;5;28misinstance\u001b[39m(artist, mcoll\u001b[38;5;241m.\u001b[39mCollection):\n\u001b[1;32m    455\u001b[0m         artist\u001b[38;5;241m.\u001b[39mzorder \u001b[38;5;241m=\u001b[39m collection_zorder\n",
      "File \u001b[0;32m~/opt/anaconda3/envs/e350_notebook/lib/python3.9/site-packages/mpl_toolkits/mplot3d/axes3d.py:426\u001b[0m, in \u001b[0;36mAxes3D.draw.<locals>.do_3d_projection\u001b[0;34m(artist)\u001b[0m\n\u001b[1;32m    417\u001b[0m \u001b[38;5;124;03m\"\"\"\u001b[39;00m\n\u001b[1;32m    418\u001b[0m \u001b[38;5;124;03mCall `do_3d_projection` on an *artist*, and warn if passing\u001b[39;00m\n\u001b[1;32m    419\u001b[0m \u001b[38;5;124;03m*renderer*.\u001b[39;00m\n\u001b[0;32m   (...)\u001b[0m\n\u001b[1;32m    423\u001b[0m \u001b[38;5;124;03mcalling convention.\u001b[39;00m\n\u001b[1;32m    424\u001b[0m \u001b[38;5;124;03m\"\"\"\u001b[39;00m\n\u001b[1;32m    425\u001b[0m \u001b[38;5;28;01mtry\u001b[39;00m:\n\u001b[0;32m--> 426\u001b[0m     signature \u001b[38;5;241m=\u001b[39m inspect\u001b[38;5;241m.\u001b[39msignature(\u001b[43martist\u001b[49m\u001b[38;5;241;43m.\u001b[39;49m\u001b[43mdo_3d_projection\u001b[49m)\n\u001b[1;32m    427\u001b[0m     signature\u001b[38;5;241m.\u001b[39mbind()\n\u001b[1;32m    428\u001b[0m \u001b[38;5;66;03m# ValueError if `inspect.signature` cannot provide a signature\u001b[39;00m\n\u001b[1;32m    429\u001b[0m \u001b[38;5;66;03m# and TypeError if the binding fails or the object does not\u001b[39;00m\n\u001b[1;32m    430\u001b[0m \u001b[38;5;66;03m# appear to be callable - the next call will then re-raise.\u001b[39;00m\n",
      "\u001b[0;31mAttributeError\u001b[0m: 'Arrow3D' object has no attribute 'do_3d_projection'"
     ]
    },
    {
     "data": {
      "text/plain": [
       "<Figure size 504x504 with 1 Axes>"
      ]
     },
     "metadata": {
      "needs_background": "light"
     },
     "output_type": "display_data"
    }
   ],
   "source": [
    "ax = plotObj3D()"
   ]
  },
  {
   "cell_type": "markdown",
   "metadata": {
    "extensions": {
     "jupyter_dashboards": {
      "version": 1,
      "views": {
       "grid_default": {
        "col": 0,
        "height": 10,
        "hidden": true,
        "row": 0,
        "width": null
       },
       "report_default": {}
      }
     }
    },
    "nbpresent": {
     "id": "09257b6f-48e9-426c-a0f3-d1a60beb3ad0"
    }
   },
   "source": [
    "## Backgrounds \n",
    "\n",
    "When using crosswell electromagnetic (EM) survey, we inject step-off currents to the earth using (+) and (-) current electrodes, and measure voltages between potential electrodes in the off-time, when DC effects are disappeared. A common goal here is imaging conductivity structure of the earth by interpreting measured voltages. However, to accomplish that task well, we first need to understand physical behavior of EM responses for the given survey set-up. \n",
    "\n",
    "Assuming length of the current elecrodes are small enough, this can be assumed as electrical dipole (ED). For a croswell set-up, let we have a vertical magnetic dipole (VMD) source in a homogeneous earth with step-off currents, then we can have analytic solution of EM fields in time domain (WH1988). Solution of of arbitrary EM fields, $\\mathbf{f}$, will be a function of \n",
    "\n",
    "$$ \\mathbf{f} (x, y, z; \\sigma, t),$$ \n",
    "\n",
    "where $\\sigma$ is conductivity of homogenous earth (S/m), and $f$ is transmitting frequency (Hz). Here $\\mathbf{f}$ can be electic ($\\mathbf{e}$) or magnetic field ($\\mathbf{h}$), or current density ($\\mathbf{j}$). <strong>Now, you will explore how EM responses behaves as a function of space, $\\sigma$, and $t$ for the given crosswell EM set-up  </strong>. "
   ]
  },
  {
   "cell_type": "markdown",
   "metadata": {
    "extensions": {
     "jupyter_dashboards": {
      "version": 1,
      "views": {
       "grid_default": {
        "col": 0,
        "height": 13,
        "hidden": true,
        "row": 6,
        "width": 6
       },
       "report_default": {}
      }
     }
    },
    "nbpresent": {
     "id": "b9b7af2b-084a-4f24-9c1f-6c681e30fd35"
    }
   },
   "source": [
    "#  Geometry app\n",
    "\n",
    "Here, we choose geometric parameters for a crosswell EM set-up having two boreholes for Tx and Rx. In the Tx hole, a VED source is located at (0m, 0m, 0m), and it is fixed. Horizontal location of the Rx hole is fixed to 50m apart from the source location in x-direction.  \n",
    "\n",
    "## Parameters\n",
    "\n",
    "- plane: Choose either \"XZ\" or \"YZ\" plane\n",
    "- offset: Offset from a source plane (m)\n",
    "- nRx: The number of receivers in the Rx hole\n",
    "\n",
    "Chosen geometric parameters will be used in the Electric Dipole widget below. "
   ]
  },
  {
   "cell_type": "code",
   "execution_count": 3,
   "metadata": {
    "extensions": {
     "jupyter_dashboards": {
      "version": 1,
      "views": {
       "grid_default": {
        "col": 7,
        "height": 22,
        "hidden": false,
        "row": 0,
        "width": 5
       },
       "report_default": {}
      }
     }
    },
    "nbpresent": {
     "id": "baf63d98-9356-4c2d-81d7-8f8cd1a6da2d"
    }
   },
   "outputs": [
    {
     "data": {
      "application/vnd.jupyter.widget-view+json": {
       "model_id": "029b265b7ca54813ba429a9388b0a1f7",
       "version_major": 2,
       "version_minor": 0
      },
      "text/plain": [
       "MyApp(children=(ToggleButtons(description='Plane', options=('XZ', 'YZ'), value='XZ'), FloatSlider(value=0.0, c…"
      ]
     },
     "metadata": {},
     "output_type": "display_data"
    }
   ],
   "source": [
    "Q0 = InteractivePlanes(planevalue=\"XZ\", offsetvalue=0.)\n",
    "Q0"
   ]
  },
  {
   "cell_type": "markdown",
   "metadata": {
    "extensions": {
     "jupyter_dashboards": {
      "version": 1,
      "views": {
       "grid_default": {
        "col": null,
        "height": 9,
        "hidden": true,
        "row": 29,
        "width": null
       },
       "report_default": {}
      }
     }
    },
    "nbpresent": {
     "id": "4cca45b8-6d74-43f2-b3aa-2f1f3ece54f3"
    }
   },
   "source": [
    "# Electric Dipole app\n",
    "\n",
    "Explore behavior of EM fields, $\\mathbf{f} (x, y, z; \\sigma, t)$ on 2D plane chosen in the above app. And also at the receiver locations. \n",
    "\n",
    "\n",
    "## Parameters:\n",
    "\n",
    "- Field: Type of EM fields (\"E\": electric field, \"H\": magnetic field, \"J\": current density)\n",
    "- AmpDir: Type of the vectoral EM fields \n",
    "\n",
    "    None: $f_x$ or $f_y$ or $f_z$\n",
    "    \n",
    "    Amp: $\\mathbf{f} \\cdot \\mathbf{f} = |\\mathbf{f}|^2$\n",
    "    \n",
    "    Dir: A vectoral EM fields, $\\mathbf{f}$\n",
    "    \n",
    "- Comp.: Direction of $\\mathbf{F}$ at Rx locations        \n",
    "- $t$: time after current switch-off \n",
    "- $\\sigma$: Conductivity of homogeneous earth (S/m)\n",
    "- Offset: Offset from a source plane\n",
    "- Scale: Choose \"log\" or \"linear\" scale \n",
    "- Slider: When it is checked, it activates \"flog\" and \"siglog\" sliders above. \n",
    "- TimeLog: A float slider for log10 time (only activated when slider is checked) \n",
    "- SigLog: A float slider for log10 conductivity (only activated when slider is checked)\n"
   ]
  },
  {
   "cell_type": "code",
   "execution_count": 4,
   "metadata": {
    "extensions": {
     "jupyter_dashboards": {
      "version": 1,
      "views": {
       "grid_default": {
        "col": 0,
        "height": 26,
        "hidden": false,
        "row": 22,
        "width": null
       },
       "report_default": {}
      }
     }
    },
    "nbpresent": {
     "id": "d4efa881-fa5c-4ecc-87b0-47f53e865a5f"
    },
    "scrolled": false
   },
   "outputs": [
    {
     "data": {
      "application/vnd.jupyter.widget-view+json": {
       "model_id": "bbdfd79948fe4b479bb01aceaac76e81",
       "version_major": 2,
       "version_minor": 0
      },
      "text/plain": [
       "MyApp(children=(ToggleButtons(description='Field', options=('E', 'H', 'dHdt', 'J'), value='E'), ToggleButtons(…"
      ]
     },
     "metadata": {},
     "output_type": "display_data"
    }
   ],
   "source": [
    "dwidget = DipoleWidgetTD()\n",
    "Q1 = dwidget.InteractiveDipoleBH(nRx=Q0.kwargs[\"nRx\"], plane=Q0.kwargs[\"Plane\"], offset_plane=Q0.kwargs[\"Offset\"])\n",
    "Q1"
   ]
  },
  {
   "cell_type": "markdown",
   "metadata": {
    "extensions": {
     "jupyter_dashboards": {
      "version": 1,
      "views": {
       "grid_default": {
        "col": 0,
        "height": 4,
        "hidden": true,
        "row": 38,
        "width": 12
       },
       "report_default": {}
      }
     }
    }
   },
   "source": [
    "# Proflie app\n",
    "\n",
    "Here we focuson data, which can be measured at receiver locations. We limit our attention to three different profile shown in **Geometry** app: Rxhole (red), Txhole (black), TxProfile (blue). \n",
    "\n",
    "## Parameters:\n",
    "\n",
    "- Comp.: Direction of $\\mathbf{F}$ at Rx locations        \n",
    "- ComplexNumber: Type of complex data (\"Re\", \"Im\", \"Amp\", \"Phase\")\n",
    "- $t_1$: Time (sec)\n",
    "- $t_2$: Time (sec)\n",
    "- $t_3$: Time (sec)\n",
    "- Profile: Type of profile line (\"Rxhole\", \"Txhole\", \"TxProfile\")\n",
    "- Scale: Choose \"log\" or \"linear\" scale \n",
    "- Rx#: choice of Rx point for the following Sounding app"
   ]
  },
  {
   "cell_type": "code",
   "execution_count": 5,
   "metadata": {
    "extensions": {
     "jupyter_dashboards": {
      "version": 1,
      "views": {
       "grid_default": {
        "col": 0,
        "height": 25,
        "hidden": false,
        "row": 48,
        "width": null
       },
       "report_default": {}
      }
     }
    }
   },
   "outputs": [
    {
     "data": {
      "application/vnd.jupyter.widget-view+json": {
       "model_id": "137ce3f4153a4479892b9c29c53dc9fd",
       "version_major": 2,
       "version_minor": 0
      },
      "text/plain": [
       "MyApp(children=(ToggleButtons(description='Comp.', index=2, options=('x', 'y', 'z'), value='z'), ToggleButtons…"
      ]
     },
     "metadata": {},
     "output_type": "display_data"
    }
   ],
   "source": [
    "Q2 = InteractiveDipoleProfileTD(dwidget, Q1.kwargs[\"Sigma\"], Q1.kwargs[\"Field\"], Q1.kwargs[\"Component\"], Q1.kwargs[\"Scale\"])\n",
    "Q2"
   ]
  },
  {
   "cell_type": "markdown",
   "metadata": {
    "extensions": {
     "jupyter_dashboards": {
      "version": 1,
      "views": {
       "grid_default": {
        "hidden": true
       },
       "report_default": {
        "hidden": true
       }
      }
     }
    }
   },
   "source": [
    "# Sounding app\n",
    "\n",
    "## Parameters:\n",
    "\n",
    "- Comp.: Direction of $\\mathbf{F}$ at Rx locations        \n",
    "- $\\sigma$: Conductivity of homogeneous earth (S/m)\n",
    "- Scale: Choose \"log\" or \"linear\" scale "
   ]
  },
  {
   "cell_type": "code",
   "execution_count": 6,
   "metadata": {},
   "outputs": [
    {
     "data": {
      "application/vnd.jupyter.widget-view+json": {
       "model_id": "815ec931ee224b4798699f2843d6134b",
       "version_major": 2,
       "version_minor": 0
      },
      "text/plain": [
       "MyApp(children=(ToggleButtons(description='Comp.', index=2, options=('x', 'y', 'z'), value='z'), FloatText(val…"
      ]
     },
     "metadata": {},
     "output_type": "display_data"
    }
   ],
   "source": [
    "InteractiveDipoleDecay(dwidget, dwidget.dataview.xyz_line[Q2.kwargs[\"irx\"],:], Q1.kwargs[\"Field\"], Q1.kwargs[\"Component\"])"
   ]
  },
  {
   "cell_type": "code",
   "execution_count": null,
   "metadata": {},
   "outputs": [],
   "source": []
  }
 ],
 "metadata": {
  "anaconda-cloud": {},
  "extensions": {
   "jupyter_dashboards": {
    "activeView": "grid_default",
    "version": 1,
    "views": {
     "grid_default": {
      "cellMargin": 10,
      "defaultCellHeight": 20,
      "maxColumns": 12,
      "name": "grid",
      "type": "grid"
     },
     "report_default": {
      "name": "report",
      "type": "report"
     }
    }
   }
  },
  "kernelspec": {
   "display_name": "Python 3 (ipykernel)",
   "language": "python",
   "name": "python3"
  },
  "language_info": {
   "codemirror_mode": {
    "name": "ipython",
    "version": 3
   },
   "file_extension": ".py",
   "mimetype": "text/x-python",
   "name": "python",
   "nbconvert_exporter": "python",
   "pygments_lexer": "ipython3",
   "version": "3.9.13"
  },
  "nbpresent": {
   "slides": {
    "18cc87f9-a29c-43fe-a307-094e80f187ec": {
     "id": "18cc87f9-a29c-43fe-a307-094e80f187ec",
     "prev": "47ebf514-9d62-497c-ae0e-da3d22b7a793",
     "regions": {
      "81dc0ef7-16af-48ca-9707-b6626f7b5ef3": {
       "attrs": {
        "height": 0.8,
        "width": 0.8,
        "x": 0.1,
        "y": 0.1
       },
       "content": {
        "cell": "c59bfd9b-4293-433e-83db-820c33f4c378",
        "part": "whole"
       },
       "id": "81dc0ef7-16af-48ca-9707-b6626f7b5ef3"
      }
     }
    },
    "245f2cbf-072e-429f-b8c2-3a155572cae5": {
     "id": "245f2cbf-072e-429f-b8c2-3a155572cae5",
     "prev": "d4aec013-fcfb-4601-928a-08cb129f1ab6",
     "regions": {
      "f58b4744-dda4-46e7-a2b6-132966aebb6c": {
       "attrs": {
        "height": 0.8,
        "width": 0.8,
        "x": 0.1,
        "y": 0.1
       },
       "content": {
        "cell": "9cbd4d35-95ab-4b4c-bc7b-ef4c7a5bd601",
        "part": "whole"
       },
       "id": "f58b4744-dda4-46e7-a2b6-132966aebb6c"
      }
     }
    },
    "47ebf514-9d62-497c-ae0e-da3d22b7a793": {
     "id": "47ebf514-9d62-497c-ae0e-da3d22b7a793",
     "prev": null,
     "regions": {
      "201b2767-c7c4-42a9-8972-0fb07ea027df": {
       "attrs": {
        "height": 0.7999999999999999,
        "width": 0.8,
        "x": -0.02479871175523355,
        "y": 0.1261227410985866
       },
       "content": {
        "cell": "e3a4dd9c-3f24-48d6-ad9b-4edbe3248df9",
        "part": "whole"
       },
       "id": "201b2767-c7c4-42a9-8972-0fb07ea027df"
      }
     }
    },
    "4cff681d-a824-462c-82c4-6c9dab0650f1": {
     "id": "4cff681d-a824-462c-82c4-6c9dab0650f1",
     "prev": "a0099cd8-0e6d-497b-8eee-1c9a9352e2a3",
     "regions": {
      "402b6864-2649-41f1-9713-ae5f6bf3b115": {
       "attrs": {
        "height": 0.8,
        "width": 0.8,
        "x": 0.1,
        "y": 0.1
       },
       "content": {
        "cell": "3bd63ed4-b758-48e5-a662-b68e4b2ce034",
        "part": "whole"
       },
       "id": "402b6864-2649-41f1-9713-ae5f6bf3b115"
      }
     }
    },
    "51a59c43-c682-499d-b8a9-bf6c793cbe75": {
     "id": "51a59c43-c682-499d-b8a9-bf6c793cbe75",
     "prev": "b2754f55-e10b-4a02-b5e1-618bc5d423f0",
     "regions": {
      "15926dd2-ff48-4df3-a8be-e4b86ea2cd4f": {
       "attrs": {
        "height": 0.8,
        "width": 0.8,
        "x": 0.1,
        "y": 0.1
       },
       "content": {
        "cell": "baf63d98-9356-4c2d-81d7-8f8cd1a6da2d",
        "part": "whole"
       },
       "id": "15926dd2-ff48-4df3-a8be-e4b86ea2cd4f"
      }
     }
    },
    "5dd85aee-5025-4fe2-a90c-d80de7f8d456": {
     "id": "5dd85aee-5025-4fe2-a90c-d80de7f8d456",
     "prev": "bf7c1942-c97d-4023-8cc8-62a6369c6229",
     "regions": {
      "a022dc82-caf9-430a-8e77-7a155085aee5": {
       "attrs": {
        "height": 0.8,
        "width": 0.8,
        "x": 0.1,
        "y": 0.1
       },
       "content": {
        "cell": "d4efa881-fa5c-4ecc-87b0-47f53e865a5f",
        "part": "whole"
       },
       "id": "a022dc82-caf9-430a-8e77-7a155085aee5"
      }
     }
    },
    "7dad038d-3585-4d4a-acb4-d2388b117b7e": {
     "id": "7dad038d-3585-4d4a-acb4-d2388b117b7e",
     "prev": "5dd85aee-5025-4fe2-a90c-d80de7f8d456",
     "regions": {
      "e526da6b-003d-4015-8900-386d21051974": {
       "attrs": {
        "height": 0.8,
        "width": 0.8,
        "x": 0.1,
        "y": 0.1
       },
       "content": {
        "cell": "c3075a3b-0158-49f6-9d38-ed7372a4761c",
        "part": "whole"
       },
       "id": "e526da6b-003d-4015-8900-386d21051974"
      }
     }
    },
    "81c72ec7-c7a8-45e6-9649-080db72a3bf9": {
     "id": "81c72ec7-c7a8-45e6-9649-080db72a3bf9",
     "prev": "4cff681d-a824-462c-82c4-6c9dab0650f1",
     "regions": {
      "98e755fa-d098-4ebf-9481-63e3fed6a783": {
       "attrs": {
        "height": 0.8,
        "width": 0.8,
        "x": 0.1,
        "y": 0.1
       },
       "content": {
        "cell": "09257b6f-48e9-426c-a0f3-d1a60beb3ad0",
        "part": "whole"
       },
       "id": "98e755fa-d098-4ebf-9481-63e3fed6a783"
      }
     }
    },
    "8a528caa-079f-4215-b8b8-28302cc93a3e": {
     "id": "8a528caa-079f-4215-b8b8-28302cc93a3e",
     "prev": "7dad038d-3585-4d4a-acb4-d2388b117b7e",
     "regions": {
      "8304fb51-067b-42fd-b53a-e3a1d9e04272": {
       "attrs": {
        "height": 0.8,
        "width": 0.8,
        "x": 0.1,
        "y": 0.1
       },
       "content": {
        "cell": "0053bec8-5b59-4ae4-b760-37bdf85ed0d8",
        "part": "whole"
       },
       "id": "8304fb51-067b-42fd-b53a-e3a1d9e04272"
      }
     }
    },
    "a0099cd8-0e6d-497b-8eee-1c9a9352e2a3": {
     "id": "a0099cd8-0e6d-497b-8eee-1c9a9352e2a3",
     "prev": "245f2cbf-072e-429f-b8c2-3a155572cae5",
     "regions": {
      "11eb3f79-3a55-4a7b-a77f-7a29de426686": {
       "attrs": {
        "height": 0.8,
        "width": 0.8,
        "x": 0.1,
        "y": 0.1
       },
       "content": {
        "cell": "c0138e15-c392-4695-9627-578e85ae9c0a",
        "part": "whole"
       },
       "id": "11eb3f79-3a55-4a7b-a77f-7a29de426686"
      }
     }
    },
    "a3506cf3-dd45-4e72-86bb-af1f5dc15b15": {
     "id": "a3506cf3-dd45-4e72-86bb-af1f5dc15b15",
     "prev": "8a528caa-079f-4215-b8b8-28302cc93a3e",
     "regions": {
      "c31fa94d-0be2-484b-8fc7-21f845ecd9e7": {
       "attrs": {
        "height": 0.8,
        "width": 0.8,
        "x": 0.1,
        "y": 0.1
       },
       "content": {
        "cell": "3eafb99a-a449-44ad-92ca-c5759984f87c",
        "part": "whole"
       },
       "id": "c31fa94d-0be2-484b-8fc7-21f845ecd9e7"
      }
     }
    },
    "b2754f55-e10b-4a02-b5e1-618bc5d423f0": {
     "id": "b2754f55-e10b-4a02-b5e1-618bc5d423f0",
     "prev": "c1556db0-f27c-4a07-a6ee-218b6da5228f",
     "regions": {
      "6ce0b2c5-9f8e-414c-b578-d1fb9537a350": {
       "attrs": {
        "height": 0.8,
        "width": 0.8,
        "x": 0.1,
        "y": 0.1
       },
       "content": {
        "cell": "53198a70-4798-4da9-8ce3-43a14b3086f2",
        "part": "whole"
       },
       "id": "6ce0b2c5-9f8e-414c-b578-d1fb9537a350"
      }
     }
    },
    "bf7c1942-c97d-4023-8cc8-62a6369c6229": {
     "id": "bf7c1942-c97d-4023-8cc8-62a6369c6229",
     "prev": "f2016771-0d1f-4b36-a992-3ed37d96db8d",
     "regions": {
      "d2c780fd-f02d-4b23-855d-7268418a9a6b": {
       "attrs": {
        "height": 0.8,
        "width": 0.8,
        "x": 0.1,
        "y": 0.1
       },
       "content": {
        "cell": "4cca45b8-6d74-43f2-b3aa-2f1f3ece54f3",
        "part": "whole"
       },
       "id": "d2c780fd-f02d-4b23-855d-7268418a9a6b"
      }
     }
    },
    "c1556db0-f27c-4a07-a6ee-218b6da5228f": {
     "id": "c1556db0-f27c-4a07-a6ee-218b6da5228f",
     "prev": "81c72ec7-c7a8-45e6-9649-080db72a3bf9",
     "regions": {
      "e8e03a1b-fce6-4369-b5e0-6f4c0d98fd48": {
       "attrs": {
        "height": 0.8,
        "width": 0.8,
        "x": 0.1,
        "y": 0.1
       },
       "content": {
        "cell": "b9b7af2b-084a-4f24-9c1f-6c681e30fd35",
        "part": "whole"
       },
       "id": "e8e03a1b-fce6-4369-b5e0-6f4c0d98fd48"
      }
     }
    },
    "d4aec013-fcfb-4601-928a-08cb129f1ab6": {
     "id": "d4aec013-fcfb-4601-928a-08cb129f1ab6",
     "prev": "18cc87f9-a29c-43fe-a307-094e80f187ec",
     "regions": {
      "959cec78-5304-4c08-be1c-372309852edb": {
       "attrs": {
        "height": 0.8,
        "width": 0.8,
        "x": 0.1,
        "y": 0.1
       },
       "content": {
        "cell": "95f1e819-0749-42ff-ad94-6d428298a5a7",
        "part": "whole"
       },
       "id": "959cec78-5304-4c08-be1c-372309852edb"
      }
     }
    },
    "f2016771-0d1f-4b36-a992-3ed37d96db8d": {
     "id": "f2016771-0d1f-4b36-a992-3ed37d96db8d",
     "prev": "51a59c43-c682-499d-b8a9-bf6c793cbe75",
     "regions": {
      "f238a22f-46b8-43ff-b102-98cb6289f575": {
       "attrs": {
        "height": 0.8,
        "width": 0.8,
        "x": 0.1,
        "y": 0.1
       },
       "content": {
        "cell": "100a2463-b8e6-4c4c-9cfc-5ea61334779e",
        "part": "whole"
       },
       "id": "f238a22f-46b8-43ff-b102-98cb6289f575"
      }
     }
    }
   },
   "themes": {}
  },
  "widgets": {
   "state": {
    "21a254dd3b5f4602bca72c4bd9416ea4": {
     "views": [
      {
       "cell_index": 14
      }
     ]
    },
    "245fad35ae92409a8b032b6e0f625fb1": {
     "views": [
      {
       "cell_index": 12
      }
     ]
    },
    "5744602a88104b89a66035469d068314": {
     "views": [
      {
       "cell_index": 8
      }
     ]
    },
    "ed4622733df04ee3a57ea57a044d255e": {
     "views": [
      {
       "cell_index": 10
      }
     ]
    }
   },
   "version": "1.2.0"
  }
 },
 "nbformat": 4,
 "nbformat_minor": 1
}
