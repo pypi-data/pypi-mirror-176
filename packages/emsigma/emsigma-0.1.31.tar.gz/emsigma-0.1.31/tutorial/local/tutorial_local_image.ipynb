{
 "cells": [
  {
   "cell_type": "markdown",
   "metadata": {
    "id": "PTooJbLTkDWl"
   },
   "source": [
    "# Import libraries"
   ]
  },
  {
   "cell_type": "code",
   "execution_count": null,
   "metadata": {
    "colab": {
     "base_uri": "https://localhost:8080/",
     "height": 71
    },
    "id": "4362PEEZfpQB",
    "outputId": "3225a4d8-7859-46d9-e634-2d86d52c23e0",
    "scrolled": true,
    "tags": []
   },
   "outputs": [],
   "source": [
    "import sigma\n",
    "from sigma.utils import normalisation as norm \n",
    "from sigma.utils.load import IMAGEDataset\n",
    "from sigma.src.utils import same_seeds\n",
    "from sigma.src.dim_reduction import Experiment\n",
    "from sigma.models.autoencoder import AutoEncoder\n",
    "from sigma.src.segmentation import PixelSegmenter\n",
    "from sigma.gui import gui"
   ]
  },
  {
   "cell_type": "markdown",
   "metadata": {
    "id": "olPzlO4gsAuG"
   },
   "source": [
    "# Load files\n",
    "\n",
    "Load the image files from `chemical_maps_dir` and the intensity map file using the path `intensity_map_path`, creating an object of `IMAGEDataset`."
   ]
  },
  {
   "cell_type": "code",
   "execution_count": null,
   "metadata": {
    "id": "2Wd0omy47rJb"
   },
   "outputs": [],
   "source": [
    "chemical_maps_dir='xrf_elemental_maps'\n",
    "intensity_map_path='intensity.tif'\n",
    "im = IMAGEDataset(chemical_maps_dir,intensity_map_path)"
   ]
  },
  {
   "cell_type": "markdown",
   "metadata": {
    "id": "vpqYK5B6m-3k"
   },
   "source": [
    "# Dataset preprocessing"
   ]
  },
  {
   "cell_type": "code",
   "execution_count": null,
   "metadata": {
    "id": "JRccG0O2plY_"
   },
   "outputs": [],
   "source": [
    "gui.view_im_dataset(im)"
   ]
  },
  {
   "cell_type": "markdown",
   "metadata": {
    "id": "59GFs_0SBSkW"
   },
   "source": [
    "## Normalisation"
   ]
  },
  {
   "cell_type": "code",
   "execution_count": null,
   "metadata": {
    "id": "vgCJ-sfVsNbb"
   },
   "outputs": [],
   "source": [
    "# Normalise the dataset using the (optional) sequential three methods.\n",
    "\n",
    "im.normalisation([norm.zscore, \n",
    "                   norm.softmax])"
   ]
  },
  {
   "cell_type": "markdown",
   "metadata": {},
   "source": [
    "Use `gui.view_pixel_distributions` to view the intensity distributions after each sequential normalisation process."
   ]
  },
  {
   "cell_type": "code",
   "execution_count": null,
   "metadata": {},
   "outputs": [],
   "source": [
    "gui.view_pixel_distributions(dataset=im, \n",
    "                             norm_list=[norm.zscore,\n",
    "                                        norm.softmax], \n",
    "                             cmap='inferno')"
   ]
  },
  {
   "cell_type": "markdown",
   "metadata": {
    "id": "6PaFMEOprt3B"
   },
   "source": [
    "## (Optional) Assign RGB to elemental peaks"
   ]
  },
  {
   "cell_type": "code",
   "execution_count": null,
   "metadata": {
    "id": "MZSQgdJsZTgV"
   },
   "outputs": [],
   "source": [
    "gui.view_rgb(im)"
   ]
  },
  {
   "cell_type": "markdown",
   "metadata": {},
   "source": [
    "## Check elemental distribution after normalisation"
   ]
  },
  {
   "cell_type": "code",
   "execution_count": null,
   "metadata": {
    "id": "Uns525mlsjfm"
   },
   "outputs": [],
   "source": [
    "print('After normalisation:')\n",
    "gui.view_intensity_maps(edx=im.normalised_elemental_data, element_list=im.feature_list)"
   ]
  },
  {
   "cell_type": "markdown",
   "metadata": {
    "id": "f2GcAoSlnGuN"
   },
   "source": [
    "# Dimensionality reduction: Autoencoder"
   ]
  },
  {
   "cell_type": "markdown",
   "metadata": {
    "id": "k_7bn6yJBjNo"
   },
   "source": [
    "## Initialise experiment / model"
   ]
  },
  {
   "cell_type": "code",
   "execution_count": null,
   "metadata": {
    "colab": {
     "base_uri": "https://localhost:8080/"
    },
    "id": "fUcL2sddrLHC",
    "outputId": "2bc7fd73-d250-40f8-c5b1-755e13058bcb"
   },
   "outputs": [],
   "source": [
    "# The integer in this function can determine different initialised parameters of model (tuning sudo randomness)\n",
    "# This can influence the result of dimensionality reduction and change the latent space.\n",
    "same_seeds(1)\n",
    "\n",
    "# set the folder path to save the model(the model will automatically save in the specified folder)\n",
    "result_folder_path='./' \n",
    "\n",
    "# Set up the experiment, e.g. determining the model structure, dataset for training etc.\n",
    "ex = Experiment(descriptor='xrf',\n",
    "                general_results_dir=result_folder_path,\n",
    "                model=AutoEncoder,\n",
    "                model_args={'hidden_layer_sizes':(512,256,128)}, \n",
    "                chosen_dataset=im.normalised_elemental_data,\n",
    "                save_model_every_epoch=True)"
   ]
  },
  {
   "cell_type": "markdown",
   "metadata": {
    "id": "lEgWJf45Bp4F"
   },
   "source": [
    "## Training"
   ]
  },
  {
   "cell_type": "markdown",
   "metadata": {},
   "source": [
    "**Parameters for `ex.run_model`**<br>\n",
    "> `num_epochs`: *int*. The number of entire passes through the training dataset. 50-100 is recommonded for this value. A rule of thumb is that if the loss value stops reducing, that epoch my be a good point to stop. <br>\n",
    "\n",
    "> `batch_size`: *int*. The number of data points per gradient update. Values between 32-128 are recommended. smaller batch size means more updates within an epoch, but is more stochastic for the optimisation process.<br>\n",
    "\n",
    "> `learning_rate`: *float* in a range between 0-1. The learning rate controls how quickly the model is adapted to the problem. 1e-4 is recommended. Higher learning rate may yield faster convergence but have a risk to be stuck in an undesirable local minima.<br>\n",
    "\n",
    "> `task`: *str*. if 'train_all', all data points will be used for training the autoencoder. If 'train_eval', training will be conducted on the training set (85% dataset) and testing on a testing set (15%) for evaluation. The recommended procedure is to run the 'train_eval' for hyperparameter selection, and 'train_all' for the final analysis.<br>\n",
    "\n",
    "> `criterion`: *str*. If 'MSE', the criterion is to measure the mean squared error (squared L2 norm) between each element in the input x and target y. 'MSE' is the only option. Other criteria will be implemented in the future versions.<br>"
   ]
  },
  {
   "cell_type": "code",
   "execution_count": null,
   "metadata": {
    "id": "sgajwhO3rNv1",
    "scrolled": true
   },
   "outputs": [],
   "source": [
    "# Train the model\n",
    "ex.run_model(num_epochs=5,\n",
    "             batch_size=4,\n",
    "             learning_rate=1e-4, \n",
    "             weight_decay=0.0, \n",
    "             task='train_all', \n",
    "             criterion='MSE'\n",
    "            ) "
   ]
  },
  {
   "cell_type": "markdown",
   "metadata": {
    "id": "Pd5l795DnL8r"
   },
   "source": [
    "# Pixel segmentation: Gaussian mixture modelling (GMM) clustering"
   ]
  },
  {
   "cell_type": "markdown",
   "metadata": {
    "id": "BXi8fj7mBsxt"
   },
   "source": [
    "## (Optional) Load pre-trained Autoencoder"
   ]
  },
  {
   "cell_type": "code",
   "execution_count": null,
   "metadata": {
    "id": "3l8O-UwrjcxP",
    "scrolled": true
   },
   "outputs": [],
   "source": [
    "model_path = './' # model path (the model path should be stored in the folder 'result_folder_path')\n",
    "ex.load_trained_model(model_path)"
   ]
  },
  {
   "cell_type": "markdown",
   "metadata": {
    "id": "w_qEVkRAV7BL"
   },
   "source": [
    "## Measure Baysian information criterion (BIC)"
   ]
  },
  {
   "cell_type": "code",
   "execution_count": null,
   "metadata": {
    "id": "FP2TyaUrL-D0",
    "tags": []
   },
   "outputs": [],
   "source": [
    "latent = ex.get_latent()\n",
    "gui.view_bic(latent=latent,\n",
    "             model='GaussianMixture',\n",
    "             n_components=20,\n",
    "             model_args={'random_state':6, 'init_params':'kmeans'})"
   ]
  },
  {
   "cell_type": "markdown",
   "metadata": {
    "id": "63qxth1gYc8v"
   },
   "source": [
    "## Run GMM"
   ]
  },
  {
   "cell_type": "code",
   "execution_count": null,
   "metadata": {
    "id": "UyU0I3--rTgM"
   },
   "outputs": [],
   "source": [
    "latent = ex.get_latent()\n",
    "ps = PixelSegmenter(latent=latent,\n",
    "                    dataset=im,\n",
    "                    method='BayesianGaussianMixture',\n",
    "                    method_args={'n_components':12, 'random_state':5, 'init_params':'kmeans'} )\n",
    "                    # can change random_state to different integer i.e. 10 or 0 to adjust the clustering result."
   ]
  },
  {
   "cell_type": "markdown",
   "metadata": {
    "id": "TyVkwD-kwFIF"
   },
   "source": [
    "## Checking latent space"
   ]
  },
  {
   "cell_type": "code",
   "execution_count": null,
   "metadata": {
    "id": "QjrxxOLFrVfu"
   },
   "outputs": [],
   "source": [
    "# Plot latent sapce (2-dimensional) with corresponding Gaussian models\n",
    "gui.view_latent_space(ps=ps, color=True)"
   ]
  },
  {
   "cell_type": "code",
   "execution_count": null,
   "metadata": {
    "id": "mKJ_bEDorXpp"
   },
   "outputs": [],
   "source": [
    "# visualise the latent space\n",
    "gui.check_latent_space(ps=ps,ratio_to_be_shown=1.0, show_map=True)"
   ]
  },
  {
   "cell_type": "code",
   "execution_count": null,
   "metadata": {
    "id": "47TKUHLorZyV"
   },
   "outputs": [],
   "source": [
    "# check the density of latent space\n",
    "gui.plot_latent_density(ps=ps, bins=50)"
   ]
  },
  {
   "cell_type": "markdown",
   "metadata": {
    "id": "_uFv-qDOLFye"
   },
   "source": [
    "## Checking each clusters"
   ]
  },
  {
   "cell_type": "code",
   "execution_count": null,
   "metadata": {
    "id": "r0fAz4OErbxj"
   },
   "outputs": [],
   "source": [
    "gui.show_cluster_distribution(ps=ps)"
   ]
  },
  {
   "cell_type": "markdown",
   "metadata": {
    "id": "s7hCyeiKLLii"
   },
   "source": [
    "## Checking cluster map"
   ]
  },
  {
   "cell_type": "code",
   "execution_count": null,
   "metadata": {
    "id": "iH9196CXre1j"
   },
   "outputs": [],
   "source": [
    "# Plot phase map using the corresponding GM model\n",
    "gui.view_phase_map(ps=ps)"
   ]
  }
 ],
 "metadata": {
  "accelerator": "GPU",
  "colab": {
   "collapsed_sections": [],
   "machine_shape": "hm",
   "name": "Tutorial_local",
   "provenance": []
  },
  "kernelspec": {
   "display_name": "Python 3.7.10 ('sigma_test')",
   "language": "python",
   "name": "python3"
  },
  "language_info": {
   "codemirror_mode": {
    "name": "ipython",
    "version": 3
   },
   "file_extension": ".py",
   "mimetype": "text/x-python",
   "name": "python",
   "nbconvert_exporter": "python",
   "pygments_lexer": "ipython3",
   "version": "3.7.10"
  },
  "vscode": {
   "interpreter": {
    "hash": "1c7fc4717a80fffd4f4233a5e19240566587578117070970e07217f9998bf2df"
   }
  }
 },
 "nbformat": 4,
 "nbformat_minor": 4
}
